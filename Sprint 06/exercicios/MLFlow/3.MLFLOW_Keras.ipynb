{
 "cells": [
  {
   "cell_type": "code",
   "execution_count": 8,
   "metadata": {},
   "outputs": [],
   "source": [
    "import matplotlib.pyplot as plt\n",
    "from keras.models import Sequential\n",
    "from keras.layers import Dense, Dropout\n",
    "from keras.utils import np_utils\n",
    "import numpy as np\n",
    "from sklearn.metrics import confusion_matrix\n",
    "from keras.datasets import mnist\n",
    "import mlflow\n",
    "import mlflow.tensorflow"
   ]
  },
  {
   "cell_type": "code",
   "execution_count": 9,
   "metadata": {},
   "outputs": [
    {
     "data": {
      "text/plain": [
       "Text(0.5, 1.0, '7')"
      ]
     },
     "execution_count": 9,
     "metadata": {},
     "output_type": "execute_result"
    },
    {
     "data": {
      "image/png": "[encoded data removed]",
      "text/plain": [
       "<Figure size 640x480 with 1 Axes>"
      ]
     },
     "metadata": {},
     "output_type": "display_data"
    }
   ],
   "source": [
    "(X_treinamento, y_treinamento),(X_teste, y_teste) = mnist.load_data()\n",
    "plt.imshow(X_treinamento[29],cmap='gray')\n",
    "plt.title(y_treinamento[29])"
   ]
  },
  {
   "cell_type": "code",
   "execution_count": 10,
   "metadata": {},
   "outputs": [],
   "source": [
    "X_treinamento = X_treinamento.reshape((len(X_treinamento), np.prod(X_treinamento.shape[1:])))\n",
    "X_teste = X_teste.reshape((len(X_teste), np.prod(X_teste.shape[1:])))"
   ]
  },
  {
   "cell_type": "code",
   "execution_count": 11,
   "metadata": {},
   "outputs": [
    {
     "data": {
      "text/plain": [
       "array([  0,   0,   0,   0,   0,   0,   0,   0,   0,   0,   0,   0,   0,\n",
       "         0,   0,   0,   0,   0,   0,   0,   0,   0,   0,   0,   0,   0,\n",
       "         0,   0,   0,   0,   0,   0,   0,   0,   0,   0,   0,   0,   0,\n",
       "         0,   0,   0,   0,   0,   0,   0,   0,   0,   0,   0,   0,   0,\n",
       "         0,   0,   0,   0,   0,   0,   0,   0,   0,   0,   0,   0,   0,\n",
       "         0,   0,   0,   0,   0,   0,   0,   0,   0,   0,   0,   0,   0,\n",
       "         0,   0,   0,   0,   0,   0,   0,   0,   0,   0,   0,   0,   0,\n",
       "         0,   0,   0,   0,   0,   0,   0,   0,   0,   0,   0,   0,   0,\n",
       "         0,   0,   0,   0,   0,   0,   0,   0,   0,   0,   0,   0,   0,\n",
       "         0,   0,   0,   0,   0,   0,   0,   0,   0,   0,   0,   0,   0,\n",
       "         0,   0,   0,   0,   0,   0,   0,   0,   0,   0,   0,   0,   0,\n",
       "         0,   0,   0,   0,   0,   0,   0,   0,   0,   0,   0,   0,   0,\n",
       "         0,   0,   0,   0,   0,   0,   0,   0,   0,   0,   0,   0,   0,\n",
       "         0,   0,   0,   0,   0,   0,   0,   0,   0,   0,   0,   0,   0,\n",
       "         0,   0,   0,   0,   0,   0,   0,   0,   0,   0,   0,   0,   0,\n",
       "         0,   0,   0,   0,   0,   0,   0,  84, 185, 159, 151,  60,  36,\n",
       "         0,   0,   0,   0,   0,   0,   0,   0,   0,   0,   0,   0,   0,\n",
       "         0,   0,   0,   0,   0,   0,   0,   0,   0, 222, 254, 254, 254,\n",
       "       254, 241, 198, 198, 198, 198, 198, 198, 198, 198, 170,  52,   0,\n",
       "         0,   0,   0,   0,   0,   0,   0,   0,   0,   0,   0,  67, 114,\n",
       "        72, 114, 163, 227, 254, 225, 254, 254, 254, 250, 229, 254, 254,\n",
       "       140,   0,   0,   0,   0,   0,   0,   0,   0,   0,   0,   0,   0,\n",
       "         0,   0,   0,   0,   0,  17,  66,  14,  67,  67,  67,  59,  21,\n",
       "       236, 254, 106,   0,   0,   0,   0,   0,   0,   0,   0,   0,   0,\n",
       "         0,   0,   0,   0,   0,   0,   0,   0,   0,   0,   0,   0,   0,\n",
       "         0,  83, 253, 209,  18,   0,   0,   0,   0,   0,   0,   0,   0,\n",
       "         0,   0,   0,   0,   0,   0,   0,   0,   0,   0,   0,   0,   0,\n",
       "         0,   0,  22, 233, 255,  83,   0,   0,   0,   0,   0,   0,   0,\n",
       "         0,   0,   0,   0,   0,   0,   0,   0,   0,   0,   0,   0,   0,\n",
       "         0,   0,   0,   0, 129, 254, 238,  44,   0,   0,   0,   0,   0,\n",
       "         0,   0,   0,   0,   0,   0,   0,   0,   0,   0,   0,   0,   0,\n",
       "         0,   0,   0,   0,   0,  59, 249, 254,  62,   0,   0,   0,   0,\n",
       "         0,   0,   0,   0,   0,   0,   0,   0,   0,   0,   0,   0,   0,\n",
       "         0,   0,   0,   0,   0,   0,   0, 133, 254, 187,   5,   0,   0,\n",
       "         0,   0,   0,   0,   0,   0,   0,   0,   0,   0,   0,   0,   0,\n",
       "         0,   0,   0,   0,   0,   0,   0,   0,   9, 205, 248,  58,   0,\n",
       "         0,   0,   0,   0,   0,   0,   0,   0,   0,   0,   0,   0,   0,\n",
       "         0,   0,   0,   0,   0,   0,   0,   0,   0,   0, 126, 254, 182,\n",
       "         0,   0,   0,   0,   0,   0,   0,   0,   0,   0,   0,   0,   0,\n",
       "         0,   0,   0,   0,   0,   0,   0,   0,   0,   0,   0,  75, 251,\n",
       "       240,  57,   0,   0,   0,   0,   0,   0,   0,   0,   0,   0,   0,\n",
       "         0,   0,   0,   0,   0,   0,   0,   0,   0,   0,   0,   0,  19,\n",
       "       221, 254, 166,   0,   0,   0,   0,   0,   0,   0,   0,   0,   0,\n",
       "         0,   0,   0,   0,   0,   0,   0,   0,   0,   0,   0,   0,   0,\n",
       "         3, 203, 254, 219,  35,   0,   0,   0,   0,   0,   0,   0,   0,\n",
       "         0,   0,   0,   0,   0,   0,   0,   0,   0,   0,   0,   0,   0,\n",
       "         0,   0,  38, 254, 254,  77,   0,   0,   0,   0,   0,   0,   0,\n",
       "         0,   0,   0,   0,   0,   0,   0,   0,   0,   0,   0,   0,   0,\n",
       "         0,   0,   0,  31, 224, 254, 115,   1,   0,   0,   0,   0,   0,\n",
       "         0,   0,   0,   0,   0,   0,   0,   0,   0,   0,   0,   0,   0,\n",
       "         0,   0,   0,   0,   0, 133, 254, 254,  52,   0,   0,   0,   0,\n",
       "         0,   0,   0,   0,   0,   0,   0,   0,   0,   0,   0,   0,   0,\n",
       "         0,   0,   0,   0,   0,   0,  61, 242, 254, 254,  52,   0,   0,\n",
       "         0,   0,   0,   0,   0,   0,   0,   0,   0,   0,   0,   0,   0,\n",
       "         0,   0,   0,   0,   0,   0,   0,   0, 121, 254, 254, 219,  40,\n",
       "         0,   0,   0,   0,   0,   0,   0,   0,   0,   0,   0,   0,   0,\n",
       "         0,   0,   0,   0,   0,   0,   0,   0,   0,   0, 121, 254, 207,\n",
       "        18,   0,   0,   0,   0,   0,   0,   0,   0,   0,   0,   0,   0,\n",
       "         0,   0,   0,   0,   0,   0,   0,   0,   0,   0,   0,   0,   0,\n",
       "         0,   0,   0,   0,   0,   0,   0,   0,   0,   0,   0,   0,   0,\n",
       "         0,   0,   0,   0], dtype=uint8)"
      ]
     },
     "execution_count": 11,
     "metadata": {},
     "output_type": "execute_result"
    }
   ],
   "source": [
    "X_teste[0]"
   ]
  },
  {
   "cell_type": "code",
   "execution_count": 12,
   "metadata": {},
   "outputs": [],
   "source": [
    "X_treinamento = X_treinamento.astype('float32')\n",
    "X_teste = X_teste.astype('float32')\n",
    "X_treinamento /= 255\n",
    "X_teste /= 255"
   ]
  },
  {
   "cell_type": "code",
   "execution_count": 13,
   "metadata": {},
   "outputs": [],
   "source": [
    "y_treinamento = np_utils.to_categorical(y_treinamento,10)\n",
    "y_teste = np_utils.to_categorical(y_teste,10)"
   ]
  },
  {
   "cell_type": "code",
   "execution_count": 14,
   "metadata": {},
   "outputs": [
    {
     "data": {
      "text/plain": [
       "array([0., 0., 0., 0., 0., 0., 0., 1., 0., 0.], dtype=float32)"
      ]
     },
     "execution_count": 14,
     "metadata": {},
     "output_type": "execute_result"
    }
   ],
   "source": [
    "y_teste[0]"
   ]
  },
  {
   "cell_type": "code",
   "execution_count": 15,
   "metadata": {},
   "outputs": [],
   "source": [
    "def treina_dl(n_camadas_ocultas,n_units,activation,drop_out, epochs):\n",
    "    mlflow.set_experiment(\"DLExperimento\")\n",
    "    \n",
    "    with mlflow.start_run():\n",
    "        mlflow.tensorflow.autolog()\n",
    "        \n",
    "        #registro de tags\n",
    "        mlflow.set_tag(\"n_camadas_ocultas\",n_camadas_ocultas)\n",
    "        mlflow.set_tag(\"n_units\",n_units)\n",
    "        mlflow.set_tag(\"activation\",activation)\n",
    "        mlflow.set_tag(\"drop_out\",drop_out)\n",
    "        mlflow.set_tag(\"epochs\",epochs)\n",
    "\n",
    "    \n",
    "        modelo = Sequential()\n",
    "        \n",
    "        #cria camada oculta mais camada de entrada\n",
    "        modelo.add(Dense(units=n_units, activation=activation, input_dim=784))\n",
    "        modelo.add(Dropout(drop_out))\n",
    "        \n",
    "        #camadas ocultas adicionais, com drop out\n",
    "        for n in range(n_camadas_ocultas):\n",
    "            modelo.add(Dense(units=n_units, activation=activation))\n",
    "            modelo.add(Dropout(drop_out))            \n",
    "        \n",
    "        #camada de saída\n",
    "        modelo.add(Dense(units=10,activation='softmax'))\n",
    "        \n",
    "        modelo.compile(optimizer='adam', loss=\"categorical_crossentropy\",metrics=['accuracy'])\n",
    "        \n",
    "        modelo.summary()\n",
    "        \n",
    "        historico = modelo.fit(X_treinamento, y_treinamento, epochs =epochs, \n",
    "                              validation_data=(X_teste,y_teste))\n",
    "        \n",
    "        #grafico para erros e acuracia\n",
    "        historico.history.keys()\n",
    "        loss = plt.plot(historico.history['val_loss'])\n",
    "        plt.savefig(\"loss.png\")\n",
    "        acuracia = plt.plot(historico.history['val_accuracy'])\n",
    "        plt.savefig(\"acuracia.png\")\n",
    "        \n",
    "        #registrar artefatos\n",
    "        mlflow.log_artifact(\"loss.png\")\n",
    "        mlflow.log_artifact(\"acuracia.png\")\n",
    "       \n",
    "        #informações de execução\n",
    "        print(\"Modelo: \", mlflow.active_run().info.run_uuid)  \n",
    "    mlflow.end_run()           \n",
    "        "
   ]
  },
  {
   "cell_type": "code",
   "execution_count": null,
   "metadata": {},
   "outputs": [
    {
     "name": "stderr",
     "output_type": "stream",
     "text": [
      "2025/02/06 23:35:30 INFO mlflow.tracking.fluent: Experiment with name 'DLExperimento' does not exist. Creating a new experiment.\n",
      "2025/02/06 23:35:31 WARNING mlflow.utils.autologging_utils: You are using an unsupported version of tensorflow. If you encounter errors during autologging, try upgrading / downgrading tensorflow to a supported version, or try upgrading MLflow.\n"
     ]
    },
    {
     "name": "stdout",
     "output_type": "stream",
     "text": [
      "Model: \"sequential\"\n",
      "_________________________________________________________________\n",
      " Layer (type)                Output Shape              Param #   \n",
      "=================================================================\n",
      " dense (Dense)               (None, 16)                12560     \n",
      "                                                                 \n",
      " dropout (Dropout)           (None, 16)                0         \n",
      "                                                                 \n",
      " dense_1 (Dense)             (None, 16)                272       \n",
      "                                                                 \n",
      " dropout_1 (Dropout)         (None, 16)                0         \n",
      "                                                                 \n",
      " dense_2 (Dense)             (None, 10)                170       \n",
      "                                                                 \n",
      "=================================================================\n",
      "Total params: 13,002\n",
      "Trainable params: 13,002\n",
      "Non-trainable params: 0\n",
      "_________________________________________________________________\n",
      "Epoch 1/5\n",
      "   1/1875 [..............................] - ETA: 1:59:11 - loss: 2.3975 - accuracy: 0.0000e+00WARNING:tensorflow:Callback method `on_train_batch_end` is slow compared to the batch time (batch time: 0.0022s vs `on_train_batch_end` time: 0.0415s). Check your callbacks.\n",
      "1875/1875 [==============================] - 12s 4ms/step - loss: 0.6775 - accuracy: 0.7824 - val_loss: 0.2819 - val_accuracy: 0.9193\n",
      "Epoch 2/5\n",
      "1875/1875 [==============================] - 7s 4ms/step - loss: 0.4078 - accuracy: 0.8764 - val_loss: 0.2461 - val_accuracy: 0.9268\n",
      "Epoch 3/5\n",
      "1875/1875 [==============================] - 8s 4ms/step - loss: 0.3572 - accuracy: 0.8914 - val_loss: 0.2238 - val_accuracy: 0.9340\n",
      "Epoch 4/5\n",
      "1875/1875 [==============================] - 9s 5ms/step - loss: 0.3351 - accuracy: 0.8993 - val_loss: 0.2141 - val_accuracy: 0.9377\n",
      "Epoch 5/5\n",
      "1875/1875 [==============================] - 7s 3ms/step - loss: 0.3183 - accuracy: 0.9039 - val_loss: 0.2002 - val_accuracy: 0.9417\n"
     ]
    },
    {
     "name": "stderr",
     "output_type": "stream",
     "text": [
      "WARNING:absl:Found untraced functions such as _update_step_xla while saving (showing 1 of 1). These functions will not be directly callable after loading.\n"
     ]
    },
    {
     "name": "stdout",
     "output_type": "stream",
     "text": [
      "INFO:tensorflow:Assets written to: C:\\Users\\kauak\\AppData\\Local\\Temp\\tmp6vwe0rdd\\model\\data\\model\\assets\n"
     ]
    },
    {
     "name": "stderr",
     "output_type": "stream",
     "text": [
      "INFO:tensorflow:Assets written to: C:\\Users\\kauak\\AppData\\Local\\Temp\\tmp6vwe0rdd\\model\\data\\model\\assets\n",
      "2025/02/06 23:36:46 WARNING mlflow.utils.autologging_utils: You are using an unsupported version of tensorflow. If you encounter errors during autologging, try upgrading / downgrading tensorflow to a supported version, or try upgrading MLflow.\n"
     ]
    },
    {
     "name": "stdout",
     "output_type": "stream",
     "text": [
      "Modelo:  02625eab12094794bfd7fb301f3d20cf\n",
      "Model: \"sequential_1\"\n",
      "_________________________________________________________________\n",
      " Layer (type)                Output Shape              Param #   \n",
      "=================================================================\n",
      " dense_3 (Dense)             (None, 16)                12560     \n",
      "                                                                 \n",
      " dropout_2 (Dropout)         (None, 16)                0         \n",
      "                                                                 \n",
      " dense_4 (Dense)             (None, 16)                272       \n",
      "                                                                 \n",
      " dropout_3 (Dropout)         (None, 16)                0         \n",
      "                                                                 \n",
      " dense_5 (Dense)             (None, 10)                170       \n",
      "                                                                 \n",
      "=================================================================\n",
      "Total params: 13,002\n",
      "Trainable params: 13,002\n",
      "Non-trainable params: 0\n",
      "_________________________________________________________________\n",
      "Epoch 1/10\n",
      "   1/1875 [..............................] - ETA: 50:04 - loss: 2.3384 - accuracy: 0.0312WARNING:tensorflow:Callback method `on_train_batch_end` is slow compared to the batch time (batch time: 0.0016s vs `on_train_batch_end` time: 0.0133s). Check your callbacks.\n"
     ]
    },
    {
     "name": "stderr",
     "output_type": "stream",
     "text": [
      "WARNING:tensorflow:Callback method `on_train_batch_end` is slow compared to the batch time (batch time: 0.0016s vs `on_train_batch_end` time: 0.0133s). Check your callbacks.\n"
     ]
    },
    {
     "name": "stdout",
     "output_type": "stream",
     "text": [
      "1875/1875 [==============================] - 14s 6ms/step - loss: 0.7138 - accuracy: 0.7727 - val_loss: 0.3189 - val_accuracy: 0.9079\n",
      "Epoch 2/10\n",
      "1875/1875 [==============================] - 8s 4ms/step - loss: 0.4205 - accuracy: 0.8706 - val_loss: 0.2549 - val_accuracy: 0.9249\n",
      "Epoch 3/10\n",
      "1875/1875 [==============================] - 7s 4ms/step - loss: 0.3680 - accuracy: 0.8874 - val_loss: 0.2369 - val_accuracy: 0.9279\n",
      "Epoch 4/10\n",
      "1875/1875 [==============================] - 7s 4ms/step - loss: 0.3419 - accuracy: 0.8964 - val_loss: 0.2222 - val_accuracy: 0.9350\n",
      "Epoch 5/10\n",
      "1875/1875 [==============================] - 9s 5ms/step - loss: 0.3235 - accuracy: 0.9020 - val_loss: 0.2106 - val_accuracy: 0.9386\n",
      "Epoch 6/10\n",
      "1875/1875 [==============================] - 10s 5ms/step - loss: 0.3073 - accuracy: 0.9058 - val_loss: 0.2030 - val_accuracy: 0.9398\n",
      "Epoch 7/10\n",
      "1875/1875 [==============================] - 8s 4ms/step - loss: 0.2968 - accuracy: 0.9100 - val_loss: 0.1989 - val_accuracy: 0.9437\n",
      "Epoch 8/10\n",
      "1875/1875 [==============================] - 7s 4ms/step - loss: 0.2872 - accuracy: 0.9118 - val_loss: 0.1943 - val_accuracy: 0.9446\n",
      "Epoch 9/10\n",
      "1875/1875 [==============================] - 7s 4ms/step - loss: 0.2794 - accuracy: 0.9151 - val_loss: 0.1930 - val_accuracy: 0.9450\n",
      "Epoch 10/10\n",
      "1875/1875 [==============================] - 7s 4ms/step - loss: 0.2732 - accuracy: 0.9191 - val_loss: 0.1890 - val_accuracy: 0.9472\n"
     ]
    },
    {
     "name": "stderr",
     "output_type": "stream",
     "text": [
      "WARNING:absl:Found untraced functions such as _update_step_xla while saving (showing 1 of 1). These functions will not be directly callable after loading.\n"
     ]
    },
    {
     "name": "stdout",
     "output_type": "stream",
     "text": [
      "INFO:tensorflow:Assets written to: C:\\Users\\kauak\\AppData\\Local\\Temp\\tmp28njci2w\\model\\data\\model\\assets\n"
     ]
    },
    {
     "name": "stderr",
     "output_type": "stream",
     "text": [
      "INFO:tensorflow:Assets written to: C:\\Users\\kauak\\AppData\\Local\\Temp\\tmp28njci2w\\model\\data\\model\\assets\n"
     ]
    },
    {
     "name": "stdout",
     "output_type": "stream",
     "text": [
      "Modelo:  ff99b342eacc41f9b093b48eb2d98148\n"
     ]
    },
    {
     "name": "stderr",
     "output_type": "stream",
     "text": [
      "2025/02/06 23:38:44 WARNING mlflow.utils.autologging_utils: You are using an unsupported version of tensorflow. If you encounter errors during autologging, try upgrading / downgrading tensorflow to a supported version, or try upgrading MLflow.\n"
     ]
    },
    {
     "name": "stdout",
     "output_type": "stream",
     "text": [
      "Model: \"sequential_2\"\n",
      "_________________________________________________________________\n",
      " Layer (type)                Output Shape              Param #   \n",
      "=================================================================\n",
      " dense_6 (Dense)             (None, 16)                12560     \n",
      "                                                                 \n",
      " dropout_4 (Dropout)         (None, 16)                0         \n",
      "                                                                 \n",
      " dense_7 (Dense)             (None, 16)                272       \n",
      "                                                                 \n",
      " dropout_5 (Dropout)         (None, 16)                0         \n",
      "                                                                 \n",
      " dense_8 (Dense)             (None, 10)                170       \n",
      "                                                                 \n",
      "=================================================================\n",
      "Total params: 13,002\n",
      "Trainable params: 13,002\n",
      "Non-trainable params: 0\n",
      "_________________________________________________________________\n",
      "Epoch 1/20\n",
      "   1/1875 [..............................] - ETA: 1:14:16 - loss: 2.3458 - accuracy: 0.1562WARNING:tensorflow:Callback method `on_train_batch_end` is slow compared to the batch time (batch time: 0.0038s vs `on_train_batch_end` time: 0.0469s). Check your callbacks.\n"
     ]
    },
    {
     "name": "stderr",
     "output_type": "stream",
     "text": [
      "WARNING:tensorflow:Callback method `on_train_batch_end` is slow compared to the batch time (batch time: 0.0038s vs `on_train_batch_end` time: 0.0469s). Check your callbacks.\n"
     ]
    },
    {
     "name": "stdout",
     "output_type": "stream",
     "text": [
      "1875/1875 [==============================] - 21s 10ms/step - loss: 0.6793 - accuracy: 0.7836 - val_loss: 0.2725 - val_accuracy: 0.9193\n",
      "Epoch 2/20\n",
      "1875/1875 [==============================] - 20s 10ms/step - loss: 0.4128 - accuracy: 0.8733 - val_loss: 0.2337 - val_accuracy: 0.9311\n",
      "Epoch 3/20\n",
      "1875/1875 [==============================] - 9s 5ms/step - loss: 0.3665 - accuracy: 0.8871 - val_loss: 0.2131 - val_accuracy: 0.9365\n",
      "Epoch 4/20\n",
      "1875/1875 [==============================] - 13s 7ms/step - loss: 0.3365 - accuracy: 0.8965 - val_loss: 0.2053 - val_accuracy: 0.9394\n",
      "Epoch 5/20\n",
      "1875/1875 [==============================] - 9s 5ms/step - loss: 0.3214 - accuracy: 0.9013 - val_loss: 0.2028 - val_accuracy: 0.9403\n",
      "Epoch 6/20\n",
      "1875/1875 [==============================] - 10s 5ms/step - loss: 0.3075 - accuracy: 0.9047 - val_loss: 0.1872 - val_accuracy: 0.9442\n",
      "Epoch 7/20\n",
      "1875/1875 [==============================] - 8s 4ms/step - loss: 0.3001 - accuracy: 0.9093 - val_loss: 0.1902 - val_accuracy: 0.9436\n",
      "Epoch 8/20\n",
      "1875/1875 [==============================] - 8s 4ms/step - loss: 0.2941 - accuracy: 0.9097 - val_loss: 0.1815 - val_accuracy: 0.9461\n",
      "Epoch 9/20\n",
      "1875/1875 [==============================] - 8s 4ms/step - loss: 0.2849 - accuracy: 0.9127 - val_loss: 0.1866 - val_accuracy: 0.9451\n",
      "Epoch 10/20\n",
      "1875/1875 [==============================] - 10s 6ms/step - loss: 0.2830 - accuracy: 0.9136 - val_loss: 0.1844 - val_accuracy: 0.9473\n",
      "Epoch 11/20\n",
      "1875/1875 [==============================] - 8s 4ms/step - loss: 0.2720 - accuracy: 0.9162 - val_loss: 0.1847 - val_accuracy: 0.9456\n",
      "Epoch 12/20\n",
      "1875/1875 [==============================] - 9s 5ms/step - loss: 0.2724 - accuracy: 0.9163 - val_loss: 0.1799 - val_accuracy: 0.9493\n",
      "Epoch 13/20\n",
      "1875/1875 [==============================] - 8s 4ms/step - loss: 0.2686 - accuracy: 0.9171 - val_loss: 0.1740 - val_accuracy: 0.9500\n",
      "Epoch 14/20\n",
      "1875/1875 [==============================] - 7s 4ms/step - loss: 0.2618 - accuracy: 0.9191 - val_loss: 0.1741 - val_accuracy: 0.9486\n",
      "Epoch 15/20\n",
      "1875/1875 [==============================] - 6s 3ms/step - loss: 0.2534 - accuracy: 0.9214 - val_loss: 0.1752 - val_accuracy: 0.9496\n",
      "Epoch 16/20\n",
      "1875/1875 [==============================] - 13s 7ms/step - loss: 0.2552 - accuracy: 0.9234 - val_loss: 0.1717 - val_accuracy: 0.9516\n",
      "Epoch 17/20\n",
      "1875/1875 [==============================] - 11s 6ms/step - loss: 0.2504 - accuracy: 0.9241 - val_loss: 0.1711 - val_accuracy: 0.9504\n",
      "Epoch 18/20\n",
      "1875/1875 [==============================] - 12s 7ms/step - loss: 0.2517 - accuracy: 0.9223 - val_loss: 0.1738 - val_accuracy: 0.9493\n",
      "Epoch 19/20\n",
      "1875/1875 [==============================] - 10s 5ms/step - loss: 0.2507 - accuracy: 0.9242 - val_loss: 0.1672 - val_accuracy: 0.9505\n",
      "Epoch 20/20\n",
      "1875/1875 [==============================] - 11s 6ms/step - loss: 0.2451 - accuracy: 0.9250 - val_loss: 0.1750 - val_accuracy: 0.9503\n"
     ]
    },
    {
     "name": "stderr",
     "output_type": "stream",
     "text": [
      "WARNING:absl:Found untraced functions such as _update_step_xla while saving (showing 1 of 1). These functions will not be directly callable after loading.\n"
     ]
    },
    {
     "name": "stdout",
     "output_type": "stream",
     "text": [
      "INFO:tensorflow:Assets written to: C:\\Users\\kauak\\AppData\\Local\\Temp\\tmp2mxuqp9v\\model\\data\\model\\assets\n"
     ]
    },
    {
     "name": "stderr",
     "output_type": "stream",
     "text": [
      "INFO:tensorflow:Assets written to: C:\\Users\\kauak\\AppData\\Local\\Temp\\tmp2mxuqp9v\\model\\data\\model\\assets\n"
     ]
    },
    {
     "name": "stdout",
     "output_type": "stream",
     "text": [
      "Modelo:  c1bd85a57fcd4de280b0fea87353760a\n"
     ]
    },
    {
     "name": "stderr",
     "output_type": "stream",
     "text": [
      "2025/02/06 23:42:32 WARNING mlflow.utils.autologging_utils: You are using an unsupported version of tensorflow. If you encounter errors during autologging, try upgrading / downgrading tensorflow to a supported version, or try upgrading MLflow.\n"
     ]
    },
    {
     "name": "stdout",
     "output_type": "stream",
     "text": [
      "Model: \"sequential_3\"\n",
      "_________________________________________________________________\n",
      " Layer (type)                Output Shape              Param #   \n",
      "=================================================================\n",
      " dense_9 (Dense)             (None, 16)                12560     \n",
      "                                                                 \n",
      " dropout_6 (Dropout)         (None, 16)                0         \n",
      "                                                                 \n",
      " dense_10 (Dense)            (None, 16)                272       \n",
      "                                                                 \n",
      " dropout_7 (Dropout)         (None, 16)                0         \n",
      "                                                                 \n",
      " dense_11 (Dense)            (None, 10)                170       \n",
      "                                                                 \n",
      "=================================================================\n",
      "Total params: 13,002\n",
      "Trainable params: 13,002\n",
      "Non-trainable params: 0\n",
      "_________________________________________________________________\n",
      "Epoch 1/5\n",
      "   1/1875 [..............................] - ETA: 47:37 - loss: 2.4090 - accuracy: 0.1250WARNING:tensorflow:Callback method `on_train_batch_end` is slow compared to the batch time (batch time: 0.0030s vs `on_train_batch_end` time: 0.0245s). Check your callbacks.\n"
     ]
    },
    {
     "name": "stderr",
     "output_type": "stream",
     "text": [
      "WARNING:tensorflow:Callback method `on_train_batch_end` is slow compared to the batch time (batch time: 0.0030s vs `on_train_batch_end` time: 0.0245s). Check your callbacks.\n"
     ]
    },
    {
     "name": "stdout",
     "output_type": "stream",
     "text": [
      "1875/1875 [==============================] - 11s 5ms/step - loss: 0.8559 - accuracy: 0.7181 - val_loss: 0.3445 - val_accuracy: 0.9057\n",
      "Epoch 2/5\n",
      "1875/1875 [==============================] - 11s 6ms/step - loss: 0.5866 - accuracy: 0.8113 - val_loss: 0.2841 - val_accuracy: 0.9177\n",
      "Epoch 3/5\n",
      "1875/1875 [==============================] - 11s 6ms/step - loss: 0.5368 - accuracy: 0.8263 - val_loss: 0.2652 - val_accuracy: 0.9237\n",
      "Epoch 4/5\n",
      "1875/1875 [==============================] - 7s 4ms/step - loss: 0.5056 - accuracy: 0.8383 - val_loss: 0.2494 - val_accuracy: 0.9302\n",
      "Epoch 5/5\n",
      "1875/1875 [==============================] - 9s 5ms/step - loss: 0.4842 - accuracy: 0.8451 - val_loss: 0.2378 - val_accuracy: 0.9307\n"
     ]
    },
    {
     "name": "stderr",
     "output_type": "stream",
     "text": [
      "WARNING:absl:Found untraced functions such as _update_step_xla while saving (showing 1 of 1). These functions will not be directly callable after loading.\n"
     ]
    },
    {
     "name": "stdout",
     "output_type": "stream",
     "text": [
      "INFO:tensorflow:Assets written to: C:\\Users\\kauak\\AppData\\Local\\Temp\\tmp83iz41ew\\model\\data\\model\\assets\n"
     ]
    },
    {
     "name": "stderr",
     "output_type": "stream",
     "text": [
      "INFO:tensorflow:Assets written to: C:\\Users\\kauak\\AppData\\Local\\Temp\\tmp83iz41ew\\model\\data\\model\\assets\n"
     ]
    },
    {
     "name": "stdout",
     "output_type": "stream",
     "text": [
      "Modelo:  b5d0392cb7c349cfa77d160254ccaddf\n"
     ]
    },
    {
     "name": "stderr",
     "output_type": "stream",
     "text": [
      "2025/02/06 23:43:35 WARNING mlflow.utils.autologging_utils: You are using an unsupported version of tensorflow. If you encounter errors during autologging, try upgrading / downgrading tensorflow to a supported version, or try upgrading MLflow.\n"
     ]
    },
    {
     "name": "stdout",
     "output_type": "stream",
     "text": [
      "Model: \"sequential_4\"\n",
      "_________________________________________________________________\n",
      " Layer (type)                Output Shape              Param #   \n",
      "=================================================================\n",
      " dense_12 (Dense)            (None, 16)                12560     \n",
      "                                                                 \n",
      " dropout_8 (Dropout)         (None, 16)                0         \n",
      "                                                                 \n",
      " dense_13 (Dense)            (None, 16)                272       \n",
      "                                                                 \n",
      " dropout_9 (Dropout)         (None, 16)                0         \n",
      "                                                                 \n",
      " dense_14 (Dense)            (None, 10)                170       \n",
      "                                                                 \n",
      "=================================================================\n",
      "Total params: 13,002\n",
      "Trainable params: 13,002\n",
      "Non-trainable params: 0\n",
      "_________________________________________________________________\n",
      "Epoch 1/10\n",
      "   1/1875 [..............................] - ETA: 1:02:57 - loss: 2.3917 - accuracy: 0.0938WARNING:tensorflow:Callback method `on_train_batch_end` is slow compared to the batch time (batch time: 0.0046s vs `on_train_batch_end` time: 0.0480s). Check your callbacks.\n"
     ]
    },
    {
     "name": "stderr",
     "output_type": "stream",
     "text": [
      "WARNING:tensorflow:Callback method `on_train_batch_end` is slow compared to the batch time (batch time: 0.0046s vs `on_train_batch_end` time: 0.0480s). Check your callbacks.\n"
     ]
    },
    {
     "name": "stdout",
     "output_type": "stream",
     "text": [
      "1875/1875 [==============================] - 13s 6ms/step - loss: 0.8524 - accuracy: 0.7168 - val_loss: 0.3380 - val_accuracy: 0.9020\n",
      "Epoch 2/10\n",
      "1875/1875 [==============================] - 9s 5ms/step - loss: 0.5672 - accuracy: 0.8248 - val_loss: 0.2747 - val_accuracy: 0.9203\n",
      "Epoch 3/10\n",
      "1875/1875 [==============================] - 14s 8ms/step - loss: 0.5158 - accuracy: 0.8397 - val_loss: 0.2607 - val_accuracy: 0.9263\n",
      "Epoch 4/10\n",
      "1875/1875 [==============================] - 8s 4ms/step - loss: 0.4943 - accuracy: 0.8482 - val_loss: 0.2586 - val_accuracy: 0.9282\n",
      "Epoch 5/10\n",
      "1875/1875 [==============================] - 11s 6ms/step - loss: 0.4749 - accuracy: 0.8548 - val_loss: 0.2510 - val_accuracy: 0.9280\n",
      "Epoch 6/10\n",
      "1875/1875 [==============================] - 8s 4ms/step - loss: 0.4601 - accuracy: 0.8584 - val_loss: 0.2409 - val_accuracy: 0.9298\n",
      "Epoch 7/10\n",
      "1875/1875 [==============================] - 8s 4ms/step - loss: 0.4535 - accuracy: 0.8601 - val_loss: 0.2455 - val_accuracy: 0.9263\n",
      "Epoch 8/10\n",
      "1875/1875 [==============================] - 5s 3ms/step - loss: 0.4418 - accuracy: 0.8652 - val_loss: 0.2331 - val_accuracy: 0.9326\n",
      "Epoch 9/10\n",
      "1875/1875 [==============================] - 5s 3ms/step - loss: 0.4320 - accuracy: 0.8676 - val_loss: 0.2302 - val_accuracy: 0.9329\n",
      "Epoch 10/10\n",
      "1875/1875 [==============================] - 5s 3ms/step - loss: 0.4257 - accuracy: 0.8695 - val_loss: 0.2252 - val_accuracy: 0.9337\n"
     ]
    },
    {
     "name": "stderr",
     "output_type": "stream",
     "text": [
      "WARNING:absl:Found untraced functions such as _update_step_xla while saving (showing 1 of 1). These functions will not be directly callable after loading.\n"
     ]
    },
    {
     "name": "stdout",
     "output_type": "stream",
     "text": [
      "INFO:tensorflow:Assets written to: C:\\Users\\kauak\\AppData\\Local\\Temp\\tmp20i6ypj1\\model\\data\\model\\assets\n"
     ]
    },
    {
     "name": "stderr",
     "output_type": "stream",
     "text": [
      "INFO:tensorflow:Assets written to: C:\\Users\\kauak\\AppData\\Local\\Temp\\tmp20i6ypj1\\model\\data\\model\\assets\n"
     ]
    },
    {
     "name": "stdout",
     "output_type": "stream",
     "text": [
      "Modelo:  71497d65f0ab43b2b62690a21173a454\n"
     ]
    },
    {
     "name": "stderr",
     "output_type": "stream",
     "text": [
      "2025/02/06 23:46:10 WARNING mlflow.utils.autologging_utils: You are using an unsupported version of tensorflow. If you encounter errors during autologging, try upgrading / downgrading tensorflow to a supported version, or try upgrading MLflow.\n"
     ]
    },
    {
     "name": "stdout",
     "output_type": "stream",
     "text": [
      "Model: \"sequential_5\"\n",
      "_________________________________________________________________\n",
      " Layer (type)                Output Shape              Param #   \n",
      "=================================================================\n",
      " dense_15 (Dense)            (None, 16)                12560     \n",
      "                                                                 \n",
      " dropout_10 (Dropout)        (None, 16)                0         \n",
      "                                                                 \n",
      " dense_16 (Dense)            (None, 16)                272       \n",
      "                                                                 \n",
      " dropout_11 (Dropout)        (None, 16)                0         \n",
      "                                                                 \n",
      " dense_17 (Dense)            (None, 10)                170       \n",
      "                                                                 \n",
      "=================================================================\n",
      "Total params: 13,002\n",
      "Trainable params: 13,002\n",
      "Non-trainable params: 0\n",
      "_________________________________________________________________\n",
      "Epoch 1/20\n",
      "   1/1875 [..............................] - ETA: 39:21 - loss: 2.3580 - accuracy: 0.0625WARNING:tensorflow:Callback method `on_train_batch_end` is slow compared to the batch time (batch time: 0.0016s vs `on_train_batch_end` time: 0.0793s). Check your callbacks.\n"
     ]
    },
    {
     "name": "stderr",
     "output_type": "stream",
     "text": [
      "WARNING:tensorflow:Callback method `on_train_batch_end` is slow compared to the batch time (batch time: 0.0016s vs `on_train_batch_end` time: 0.0793s). Check your callbacks.\n"
     ]
    },
    {
     "name": "stdout",
     "output_type": "stream",
     "text": [
      "1875/1875 [==============================] - 6s 3ms/step - loss: 0.9110 - accuracy: 0.6933 - val_loss: 0.3632 - val_accuracy: 0.9009\n",
      "Epoch 2/20\n",
      "1875/1875 [==============================] - 4s 2ms/step - loss: 0.6120 - accuracy: 0.8043 - val_loss: 0.2969 - val_accuracy: 0.9165\n",
      "Epoch 3/20\n",
      "1875/1875 [==============================] - 4s 2ms/step - loss: 0.5546 - accuracy: 0.8255 - val_loss: 0.2772 - val_accuracy: 0.9201\n",
      "Epoch 4/20\n",
      "1875/1875 [==============================] - 5s 2ms/step - loss: 0.5252 - accuracy: 0.8368 - val_loss: 0.2637 - val_accuracy: 0.9262\n",
      "Epoch 5/20\n",
      "1875/1875 [==============================] - 7s 4ms/step - loss: 0.4997 - accuracy: 0.8436 - val_loss: 0.2583 - val_accuracy: 0.9249\n",
      "Epoch 6/20\n",
      "1875/1875 [==============================] - 8s 4ms/step - loss: 0.4859 - accuracy: 0.8494 - val_loss: 0.2572 - val_accuracy: 0.9247\n",
      "Epoch 7/20\n",
      "1875/1875 [==============================] - 9s 5ms/step - loss: 0.4747 - accuracy: 0.8525 - val_loss: 0.2512 - val_accuracy: 0.9302\n",
      "Epoch 8/20\n",
      "1875/1875 [==============================] - 10s 5ms/step - loss: 0.4637 - accuracy: 0.8571 - val_loss: 0.2478 - val_accuracy: 0.9310\n",
      "Epoch 9/20\n",
      "1875/1875 [==============================] - 11s 6ms/step - loss: 0.4559 - accuracy: 0.8577 - val_loss: 0.2432 - val_accuracy: 0.9322\n",
      "Epoch 10/20\n",
      "1875/1875 [==============================] - 10s 5ms/step - loss: 0.4490 - accuracy: 0.8599 - val_loss: 0.2472 - val_accuracy: 0.9319\n",
      "Epoch 11/20\n",
      "1875/1875 [==============================] - 7s 4ms/step - loss: 0.4418 - accuracy: 0.8626 - val_loss: 0.2498 - val_accuracy: 0.9326\n",
      "Epoch 12/20\n",
      "1875/1875 [==============================] - 6s 3ms/step - loss: 0.4355 - accuracy: 0.8648 - val_loss: 0.2476 - val_accuracy: 0.9333\n",
      "Epoch 13/20\n",
      "1875/1875 [==============================] - 12s 7ms/step - loss: 0.4295 - accuracy: 0.8674 - val_loss: 0.2417 - val_accuracy: 0.9332\n",
      "Epoch 14/20\n",
      "1875/1875 [==============================] - 11s 6ms/step - loss: 0.4269 - accuracy: 0.8662 - val_loss: 0.2412 - val_accuracy: 0.9355\n",
      "Epoch 15/20\n",
      "1875/1875 [==============================] - 10s 6ms/step - loss: 0.4197 - accuracy: 0.8694 - val_loss: 0.2414 - val_accuracy: 0.9366\n",
      "Epoch 16/20\n",
      "1875/1875 [==============================] - 8s 4ms/step - loss: 0.4200 - accuracy: 0.8704 - val_loss: 0.2449 - val_accuracy: 0.9361\n",
      "Epoch 17/20\n",
      "1875/1875 [==============================] - 8s 4ms/step - loss: 0.4169 - accuracy: 0.8706 - val_loss: 0.2386 - val_accuracy: 0.9356\n",
      "Epoch 18/20\n",
      "1875/1875 [==============================] - 7s 4ms/step - loss: 0.4172 - accuracy: 0.8708 - val_loss: 0.2448 - val_accuracy: 0.9350\n",
      "Epoch 19/20\n",
      "1875/1875 [==============================] - 7s 4ms/step - loss: 0.4085 - accuracy: 0.8741 - val_loss: 0.2408 - val_accuracy: 0.9356\n",
      "Epoch 20/20\n",
      "1875/1875 [==============================] - 5s 3ms/step - loss: 0.4114 - accuracy: 0.8726 - val_loss: 0.2427 - val_accuracy: 0.9338\n"
     ]
    },
    {
     "name": "stderr",
     "output_type": "stream",
     "text": [
      "WARNING:absl:Found untraced functions such as _update_step_xla while saving (showing 1 of 1). These functions will not be directly callable after loading.\n"
     ]
    },
    {
     "name": "stdout",
     "output_type": "stream",
     "text": [
      "INFO:tensorflow:Assets written to: C:\\Users\\kauak\\AppData\\Local\\Temp\\tmpemase45d\\model\\data\\model\\assets\n"
     ]
    },
    {
     "name": "stderr",
     "output_type": "stream",
     "text": [
      "INFO:tensorflow:Assets written to: C:\\Users\\kauak\\AppData\\Local\\Temp\\tmpemase45d\\model\\data\\model\\assets\n"
     ]
    },
    {
     "name": "stdout",
     "output_type": "stream",
     "text": [
      "Modelo:  1211b47bd51c45e1ad4581f11de2438b\n"
     ]
    },
    {
     "name": "stderr",
     "output_type": "stream",
     "text": [
      "2025/02/06 23:50:06 WARNING mlflow.utils.autologging_utils: You are using an unsupported version of tensorflow. If you encounter errors during autologging, try upgrading / downgrading tensorflow to a supported version, or try upgrading MLflow.\n"
     ]
    },
    {
     "name": "stdout",
     "output_type": "stream",
     "text": [
      "Model: \"sequential_6\"\n",
      "_________________________________________________________________\n",
      " Layer (type)                Output Shape              Param #   \n",
      "=================================================================\n",
      " dense_18 (Dense)            (None, 16)                12560     \n",
      "                                                                 \n",
      " dropout_12 (Dropout)        (None, 16)                0         \n",
      "                                                                 \n",
      " dense_19 (Dense)            (None, 16)                272       \n",
      "                                                                 \n",
      " dropout_13 (Dropout)        (None, 16)                0         \n",
      "                                                                 \n",
      " dense_20 (Dense)            (None, 10)                170       \n",
      "                                                                 \n",
      "=================================================================\n",
      "Total params: 13,002\n",
      "Trainable params: 13,002\n",
      "Non-trainable params: 0\n",
      "_________________________________________________________________\n",
      "Epoch 1/5\n",
      "   1/1875 [..............................] - ETA: 1:01:44 - loss: 2.3798 - accuracy: 0.0938WARNING:tensorflow:Callback method `on_train_batch_end` is slow compared to the batch time (batch time: 0.0024s vs `on_train_batch_end` time: 0.0533s). Check your callbacks.\n"
     ]
    },
    {
     "name": "stderr",
     "output_type": "stream",
     "text": [
      "WARNING:tensorflow:Callback method `on_train_batch_end` is slow compared to the batch time (batch time: 0.0024s vs `on_train_batch_end` time: 0.0533s). Check your callbacks.\n"
     ]
    },
    {
     "name": "stdout",
     "output_type": "stream",
     "text": [
      "1875/1875 [==============================] - 11s 5ms/step - loss: 0.5710 - accuracy: 0.8461 - val_loss: 0.2889 - val_accuracy: 0.9154\n",
      "Epoch 2/5\n",
      "1875/1875 [==============================] - 7s 4ms/step - loss: 0.3335 - accuracy: 0.9038 - val_loss: 0.2529 - val_accuracy: 0.9255\n",
      "Epoch 3/5\n",
      "1875/1875 [==============================] - 6s 3ms/step - loss: 0.2993 - accuracy: 0.9129 - val_loss: 0.2218 - val_accuracy: 0.9339\n",
      "Epoch 4/5\n",
      "1875/1875 [==============================] - 4s 2ms/step - loss: 0.2809 - accuracy: 0.9181 - val_loss: 0.2107 - val_accuracy: 0.9374\n",
      "Epoch 5/5\n",
      "1875/1875 [==============================] - 4s 2ms/step - loss: 0.2655 - accuracy: 0.9226 - val_loss: 0.2044 - val_accuracy: 0.9387\n"
     ]
    },
    {
     "name": "stderr",
     "output_type": "stream",
     "text": [
      "WARNING:absl:Found untraced functions such as _update_step_xla while saving (showing 1 of 1). These functions will not be directly callable after loading.\n"
     ]
    },
    {
     "name": "stdout",
     "output_type": "stream",
     "text": [
      "INFO:tensorflow:Assets written to: C:\\Users\\kauak\\AppData\\Local\\Temp\\tmpgk5kbo02\\model\\data\\model\\assets\n"
     ]
    },
    {
     "name": "stderr",
     "output_type": "stream",
     "text": [
      "INFO:tensorflow:Assets written to: C:\\Users\\kauak\\AppData\\Local\\Temp\\tmpgk5kbo02\\model\\data\\model\\assets\n",
      "2025/02/06 23:51:04 WARNING mlflow.utils.autologging_utils: You are using an unsupported version of tensorflow. If you encounter errors during autologging, try upgrading / downgrading tensorflow to a supported version, or try upgrading MLflow.\n"
     ]
    },
    {
     "name": "stdout",
     "output_type": "stream",
     "text": [
      "Modelo:  fcb6a5254b6648f78e26a330a40e5491\n",
      "Model: \"sequential_7\"\n",
      "_________________________________________________________________\n",
      " Layer (type)                Output Shape              Param #   \n",
      "=================================================================\n",
      " dense_21 (Dense)            (None, 16)                12560     \n",
      "                                                                 \n",
      " dropout_14 (Dropout)        (None, 16)                0         \n",
      "                                                                 \n",
      " dense_22 (Dense)            (None, 16)                272       \n",
      "                                                                 \n",
      " dropout_15 (Dropout)        (None, 16)                0         \n",
      "                                                                 \n",
      " dense_23 (Dense)            (None, 10)                170       \n",
      "                                                                 \n",
      "=================================================================\n",
      "Total params: 13,002\n",
      "Trainable params: 13,002\n",
      "Non-trainable params: 0\n",
      "_________________________________________________________________\n",
      "Epoch 1/10\n",
      "   1/1875 [..............................] - ETA: 27:22 - loss: 2.3298 - accuracy: 0.1250WARNING:tensorflow:Callback method `on_train_batch_end` is slow compared to the batch time (batch time: 0.0016s vs `on_train_batch_end` time: 0.0114s). Check your callbacks.\n"
     ]
    },
    {
     "name": "stderr",
     "output_type": "stream",
     "text": [
      "WARNING:tensorflow:Callback method `on_train_batch_end` is slow compared to the batch time (batch time: 0.0016s vs `on_train_batch_end` time: 0.0114s). Check your callbacks.\n"
     ]
    },
    {
     "name": "stdout",
     "output_type": "stream",
     "text": [
      "1875/1875 [==============================] - 5s 2ms/step - loss: 0.5534 - accuracy: 0.8515 - val_loss: 0.2744 - val_accuracy: 0.9197\n",
      "Epoch 2/10\n",
      "1875/1875 [==============================] - 3s 2ms/step - loss: 0.3273 - accuracy: 0.9048 - val_loss: 0.2353 - val_accuracy: 0.9304\n",
      "Epoch 3/10\n",
      "1875/1875 [==============================] - 4s 2ms/step - loss: 0.2922 - accuracy: 0.9141 - val_loss: 0.2215 - val_accuracy: 0.9352\n",
      "Epoch 4/10\n",
      "1875/1875 [==============================] - 4s 2ms/step - loss: 0.2716 - accuracy: 0.9203 - val_loss: 0.2063 - val_accuracy: 0.9379\n",
      "Epoch 5/10\n",
      "1875/1875 [==============================] - 4s 2ms/step - loss: 0.2590 - accuracy: 0.9237 - val_loss: 0.1997 - val_accuracy: 0.9401\n",
      "Epoch 6/10\n",
      "1875/1875 [==============================] - 3s 2ms/step - loss: 0.2513 - accuracy: 0.9250 - val_loss: 0.1928 - val_accuracy: 0.9412\n",
      "Epoch 7/10\n",
      "1875/1875 [==============================] - 5s 3ms/step - loss: 0.2414 - accuracy: 0.9286 - val_loss: 0.1913 - val_accuracy: 0.9443\n",
      "Epoch 8/10\n",
      "1875/1875 [==============================] - 4s 2ms/step - loss: 0.2385 - accuracy: 0.9291 - val_loss: 0.1857 - val_accuracy: 0.9449\n",
      "Epoch 9/10\n",
      "1875/1875 [==============================] - 4s 2ms/step - loss: 0.2329 - accuracy: 0.9304 - val_loss: 0.1789 - val_accuracy: 0.9489\n",
      "Epoch 10/10\n",
      "1875/1875 [==============================] - 4s 2ms/step - loss: 0.2247 - accuracy: 0.9322 - val_loss: 0.1740 - val_accuracy: 0.9492\n"
     ]
    },
    {
     "name": "stderr",
     "output_type": "stream",
     "text": [
      "WARNING:absl:Found untraced functions such as _update_step_xla while saving (showing 1 of 1). These functions will not be directly callable after loading.\n"
     ]
    },
    {
     "name": "stdout",
     "output_type": "stream",
     "text": [
      "INFO:tensorflow:Assets written to: C:\\Users\\kauak\\AppData\\Local\\Temp\\tmpyji1s2d8\\model\\data\\model\\assets\n"
     ]
    },
    {
     "name": "stderr",
     "output_type": "stream",
     "text": [
      "INFO:tensorflow:Assets written to: C:\\Users\\kauak\\AppData\\Local\\Temp\\tmpyji1s2d8\\model\\data\\model\\assets\n"
     ]
    },
    {
     "name": "stdout",
     "output_type": "stream",
     "text": [
      "Modelo:  ea9b294ad37f405f8828b5f29b6e8c6a\n"
     ]
    },
    {
     "name": "stderr",
     "output_type": "stream",
     "text": [
      "2025/02/06 23:51:59 WARNING mlflow.utils.autologging_utils: You are using an unsupported version of tensorflow. If you encounter errors during autologging, try upgrading / downgrading tensorflow to a supported version, or try upgrading MLflow.\n"
     ]
    },
    {
     "name": "stdout",
     "output_type": "stream",
     "text": [
      "Model: \"sequential_8\"\n",
      "_________________________________________________________________\n",
      " Layer (type)                Output Shape              Param #   \n",
      "=================================================================\n",
      " dense_24 (Dense)            (None, 16)                12560     \n",
      "                                                                 \n",
      " dropout_16 (Dropout)        (None, 16)                0         \n",
      "                                                                 \n",
      " dense_25 (Dense)            (None, 16)                272       \n",
      "                                                                 \n",
      " dropout_17 (Dropout)        (None, 16)                0         \n",
      "                                                                 \n",
      " dense_26 (Dense)            (None, 10)                170       \n",
      "                                                                 \n",
      "=================================================================\n",
      "Total params: 13,002\n",
      "Trainable params: 13,002\n",
      "Non-trainable params: 0\n",
      "_________________________________________________________________\n",
      "Epoch 1/20\n",
      "   1/1875 [..............................] - ETA: 29:54 - loss: 2.3803 - accuracy: 0.1562WARNING:tensorflow:Callback method `on_train_batch_end` is slow compared to the batch time (batch time: 0.0016s vs `on_train_batch_end` time: 0.0208s). Check your callbacks.\n"
     ]
    },
    {
     "name": "stderr",
     "output_type": "stream",
     "text": [
      "WARNING:tensorflow:Callback method `on_train_batch_end` is slow compared to the batch time (batch time: 0.0016s vs `on_train_batch_end` time: 0.0208s). Check your callbacks.\n"
     ]
    },
    {
     "name": "stdout",
     "output_type": "stream",
     "text": [
      "1875/1875 [==============================] - 5s 2ms/step - loss: 0.5644 - accuracy: 0.8485 - val_loss: 0.2775 - val_accuracy: 0.9187\n",
      "Epoch 2/20\n",
      "1875/1875 [==============================] - 4s 2ms/step - loss: 0.3299 - accuracy: 0.9064 - val_loss: 0.2429 - val_accuracy: 0.9280\n",
      "Epoch 3/20\n",
      "1875/1875 [==============================] - 4s 2ms/step - loss: 0.2952 - accuracy: 0.9159 - val_loss: 0.2303 - val_accuracy: 0.9341\n",
      "Epoch 4/20\n",
      "1875/1875 [==============================] - 4s 2ms/step - loss: 0.2765 - accuracy: 0.9205 - val_loss: 0.2244 - val_accuracy: 0.9326\n",
      "Epoch 5/20\n",
      "1875/1875 [==============================] - 4s 2ms/step - loss: 0.2661 - accuracy: 0.9228 - val_loss: 0.2079 - val_accuracy: 0.9384\n",
      "Epoch 6/20\n",
      "1875/1875 [==============================] - 4s 2ms/step - loss: 0.2552 - accuracy: 0.9255 - val_loss: 0.2088 - val_accuracy: 0.9401\n",
      "Epoch 7/20\n",
      "1875/1875 [==============================] - 3s 2ms/step - loss: 0.2456 - accuracy: 0.9280 - val_loss: 0.1980 - val_accuracy: 0.9410\n",
      "Epoch 8/20\n",
      "1875/1875 [==============================] - 4s 2ms/step - loss: 0.2403 - accuracy: 0.9291 - val_loss: 0.1955 - val_accuracy: 0.9446\n",
      "Epoch 9/20\n",
      "1875/1875 [==============================] - 3s 2ms/step - loss: 0.2382 - accuracy: 0.9311 - val_loss: 0.1917 - val_accuracy: 0.9436\n",
      "Epoch 10/20\n",
      "1875/1875 [==============================] - 4s 2ms/step - loss: 0.2300 - accuracy: 0.9325 - val_loss: 0.1906 - val_accuracy: 0.9456\n",
      "Epoch 11/20\n",
      "1875/1875 [==============================] - 4s 2ms/step - loss: 0.2293 - accuracy: 0.9334 - val_loss: 0.1989 - val_accuracy: 0.9430\n",
      "Epoch 12/20\n",
      "1875/1875 [==============================] - 4s 2ms/step - loss: 0.2255 - accuracy: 0.9338 - val_loss: 0.1896 - val_accuracy: 0.9454\n",
      "Epoch 13/20\n",
      "1875/1875 [==============================] - 4s 2ms/step - loss: 0.2216 - accuracy: 0.9337 - val_loss: 0.1974 - val_accuracy: 0.9437\n",
      "Epoch 14/20\n",
      "1875/1875 [==============================] - 4s 2ms/step - loss: 0.2198 - accuracy: 0.9348 - val_loss: 0.1890 - val_accuracy: 0.9461\n",
      "Epoch 15/20\n",
      "1875/1875 [==============================] - 4s 2ms/step - loss: 0.2149 - accuracy: 0.9362 - val_loss: 0.1883 - val_accuracy: 0.9468\n",
      "Epoch 16/20\n",
      "1875/1875 [==============================] - 4s 2ms/step - loss: 0.2139 - accuracy: 0.9372 - val_loss: 0.1908 - val_accuracy: 0.9471\n",
      "Epoch 17/20\n",
      "1875/1875 [==============================] - 4s 2ms/step - loss: 0.2120 - accuracy: 0.9378 - val_loss: 0.1847 - val_accuracy: 0.9480\n",
      "Epoch 18/20\n",
      "1875/1875 [==============================] - 4s 2ms/step - loss: 0.2096 - accuracy: 0.9373 - val_loss: 0.1775 - val_accuracy: 0.9492\n",
      "Epoch 19/20\n",
      "1875/1875 [==============================] - 4s 2ms/step - loss: 0.2077 - accuracy: 0.9379 - val_loss: 0.1825 - val_accuracy: 0.9487\n",
      "Epoch 20/20\n",
      "1875/1875 [==============================] - 4s 2ms/step - loss: 0.2061 - accuracy: 0.9386 - val_loss: 0.1854 - val_accuracy: 0.9481\n"
     ]
    },
    {
     "name": "stderr",
     "output_type": "stream",
     "text": [
      "WARNING:absl:Found untraced functions such as _update_step_xla while saving (showing 1 of 1). These functions will not be directly callable after loading.\n"
     ]
    },
    {
     "name": "stdout",
     "output_type": "stream",
     "text": [
      "INFO:tensorflow:Assets written to: C:\\Users\\kauak\\AppData\\Local\\Temp\\tmpa0jqwdz3\\model\\data\\model\\assets\n"
     ]
    },
    {
     "name": "stderr",
     "output_type": "stream",
     "text": [
      "INFO:tensorflow:Assets written to: C:\\Users\\kauak\\AppData\\Local\\Temp\\tmpa0jqwdz3\\model\\data\\model\\assets\n"
     ]
    },
    {
     "name": "stdout",
     "output_type": "stream",
     "text": [
      "Modelo:  3350ca60e5d44ecfa5de0fd899e7f602\n"
     ]
    },
    {
     "name": "stderr",
     "output_type": "stream",
     "text": [
      "2025/02/06 23:53:31 WARNING mlflow.utils.autologging_utils: You are using an unsupported version of tensorflow. If you encounter errors during autologging, try upgrading / downgrading tensorflow to a supported version, or try upgrading MLflow.\n"
     ]
    },
    {
     "name": "stdout",
     "output_type": "stream",
     "text": [
      "Model: \"sequential_9\"\n",
      "_________________________________________________________________\n",
      " Layer (type)                Output Shape              Param #   \n",
      "=================================================================\n",
      " dense_27 (Dense)            (None, 16)                12560     \n",
      "                                                                 \n",
      " dropout_18 (Dropout)        (None, 16)                0         \n",
      "                                                                 \n",
      " dense_28 (Dense)            (None, 16)                272       \n",
      "                                                                 \n",
      " dropout_19 (Dropout)        (None, 16)                0         \n",
      "                                                                 \n",
      " dense_29 (Dense)            (None, 10)                170       \n",
      "                                                                 \n",
      "=================================================================\n",
      "Total params: 13,002\n",
      "Trainable params: 13,002\n",
      "Non-trainable params: 0\n",
      "_________________________________________________________________\n",
      "Epoch 1/5\n",
      "   1/1875 [..............................] - ETA: 26:49 - loss: 2.6007 - accuracy: 0.0625WARNING:tensorflow:Callback method `on_train_batch_end` is slow compared to the batch time (batch time: 0.0018s vs `on_train_batch_end` time: 0.0123s). Check your callbacks.\n"
     ]
    },
    {
     "name": "stderr",
     "output_type": "stream",
     "text": [
      "WARNING:tensorflow:Callback method `on_train_batch_end` is slow compared to the batch time (batch time: 0.0018s vs `on_train_batch_end` time: 0.0123s). Check your callbacks.\n"
     ]
    },
    {
     "name": "stdout",
     "output_type": "stream",
     "text": [
      "1875/1875 [==============================] - 5s 2ms/step - loss: 0.6777 - accuracy: 0.8106 - val_loss: 0.3122 - val_accuracy: 0.9114\n",
      "Epoch 2/5\n",
      "1875/1875 [==============================] - 4s 2ms/step - loss: 0.4301 - accuracy: 0.8755 - val_loss: 0.2696 - val_accuracy: 0.9208\n",
      "Epoch 3/5\n",
      "1875/1875 [==============================] - 4s 2ms/step - loss: 0.3940 - accuracy: 0.8850 - val_loss: 0.2572 - val_accuracy: 0.9262\n",
      "Epoch 4/5\n",
      "1875/1875 [==============================] - 4s 2ms/step - loss: 0.3768 - accuracy: 0.8919 - val_loss: 0.2533 - val_accuracy: 0.9247\n",
      "Epoch 5/5\n",
      "1875/1875 [==============================] - 4s 2ms/step - loss: 0.3609 - accuracy: 0.8951 - val_loss: 0.2473 - val_accuracy: 0.9291\n"
     ]
    },
    {
     "name": "stderr",
     "output_type": "stream",
     "text": [
      "WARNING:absl:Found untraced functions such as _update_step_xla while saving (showing 1 of 1). These functions will not be directly callable after loading.\n"
     ]
    },
    {
     "name": "stdout",
     "output_type": "stream",
     "text": [
      "INFO:tensorflow:Assets written to: C:\\Users\\kauak\\AppData\\Local\\Temp\\tmpaq8nlkf1\\model\\data\\model\\assets\n"
     ]
    },
    {
     "name": "stderr",
     "output_type": "stream",
     "text": [
      "INFO:tensorflow:Assets written to: C:\\Users\\kauak\\AppData\\Local\\Temp\\tmpaq8nlkf1\\model\\data\\model\\assets\n",
      "2025/02/06 23:53:59 WARNING mlflow.utils.autologging_utils: You are using an unsupported version of tensorflow. If you encounter errors during autologging, try upgrading / downgrading tensorflow to a supported version, or try upgrading MLflow.\n"
     ]
    },
    {
     "name": "stdout",
     "output_type": "stream",
     "text": [
      "Modelo:  981898995a8d412a8c69b3f96b9db75c\n",
      "Model: \"sequential_10\"\n",
      "_________________________________________________________________\n",
      " Layer (type)                Output Shape              Param #   \n",
      "=================================================================\n",
      " dense_30 (Dense)            (None, 16)                12560     \n",
      "                                                                 \n",
      " dropout_20 (Dropout)        (None, 16)                0         \n",
      "                                                                 \n",
      " dense_31 (Dense)            (None, 16)                272       \n",
      "                                                                 \n",
      " dropout_21 (Dropout)        (None, 16)                0         \n",
      "                                                                 \n",
      " dense_32 (Dense)            (None, 10)                170       \n",
      "                                                                 \n",
      "=================================================================\n",
      "Total params: 13,002\n",
      "Trainable params: 13,002\n",
      "Non-trainable params: 0\n",
      "_________________________________________________________________\n",
      "Epoch 1/10\n",
      "   1/1875 [..............................] - ETA: 30:55 - loss: 2.2460 - accuracy: 0.1875WARNING:tensorflow:Callback method `on_train_batch_end` is slow compared to the batch time (batch time: 0.0018s vs `on_train_batch_end` time: 0.0404s). Check your callbacks.\n"
     ]
    },
    {
     "name": "stderr",
     "output_type": "stream",
     "text": [
      "WARNING:tensorflow:Callback method `on_train_batch_end` is slow compared to the batch time (batch time: 0.0018s vs `on_train_batch_end` time: 0.0404s). Check your callbacks.\n"
     ]
    },
    {
     "name": "stdout",
     "output_type": "stream",
     "text": [
      "1875/1875 [==============================] - 6s 2ms/step - loss: 0.6435 - accuracy: 0.8188 - val_loss: 0.3131 - val_accuracy: 0.9087\n",
      "Epoch 2/10\n",
      "1875/1875 [==============================] - 4s 2ms/step - loss: 0.4205 - accuracy: 0.8784 - val_loss: 0.2658 - val_accuracy: 0.9218\n",
      "Epoch 3/10\n",
      "1875/1875 [==============================] - 4s 2ms/step - loss: 0.3855 - accuracy: 0.8890 - val_loss: 0.2445 - val_accuracy: 0.9301\n",
      "Epoch 4/10\n",
      "1875/1875 [==============================] - 4s 2ms/step - loss: 0.3650 - accuracy: 0.8949 - val_loss: 0.2345 - val_accuracy: 0.9307\n",
      "Epoch 5/10\n",
      "1875/1875 [==============================] - 4s 2ms/step - loss: 0.3508 - accuracy: 0.8969 - val_loss: 0.2278 - val_accuracy: 0.9333\n",
      "Epoch 6/10\n",
      "1875/1875 [==============================] - 4s 2ms/step - loss: 0.3397 - accuracy: 0.9000 - val_loss: 0.2229 - val_accuracy: 0.9338\n",
      "Epoch 7/10\n",
      "1875/1875 [==============================] - 4s 2ms/step - loss: 0.3309 - accuracy: 0.9033 - val_loss: 0.2274 - val_accuracy: 0.9339\n",
      "Epoch 8/10\n",
      "1875/1875 [==============================] - 4s 2ms/step - loss: 0.3275 - accuracy: 0.9028 - val_loss: 0.2106 - val_accuracy: 0.9388\n",
      "Epoch 9/10\n",
      "1875/1875 [==============================] - 4s 2ms/step - loss: 0.3197 - accuracy: 0.9055 - val_loss: 0.2132 - val_accuracy: 0.9363\n",
      "Epoch 10/10\n",
      "1875/1875 [==============================] - 4s 2ms/step - loss: 0.3150 - accuracy: 0.9072 - val_loss: 0.1997 - val_accuracy: 0.9401\n"
     ]
    },
    {
     "name": "stderr",
     "output_type": "stream",
     "text": [
      "WARNING:absl:Found untraced functions such as _update_step_xla while saving (showing 1 of 1). These functions will not be directly callable after loading.\n"
     ]
    },
    {
     "name": "stdout",
     "output_type": "stream",
     "text": [
      "INFO:tensorflow:Assets written to: C:\\Users\\kauak\\AppData\\Local\\Temp\\tmpf4_s8qpy\\model\\data\\model\\assets\n"
     ]
    },
    {
     "name": "stderr",
     "output_type": "stream",
     "text": [
      "INFO:tensorflow:Assets written to: C:\\Users\\kauak\\AppData\\Local\\Temp\\tmpf4_s8qpy\\model\\data\\model\\assets\n",
      "2025/02/06 23:54:49 WARNING mlflow.utils.autologging_utils: You are using an unsupported version of tensorflow. If you encounter errors during autologging, try upgrading / downgrading tensorflow to a supported version, or try upgrading MLflow.\n"
     ]
    },
    {
     "name": "stdout",
     "output_type": "stream",
     "text": [
      "Modelo:  eb2f8d470f5941468f82b3bd40ea6de5\n",
      "Model: \"sequential_11\"\n",
      "_________________________________________________________________\n",
      " Layer (type)                Output Shape              Param #   \n",
      "=================================================================\n",
      " dense_33 (Dense)            (None, 16)                12560     \n",
      "                                                                 \n",
      " dropout_22 (Dropout)        (None, 16)                0         \n",
      "                                                                 \n",
      " dense_34 (Dense)            (None, 16)                272       \n",
      "                                                                 \n",
      " dropout_23 (Dropout)        (None, 16)                0         \n",
      "                                                                 \n",
      " dense_35 (Dense)            (None, 10)                170       \n",
      "                                                                 \n",
      "=================================================================\n",
      "Total params: 13,002\n",
      "Trainable params: 13,002\n",
      "Non-trainable params: 0\n",
      "_________________________________________________________________\n",
      "Epoch 1/20\n",
      "   1/1875 [..............................] - ETA: 31:04 - loss: 2.3565 - accuracy: 0.0938WARNING:tensorflow:Callback method `on_train_batch_end` is slow compared to the batch time (batch time: 0.0014s vs `on_train_batch_end` time: 0.0445s). Check your callbacks.\n"
     ]
    },
    {
     "name": "stderr",
     "output_type": "stream",
     "text": [
      "WARNING:tensorflow:Callback method `on_train_batch_end` is slow compared to the batch time (batch time: 0.0014s vs `on_train_batch_end` time: 0.0445s). Check your callbacks.\n"
     ]
    },
    {
     "name": "stdout",
     "output_type": "stream",
     "text": [
      "1875/1875 [==============================] - 5s 2ms/step - loss: 0.6760 - accuracy: 0.8130 - val_loss: 0.3083 - val_accuracy: 0.9110\n",
      "Epoch 2/20\n",
      "1875/1875 [==============================] - 4s 2ms/step - loss: 0.4308 - accuracy: 0.8744 - val_loss: 0.2688 - val_accuracy: 0.9192\n",
      "Epoch 3/20\n",
      "1875/1875 [==============================] - 4s 2ms/step - loss: 0.3952 - accuracy: 0.8841 - val_loss: 0.2475 - val_accuracy: 0.9266\n",
      "Epoch 4/20\n",
      "1875/1875 [==============================] - 4s 2ms/step - loss: 0.3765 - accuracy: 0.8904 - val_loss: 0.2511 - val_accuracy: 0.9256\n",
      "Epoch 5/20\n",
      "1875/1875 [==============================] - 4s 2ms/step - loss: 0.3657 - accuracy: 0.8928 - val_loss: 0.2344 - val_accuracy: 0.9317\n",
      "Epoch 6/20\n",
      "1875/1875 [==============================] - 4s 2ms/step - loss: 0.3549 - accuracy: 0.8955 - val_loss: 0.2412 - val_accuracy: 0.9285\n",
      "Epoch 7/20\n",
      "1875/1875 [==============================] - 4s 2ms/step - loss: 0.3497 - accuracy: 0.8995 - val_loss: 0.2276 - val_accuracy: 0.9320\n",
      "Epoch 8/20\n",
      "1875/1875 [==============================] - 4s 2ms/step - loss: 0.3393 - accuracy: 0.9008 - val_loss: 0.2334 - val_accuracy: 0.9324\n",
      "Epoch 9/20\n",
      "1875/1875 [==============================] - 4s 2ms/step - loss: 0.3391 - accuracy: 0.9011 - val_loss: 0.2240 - val_accuracy: 0.9331\n",
      "Epoch 10/20\n",
      "1875/1875 [==============================] - 4s 2ms/step - loss: 0.3349 - accuracy: 0.9035 - val_loss: 0.2260 - val_accuracy: 0.9327\n",
      "Epoch 11/20\n",
      "1875/1875 [==============================] - 4s 2ms/step - loss: 0.3259 - accuracy: 0.9046 - val_loss: 0.2228 - val_accuracy: 0.9333\n",
      "Epoch 12/20\n",
      "1875/1875 [==============================] - 4s 2ms/step - loss: 0.3294 - accuracy: 0.9039 - val_loss: 0.2214 - val_accuracy: 0.9351\n",
      "Epoch 13/20\n",
      "1875/1875 [==============================] - 4s 2ms/step - loss: 0.3204 - accuracy: 0.9071 - val_loss: 0.2223 - val_accuracy: 0.9344\n",
      "Epoch 14/20\n",
      "1875/1875 [==============================] - 4s 2ms/step - loss: 0.3157 - accuracy: 0.9080 - val_loss: 0.2181 - val_accuracy: 0.9374\n",
      "Epoch 15/20\n",
      "1875/1875 [==============================] - 4s 2ms/step - loss: 0.3159 - accuracy: 0.9070 - val_loss: 0.2183 - val_accuracy: 0.9371\n",
      "Epoch 16/20\n",
      "1875/1875 [==============================] - 4s 2ms/step - loss: 0.3146 - accuracy: 0.9087 - val_loss: 0.2156 - val_accuracy: 0.9348\n",
      "Epoch 17/20\n",
      "1875/1875 [==============================] - 4s 2ms/step - loss: 0.3111 - accuracy: 0.9083 - val_loss: 0.2147 - val_accuracy: 0.9375\n",
      "Epoch 18/20\n",
      "1875/1875 [==============================] - 4s 2ms/step - loss: 0.3069 - accuracy: 0.9104 - val_loss: 0.2217 - val_accuracy: 0.9333\n",
      "Epoch 19/20\n",
      "1875/1875 [==============================] - 4s 2ms/step - loss: 0.3077 - accuracy: 0.9089 - val_loss: 0.2123 - val_accuracy: 0.9395\n",
      "Epoch 20/20\n",
      "1875/1875 [==============================] - 4s 2ms/step - loss: 0.3078 - accuracy: 0.9094 - val_loss: 0.2084 - val_accuracy: 0.9387\n"
     ]
    },
    {
     "name": "stderr",
     "output_type": "stream",
     "text": [
      "WARNING:absl:Found untraced functions such as _update_step_xla while saving (showing 1 of 1). These functions will not be directly callable after loading.\n"
     ]
    },
    {
     "name": "stdout",
     "output_type": "stream",
     "text": [
      "INFO:tensorflow:Assets written to: C:\\Users\\kauak\\AppData\\Local\\Temp\\tmppo_sieeg\\model\\data\\model\\assets\n"
     ]
    },
    {
     "name": "stderr",
     "output_type": "stream",
     "text": [
      "INFO:tensorflow:Assets written to: C:\\Users\\kauak\\AppData\\Local\\Temp\\tmppo_sieeg\\model\\data\\model\\assets\n",
      "2025/02/06 23:56:20 WARNING mlflow.utils.autologging_utils: You are using an unsupported version of tensorflow. If you encounter errors during autologging, try upgrading / downgrading tensorflow to a supported version, or try upgrading MLflow.\n"
     ]
    },
    {
     "name": "stdout",
     "output_type": "stream",
     "text": [
      "Modelo:  bbadc57490ad418dab3883cd6968f96d\n",
      "Model: \"sequential_12\"\n",
      "_________________________________________________________________\n",
      " Layer (type)                Output Shape              Param #   \n",
      "=================================================================\n",
      " dense_36 (Dense)            (None, 32)                25120     \n",
      "                                                                 \n",
      " dropout_24 (Dropout)        (None, 32)                0         \n",
      "                                                                 \n",
      " dense_37 (Dense)            (None, 32)                1056      \n",
      "                                                                 \n",
      " dropout_25 (Dropout)        (None, 32)                0         \n",
      "                                                                 \n",
      " dense_38 (Dense)            (None, 10)                330       \n",
      "                                                                 \n",
      "=================================================================\n",
      "Total params: 26,506\n",
      "Trainable params: 26,506\n",
      "Non-trainable params: 0\n",
      "_________________________________________________________________\n",
      "Epoch 1/5\n",
      "   1/1875 [..............................] - ETA: 27:57 - loss: 2.4518 - accuracy: 0.0000e+00WARNING:tensorflow:Callback method `on_train_batch_end` is slow compared to the batch time (batch time: 0.0014s vs `on_train_batch_end` time: 0.0114s). Check your callbacks.\n"
     ]
    },
    {
     "name": "stderr",
     "output_type": "stream",
     "text": [
      "WARNING:tensorflow:Callback method `on_train_batch_end` is slow compared to the batch time (batch time: 0.0014s vs `on_train_batch_end` time: 0.0114s). Check your callbacks.\n"
     ]
    },
    {
     "name": "stdout",
     "output_type": "stream",
     "text": [
      "1875/1875 [==============================] - 6s 2ms/step - loss: 0.4690 - accuracy: 0.8562 - val_loss: 0.1911 - val_accuracy: 0.9430\n",
      "Epoch 2/5\n",
      "1875/1875 [==============================] - 4s 2ms/step - loss: 0.2503 - accuracy: 0.9244 - val_loss: 0.1460 - val_accuracy: 0.9558\n",
      "Epoch 3/5\n",
      "1875/1875 [==============================] - 4s 2ms/step - loss: 0.2109 - accuracy: 0.9353 - val_loss: 0.1360 - val_accuracy: 0.9575\n",
      "Epoch 4/5\n",
      "1875/1875 [==============================] - 4s 2ms/step - loss: 0.1881 - accuracy: 0.9426 - val_loss: 0.1262 - val_accuracy: 0.9609\n",
      "Epoch 5/5\n",
      "1875/1875 [==============================] - 4s 2ms/step - loss: 0.1737 - accuracy: 0.9462 - val_loss: 0.1183 - val_accuracy: 0.9630\n"
     ]
    },
    {
     "name": "stderr",
     "output_type": "stream",
     "text": [
      "WARNING:absl:Found untraced functions such as _update_step_xla while saving (showing 1 of 1). These functions will not be directly callable after loading.\n"
     ]
    },
    {
     "name": "stdout",
     "output_type": "stream",
     "text": [
      "INFO:tensorflow:Assets written to: C:\\Users\\kauak\\AppData\\Local\\Temp\\tmpjydqudmt\\model\\data\\model\\assets\n"
     ]
    },
    {
     "name": "stderr",
     "output_type": "stream",
     "text": [
      "INFO:tensorflow:Assets written to: C:\\Users\\kauak\\AppData\\Local\\Temp\\tmpjydqudmt\\model\\data\\model\\assets\n",
      "2025/02/06 23:56:50 WARNING mlflow.utils.autologging_utils: You are using an unsupported version of tensorflow. If you encounter errors during autologging, try upgrading / downgrading tensorflow to a supported version, or try upgrading MLflow.\n"
     ]
    },
    {
     "name": "stdout",
     "output_type": "stream",
     "text": [
      "Modelo:  803a6ebdf25c410a86a560c51f9791f0\n",
      "Model: \"sequential_13\"\n",
      "_________________________________________________________________\n",
      " Layer (type)                Output Shape              Param #   \n",
      "=================================================================\n",
      " dense_39 (Dense)            (None, 32)                25120     \n",
      "                                                                 \n",
      " dropout_26 (Dropout)        (None, 32)                0         \n",
      "                                                                 \n",
      " dense_40 (Dense)            (None, 32)                1056      \n",
      "                                                                 \n",
      " dropout_27 (Dropout)        (None, 32)                0         \n",
      "                                                                 \n",
      " dense_41 (Dense)            (None, 10)                330       \n",
      "                                                                 \n",
      "=================================================================\n",
      "Total params: 26,506\n",
      "Trainable params: 26,506\n",
      "Non-trainable params: 0\n",
      "_________________________________________________________________\n",
      "Epoch 1/10\n",
      "   1/1875 [..............................] - ETA: 26:06 - loss: 2.3641 - accuracy: 0.1562WARNING:tensorflow:Callback method `on_train_batch_end` is slow compared to the batch time (batch time: 0.0018s vs `on_train_batch_end` time: 0.0108s). Check your callbacks.\n"
     ]
    },
    {
     "name": "stderr",
     "output_type": "stream",
     "text": [
      "WARNING:tensorflow:Callback method `on_train_batch_end` is slow compared to the batch time (batch time: 0.0018s vs `on_train_batch_end` time: 0.0108s). Check your callbacks.\n"
     ]
    },
    {
     "name": "stdout",
     "output_type": "stream",
     "text": [
      "1875/1875 [==============================] - 5s 2ms/step - loss: 0.4779 - accuracy: 0.8554 - val_loss: 0.2032 - val_accuracy: 0.9370\n",
      "Epoch 2/10\n",
      "1875/1875 [==============================] - 4s 2ms/step - loss: 0.2608 - accuracy: 0.9224 - val_loss: 0.1638 - val_accuracy: 0.9507\n",
      "Epoch 3/10\n",
      "1875/1875 [==============================] - 4s 2ms/step - loss: 0.2173 - accuracy: 0.9349 - val_loss: 0.1516 - val_accuracy: 0.9539\n",
      "Epoch 4/10\n",
      "1875/1875 [==============================] - 4s 2ms/step - loss: 0.1929 - accuracy: 0.9415 - val_loss: 0.1387 - val_accuracy: 0.9570\n",
      "Epoch 5/10\n",
      "1875/1875 [==============================] - 4s 2ms/step - loss: 0.1768 - accuracy: 0.9466 - val_loss: 0.1281 - val_accuracy: 0.9590\n",
      "Epoch 6/10\n",
      "1875/1875 [==============================] - 4s 2ms/step - loss: 0.1656 - accuracy: 0.9492 - val_loss: 0.1330 - val_accuracy: 0.9608\n",
      "Epoch 7/10\n",
      "1875/1875 [==============================] - 4s 2ms/step - loss: 0.1568 - accuracy: 0.9521 - val_loss: 0.1271 - val_accuracy: 0.9633\n",
      "Epoch 8/10\n",
      "1875/1875 [==============================] - 4s 2ms/step - loss: 0.1482 - accuracy: 0.9540 - val_loss: 0.1195 - val_accuracy: 0.9654\n",
      "Epoch 9/10\n",
      "1875/1875 [==============================] - 4s 2ms/step - loss: 0.1420 - accuracy: 0.9557 - val_loss: 0.1219 - val_accuracy: 0.9628\n",
      "Epoch 10/10\n",
      "1875/1875 [==============================] - 4s 2ms/step - loss: 0.1386 - accuracy: 0.9569 - val_loss: 0.1237 - val_accuracy: 0.9631\n"
     ]
    },
    {
     "name": "stderr",
     "output_type": "stream",
     "text": [
      "WARNING:absl:Found untraced functions such as _update_step_xla while saving (showing 1 of 1). These functions will not be directly callable after loading.\n"
     ]
    },
    {
     "name": "stdout",
     "output_type": "stream",
     "text": [
      "INFO:tensorflow:Assets written to: C:\\Users\\kauak\\AppData\\Local\\Temp\\tmpb4ryfem8\\model\\data\\model\\assets\n"
     ]
    },
    {
     "name": "stderr",
     "output_type": "stream",
     "text": [
      "INFO:tensorflow:Assets written to: C:\\Users\\kauak\\AppData\\Local\\Temp\\tmpb4ryfem8\\model\\data\\model\\assets\n",
      "2025/02/06 23:57:39 WARNING mlflow.utils.autologging_utils: You are using an unsupported version of tensorflow. If you encounter errors during autologging, try upgrading / downgrading tensorflow to a supported version, or try upgrading MLflow.\n"
     ]
    },
    {
     "name": "stdout",
     "output_type": "stream",
     "text": [
      "Modelo:  0499192ca4094153acf4b52bad6b60ed\n",
      "Model: \"sequential_14\"\n",
      "_________________________________________________________________\n",
      " Layer (type)                Output Shape              Param #   \n",
      "=================================================================\n",
      " dense_42 (Dense)            (None, 32)                25120     \n",
      "                                                                 \n",
      " dropout_28 (Dropout)        (None, 32)                0         \n",
      "                                                                 \n",
      " dense_43 (Dense)            (None, 32)                1056      \n",
      "                                                                 \n",
      " dropout_29 (Dropout)        (None, 32)                0         \n",
      "                                                                 \n",
      " dense_44 (Dense)            (None, 10)                330       \n",
      "                                                                 \n",
      "=================================================================\n",
      "Total params: 26,506\n",
      "Trainable params: 26,506\n",
      "Non-trainable params: 0\n",
      "_________________________________________________________________\n",
      "Epoch 1/20\n",
      "   1/1875 [..............................] - ETA: 28:38 - loss: 2.3662 - accuracy: 0.0625WARNING:tensorflow:Callback method `on_train_batch_end` is slow compared to the batch time (batch time: 0.0020s vs `on_train_batch_end` time: 0.0222s). Check your callbacks.\n"
     ]
    },
    {
     "name": "stderr",
     "output_type": "stream",
     "text": [
      "WARNING:tensorflow:Callback method `on_train_batch_end` is slow compared to the batch time (batch time: 0.0020s vs `on_train_batch_end` time: 0.0222s). Check your callbacks.\n"
     ]
    },
    {
     "name": "stdout",
     "output_type": "stream",
     "text": [
      "1875/1875 [==============================] - 5s 2ms/step - loss: 0.4582 - accuracy: 0.8617 - val_loss: 0.2069 - val_accuracy: 0.9364\n",
      "Epoch 2/20\n",
      "1875/1875 [==============================] - 4s 2ms/step - loss: 0.2543 - accuracy: 0.9235 - val_loss: 0.1545 - val_accuracy: 0.9533\n",
      "Epoch 3/20\n",
      "1875/1875 [==============================] - 4s 2ms/step - loss: 0.2110 - accuracy: 0.9361 - val_loss: 0.1403 - val_accuracy: 0.9589\n",
      "Epoch 4/20\n",
      "1875/1875 [==============================] - 4s 2ms/step - loss: 0.1896 - accuracy: 0.9424 - val_loss: 0.1349 - val_accuracy: 0.9593\n",
      "Epoch 5/20\n",
      "1875/1875 [==============================] - 4s 2ms/step - loss: 0.1761 - accuracy: 0.9460 - val_loss: 0.1219 - val_accuracy: 0.9628\n",
      "Epoch 6/20\n",
      "1875/1875 [==============================] - 4s 2ms/step - loss: 0.1634 - accuracy: 0.9490 - val_loss: 0.1244 - val_accuracy: 0.9631\n",
      "Epoch 7/20\n",
      "1875/1875 [==============================] - 4s 2ms/step - loss: 0.1552 - accuracy: 0.9513 - val_loss: 0.1191 - val_accuracy: 0.9651\n",
      "Epoch 8/20\n",
      "1875/1875 [==============================] - 4s 2ms/step - loss: 0.1496 - accuracy: 0.9532 - val_loss: 0.1212 - val_accuracy: 0.9633\n",
      "Epoch 9/20\n",
      "1875/1875 [==============================] - 4s 2ms/step - loss: 0.1445 - accuracy: 0.9545 - val_loss: 0.1178 - val_accuracy: 0.9645\n",
      "Epoch 10/20\n",
      "1875/1875 [==============================] - 4s 2ms/step - loss: 0.1396 - accuracy: 0.9569 - val_loss: 0.1159 - val_accuracy: 0.9645\n",
      "Epoch 11/20\n",
      "1875/1875 [==============================] - 4s 2ms/step - loss: 0.1357 - accuracy: 0.9580 - val_loss: 0.1078 - val_accuracy: 0.9684\n",
      "Epoch 12/20\n",
      "1875/1875 [==============================] - 4s 2ms/step - loss: 0.1328 - accuracy: 0.9581 - val_loss: 0.1140 - val_accuracy: 0.9668\n",
      "Epoch 13/20\n",
      "1875/1875 [==============================] - 4s 2ms/step - loss: 0.1283 - accuracy: 0.9593 - val_loss: 0.1094 - val_accuracy: 0.9676\n",
      "Epoch 14/20\n",
      "1875/1875 [==============================] - 4s 2ms/step - loss: 0.1283 - accuracy: 0.9600 - val_loss: 0.1114 - val_accuracy: 0.9671\n",
      "Epoch 15/20\n",
      "1875/1875 [==============================] - 4s 2ms/step - loss: 0.1236 - accuracy: 0.9615 - val_loss: 0.1125 - val_accuracy: 0.9664\n",
      "Epoch 16/20\n",
      "1875/1875 [==============================] - 4s 2ms/step - loss: 0.1177 - accuracy: 0.9626 - val_loss: 0.1144 - val_accuracy: 0.9677\n",
      "Epoch 17/20\n",
      "1875/1875 [==============================] - 4s 2ms/step - loss: 0.1155 - accuracy: 0.9631 - val_loss: 0.1091 - val_accuracy: 0.9669\n",
      "Epoch 18/20\n",
      "1875/1875 [==============================] - 4s 2ms/step - loss: 0.1149 - accuracy: 0.9632 - val_loss: 0.1092 - val_accuracy: 0.9683\n",
      "Epoch 19/20\n",
      "1875/1875 [==============================] - 4s 2ms/step - loss: 0.1155 - accuracy: 0.9634 - val_loss: 0.1098 - val_accuracy: 0.9678\n",
      "Epoch 20/20\n",
      "1875/1875 [==============================] - 4s 2ms/step - loss: 0.1126 - accuracy: 0.9634 - val_loss: 0.1104 - val_accuracy: 0.9683\n"
     ]
    },
    {
     "name": "stderr",
     "output_type": "stream",
     "text": [
      "WARNING:absl:Found untraced functions such as _update_step_xla while saving (showing 1 of 1). These functions will not be directly callable after loading.\n"
     ]
    },
    {
     "name": "stdout",
     "output_type": "stream",
     "text": [
      "INFO:tensorflow:Assets written to: C:\\Users\\kauak\\AppData\\Local\\Temp\\tmpy625iane\\model\\data\\model\\assets\n"
     ]
    },
    {
     "name": "stderr",
     "output_type": "stream",
     "text": [
      "INFO:tensorflow:Assets written to: C:\\Users\\kauak\\AppData\\Local\\Temp\\tmpy625iane\\model\\data\\model\\assets\n",
      "2025/02/06 23:59:08 WARNING mlflow.utils.autologging_utils: You are using an unsupported version of tensorflow. If you encounter errors during autologging, try upgrading / downgrading tensorflow to a supported version, or try upgrading MLflow.\n"
     ]
    },
    {
     "name": "stdout",
     "output_type": "stream",
     "text": [
      "Modelo:  834acc0bfa8a4caebaf4889734ab4253\n",
      "Model: \"sequential_15\"\n",
      "_________________________________________________________________\n",
      " Layer (type)                Output Shape              Param #   \n",
      "=================================================================\n",
      " dense_45 (Dense)            (None, 32)                25120     \n",
      "                                                                 \n",
      " dropout_30 (Dropout)        (None, 32)                0         \n",
      "                                                                 \n",
      " dense_46 (Dense)            (None, 32)                1056      \n",
      "                                                                 \n",
      " dropout_31 (Dropout)        (None, 32)                0         \n",
      "                                                                 \n",
      " dense_47 (Dense)            (None, 10)                330       \n",
      "                                                                 \n",
      "=================================================================\n",
      "Total params: 26,506\n",
      "Trainable params: 26,506\n",
      "Non-trainable params: 0\n",
      "_________________________________________________________________\n",
      "Epoch 1/5\n",
      "   1/1875 [..............................] - ETA: 31:57 - loss: 2.3669 - accuracy: 0.1250WARNING:tensorflow:Callback method `on_train_batch_end` is slow compared to the batch time (batch time: 0.0018s vs `on_train_batch_end` time: 0.0379s). Check your callbacks.\n"
     ]
    },
    {
     "name": "stderr",
     "output_type": "stream",
     "text": [
      "WARNING:tensorflow:Callback method `on_train_batch_end` is slow compared to the batch time (batch time: 0.0018s vs `on_train_batch_end` time: 0.0379s). Check your callbacks.\n"
     ]
    },
    {
     "name": "stdout",
     "output_type": "stream",
     "text": [
      "1875/1875 [==============================] - 5s 2ms/step - loss: 0.5787 - accuracy: 0.8211 - val_loss: 0.2270 - val_accuracy: 0.9314\n",
      "Epoch 2/5\n",
      "1875/1875 [==============================] - 4s 2ms/step - loss: 0.3390 - accuracy: 0.8991 - val_loss: 0.1797 - val_accuracy: 0.9471\n",
      "Epoch 3/5\n",
      "1875/1875 [==============================] - 4s 2ms/step - loss: 0.2905 - accuracy: 0.9142 - val_loss: 0.1702 - val_accuracy: 0.9484\n",
      "Epoch 4/5\n",
      "1875/1875 [==============================] - 4s 2ms/step - loss: 0.2594 - accuracy: 0.9237 - val_loss: 0.1509 - val_accuracy: 0.9548\n",
      "Epoch 5/5\n",
      "1875/1875 [==============================] - 4s 2ms/step - loss: 0.2424 - accuracy: 0.9269 - val_loss: 0.1388 - val_accuracy: 0.9594\n"
     ]
    },
    {
     "name": "stderr",
     "output_type": "stream",
     "text": [
      "WARNING:absl:Found untraced functions such as _update_step_xla while saving (showing 1 of 1). These functions will not be directly callable after loading.\n"
     ]
    },
    {
     "name": "stdout",
     "output_type": "stream",
     "text": [
      "INFO:tensorflow:Assets written to: C:\\Users\\kauak\\AppData\\Local\\Temp\\tmpb9h92vna\\model\\data\\model\\assets\n"
     ]
    },
    {
     "name": "stderr",
     "output_type": "stream",
     "text": [
      "INFO:tensorflow:Assets written to: C:\\Users\\kauak\\AppData\\Local\\Temp\\tmpb9h92vna\\model\\data\\model\\assets\n",
      "2025/02/06 23:59:37 WARNING mlflow.utils.autologging_utils: You are using an unsupported version of tensorflow. If you encounter errors during autologging, try upgrading / downgrading tensorflow to a supported version, or try upgrading MLflow.\n"
     ]
    },
    {
     "name": "stdout",
     "output_type": "stream",
     "text": [
      "Modelo:  f335547056884090bad1a4715f62654e\n",
      "Model: \"sequential_16\"\n",
      "_________________________________________________________________\n",
      " Layer (type)                Output Shape              Param #   \n",
      "=================================================================\n",
      " dense_48 (Dense)            (None, 32)                25120     \n",
      "                                                                 \n",
      " dropout_32 (Dropout)        (None, 32)                0         \n",
      "                                                                 \n",
      " dense_49 (Dense)            (None, 32)                1056      \n",
      "                                                                 \n",
      " dropout_33 (Dropout)        (None, 32)                0         \n",
      "                                                                 \n",
      " dense_50 (Dense)            (None, 10)                330       \n",
      "                                                                 \n",
      "=================================================================\n",
      "Total params: 26,506\n",
      "Trainable params: 26,506\n",
      "Non-trainable params: 0\n",
      "_________________________________________________________________\n",
      "Epoch 1/10\n",
      "   1/1875 [..............................] - ETA: 26:19 - loss: 2.4535 - accuracy: 0.0625WARNING:tensorflow:Callback method `on_train_batch_end` is slow compared to the batch time (batch time: 0.0020s vs `on_train_batch_end` time: 0.0163s). Check your callbacks.\n"
     ]
    },
    {
     "name": "stderr",
     "output_type": "stream",
     "text": [
      "WARNING:tensorflow:Callback method `on_train_batch_end` is slow compared to the batch time (batch time: 0.0020s vs `on_train_batch_end` time: 0.0163s). Check your callbacks.\n"
     ]
    },
    {
     "name": "stdout",
     "output_type": "stream",
     "text": [
      "1875/1875 [==============================] - 5s 2ms/step - loss: 0.5866 - accuracy: 0.8169 - val_loss: 0.2317 - val_accuracy: 0.9310\n",
      "Epoch 2/10\n",
      "1875/1875 [==============================] - 4s 2ms/step - loss: 0.3469 - accuracy: 0.8977 - val_loss: 0.1824 - val_accuracy: 0.9449\n",
      "Epoch 3/10\n",
      "1875/1875 [==============================] - 4s 2ms/step - loss: 0.2927 - accuracy: 0.9139 - val_loss: 0.1638 - val_accuracy: 0.9505\n",
      "Epoch 4/10\n",
      "1875/1875 [==============================] - 4s 2ms/step - loss: 0.2637 - accuracy: 0.9212 - val_loss: 0.1545 - val_accuracy: 0.9539\n",
      "Epoch 5/10\n",
      "1875/1875 [==============================] - 4s 2ms/step - loss: 0.2471 - accuracy: 0.9255 - val_loss: 0.1467 - val_accuracy: 0.9563\n",
      "Epoch 6/10\n",
      "1875/1875 [==============================] - 4s 2ms/step - loss: 0.2320 - accuracy: 0.9300 - val_loss: 0.1381 - val_accuracy: 0.9582\n",
      "Epoch 7/10\n",
      "1875/1875 [==============================] - 4s 2ms/step - loss: 0.2226 - accuracy: 0.9327 - val_loss: 0.1311 - val_accuracy: 0.9617\n",
      "Epoch 8/10\n",
      "1875/1875 [==============================] - 4s 2ms/step - loss: 0.2146 - accuracy: 0.9345 - val_loss: 0.1345 - val_accuracy: 0.9617\n",
      "Epoch 9/10\n",
      "1875/1875 [==============================] - 4s 2ms/step - loss: 0.2153 - accuracy: 0.9352 - val_loss: 0.1346 - val_accuracy: 0.9584\n",
      "Epoch 10/10\n",
      "1875/1875 [==============================] - 5s 2ms/step - loss: 0.2090 - accuracy: 0.9371 - val_loss: 0.1271 - val_accuracy: 0.9621\n"
     ]
    },
    {
     "name": "stderr",
     "output_type": "stream",
     "text": [
      "WARNING:absl:Found untraced functions such as _update_step_xla while saving (showing 1 of 1). These functions will not be directly callable after loading.\n"
     ]
    },
    {
     "name": "stdout",
     "output_type": "stream",
     "text": [
      "INFO:tensorflow:Assets written to: C:\\Users\\kauak\\AppData\\Local\\Temp\\tmpsk58vjd5\\model\\data\\model\\assets\n"
     ]
    },
    {
     "name": "stderr",
     "output_type": "stream",
     "text": [
      "INFO:tensorflow:Assets written to: C:\\Users\\kauak\\AppData\\Local\\Temp\\tmpsk58vjd5\\model\\data\\model\\assets\n",
      "2025/02/07 00:00:29 WARNING mlflow.utils.autologging_utils: You are using an unsupported version of tensorflow. If you encounter errors during autologging, try upgrading / downgrading tensorflow to a supported version, or try upgrading MLflow.\n"
     ]
    },
    {
     "name": "stdout",
     "output_type": "stream",
     "text": [
      "Modelo:  57c7203165e64223aa70c560cea3d7b1\n",
      "Model: \"sequential_17\"\n",
      "_________________________________________________________________\n",
      " Layer (type)                Output Shape              Param #   \n",
      "=================================================================\n",
      " dense_51 (Dense)            (None, 32)                25120     \n",
      "                                                                 \n",
      " dropout_34 (Dropout)        (None, 32)                0         \n",
      "                                                                 \n",
      " dense_52 (Dense)            (None, 32)                1056      \n",
      "                                                                 \n",
      " dropout_35 (Dropout)        (None, 32)                0         \n",
      "                                                                 \n",
      " dense_53 (Dense)            (None, 10)                330       \n",
      "                                                                 \n",
      "=================================================================\n",
      "Total params: 26,506\n",
      "Trainable params: 26,506\n",
      "Non-trainable params: 0\n",
      "_________________________________________________________________\n",
      "Epoch 1/20\n",
      "   1/1875 [..............................] - ETA: 31:24 - loss: 2.3895 - accuracy: 0.0625WARNING:tensorflow:Callback method `on_train_batch_end` is slow compared to the batch time (batch time: 0.0016s vs `on_train_batch_end` time: 0.0404s). Check your callbacks.\n"
     ]
    },
    {
     "name": "stderr",
     "output_type": "stream",
     "text": [
      "WARNING:tensorflow:Callback method `on_train_batch_end` is slow compared to the batch time (batch time: 0.0016s vs `on_train_batch_end` time: 0.0404s). Check your callbacks.\n"
     ]
    },
    {
     "name": "stdout",
     "output_type": "stream",
     "text": [
      "1875/1875 [==============================] - 5s 2ms/step - loss: 0.5752 - accuracy: 0.8210 - val_loss: 0.2179 - val_accuracy: 0.9361\n",
      "Epoch 2/20\n",
      "1875/1875 [==============================] - 4s 2ms/step - loss: 0.3347 - accuracy: 0.9009 - val_loss: 0.1770 - val_accuracy: 0.9485\n",
      "Epoch 3/20\n",
      "1875/1875 [==============================] - 4s 2ms/step - loss: 0.2863 - accuracy: 0.9151 - val_loss: 0.1632 - val_accuracy: 0.9512\n",
      "Epoch 4/20\n",
      "1875/1875 [==============================] - 4s 2ms/step - loss: 0.2589 - accuracy: 0.9219 - val_loss: 0.1497 - val_accuracy: 0.9555\n",
      "Epoch 5/20\n",
      "1875/1875 [==============================] - 4s 2ms/step - loss: 0.2454 - accuracy: 0.9259 - val_loss: 0.1472 - val_accuracy: 0.9564\n",
      "Epoch 6/20\n",
      "1875/1875 [==============================] - 4s 2ms/step - loss: 0.2312 - accuracy: 0.9315 - val_loss: 0.1427 - val_accuracy: 0.9582\n",
      "Epoch 7/20\n",
      "1875/1875 [==============================] - 5s 2ms/step - loss: 0.2215 - accuracy: 0.9338 - val_loss: 0.1412 - val_accuracy: 0.9604\n",
      "Epoch 8/20\n",
      "1875/1875 [==============================] - 4s 2ms/step - loss: 0.2185 - accuracy: 0.9353 - val_loss: 0.1350 - val_accuracy: 0.9579\n",
      "Epoch 9/20\n",
      "1875/1875 [==============================] - 4s 2ms/step - loss: 0.2105 - accuracy: 0.9365 - val_loss: 0.1326 - val_accuracy: 0.9607\n",
      "Epoch 10/20\n",
      "1875/1875 [==============================] - 4s 2ms/step - loss: 0.2053 - accuracy: 0.9383 - val_loss: 0.1309 - val_accuracy: 0.9639\n",
      "Epoch 11/20\n",
      "1875/1875 [==============================] - 5s 3ms/step - loss: 0.1993 - accuracy: 0.9395 - val_loss: 0.1322 - val_accuracy: 0.9616\n",
      "Epoch 12/20\n",
      "1875/1875 [==============================] - 4s 2ms/step - loss: 0.1936 - accuracy: 0.9417 - val_loss: 0.1309 - val_accuracy: 0.9618\n",
      "Epoch 13/20\n",
      "1875/1875 [==============================] - 5s 3ms/step - loss: 0.1897 - accuracy: 0.9428 - val_loss: 0.1261 - val_accuracy: 0.9635\n",
      "Epoch 14/20\n",
      "1875/1875 [==============================] - 4s 2ms/step - loss: 0.1837 - accuracy: 0.9448 - val_loss: 0.1370 - val_accuracy: 0.9617\n",
      "Epoch 15/20\n",
      "1875/1875 [==============================] - 5s 3ms/step - loss: 0.1815 - accuracy: 0.9461 - val_loss: 0.1286 - val_accuracy: 0.9623\n",
      "Epoch 16/20\n",
      "1875/1875 [==============================] - 5s 3ms/step - loss: 0.1802 - accuracy: 0.9449 - val_loss: 0.1269 - val_accuracy: 0.9646\n",
      "Epoch 17/20\n",
      "1875/1875 [==============================] - 31274s 17s/step - loss: 0.1753 - accuracy: 0.9467 - val_loss: 0.1319 - val_accuracy: 0.9656\n",
      "Epoch 18/20\n",
      "1875/1875 [==============================] - 6s 3ms/step - loss: 0.1746 - accuracy: 0.9481 - val_loss: 0.1275 - val_accuracy: 0.9638\n",
      "Epoch 19/20\n",
      "1875/1875 [==============================] - 6s 3ms/step - loss: 0.1716 - accuracy: 0.9466 - val_loss: 0.1268 - val_accuracy: 0.9642\n",
      "Epoch 20/20\n",
      "1875/1875 [==============================] - 11s 6ms/step - loss: 0.1710 - accuracy: 0.9488 - val_loss: 0.1321 - val_accuracy: 0.9646\n"
     ]
    },
    {
     "name": "stderr",
     "output_type": "stream",
     "text": [
      "WARNING:absl:Found untraced functions such as _update_step_xla while saving (showing 1 of 1). These functions will not be directly callable after loading.\n"
     ]
    },
    {
     "name": "stdout",
     "output_type": "stream",
     "text": [
      "INFO:tensorflow:Assets written to: C:\\Users\\kauak\\AppData\\Local\\Temp\\tmpm1cea6sk\\model\\data\\model\\assets\n"
     ]
    },
    {
     "name": "stderr",
     "output_type": "stream",
     "text": [
      "INFO:tensorflow:Assets written to: C:\\Users\\kauak\\AppData\\Local\\Temp\\tmpm1cea6sk\\model\\data\\model\\assets\n",
      "2025/02/07 08:45:43 WARNING mlflow.utils.environment: Encountered an unexpected error while inferring pip requirements (model URI: C:\\Users\\kauak\\AppData\\Local\\Temp\\tmpm1cea6sk\\model, flavor: keras), fall back to return ['tensorflow==2.11.0', 'keras==2.11.0']. Set logging level to DEBUG to see the full traceback.\n"
     ]
    },
    {
     "name": "stdout",
     "output_type": "stream",
     "text": [
      "Modelo:  556fa8a8d3234df3948ab94acfba02d7\n"
     ]
    },
    {
     "name": "stderr",
     "output_type": "stream",
     "text": [
      "2025/02/07 08:46:03 WARNING mlflow.utils.autologging_utils: You are using an unsupported version of tensorflow. If you encounter errors during autologging, try upgrading / downgrading tensorflow to a supported version, or try upgrading MLflow.\n"
     ]
    },
    {
     "name": "stdout",
     "output_type": "stream",
     "text": [
      "Model: \"sequential_18\"\n",
      "_________________________________________________________________\n",
      " Layer (type)                Output Shape              Param #   \n",
      "=================================================================\n",
      " dense_54 (Dense)            (None, 32)                25120     \n",
      "                                                                 \n",
      " dropout_36 (Dropout)        (None, 32)                0         \n",
      "                                                                 \n",
      " dense_55 (Dense)            (None, 32)                1056      \n",
      "                                                                 \n",
      " dropout_37 (Dropout)        (None, 32)                0         \n",
      "                                                                 \n",
      " dense_56 (Dense)            (None, 10)                330       \n",
      "                                                                 \n",
      "=================================================================\n",
      "Total params: 26,506\n",
      "Trainable params: 26,506\n",
      "Non-trainable params: 0\n",
      "_________________________________________________________________\n",
      "Epoch 1/5\n",
      "   1/1875 [..............................] - ETA: 46:28 - loss: 2.2780 - accuracy: 0.2188WARNING:tensorflow:Callback method `on_train_batch_end` is slow compared to the batch time (batch time: 0.0020s vs `on_train_batch_end` time: 0.0883s). Check your callbacks.\n"
     ]
    },
    {
     "name": "stderr",
     "output_type": "stream",
     "text": [
      "WARNING:tensorflow:Callback method `on_train_batch_end` is slow compared to the batch time (batch time: 0.0020s vs `on_train_batch_end` time: 0.0883s). Check your callbacks.\n"
     ]
    },
    {
     "name": "stdout",
     "output_type": "stream",
     "text": [
      "1875/1875 [==============================] - 8s 3ms/step - loss: 0.3987 - accuracy: 0.8898 - val_loss: 0.2227 - val_accuracy: 0.9343\n",
      "Epoch 2/5\n",
      "1875/1875 [==============================] - 6s 3ms/step - loss: 0.2319 - accuracy: 0.9306 - val_loss: 0.1671 - val_accuracy: 0.9490\n",
      "Epoch 3/5\n",
      "1875/1875 [==============================] - 5s 3ms/step - loss: 0.1921 - accuracy: 0.9423 - val_loss: 0.1467 - val_accuracy: 0.9546\n",
      "Epoch 4/5\n",
      "1875/1875 [==============================] - 5s 2ms/step - loss: 0.1741 - accuracy: 0.9474 - val_loss: 0.1361 - val_accuracy: 0.9582\n",
      "Epoch 5/5\n",
      "1875/1875 [==============================] - 4s 2ms/step - loss: 0.1603 - accuracy: 0.9517 - val_loss: 0.1299 - val_accuracy: 0.9607\n"
     ]
    },
    {
     "name": "stderr",
     "output_type": "stream",
     "text": [
      "WARNING:absl:Found untraced functions such as _update_step_xla while saving (showing 1 of 1). These functions will not be directly callable after loading.\n"
     ]
    },
    {
     "name": "stdout",
     "output_type": "stream",
     "text": [
      "INFO:tensorflow:Assets written to: C:\\Users\\kauak\\AppData\\Local\\Temp\\tmpb7yk_ztg\\model\\data\\model\\assets\n"
     ]
    },
    {
     "name": "stderr",
     "output_type": "stream",
     "text": [
      "INFO:tensorflow:Assets written to: C:\\Users\\kauak\\AppData\\Local\\Temp\\tmpb7yk_ztg\\model\\data\\model\\assets\n",
      "2025/02/07 08:47:36 WARNING mlflow.utils.autologging_utils: You are using an unsupported version of tensorflow. If you encounter errors during autologging, try upgrading / downgrading tensorflow to a supported version, or try upgrading MLflow.\n"
     ]
    },
    {
     "name": "stdout",
     "output_type": "stream",
     "text": [
      "Modelo:  1c41fa49be8844cd82b3d33a4089d30b\n",
      "Model: \"sequential_19\"\n",
      "_________________________________________________________________\n",
      " Layer (type)                Output Shape              Param #   \n",
      "=================================================================\n",
      " dense_57 (Dense)            (None, 32)                25120     \n",
      "                                                                 \n",
      " dropout_38 (Dropout)        (None, 32)                0         \n",
      "                                                                 \n",
      " dense_58 (Dense)            (None, 32)                1056      \n",
      "                                                                 \n",
      " dropout_39 (Dropout)        (None, 32)                0         \n",
      "                                                                 \n",
      " dense_59 (Dense)            (None, 10)                330       \n",
      "                                                                 \n",
      "=================================================================\n",
      "Total params: 26,506\n",
      "Trainable params: 26,506\n",
      "Non-trainable params: 0\n",
      "_________________________________________________________________\n",
      "Epoch 1/10\n",
      "   1/1875 [..............................] - ETA: 28:06 - loss: 2.3530 - accuracy: 0.1250WARNING:tensorflow:Callback method `on_train_batch_end` is slow compared to the batch time (batch time: 0.0016s vs `on_train_batch_end` time: 0.0203s). Check your callbacks.\n"
     ]
    },
    {
     "name": "stderr",
     "output_type": "stream",
     "text": [
      "WARNING:tensorflow:Callback method `on_train_batch_end` is slow compared to the batch time (batch time: 0.0016s vs `on_train_batch_end` time: 0.0203s). Check your callbacks.\n"
     ]
    },
    {
     "name": "stdout",
     "output_type": "stream",
     "text": [
      "1875/1875 [==============================] - 6s 3ms/step - loss: 0.4042 - accuracy: 0.8859 - val_loss: 0.2192 - val_accuracy: 0.9370\n",
      "Epoch 2/10\n",
      "1875/1875 [==============================] - 5s 2ms/step - loss: 0.2363 - accuracy: 0.9308 - val_loss: 0.1742 - val_accuracy: 0.9487\n",
      "Epoch 3/10\n",
      "1875/1875 [==============================] - 5s 2ms/step - loss: 0.1995 - accuracy: 0.9402 - val_loss: 0.1618 - val_accuracy: 0.9538\n",
      "Epoch 4/10\n",
      "1875/1875 [==============================] - 4s 2ms/step - loss: 0.1791 - accuracy: 0.9453 - val_loss: 0.1455 - val_accuracy: 0.9576\n",
      "Epoch 5/10\n",
      "1875/1875 [==============================] - 4s 2ms/step - loss: 0.1661 - accuracy: 0.9494 - val_loss: 0.1340 - val_accuracy: 0.9606\n",
      "Epoch 6/10\n",
      "1875/1875 [==============================] - 4s 2ms/step - loss: 0.1557 - accuracy: 0.9528 - val_loss: 0.1315 - val_accuracy: 0.9606\n",
      "Epoch 7/10\n",
      "1875/1875 [==============================] - 4s 2ms/step - loss: 0.1471 - accuracy: 0.9546 - val_loss: 0.1239 - val_accuracy: 0.9628\n",
      "Epoch 8/10\n",
      "1875/1875 [==============================] - 4s 2ms/step - loss: 0.1386 - accuracy: 0.9571 - val_loss: 0.1279 - val_accuracy: 0.9621\n",
      "Epoch 9/10\n",
      "1875/1875 [==============================] - 4s 2ms/step - loss: 0.1338 - accuracy: 0.9585 - val_loss: 0.1167 - val_accuracy: 0.9653\n",
      "Epoch 10/10\n",
      "1875/1875 [==============================] - 4s 2ms/step - loss: 0.1298 - accuracy: 0.9599 - val_loss: 0.1204 - val_accuracy: 0.9650\n"
     ]
    },
    {
     "name": "stderr",
     "output_type": "stream",
     "text": [
      "WARNING:absl:Found untraced functions such as _update_step_xla while saving (showing 1 of 1). These functions will not be directly callable after loading.\n"
     ]
    },
    {
     "name": "stdout",
     "output_type": "stream",
     "text": [
      "INFO:tensorflow:Assets written to: C:\\Users\\kauak\\AppData\\Local\\Temp\\tmptd68fy4l\\model\\data\\model\\assets\n"
     ]
    },
    {
     "name": "stderr",
     "output_type": "stream",
     "text": [
      "INFO:tensorflow:Assets written to: C:\\Users\\kauak\\AppData\\Local\\Temp\\tmptd68fy4l\\model\\data\\model\\assets\n",
      "2025/02/07 08:48:30 WARNING mlflow.utils.autologging_utils: You are using an unsupported version of tensorflow. If you encounter errors during autologging, try upgrading / downgrading tensorflow to a supported version, or try upgrading MLflow.\n"
     ]
    },
    {
     "name": "stdout",
     "output_type": "stream",
     "text": [
      "Modelo:  ff24b8f644bc43fea0cd7b5f4a133822\n",
      "Model: \"sequential_20\"\n",
      "_________________________________________________________________\n",
      " Layer (type)                Output Shape              Param #   \n",
      "=================================================================\n",
      " dense_60 (Dense)            (None, 32)                25120     \n",
      "                                                                 \n",
      " dropout_40 (Dropout)        (None, 32)                0         \n",
      "                                                                 \n",
      " dense_61 (Dense)            (None, 32)                1056      \n",
      "                                                                 \n",
      " dropout_41 (Dropout)        (None, 32)                0         \n",
      "                                                                 \n",
      " dense_62 (Dense)            (None, 10)                330       \n",
      "                                                                 \n",
      "=================================================================\n",
      "Total params: 26,506\n",
      "Trainable params: 26,506\n",
      "Non-trainable params: 0\n",
      "_________________________________________________________________\n",
      "Epoch 1/20\n",
      "   1/1875 [..............................] - ETA: 30:57 - loss: 2.4568 - accuracy: 0.0312WARNING:tensorflow:Callback method `on_train_batch_end` is slow compared to the batch time (batch time: 0.0014s vs `on_train_batch_end` time: 0.0209s). Check your callbacks.\n"
     ]
    },
    {
     "name": "stderr",
     "output_type": "stream",
     "text": [
      "WARNING:tensorflow:Callback method `on_train_batch_end` is slow compared to the batch time (batch time: 0.0014s vs `on_train_batch_end` time: 0.0209s). Check your callbacks.\n"
     ]
    },
    {
     "name": "stdout",
     "output_type": "stream",
     "text": [
      "1875/1875 [==============================] - 6s 3ms/step - loss: 0.4082 - accuracy: 0.8864 - val_loss: 0.2371 - val_accuracy: 0.9306\n",
      "Epoch 2/20\n",
      "1875/1875 [==============================] - 4s 2ms/step - loss: 0.2265 - accuracy: 0.9332 - val_loss: 0.1689 - val_accuracy: 0.9508\n",
      "Epoch 3/20\n",
      "1875/1875 [==============================] - 4s 2ms/step - loss: 0.1920 - accuracy: 0.9425 - val_loss: 0.1477 - val_accuracy: 0.9550\n",
      "Epoch 4/20\n",
      "1875/1875 [==============================] - 4s 2ms/step - loss: 0.1707 - accuracy: 0.9487 - val_loss: 0.1326 - val_accuracy: 0.9611\n",
      "Epoch 5/20\n",
      "1875/1875 [==============================] - 4s 2ms/step - loss: 0.1584 - accuracy: 0.9519 - val_loss: 0.1286 - val_accuracy: 0.9606\n",
      "Epoch 6/20\n",
      "1875/1875 [==============================] - 6s 3ms/step - loss: 0.1488 - accuracy: 0.9533 - val_loss: 0.1242 - val_accuracy: 0.9631\n",
      "Epoch 7/20\n",
      "1875/1875 [==============================] - 4s 2ms/step - loss: 0.1406 - accuracy: 0.9567 - val_loss: 0.1216 - val_accuracy: 0.9635\n",
      "Epoch 8/20\n",
      "1875/1875 [==============================] - 4s 2ms/step - loss: 0.1338 - accuracy: 0.9593 - val_loss: 0.1180 - val_accuracy: 0.9642\n",
      "Epoch 9/20\n",
      "1875/1875 [==============================] - 4s 2ms/step - loss: 0.1317 - accuracy: 0.9590 - val_loss: 0.1216 - val_accuracy: 0.9630\n",
      "Epoch 10/20\n",
      "1875/1875 [==============================] - 4s 2ms/step - loss: 0.1248 - accuracy: 0.9613 - val_loss: 0.1201 - val_accuracy: 0.9627\n",
      "Epoch 11/20\n",
      "1875/1875 [==============================] - 4s 2ms/step - loss: 0.1197 - accuracy: 0.9628 - val_loss: 0.1225 - val_accuracy: 0.9647\n",
      "Epoch 12/20\n",
      "1875/1875 [==============================] - 4s 2ms/step - loss: 0.1178 - accuracy: 0.9628 - val_loss: 0.1156 - val_accuracy: 0.9658\n",
      "Epoch 13/20\n",
      "1875/1875 [==============================] - 5s 3ms/step - loss: 0.1157 - accuracy: 0.9639 - val_loss: 0.1153 - val_accuracy: 0.9658\n",
      "Epoch 14/20\n",
      "1875/1875 [==============================] - 4s 2ms/step - loss: 0.1147 - accuracy: 0.9646 - val_loss: 0.1258 - val_accuracy: 0.9620\n",
      "Epoch 15/20\n",
      "1875/1875 [==============================] - 5s 3ms/step - loss: 0.1057 - accuracy: 0.9660 - val_loss: 0.1121 - val_accuracy: 0.9670\n",
      "Epoch 16/20\n",
      "1875/1875 [==============================] - 5s 3ms/step - loss: 0.1054 - accuracy: 0.9664 - val_loss: 0.1173 - val_accuracy: 0.9667\n",
      "Epoch 17/20\n",
      "1875/1875 [==============================] - 5s 3ms/step - loss: 0.1051 - accuracy: 0.9671 - val_loss: 0.1149 - val_accuracy: 0.9657\n",
      "Epoch 18/20\n",
      "1875/1875 [==============================] - 4s 2ms/step - loss: 0.1028 - accuracy: 0.9677 - val_loss: 0.1166 - val_accuracy: 0.9660\n",
      "Epoch 19/20\n",
      "1875/1875 [==============================] - 4s 2ms/step - loss: 0.1009 - accuracy: 0.9679 - val_loss: 0.1107 - val_accuracy: 0.9690\n",
      "Epoch 20/20\n",
      "1875/1875 [==============================] - 4s 2ms/step - loss: 0.1004 - accuracy: 0.9681 - val_loss: 0.1118 - val_accuracy: 0.9681\n"
     ]
    },
    {
     "name": "stderr",
     "output_type": "stream",
     "text": [
      "WARNING:absl:Found untraced functions such as _update_step_xla while saving (showing 1 of 1). These functions will not be directly callable after loading.\n"
     ]
    },
    {
     "name": "stdout",
     "output_type": "stream",
     "text": [
      "INFO:tensorflow:Assets written to: C:\\Users\\kauak\\AppData\\Local\\Temp\\tmppzh1z5ce\\model\\data\\model\\assets\n"
     ]
    },
    {
     "name": "stderr",
     "output_type": "stream",
     "text": [
      "INFO:tensorflow:Assets written to: C:\\Users\\kauak\\AppData\\Local\\Temp\\tmppzh1z5ce\\model\\data\\model\\assets\n",
      "2025/02/07 08:50:15 WARNING mlflow.utils.autologging_utils: You are using an unsupported version of tensorflow. If you encounter errors during autologging, try upgrading / downgrading tensorflow to a supported version, or try upgrading MLflow.\n"
     ]
    },
    {
     "name": "stdout",
     "output_type": "stream",
     "text": [
      "Modelo:  22f79527cddf4c08932a1165970c3359\n",
      "Model: \"sequential_21\"\n",
      "_________________________________________________________________\n",
      " Layer (type)                Output Shape              Param #   \n",
      "=================================================================\n",
      " dense_63 (Dense)            (None, 32)                25120     \n",
      "                                                                 \n",
      " dropout_42 (Dropout)        (None, 32)                0         \n",
      "                                                                 \n",
      " dense_64 (Dense)            (None, 32)                1056      \n",
      "                                                                 \n",
      " dropout_43 (Dropout)        (None, 32)                0         \n",
      "                                                                 \n",
      " dense_65 (Dense)            (None, 10)                330       \n",
      "                                                                 \n",
      "=================================================================\n",
      "Total params: 26,506\n",
      "Trainable params: 26,506\n",
      "Non-trainable params: 0\n",
      "_________________________________________________________________\n",
      "Epoch 1/5\n",
      "   1/1875 [..............................] - ETA: 45:35 - loss: 2.4360 - accuracy: 0.0312WARNING:tensorflow:Callback method `on_train_batch_end` is slow compared to the batch time (batch time: 0.0015s vs `on_train_batch_end` time: 0.1198s). Check your callbacks.\n"
     ]
    },
    {
     "name": "stderr",
     "output_type": "stream",
     "text": [
      "WARNING:tensorflow:Callback method `on_train_batch_end` is slow compared to the batch time (batch time: 0.0015s vs `on_train_batch_end` time: 0.1198s). Check your callbacks.\n"
     ]
    },
    {
     "name": "stdout",
     "output_type": "stream",
     "text": [
      "1875/1875 [==============================] - 7s 3ms/step - loss: 0.4785 - accuracy: 0.8646 - val_loss: 0.2473 - val_accuracy: 0.9275\n",
      "Epoch 2/5\n",
      "1875/1875 [==============================] - 4s 2ms/step - loss: 0.3011 - accuracy: 0.9110 - val_loss: 0.2133 - val_accuracy: 0.9370\n",
      "Epoch 3/5\n",
      "1875/1875 [==============================] - 4s 2ms/step - loss: 0.2671 - accuracy: 0.9212 - val_loss: 0.1863 - val_accuracy: 0.9442\n",
      "Epoch 4/5\n",
      "1875/1875 [==============================] - 4s 2ms/step - loss: 0.2439 - accuracy: 0.9270 - val_loss: 0.1672 - val_accuracy: 0.9498\n",
      "Epoch 5/5\n",
      "1875/1875 [==============================] - 4s 2ms/step - loss: 0.2297 - accuracy: 0.9310 - val_loss: 0.1624 - val_accuracy: 0.9521\n"
     ]
    },
    {
     "name": "stderr",
     "output_type": "stream",
     "text": [
      "WARNING:absl:Found untraced functions such as _update_step_xla while saving (showing 1 of 1). These functions will not be directly callable after loading.\n"
     ]
    },
    {
     "name": "stdout",
     "output_type": "stream",
     "text": [
      "INFO:tensorflow:Assets written to: C:\\Users\\kauak\\AppData\\Local\\Temp\\tmp14d8_c0d\\model\\data\\model\\assets\n"
     ]
    },
    {
     "name": "stderr",
     "output_type": "stream",
     "text": [
      "INFO:tensorflow:Assets written to: C:\\Users\\kauak\\AppData\\Local\\Temp\\tmp14d8_c0d\\model\\data\\model\\assets\n",
      "2025/02/07 08:50:53 WARNING mlflow.utils.autologging_utils: You are using an unsupported version of tensorflow. If you encounter errors during autologging, try upgrading / downgrading tensorflow to a supported version, or try upgrading MLflow.\n"
     ]
    },
    {
     "name": "stdout",
     "output_type": "stream",
     "text": [
      "Modelo:  94dce94ab50d47cb9f806a810dc436e5\n",
      "Model: \"sequential_22\"\n",
      "_________________________________________________________________\n",
      " Layer (type)                Output Shape              Param #   \n",
      "=================================================================\n",
      " dense_66 (Dense)            (None, 32)                25120     \n",
      "                                                                 \n",
      " dropout_44 (Dropout)        (None, 32)                0         \n",
      "                                                                 \n",
      " dense_67 (Dense)            (None, 32)                1056      \n",
      "                                                                 \n",
      " dropout_45 (Dropout)        (None, 32)                0         \n",
      "                                                                 \n",
      " dense_68 (Dense)            (None, 10)                330       \n",
      "                                                                 \n",
      "=================================================================\n",
      "Total params: 26,506\n",
      "Trainable params: 26,506\n",
      "Non-trainable params: 0\n",
      "_________________________________________________________________\n",
      "Epoch 1/10\n",
      "   1/1875 [..............................] - ETA: 39:08 - loss: 2.3798 - accuracy: 0.0938WARNING:tensorflow:Callback method `on_train_batch_end` is slow compared to the batch time (batch time: 0.0021s vs `on_train_batch_end` time: 0.0723s). Check your callbacks.\n"
     ]
    },
    {
     "name": "stderr",
     "output_type": "stream",
     "text": [
      "WARNING:tensorflow:Callback method `on_train_batch_end` is slow compared to the batch time (batch time: 0.0021s vs `on_train_batch_end` time: 0.0723s). Check your callbacks.\n"
     ]
    },
    {
     "name": "stdout",
     "output_type": "stream",
     "text": [
      "1875/1875 [==============================] - 6s 3ms/step - loss: 0.4642 - accuracy: 0.8688 - val_loss: 0.2457 - val_accuracy: 0.9282\n",
      "Epoch 2/10\n",
      "1875/1875 [==============================] - 5s 3ms/step - loss: 0.3020 - accuracy: 0.9104 - val_loss: 0.2000 - val_accuracy: 0.9415\n",
      "Epoch 3/10\n",
      "1875/1875 [==============================] - 4s 2ms/step - loss: 0.2667 - accuracy: 0.9210 - val_loss: 0.1818 - val_accuracy: 0.9451\n",
      "Epoch 4/10\n",
      "1875/1875 [==============================] - 4s 2ms/step - loss: 0.2421 - accuracy: 0.9294 - val_loss: 0.1752 - val_accuracy: 0.9471\n",
      "Epoch 5/10\n",
      "1875/1875 [==============================] - 6s 3ms/step - loss: 0.2288 - accuracy: 0.9328 - val_loss: 0.1546 - val_accuracy: 0.9537\n",
      "Epoch 6/10\n",
      "1875/1875 [==============================] - 5s 2ms/step - loss: 0.2166 - accuracy: 0.9362 - val_loss: 0.1574 - val_accuracy: 0.9514\n",
      "Epoch 7/10\n",
      "1875/1875 [==============================] - 4s 2ms/step - loss: 0.2095 - accuracy: 0.9368 - val_loss: 0.1467 - val_accuracy: 0.9557\n",
      "Epoch 8/10\n",
      "1875/1875 [==============================] - 4s 2ms/step - loss: 0.2006 - accuracy: 0.9395 - val_loss: 0.1452 - val_accuracy: 0.9562\n",
      "Epoch 9/10\n",
      "1875/1875 [==============================] - 5s 2ms/step - loss: 0.1911 - accuracy: 0.9416 - val_loss: 0.1422 - val_accuracy: 0.9568\n",
      "Epoch 10/10\n",
      "1875/1875 [==============================] - 5s 3ms/step - loss: 0.1881 - accuracy: 0.9444 - val_loss: 0.1361 - val_accuracy: 0.9599\n"
     ]
    },
    {
     "name": "stderr",
     "output_type": "stream",
     "text": [
      "WARNING:absl:Found untraced functions such as _update_step_xla while saving (showing 1 of 1). These functions will not be directly callable after loading.\n"
     ]
    },
    {
     "name": "stdout",
     "output_type": "stream",
     "text": [
      "INFO:tensorflow:Assets written to: C:\\Users\\kauak\\AppData\\Local\\Temp\\tmpa7521ody\\model\\data\\model\\assets\n"
     ]
    },
    {
     "name": "stderr",
     "output_type": "stream",
     "text": [
      "INFO:tensorflow:Assets written to: C:\\Users\\kauak\\AppData\\Local\\Temp\\tmpa7521ody\\model\\data\\model\\assets\n",
      "2025/02/07 08:52:35 WARNING mlflow.utils.autologging_utils: You are using an unsupported version of tensorflow. If you encounter errors during autologging, try upgrading / downgrading tensorflow to a supported version, or try upgrading MLflow.\n"
     ]
    },
    {
     "name": "stdout",
     "output_type": "stream",
     "text": [
      "Modelo:  b181fec0463241e882050b86e0a94390\n",
      "Model: \"sequential_23\"\n",
      "_________________________________________________________________\n",
      " Layer (type)                Output Shape              Param #   \n",
      "=================================================================\n",
      " dense_69 (Dense)            (None, 32)                25120     \n",
      "                                                                 \n",
      " dropout_46 (Dropout)        (None, 32)                0         \n",
      "                                                                 \n",
      " dense_70 (Dense)            (None, 32)                1056      \n",
      "                                                                 \n",
      " dropout_47 (Dropout)        (None, 32)                0         \n",
      "                                                                 \n",
      " dense_71 (Dense)            (None, 10)                330       \n",
      "                                                                 \n",
      "=================================================================\n",
      "Total params: 26,506\n",
      "Trainable params: 26,506\n",
      "Non-trainable params: 0\n",
      "_________________________________________________________________\n",
      "Epoch 1/20\n",
      "   1/1875 [..............................] - ETA: 39:39 - loss: 2.3749 - accuracy: 0.0938WARNING:tensorflow:Callback method `on_train_batch_end` is slow compared to the batch time (batch time: 0.0016s vs `on_train_batch_end` time: 0.0488s). Check your callbacks.\n"
     ]
    },
    {
     "name": "stderr",
     "output_type": "stream",
     "text": [
      "WARNING:tensorflow:Callback method `on_train_batch_end` is slow compared to the batch time (batch time: 0.0016s vs `on_train_batch_end` time: 0.0488s). Check your callbacks.\n"
     ]
    },
    {
     "name": "stdout",
     "output_type": "stream",
     "text": [
      "1875/1875 [==============================] - 7s 3ms/step - loss: 0.4745 - accuracy: 0.8657 - val_loss: 0.2463 - val_accuracy: 0.9283\n",
      "Epoch 2/20\n",
      "1875/1875 [==============================] - 6s 3ms/step - loss: 0.3003 - accuracy: 0.9125 - val_loss: 0.2108 - val_accuracy: 0.9384\n",
      "Epoch 3/20\n",
      "1875/1875 [==============================] - 5s 2ms/step - loss: 0.2647 - accuracy: 0.9222 - val_loss: 0.1880 - val_accuracy: 0.9454\n",
      "Epoch 4/20\n",
      "1875/1875 [==============================] - 5s 2ms/step - loss: 0.2427 - accuracy: 0.9286 - val_loss: 0.1676 - val_accuracy: 0.9506\n",
      "Epoch 5/20\n",
      "1875/1875 [==============================] - 4s 2ms/step - loss: 0.2283 - accuracy: 0.9329 - val_loss: 0.1596 - val_accuracy: 0.9530\n",
      "Epoch 6/20\n",
      "1875/1875 [==============================] - 4s 2ms/step - loss: 0.2174 - accuracy: 0.9358 - val_loss: 0.1487 - val_accuracy: 0.9565\n",
      "Epoch 7/20\n",
      "1875/1875 [==============================] - 4s 2ms/step - loss: 0.2081 - accuracy: 0.9383 - val_loss: 0.1486 - val_accuracy: 0.9566\n",
      "Epoch 8/20\n",
      "1875/1875 [==============================] - 4s 2ms/step - loss: 0.2039 - accuracy: 0.9391 - val_loss: 0.1476 - val_accuracy: 0.9566\n",
      "Epoch 9/20\n",
      "1875/1875 [==============================] - 4s 2ms/step - loss: 0.1958 - accuracy: 0.9416 - val_loss: 0.1448 - val_accuracy: 0.9574\n",
      "Epoch 10/20\n",
      "1875/1875 [==============================] - 4s 2ms/step - loss: 0.1901 - accuracy: 0.9437 - val_loss: 0.1408 - val_accuracy: 0.9570\n",
      "Epoch 11/20\n",
      "1875/1875 [==============================] - 4s 2ms/step - loss: 0.1889 - accuracy: 0.9435 - val_loss: 0.1424 - val_accuracy: 0.9567\n",
      "Epoch 12/20\n",
      "1875/1875 [==============================] - 4s 2ms/step - loss: 0.1850 - accuracy: 0.9436 - val_loss: 0.1362 - val_accuracy: 0.9594\n",
      "Epoch 13/20\n",
      "1875/1875 [==============================] - 5s 3ms/step - loss: 0.1804 - accuracy: 0.9455 - val_loss: 0.1348 - val_accuracy: 0.9605\n",
      "Epoch 14/20\n",
      "1875/1875 [==============================] - 4s 2ms/step - loss: 0.1781 - accuracy: 0.9464 - val_loss: 0.1331 - val_accuracy: 0.9625\n",
      "Epoch 15/20\n",
      "1875/1875 [==============================] - 4s 2ms/step - loss: 0.1754 - accuracy: 0.9472 - val_loss: 0.1302 - val_accuracy: 0.9619\n",
      "Epoch 16/20\n",
      "1875/1875 [==============================] - 4s 2ms/step - loss: 0.1718 - accuracy: 0.9483 - val_loss: 0.1323 - val_accuracy: 0.9615\n",
      "Epoch 17/20\n",
      "1875/1875 [==============================] - 4s 2ms/step - loss: 0.1694 - accuracy: 0.9482 - val_loss: 0.1318 - val_accuracy: 0.9605\n",
      "Epoch 18/20\n",
      "1875/1875 [==============================] - 4s 2ms/step - loss: 0.1686 - accuracy: 0.9485 - val_loss: 0.1305 - val_accuracy: 0.9602\n",
      "Epoch 19/20\n",
      "1875/1875 [==============================] - 4s 2ms/step - loss: 0.1630 - accuracy: 0.9511 - val_loss: 0.1309 - val_accuracy: 0.9618\n",
      "Epoch 20/20\n",
      "1875/1875 [==============================] - 4s 2ms/step - loss: 0.1653 - accuracy: 0.9497 - val_loss: 0.1304 - val_accuracy: 0.9616\n"
     ]
    },
    {
     "name": "stderr",
     "output_type": "stream",
     "text": [
      "WARNING:absl:Found untraced functions such as _update_step_xla while saving (showing 1 of 1). These functions will not be directly callable after loading.\n"
     ]
    },
    {
     "name": "stdout",
     "output_type": "stream",
     "text": [
      "INFO:tensorflow:Assets written to: C:\\Users\\kauak\\AppData\\Local\\Temp\\tmpk23p6e61\\model\\data\\model\\assets\n"
     ]
    },
    {
     "name": "stderr",
     "output_type": "stream",
     "text": [
      "INFO:tensorflow:Assets written to: C:\\Users\\kauak\\AppData\\Local\\Temp\\tmpk23p6e61\\model\\data\\model\\assets\n",
      "2025/02/07 08:55:38 WARNING mlflow.utils.autologging_utils: You are using an unsupported version of tensorflow. If you encounter errors during autologging, try upgrading / downgrading tensorflow to a supported version, or try upgrading MLflow.\n"
     ]
    },
    {
     "name": "stdout",
     "output_type": "stream",
     "text": [
      "Modelo:  98ae903cd9ce43ed9677c8e328bd1475\n",
      "Model: \"sequential_24\"\n",
      "_________________________________________________________________\n",
      " Layer (type)                Output Shape              Param #   \n",
      "=================================================================\n",
      " dense_72 (Dense)            (None, 64)                50240     \n",
      "                                                                 \n",
      " dropout_48 (Dropout)        (None, 64)                0         \n",
      "                                                                 \n",
      " dense_73 (Dense)            (None, 64)                4160      \n",
      "                                                                 \n",
      " dropout_49 (Dropout)        (None, 64)                0         \n",
      "                                                                 \n",
      " dense_74 (Dense)            (None, 10)                650       \n",
      "                                                                 \n",
      "=================================================================\n",
      "Total params: 55,050\n",
      "Trainable params: 55,050\n",
      "Non-trainable params: 0\n",
      "_________________________________________________________________\n",
      "Epoch 1/5\n",
      "   1/1875 [..............................] - ETA: 27:09 - loss: 2.3367 - accuracy: 0.0625WARNING:tensorflow:Callback method `on_train_batch_end` is slow compared to the batch time (batch time: 0.0022s vs `on_train_batch_end` time: 0.0236s). Check your callbacks.\n"
     ]
    },
    {
     "name": "stderr",
     "output_type": "stream",
     "text": [
      "WARNING:tensorflow:Callback method `on_train_batch_end` is slow compared to the batch time (batch time: 0.0022s vs `on_train_batch_end` time: 0.0236s). Check your callbacks.\n"
     ]
    },
    {
     "name": "stdout",
     "output_type": "stream",
     "text": [
      "1875/1875 [==============================] - 6s 3ms/step - loss: 0.3329 - accuracy: 0.8999 - val_loss: 0.1466 - val_accuracy: 0.9555\n",
      "Epoch 2/5\n",
      "1875/1875 [==============================] - 4s 2ms/step - loss: 0.1616 - accuracy: 0.9514 - val_loss: 0.1135 - val_accuracy: 0.9638\n",
      "Epoch 3/5\n",
      "1875/1875 [==============================] - 4s 2ms/step - loss: 0.1298 - accuracy: 0.9602 - val_loss: 0.0936 - val_accuracy: 0.9721\n",
      "Epoch 4/5\n",
      "1875/1875 [==============================] - 4s 2ms/step - loss: 0.1107 - accuracy: 0.9656 - val_loss: 0.0898 - val_accuracy: 0.9730\n",
      "Epoch 5/5\n",
      "1875/1875 [==============================] - 4s 2ms/step - loss: 0.0955 - accuracy: 0.9704 - val_loss: 0.0883 - val_accuracy: 0.9730\n"
     ]
    },
    {
     "name": "stderr",
     "output_type": "stream",
     "text": [
      "WARNING:absl:Found untraced functions such as _update_step_xla while saving (showing 1 of 1). These functions will not be directly callable after loading.\n"
     ]
    },
    {
     "name": "stdout",
     "output_type": "stream",
     "text": [
      "INFO:tensorflow:Assets written to: C:\\Users\\kauak\\AppData\\Local\\Temp\\tmprasq897e\\model\\data\\model\\assets\n"
     ]
    },
    {
     "name": "stderr",
     "output_type": "stream",
     "text": [
      "INFO:tensorflow:Assets written to: C:\\Users\\kauak\\AppData\\Local\\Temp\\tmprasq897e\\model\\data\\model\\assets\n",
      "2025/02/07 08:56:09 WARNING mlflow.utils.autologging_utils: You are using an unsupported version of tensorflow. If you encounter errors during autologging, try upgrading / downgrading tensorflow to a supported version, or try upgrading MLflow.\n"
     ]
    },
    {
     "name": "stdout",
     "output_type": "stream",
     "text": [
      "Modelo:  2a5cf75264a1420888b685c12f8cc846\n",
      "Model: \"sequential_25\"\n",
      "_________________________________________________________________\n",
      " Layer (type)                Output Shape              Param #   \n",
      "=================================================================\n",
      " dense_75 (Dense)            (None, 64)                50240     \n",
      "                                                                 \n",
      " dropout_50 (Dropout)        (None, 64)                0         \n",
      "                                                                 \n",
      " dense_76 (Dense)            (None, 64)                4160      \n",
      "                                                                 \n",
      " dropout_51 (Dropout)        (None, 64)                0         \n",
      "                                                                 \n",
      " dense_77 (Dense)            (None, 10)                650       \n",
      "                                                                 \n",
      "=================================================================\n",
      "Total params: 55,050\n",
      "Trainable params: 55,050\n",
      "Non-trainable params: 0\n",
      "_________________________________________________________________\n",
      "Epoch 1/10\n",
      "   1/1875 [..............................] - ETA: 27:16 - loss: 2.4106 - accuracy: 0.0000e+00WARNING:tensorflow:Callback method `on_train_batch_end` is slow compared to the batch time (batch time: 0.0022s vs `on_train_batch_end` time: 0.0241s). Check your callbacks.\n"
     ]
    },
    {
     "name": "stderr",
     "output_type": "stream",
     "text": [
      "WARNING:tensorflow:Callback method `on_train_batch_end` is slow compared to the batch time (batch time: 0.0022s vs `on_train_batch_end` time: 0.0241s). Check your callbacks.\n"
     ]
    },
    {
     "name": "stdout",
     "output_type": "stream",
     "text": [
      "1875/1875 [==============================] - 6s 3ms/step - loss: 0.3460 - accuracy: 0.8977 - val_loss: 0.1676 - val_accuracy: 0.9511\n",
      "Epoch 2/10\n",
      "1875/1875 [==============================] - 5s 2ms/step - loss: 0.1679 - accuracy: 0.9498 - val_loss: 0.1240 - val_accuracy: 0.9616\n",
      "Epoch 3/10\n",
      "1875/1875 [==============================] - 4s 2ms/step - loss: 0.1318 - accuracy: 0.9594 - val_loss: 0.0980 - val_accuracy: 0.9712\n",
      "Epoch 4/10\n",
      "1875/1875 [==============================] - 6s 3ms/step - loss: 0.1117 - accuracy: 0.9654 - val_loss: 0.0919 - val_accuracy: 0.9718\n",
      "Epoch 5/10\n",
      "1875/1875 [==============================] - 5s 3ms/step - loss: 0.0949 - accuracy: 0.9702 - val_loss: 0.0885 - val_accuracy: 0.9735\n",
      "Epoch 6/10\n",
      "1875/1875 [==============================] - 5s 3ms/step - loss: 0.0862 - accuracy: 0.9726 - val_loss: 0.0861 - val_accuracy: 0.9743\n",
      "Epoch 7/10\n",
      "1875/1875 [==============================] - 5s 2ms/step - loss: 0.0774 - accuracy: 0.9752 - val_loss: 0.0987 - val_accuracy: 0.9706\n",
      "Epoch 8/10\n",
      "1875/1875 [==============================] - 5s 3ms/step - loss: 0.0741 - accuracy: 0.9767 - val_loss: 0.0793 - val_accuracy: 0.9768\n",
      "Epoch 9/10\n",
      "1875/1875 [==============================] - 5s 2ms/step - loss: 0.0667 - accuracy: 0.9782 - val_loss: 0.0854 - val_accuracy: 0.9752\n",
      "Epoch 10/10\n",
      "1875/1875 [==============================] - 5s 2ms/step - loss: 0.0639 - accuracy: 0.9793 - val_loss: 0.0816 - val_accuracy: 0.9752\n"
     ]
    },
    {
     "name": "stderr",
     "output_type": "stream",
     "text": [
      "WARNING:absl:Found untraced functions such as _update_step_xla while saving (showing 1 of 1). These functions will not be directly callable after loading.\n"
     ]
    },
    {
     "name": "stdout",
     "output_type": "stream",
     "text": [
      "INFO:tensorflow:Assets written to: C:\\Users\\kauak\\AppData\\Local\\Temp\\tmp3grqwe6i\\model\\data\\model\\assets\n"
     ]
    },
    {
     "name": "stderr",
     "output_type": "stream",
     "text": [
      "INFO:tensorflow:Assets written to: C:\\Users\\kauak\\AppData\\Local\\Temp\\tmp3grqwe6i\\model\\data\\model\\assets\n",
      "2025/02/07 08:57:42 WARNING mlflow.utils.autologging_utils: You are using an unsupported version of tensorflow. If you encounter errors during autologging, try upgrading / downgrading tensorflow to a supported version, or try upgrading MLflow.\n"
     ]
    },
    {
     "name": "stdout",
     "output_type": "stream",
     "text": [
      "Modelo:  56c0805791cc47358ef7d49c5fe821da\n",
      "Model: \"sequential_26\"\n",
      "_________________________________________________________________\n",
      " Layer (type)                Output Shape              Param #   \n",
      "=================================================================\n",
      " dense_78 (Dense)            (None, 64)                50240     \n",
      "                                                                 \n",
      " dropout_52 (Dropout)        (None, 64)                0         \n",
      "                                                                 \n",
      " dense_79 (Dense)            (None, 64)                4160      \n",
      "                                                                 \n",
      " dropout_53 (Dropout)        (None, 64)                0         \n",
      "                                                                 \n",
      " dense_80 (Dense)            (None, 10)                650       \n",
      "                                                                 \n",
      "=================================================================\n",
      "Total params: 55,050\n",
      "Trainable params: 55,050\n",
      "Non-trainable params: 0\n",
      "_________________________________________________________________\n",
      "Epoch 1/20\n",
      "   1/1875 [..............................] - ETA: 24:31 - loss: 2.2665 - accuracy: 0.2500WARNING:tensorflow:Callback method `on_train_batch_end` is slow compared to the batch time (batch time: 0.0020s vs `on_train_batch_end` time: 0.0094s). Check your callbacks.\n"
     ]
    },
    {
     "name": "stderr",
     "output_type": "stream",
     "text": [
      "WARNING:tensorflow:Callback method `on_train_batch_end` is slow compared to the batch time (batch time: 0.0020s vs `on_train_batch_end` time: 0.0094s). Check your callbacks.\n"
     ]
    },
    {
     "name": "stdout",
     "output_type": "stream",
     "text": [
      "1875/1875 [==============================] - 6s 3ms/step - loss: 0.3320 - accuracy: 0.9007 - val_loss: 0.1482 - val_accuracy: 0.9546\n",
      "Epoch 2/20\n",
      "1875/1875 [==============================] - 4s 2ms/step - loss: 0.1619 - accuracy: 0.9506 - val_loss: 0.1049 - val_accuracy: 0.9681\n",
      "Epoch 3/20\n",
      "1875/1875 [==============================] - 4s 2ms/step - loss: 0.1267 - accuracy: 0.9619 - val_loss: 0.1034 - val_accuracy: 0.9677\n",
      "Epoch 4/20\n",
      "1875/1875 [==============================] - 4s 2ms/step - loss: 0.1081 - accuracy: 0.9665 - val_loss: 0.0844 - val_accuracy: 0.9740\n",
      "Epoch 5/20\n",
      "1875/1875 [==============================] - 4s 2ms/step - loss: 0.0920 - accuracy: 0.9709 - val_loss: 0.0772 - val_accuracy: 0.9743\n",
      "Epoch 6/20\n",
      "1875/1875 [==============================] - 4s 2ms/step - loss: 0.0847 - accuracy: 0.9729 - val_loss: 0.0803 - val_accuracy: 0.9754\n",
      "Epoch 7/20\n",
      "1875/1875 [==============================] - 4s 2ms/step - loss: 0.0773 - accuracy: 0.9752 - val_loss: 0.0827 - val_accuracy: 0.9762\n",
      "Epoch 8/20\n",
      "1875/1875 [==============================] - 4s 2ms/step - loss: 0.0720 - accuracy: 0.9767 - val_loss: 0.0830 - val_accuracy: 0.9752\n",
      "Epoch 9/20\n",
      "1875/1875 [==============================] - 4s 2ms/step - loss: 0.0688 - accuracy: 0.9765 - val_loss: 0.0738 - val_accuracy: 0.9773\n",
      "Epoch 10/20\n",
      "1875/1875 [==============================] - 5s 3ms/step - loss: 0.0637 - accuracy: 0.9790 - val_loss: 0.0773 - val_accuracy: 0.9779\n",
      "Epoch 11/20\n",
      "1875/1875 [==============================] - 5s 3ms/step - loss: 0.0607 - accuracy: 0.9801 - val_loss: 0.0812 - val_accuracy: 0.9766\n",
      "Epoch 12/20\n",
      "1875/1875 [==============================] - 5s 3ms/step - loss: 0.0598 - accuracy: 0.9804 - val_loss: 0.0821 - val_accuracy: 0.9775\n",
      "Epoch 13/20\n",
      "1875/1875 [==============================] - 5s 2ms/step - loss: 0.0546 - accuracy: 0.9823 - val_loss: 0.0804 - val_accuracy: 0.9775\n",
      "Epoch 14/20\n",
      "1875/1875 [==============================] - 5s 3ms/step - loss: 0.0533 - accuracy: 0.9826 - val_loss: 0.0759 - val_accuracy: 0.9787\n",
      "Epoch 15/20\n",
      "1875/1875 [==============================] - 5s 2ms/step - loss: 0.0498 - accuracy: 0.9838 - val_loss: 0.0884 - val_accuracy: 0.9760\n",
      "Epoch 16/20\n",
      "1875/1875 [==============================] - 5s 3ms/step - loss: 0.0464 - accuracy: 0.9846 - val_loss: 0.0863 - val_accuracy: 0.9799\n",
      "Epoch 17/20\n",
      "1875/1875 [==============================] - 5s 3ms/step - loss: 0.0473 - accuracy: 0.9849 - val_loss: 0.0798 - val_accuracy: 0.9797\n",
      "Epoch 18/20\n",
      "1875/1875 [==============================] - 5s 2ms/step - loss: 0.0444 - accuracy: 0.9854 - val_loss: 0.0776 - val_accuracy: 0.9789\n",
      "Epoch 19/20\n",
      "1875/1875 [==============================] - 5s 3ms/step - loss: 0.0454 - accuracy: 0.9857 - val_loss: 0.0763 - val_accuracy: 0.9796\n",
      "Epoch 20/20\n",
      "1875/1875 [==============================] - 5s 3ms/step - loss: 0.0437 - accuracy: 0.9855 - val_loss: 0.0860 - val_accuracy: 0.9786\n"
     ]
    },
    {
     "name": "stderr",
     "output_type": "stream",
     "text": [
      "WARNING:absl:Found untraced functions such as _update_step_xla while saving (showing 1 of 1). These functions will not be directly callable after loading.\n"
     ]
    },
    {
     "name": "stdout",
     "output_type": "stream",
     "text": [
      "INFO:tensorflow:Assets written to: C:\\Users\\kauak\\AppData\\Local\\Temp\\tmpvnk8fj_v\\model\\data\\model\\assets\n"
     ]
    },
    {
     "name": "stderr",
     "output_type": "stream",
     "text": [
      "INFO:tensorflow:Assets written to: C:\\Users\\kauak\\AppData\\Local\\Temp\\tmpvnk8fj_v\\model\\data\\model\\assets\n",
      "2025/02/07 09:00:13 WARNING mlflow.utils.autologging_utils: You are using an unsupported version of tensorflow. If you encounter errors during autologging, try upgrading / downgrading tensorflow to a supported version, or try upgrading MLflow.\n"
     ]
    },
    {
     "name": "stdout",
     "output_type": "stream",
     "text": [
      "Modelo:  386165437ece4b5d8fa4c8ced0d27e0c\n",
      "Model: \"sequential_27\"\n",
      "_________________________________________________________________\n",
      " Layer (type)                Output Shape              Param #   \n",
      "=================================================================\n",
      " dense_81 (Dense)            (None, 64)                50240     \n",
      "                                                                 \n",
      " dropout_54 (Dropout)        (None, 64)                0         \n",
      "                                                                 \n",
      " dense_82 (Dense)            (None, 64)                4160      \n",
      "                                                                 \n",
      " dropout_55 (Dropout)        (None, 64)                0         \n",
      "                                                                 \n",
      " dense_83 (Dense)            (None, 10)                650       \n",
      "                                                                 \n",
      "=================================================================\n",
      "Total params: 55,050\n",
      "Trainable params: 55,050\n",
      "Non-trainable params: 0\n",
      "_________________________________________________________________\n",
      "Epoch 1/5\n",
      "   1/1875 [..............................] - ETA: 32:27 - loss: 2.3228 - accuracy: 0.0938WARNING:tensorflow:Callback method `on_train_batch_end` is slow compared to the batch time (batch time: 0.0018s vs `on_train_batch_end` time: 0.0474s). Check your callbacks.\n"
     ]
    },
    {
     "name": "stderr",
     "output_type": "stream",
     "text": [
      "WARNING:tensorflow:Callback method `on_train_batch_end` is slow compared to the batch time (batch time: 0.0018s vs `on_train_batch_end` time: 0.0474s). Check your callbacks.\n"
     ]
    },
    {
     "name": "stdout",
     "output_type": "stream",
     "text": [
      "1875/1875 [==============================] - 6s 2ms/step - loss: 0.3972 - accuracy: 0.8790 - val_loss: 0.1629 - val_accuracy: 0.9466\n",
      "Epoch 2/5\n",
      "1875/1875 [==============================] - 4s 2ms/step - loss: 0.2048 - accuracy: 0.9383 - val_loss: 0.1211 - val_accuracy: 0.9614\n",
      "Epoch 3/5\n",
      "1875/1875 [==============================] - 4s 2ms/step - loss: 0.1673 - accuracy: 0.9500 - val_loss: 0.1100 - val_accuracy: 0.9661\n",
      "Epoch 4/5\n",
      "1875/1875 [==============================] - 5s 3ms/step - loss: 0.1466 - accuracy: 0.9550 - val_loss: 0.0995 - val_accuracy: 0.9692\n",
      "Epoch 5/5\n",
      "1875/1875 [==============================] - 4s 2ms/step - loss: 0.1317 - accuracy: 0.9597 - val_loss: 0.0976 - val_accuracy: 0.9704\n"
     ]
    },
    {
     "name": "stderr",
     "output_type": "stream",
     "text": [
      "WARNING:absl:Found untraced functions such as _update_step_xla while saving (showing 1 of 1). These functions will not be directly callable after loading.\n"
     ]
    },
    {
     "name": "stdout",
     "output_type": "stream",
     "text": [
      "INFO:tensorflow:Assets written to: C:\\Users\\kauak\\AppData\\Local\\Temp\\tmpmbo6gc6o\\model\\data\\model\\assets\n"
     ]
    },
    {
     "name": "stderr",
     "output_type": "stream",
     "text": [
      "INFO:tensorflow:Assets written to: C:\\Users\\kauak\\AppData\\Local\\Temp\\tmpmbo6gc6o\\model\\data\\model\\assets\n",
      "2025/02/07 09:00:44 WARNING mlflow.utils.autologging_utils: You are using an unsupported version of tensorflow. If you encounter errors during autologging, try upgrading / downgrading tensorflow to a supported version, or try upgrading MLflow.\n"
     ]
    },
    {
     "name": "stdout",
     "output_type": "stream",
     "text": [
      "Modelo:  8eeedb8aac634d45afff445197ebbca6\n",
      "Model: \"sequential_28\"\n",
      "_________________________________________________________________\n",
      " Layer (type)                Output Shape              Param #   \n",
      "=================================================================\n",
      " dense_84 (Dense)            (None, 64)                50240     \n",
      "                                                                 \n",
      " dropout_56 (Dropout)        (None, 64)                0         \n",
      "                                                                 \n",
      " dense_85 (Dense)            (None, 64)                4160      \n",
      "                                                                 \n",
      " dropout_57 (Dropout)        (None, 64)                0         \n",
      "                                                                 \n",
      " dense_86 (Dense)            (None, 10)                650       \n",
      "                                                                 \n",
      "=================================================================\n",
      "Total params: 55,050\n",
      "Trainable params: 55,050\n",
      "Non-trainable params: 0\n",
      "_________________________________________________________________\n",
      "Epoch 1/10\n",
      "   1/1875 [..............................] - ETA: 25:53 - loss: 2.2544 - accuracy: 0.2188WARNING:tensorflow:Callback method `on_train_batch_end` is slow compared to the batch time (batch time: 0.0018s vs `on_train_batch_end` time: 0.0196s). Check your callbacks.\n"
     ]
    },
    {
     "name": "stderr",
     "output_type": "stream",
     "text": [
      "WARNING:tensorflow:Callback method `on_train_batch_end` is slow compared to the batch time (batch time: 0.0018s vs `on_train_batch_end` time: 0.0196s). Check your callbacks.\n"
     ]
    },
    {
     "name": "stdout",
     "output_type": "stream",
     "text": [
      "1875/1875 [==============================] - 5s 2ms/step - loss: 0.3888 - accuracy: 0.8832 - val_loss: 0.1541 - val_accuracy: 0.9525\n",
      "Epoch 2/10\n",
      "1875/1875 [==============================] - 4s 2ms/step - loss: 0.2064 - accuracy: 0.9386 - val_loss: 0.1255 - val_accuracy: 0.9606\n",
      "Epoch 3/10\n",
      "1875/1875 [==============================] - 4s 2ms/step - loss: 0.1684 - accuracy: 0.9492 - val_loss: 0.1151 - val_accuracy: 0.9637\n",
      "Epoch 4/10\n",
      "1875/1875 [==============================] - 4s 2ms/step - loss: 0.1480 - accuracy: 0.9553 - val_loss: 0.1025 - val_accuracy: 0.9673\n",
      "Epoch 5/10\n",
      "1875/1875 [==============================] - 4s 2ms/step - loss: 0.1348 - accuracy: 0.9593 - val_loss: 0.1012 - val_accuracy: 0.9695\n",
      "Epoch 6/10\n",
      "1875/1875 [==============================] - 4s 2ms/step - loss: 0.1263 - accuracy: 0.9606 - val_loss: 0.0951 - val_accuracy: 0.9714\n",
      "Epoch 7/10\n",
      "1875/1875 [==============================] - 4s 2ms/step - loss: 0.1157 - accuracy: 0.9646 - val_loss: 0.0897 - val_accuracy: 0.9740\n",
      "Epoch 8/10\n",
      "1875/1875 [==============================] - 4s 2ms/step - loss: 0.1081 - accuracy: 0.9668 - val_loss: 0.0922 - val_accuracy: 0.9726\n",
      "Epoch 9/10\n",
      "1875/1875 [==============================] - 4s 2ms/step - loss: 0.1032 - accuracy: 0.9678 - val_loss: 0.0869 - val_accuracy: 0.9722\n",
      "Epoch 10/10\n",
      "1875/1875 [==============================] - 4s 2ms/step - loss: 0.0989 - accuracy: 0.9683 - val_loss: 0.0836 - val_accuracy: 0.9762\n"
     ]
    },
    {
     "name": "stderr",
     "output_type": "stream",
     "text": [
      "WARNING:absl:Found untraced functions such as _update_step_xla while saving (showing 1 of 1). These functions will not be directly callable after loading.\n"
     ]
    },
    {
     "name": "stdout",
     "output_type": "stream",
     "text": [
      "INFO:tensorflow:Assets written to: C:\\Users\\kauak\\AppData\\Local\\Temp\\tmp4gv5dlp4\\model\\data\\model\\assets\n"
     ]
    },
    {
     "name": "stderr",
     "output_type": "stream",
     "text": [
      "INFO:tensorflow:Assets written to: C:\\Users\\kauak\\AppData\\Local\\Temp\\tmp4gv5dlp4\\model\\data\\model\\assets\n",
      "2025/02/07 09:01:36 WARNING mlflow.utils.autologging_utils: You are using an unsupported version of tensorflow. If you encounter errors during autologging, try upgrading / downgrading tensorflow to a supported version, or try upgrading MLflow.\n"
     ]
    },
    {
     "name": "stdout",
     "output_type": "stream",
     "text": [
      "Modelo:  5a696b1c6b994b87af69b9303252b7fb\n",
      "Model: \"sequential_29\"\n",
      "_________________________________________________________________\n",
      " Layer (type)                Output Shape              Param #   \n",
      "=================================================================\n",
      " dense_87 (Dense)            (None, 64)                50240     \n",
      "                                                                 \n",
      " dropout_58 (Dropout)        (None, 64)                0         \n",
      "                                                                 \n",
      " dense_88 (Dense)            (None, 64)                4160      \n",
      "                                                                 \n",
      " dropout_59 (Dropout)        (None, 64)                0         \n",
      "                                                                 \n",
      " dense_89 (Dense)            (None, 10)                650       \n",
      "                                                                 \n",
      "=================================================================\n",
      "Total params: 55,050\n",
      "Trainable params: 55,050\n",
      "Non-trainable params: 0\n",
      "_________________________________________________________________\n",
      "Epoch 1/20\n",
      "   1/1875 [..............................] - ETA: 25:57 - loss: 2.3240 - accuracy: 0.0312WARNING:tensorflow:Callback method `on_train_batch_end` is slow compared to the batch time (batch time: 0.0020s vs `on_train_batch_end` time: 0.0205s). Check your callbacks.\n"
     ]
    },
    {
     "name": "stderr",
     "output_type": "stream",
     "text": [
      "WARNING:tensorflow:Callback method `on_train_batch_end` is slow compared to the batch time (batch time: 0.0020s vs `on_train_batch_end` time: 0.0205s). Check your callbacks.\n"
     ]
    },
    {
     "name": "stdout",
     "output_type": "stream",
     "text": [
      "1875/1875 [==============================] - 5s 2ms/step - loss: 0.4080 - accuracy: 0.8757 - val_loss: 0.1621 - val_accuracy: 0.9512\n",
      "Epoch 2/20\n",
      "1875/1875 [==============================] - 5s 2ms/step - loss: 0.2130 - accuracy: 0.9362 - val_loss: 0.1258 - val_accuracy: 0.9603\n",
      "Epoch 3/20\n",
      "1875/1875 [==============================] - 5s 3ms/step - loss: 0.1722 - accuracy: 0.9489 - val_loss: 0.1166 - val_accuracy: 0.9645\n",
      "Epoch 4/20\n",
      "1875/1875 [==============================] - 4s 2ms/step - loss: 0.1515 - accuracy: 0.9539 - val_loss: 0.1084 - val_accuracy: 0.9678\n",
      "Epoch 5/20\n",
      "1875/1875 [==============================] - 4s 2ms/step - loss: 0.1360 - accuracy: 0.9586 - val_loss: 0.0974 - val_accuracy: 0.9711\n",
      "Epoch 6/20\n",
      "1875/1875 [==============================] - 4s 2ms/step - loss: 0.1233 - accuracy: 0.9622 - val_loss: 0.0905 - val_accuracy: 0.9733\n",
      "Epoch 7/20\n",
      "1875/1875 [==============================] - 5s 2ms/step - loss: 0.1179 - accuracy: 0.9641 - val_loss: 0.0881 - val_accuracy: 0.9726\n",
      "Epoch 8/20\n",
      "1875/1875 [==============================] - 4s 2ms/step - loss: 0.1096 - accuracy: 0.9664 - val_loss: 0.0894 - val_accuracy: 0.9737\n",
      "Epoch 9/20\n",
      "1875/1875 [==============================] - 4s 2ms/step - loss: 0.1048 - accuracy: 0.9670 - val_loss: 0.0891 - val_accuracy: 0.9727\n",
      "Epoch 10/20\n",
      "1875/1875 [==============================] - 4s 2ms/step - loss: 0.0997 - accuracy: 0.9689 - val_loss: 0.0879 - val_accuracy: 0.9729\n",
      "Epoch 11/20\n",
      "1875/1875 [==============================] - 5s 2ms/step - loss: 0.0962 - accuracy: 0.9697 - val_loss: 0.0839 - val_accuracy: 0.9764\n",
      "Epoch 12/20\n",
      "1875/1875 [==============================] - 4s 2ms/step - loss: 0.0956 - accuracy: 0.9701 - val_loss: 0.0903 - val_accuracy: 0.9743\n",
      "Epoch 13/20\n",
      "1875/1875 [==============================] - 4s 2ms/step - loss: 0.0911 - accuracy: 0.9714 - val_loss: 0.0849 - val_accuracy: 0.9740\n",
      "Epoch 14/20\n",
      "1875/1875 [==============================] - 4s 2ms/step - loss: 0.0884 - accuracy: 0.9722 - val_loss: 0.0849 - val_accuracy: 0.9754\n",
      "Epoch 15/20\n",
      "1875/1875 [==============================] - 4s 2ms/step - loss: 0.0867 - accuracy: 0.9723 - val_loss: 0.0933 - val_accuracy: 0.9744\n",
      "Epoch 16/20\n",
      "1875/1875 [==============================] - 4s 2ms/step - loss: 0.0838 - accuracy: 0.9742 - val_loss: 0.0878 - val_accuracy: 0.9764\n",
      "Epoch 17/20\n",
      "1875/1875 [==============================] - 5s 2ms/step - loss: 0.0813 - accuracy: 0.9741 - val_loss: 0.0828 - val_accuracy: 0.9766\n",
      "Epoch 18/20\n",
      "1875/1875 [==============================] - 5s 2ms/step - loss: 0.0778 - accuracy: 0.9749 - val_loss: 0.0872 - val_accuracy: 0.9758\n",
      "Epoch 19/20\n",
      "1875/1875 [==============================] - 4s 2ms/step - loss: 0.0795 - accuracy: 0.9750 - val_loss: 0.0911 - val_accuracy: 0.9758\n",
      "Epoch 20/20\n",
      "1875/1875 [==============================] - 4s 2ms/step - loss: 0.0764 - accuracy: 0.9760 - val_loss: 0.0866 - val_accuracy: 0.9769\n"
     ]
    },
    {
     "name": "stderr",
     "output_type": "stream",
     "text": [
      "WARNING:absl:Found untraced functions such as _update_step_xla while saving (showing 1 of 1). These functions will not be directly callable after loading.\n"
     ]
    },
    {
     "name": "stdout",
     "output_type": "stream",
     "text": [
      "INFO:tensorflow:Assets written to: C:\\Users\\kauak\\AppData\\Local\\Temp\\tmp2knaic7k\\model\\data\\model\\assets\n"
     ]
    },
    {
     "name": "stderr",
     "output_type": "stream",
     "text": [
      "INFO:tensorflow:Assets written to: C:\\Users\\kauak\\AppData\\Local\\Temp\\tmp2knaic7k\\model\\data\\model\\assets\n",
      "2025/02/07 09:04:09 WARNING mlflow.utils.autologging_utils: You are using an unsupported version of tensorflow. If you encounter errors during autologging, try upgrading / downgrading tensorflow to a supported version, or try upgrading MLflow.\n"
     ]
    },
    {
     "name": "stdout",
     "output_type": "stream",
     "text": [
      "Modelo:  12c0ee1358934623aa966e1616bad5cf\n",
      "Model: \"sequential_30\"\n",
      "_________________________________________________________________\n",
      " Layer (type)                Output Shape              Param #   \n",
      "=================================================================\n",
      " dense_90 (Dense)            (None, 64)                50240     \n",
      "                                                                 \n",
      " dropout_60 (Dropout)        (None, 64)                0         \n",
      "                                                                 \n",
      " dense_91 (Dense)            (None, 64)                4160      \n",
      "                                                                 \n",
      " dropout_61 (Dropout)        (None, 64)                0         \n",
      "                                                                 \n",
      " dense_92 (Dense)            (None, 10)                650       \n",
      "                                                                 \n",
      "=================================================================\n",
      "Total params: 55,050\n",
      "Trainable params: 55,050\n",
      "Non-trainable params: 0\n",
      "_________________________________________________________________\n",
      "Epoch 1/5\n",
      "   1/1875 [..............................] - ETA: 27:49 - loss: 2.2774 - accuracy: 0.0938WARNING:tensorflow:Callback method `on_train_batch_end` is slow compared to the batch time (batch time: 0.0020s vs `on_train_batch_end` time: 0.0300s). Check your callbacks.\n"
     ]
    },
    {
     "name": "stderr",
     "output_type": "stream",
     "text": [
      "WARNING:tensorflow:Callback method `on_train_batch_end` is slow compared to the batch time (batch time: 0.0020s vs `on_train_batch_end` time: 0.0300s). Check your callbacks.\n"
     ]
    },
    {
     "name": "stdout",
     "output_type": "stream",
     "text": [
      "1875/1875 [==============================] - 7s 3ms/step - loss: 0.3286 - accuracy: 0.9047 - val_loss: 0.1886 - val_accuracy: 0.9432\n",
      "Epoch 2/5\n",
      "1875/1875 [==============================] - 5s 2ms/step - loss: 0.1772 - accuracy: 0.9465 - val_loss: 0.1340 - val_accuracy: 0.9602\n",
      "Epoch 3/5\n",
      "1875/1875 [==============================] - 5s 3ms/step - loss: 0.1385 - accuracy: 0.9582 - val_loss: 0.1083 - val_accuracy: 0.9665\n",
      "Epoch 4/5\n",
      "1875/1875 [==============================] - 5s 3ms/step - loss: 0.1183 - accuracy: 0.9634 - val_loss: 0.0980 - val_accuracy: 0.9698\n",
      "Epoch 5/5\n",
      "1875/1875 [==============================] - 5s 2ms/step - loss: 0.1046 - accuracy: 0.9672 - val_loss: 0.1024 - val_accuracy: 0.9689\n"
     ]
    },
    {
     "name": "stderr",
     "output_type": "stream",
     "text": [
      "WARNING:absl:Found untraced functions such as _update_step_xla while saving (showing 1 of 1). These functions will not be directly callable after loading.\n"
     ]
    },
    {
     "name": "stdout",
     "output_type": "stream",
     "text": [
      "INFO:tensorflow:Assets written to: C:\\Users\\kauak\\AppData\\Local\\Temp\\tmpttqodaap\\model\\data\\model\\assets\n"
     ]
    },
    {
     "name": "stderr",
     "output_type": "stream",
     "text": [
      "INFO:tensorflow:Assets written to: C:\\Users\\kauak\\AppData\\Local\\Temp\\tmpttqodaap\\model\\data\\model\\assets\n",
      "2025/02/07 09:04:44 WARNING mlflow.utils.autologging_utils: You are using an unsupported version of tensorflow. If you encounter errors during autologging, try upgrading / downgrading tensorflow to a supported version, or try upgrading MLflow.\n"
     ]
    },
    {
     "name": "stdout",
     "output_type": "stream",
     "text": [
      "Modelo:  c165ed1518f449d7bdc0dd92f402a92f\n",
      "Model: \"sequential_31\"\n",
      "_________________________________________________________________\n",
      " Layer (type)                Output Shape              Param #   \n",
      "=================================================================\n",
      " dense_93 (Dense)            (None, 64)                50240     \n",
      "                                                                 \n",
      " dropout_62 (Dropout)        (None, 64)                0         \n",
      "                                                                 \n",
      " dense_94 (Dense)            (None, 64)                4160      \n",
      "                                                                 \n",
      " dropout_63 (Dropout)        (None, 64)                0         \n",
      "                                                                 \n",
      " dense_95 (Dense)            (None, 10)                650       \n",
      "                                                                 \n",
      "=================================================================\n",
      "Total params: 55,050\n",
      "Trainable params: 55,050\n",
      "Non-trainable params: 0\n",
      "_________________________________________________________________\n",
      "Epoch 1/10\n",
      "   1/1875 [..............................] - ETA: 28:44 - loss: 2.3844 - accuracy: 0.0625WARNING:tensorflow:Callback method `on_train_batch_end` is slow compared to the batch time (batch time: 0.0022s vs `on_train_batch_end` time: 0.0305s). Check your callbacks.\n"
     ]
    },
    {
     "name": "stderr",
     "output_type": "stream",
     "text": [
      "WARNING:tensorflow:Callback method `on_train_batch_end` is slow compared to the batch time (batch time: 0.0022s vs `on_train_batch_end` time: 0.0305s). Check your callbacks.\n"
     ]
    },
    {
     "name": "stdout",
     "output_type": "stream",
     "text": [
      "1875/1875 [==============================] - 6s 3ms/step - loss: 0.3268 - accuracy: 0.9053 - val_loss: 0.1794 - val_accuracy: 0.9443\n",
      "Epoch 2/10\n",
      "1875/1875 [==============================] - 5s 2ms/step - loss: 0.1823 - accuracy: 0.9441 - val_loss: 0.1317 - val_accuracy: 0.9613\n",
      "Epoch 3/10\n",
      "1875/1875 [==============================] - 5s 2ms/step - loss: 0.1444 - accuracy: 0.9560 - val_loss: 0.1125 - val_accuracy: 0.9666\n",
      "Epoch 4/10\n",
      "1875/1875 [==============================] - 5s 2ms/step - loss: 0.1223 - accuracy: 0.9625 - val_loss: 0.1045 - val_accuracy: 0.9679\n",
      "Epoch 5/10\n",
      "1875/1875 [==============================] - 5s 3ms/step - loss: 0.1063 - accuracy: 0.9667 - val_loss: 0.1086 - val_accuracy: 0.9670\n",
      "Epoch 6/10\n",
      "1875/1875 [==============================] - 5s 3ms/step - loss: 0.0967 - accuracy: 0.9700 - val_loss: 0.1089 - val_accuracy: 0.9689\n",
      "Epoch 7/10\n",
      "1875/1875 [==============================] - 5s 2ms/step - loss: 0.0897 - accuracy: 0.9716 - val_loss: 0.0870 - val_accuracy: 0.9733\n",
      "Epoch 8/10\n",
      "1875/1875 [==============================] - 5s 3ms/step - loss: 0.0814 - accuracy: 0.9736 - val_loss: 0.0886 - val_accuracy: 0.9724\n",
      "Epoch 9/10\n",
      "1875/1875 [==============================] - 5s 2ms/step - loss: 0.0775 - accuracy: 0.9750 - val_loss: 0.0868 - val_accuracy: 0.9731\n",
      "Epoch 10/10\n",
      "1875/1875 [==============================] - 5s 3ms/step - loss: 0.0737 - accuracy: 0.9765 - val_loss: 0.0886 - val_accuracy: 0.9727\n"
     ]
    },
    {
     "name": "stderr",
     "output_type": "stream",
     "text": [
      "WARNING:absl:Found untraced functions such as _update_step_xla while saving (showing 1 of 1). These functions will not be directly callable after loading.\n"
     ]
    },
    {
     "name": "stdout",
     "output_type": "stream",
     "text": [
      "INFO:tensorflow:Assets written to: C:\\Users\\kauak\\AppData\\Local\\Temp\\tmpwflbtgh2\\model\\data\\model\\assets\n"
     ]
    },
    {
     "name": "stderr",
     "output_type": "stream",
     "text": [
      "INFO:tensorflow:Assets written to: C:\\Users\\kauak\\AppData\\Local\\Temp\\tmpwflbtgh2\\model\\data\\model\\assets\n",
      "2025/02/07 09:06:20 WARNING mlflow.utils.autologging_utils: You are using an unsupported version of tensorflow. If you encounter errors during autologging, try upgrading / downgrading tensorflow to a supported version, or try upgrading MLflow.\n"
     ]
    },
    {
     "name": "stdout",
     "output_type": "stream",
     "text": [
      "Modelo:  0dacde936f4b48888ec3a00da93a4256\n",
      "Model: \"sequential_32\"\n",
      "_________________________________________________________________\n",
      " Layer (type)                Output Shape              Param #   \n",
      "=================================================================\n",
      " dense_96 (Dense)            (None, 64)                50240     \n",
      "                                                                 \n",
      " dropout_64 (Dropout)        (None, 64)                0         \n",
      "                                                                 \n",
      " dense_97 (Dense)            (None, 64)                4160      \n",
      "                                                                 \n",
      " dropout_65 (Dropout)        (None, 64)                0         \n",
      "                                                                 \n",
      " dense_98 (Dense)            (None, 10)                650       \n",
      "                                                                 \n",
      "=================================================================\n",
      "Total params: 55,050\n",
      "Trainable params: 55,050\n",
      "Non-trainable params: 0\n",
      "_________________________________________________________________\n",
      "Epoch 1/20\n",
      "   1/1875 [..............................] - ETA: 27:16 - loss: 2.3997 - accuracy: 0.1875WARNING:tensorflow:Callback method `on_train_batch_end` is slow compared to the batch time (batch time: 0.0021s vs `on_train_batch_end` time: 0.0269s). Check your callbacks.\n"
     ]
    },
    {
     "name": "stderr",
     "output_type": "stream",
     "text": [
      "WARNING:tensorflow:Callback method `on_train_batch_end` is slow compared to the batch time (batch time: 0.0021s vs `on_train_batch_end` time: 0.0269s). Check your callbacks.\n"
     ]
    },
    {
     "name": "stdout",
     "output_type": "stream",
     "text": [
      "1875/1875 [==============================] - 9s 4ms/step - loss: 0.3250 - accuracy: 0.9050 - val_loss: 0.1790 - val_accuracy: 0.9468\n",
      "Epoch 2/20\n",
      "1875/1875 [==============================] - 5s 2ms/step - loss: 0.1789 - accuracy: 0.9461 - val_loss: 0.1256 - val_accuracy: 0.9624\n",
      "Epoch 3/20\n",
      "1875/1875 [==============================] - 5s 2ms/step - loss: 0.1398 - accuracy: 0.9574 - val_loss: 0.1115 - val_accuracy: 0.9664\n",
      "Epoch 4/20\n",
      "1875/1875 [==============================] - 5s 2ms/step - loss: 0.1185 - accuracy: 0.9629 - val_loss: 0.1058 - val_accuracy: 0.9684\n",
      "Epoch 5/20\n",
      "1875/1875 [==============================] - 5s 2ms/step - loss: 0.1054 - accuracy: 0.9678 - val_loss: 0.0949 - val_accuracy: 0.9710\n",
      "Epoch 6/20\n",
      "1875/1875 [==============================] - 5s 2ms/step - loss: 0.0950 - accuracy: 0.9699 - val_loss: 0.0899 - val_accuracy: 0.9718\n",
      "Epoch 7/20\n",
      "1875/1875 [==============================] - 5s 2ms/step - loss: 0.0887 - accuracy: 0.9722 - val_loss: 0.0916 - val_accuracy: 0.9722\n",
      "Epoch 8/20\n",
      "1875/1875 [==============================] - 4s 2ms/step - loss: 0.0791 - accuracy: 0.9753 - val_loss: 0.0910 - val_accuracy: 0.9733\n",
      "Epoch 9/20\n",
      "1875/1875 [==============================] - 4s 2ms/step - loss: 0.0751 - accuracy: 0.9757 - val_loss: 0.0952 - val_accuracy: 0.9730\n",
      "Epoch 10/20\n",
      "1875/1875 [==============================] - 5s 3ms/step - loss: 0.0706 - accuracy: 0.9775 - val_loss: 0.0932 - val_accuracy: 0.9725\n",
      "Epoch 11/20\n",
      "1875/1875 [==============================] - 4s 2ms/step - loss: 0.0649 - accuracy: 0.9784 - val_loss: 0.0912 - val_accuracy: 0.9748\n",
      "Epoch 12/20\n",
      "1875/1875 [==============================] - 4s 2ms/step - loss: 0.0611 - accuracy: 0.9802 - val_loss: 0.0932 - val_accuracy: 0.9731\n",
      "Epoch 13/20\n",
      "1875/1875 [==============================] - 5s 2ms/step - loss: 0.0583 - accuracy: 0.9810 - val_loss: 0.0891 - val_accuracy: 0.9756\n",
      "Epoch 14/20\n",
      "1875/1875 [==============================] - 5s 2ms/step - loss: 0.0570 - accuracy: 0.9813 - val_loss: 0.0905 - val_accuracy: 0.9750\n",
      "Epoch 15/20\n",
      "1875/1875 [==============================] - 4s 2ms/step - loss: 0.0543 - accuracy: 0.9815 - val_loss: 0.0919 - val_accuracy: 0.9748\n",
      "Epoch 16/20\n",
      "1875/1875 [==============================] - 6s 3ms/step - loss: 0.0515 - accuracy: 0.9829 - val_loss: 0.0955 - val_accuracy: 0.9724\n",
      "Epoch 17/20\n",
      "1875/1875 [==============================] - 5s 2ms/step - loss: 0.0491 - accuracy: 0.9837 - val_loss: 0.0918 - val_accuracy: 0.9754\n",
      "Epoch 18/20\n",
      "1875/1875 [==============================] - 5s 2ms/step - loss: 0.0459 - accuracy: 0.9844 - val_loss: 0.0907 - val_accuracy: 0.9763\n",
      "Epoch 19/20\n",
      "1875/1875 [==============================] - 4s 2ms/step - loss: 0.0454 - accuracy: 0.9855 - val_loss: 0.0925 - val_accuracy: 0.9757\n",
      "Epoch 20/20\n",
      "1875/1875 [==============================] - 6s 3ms/step - loss: 0.0460 - accuracy: 0.9848 - val_loss: 0.0982 - val_accuracy: 0.9735\n"
     ]
    },
    {
     "name": "stderr",
     "output_type": "stream",
     "text": [
      "WARNING:absl:Found untraced functions such as _update_step_xla while saving (showing 1 of 1). These functions will not be directly callable after loading.\n"
     ]
    },
    {
     "name": "stdout",
     "output_type": "stream",
     "text": [
      "INFO:tensorflow:Assets written to: C:\\Users\\kauak\\AppData\\Local\\Temp\\tmp53q_9p1b\\model\\data\\model\\assets\n"
     ]
    },
    {
     "name": "stderr",
     "output_type": "stream",
     "text": [
      "INFO:tensorflow:Assets written to: C:\\Users\\kauak\\AppData\\Local\\Temp\\tmp53q_9p1b\\model\\data\\model\\assets\n",
      "2025/02/07 09:08:08 WARNING mlflow.utils.autologging_utils: You are using an unsupported version of tensorflow. If you encounter errors during autologging, try upgrading / downgrading tensorflow to a supported version, or try upgrading MLflow.\n"
     ]
    },
    {
     "name": "stdout",
     "output_type": "stream",
     "text": [
      "Modelo:  885b8a6f3d0341ebb341c18f52709451\n",
      "Model: \"sequential_33\"\n",
      "_________________________________________________________________\n",
      " Layer (type)                Output Shape              Param #   \n",
      "=================================================================\n",
      " dense_99 (Dense)            (None, 64)                50240     \n",
      "                                                                 \n",
      " dropout_66 (Dropout)        (None, 64)                0         \n",
      "                                                                 \n",
      " dense_100 (Dense)           (None, 64)                4160      \n",
      "                                                                 \n",
      " dropout_67 (Dropout)        (None, 64)                0         \n",
      "                                                                 \n",
      " dense_101 (Dense)           (None, 10)                650       \n",
      "                                                                 \n",
      "=================================================================\n",
      "Total params: 55,050\n",
      "Trainable params: 55,050\n",
      "Non-trainable params: 0\n",
      "_________________________________________________________________\n",
      "Epoch 1/5\n",
      "   1/1875 [..............................] - ETA: 25:03 - loss: 2.4428 - accuracy: 0.1250WARNING:tensorflow:Callback method `on_train_batch_end` is slow compared to the batch time (batch time: 0.0019s vs `on_train_batch_end` time: 0.0138s). Check your callbacks.\n"
     ]
    },
    {
     "name": "stderr",
     "output_type": "stream",
     "text": [
      "WARNING:tensorflow:Callback method `on_train_batch_end` is slow compared to the batch time (batch time: 0.0019s vs `on_train_batch_end` time: 0.0138s). Check your callbacks.\n"
     ]
    },
    {
     "name": "stdout",
     "output_type": "stream",
     "text": [
      "1875/1875 [==============================] - 6s 3ms/step - loss: 0.3796 - accuracy: 0.8866 - val_loss: 0.2149 - val_accuracy: 0.9350\n",
      "Epoch 2/5\n",
      "1875/1875 [==============================] - 5s 3ms/step - loss: 0.2335 - accuracy: 0.9305 - val_loss: 0.1568 - val_accuracy: 0.9524\n",
      "Epoch 3/5\n",
      "1875/1875 [==============================] - 5s 3ms/step - loss: 0.1914 - accuracy: 0.9418 - val_loss: 0.1343 - val_accuracy: 0.9579\n",
      "Epoch 4/5\n",
      "1875/1875 [==============================] - 5s 3ms/step - loss: 0.1674 - accuracy: 0.9488 - val_loss: 0.1206 - val_accuracy: 0.9620\n",
      "Epoch 5/5\n",
      "1875/1875 [==============================] - 5s 3ms/step - loss: 0.1517 - accuracy: 0.9540 - val_loss: 0.1115 - val_accuracy: 0.9651\n"
     ]
    },
    {
     "name": "stderr",
     "output_type": "stream",
     "text": [
      "WARNING:absl:Found untraced functions such as _update_step_xla while saving (showing 1 of 1). These functions will not be directly callable after loading.\n"
     ]
    },
    {
     "name": "stdout",
     "output_type": "stream",
     "text": [
      "INFO:tensorflow:Assets written to: C:\\Users\\kauak\\AppData\\Local\\Temp\\tmpogilfjxj\\model\\data\\model\\assets\n"
     ]
    },
    {
     "name": "stderr",
     "output_type": "stream",
     "text": [
      "INFO:tensorflow:Assets written to: C:\\Users\\kauak\\AppData\\Local\\Temp\\tmpogilfjxj\\model\\data\\model\\assets\n",
      "2025/02/07 09:09:05 WARNING mlflow.utils.autologging_utils: You are using an unsupported version of tensorflow. If you encounter errors during autologging, try upgrading / downgrading tensorflow to a supported version, or try upgrading MLflow.\n"
     ]
    },
    {
     "name": "stdout",
     "output_type": "stream",
     "text": [
      "Modelo:  e13876ae9b90499aa04118ef08d880f6\n",
      "Model: \"sequential_34\"\n",
      "_________________________________________________________________\n",
      " Layer (type)                Output Shape              Param #   \n",
      "=================================================================\n",
      " dense_102 (Dense)           (None, 64)                50240     \n",
      "                                                                 \n",
      " dropout_68 (Dropout)        (None, 64)                0         \n",
      "                                                                 \n",
      " dense_103 (Dense)           (None, 64)                4160      \n",
      "                                                                 \n",
      " dropout_69 (Dropout)        (None, 64)                0         \n",
      "                                                                 \n",
      " dense_104 (Dense)           (None, 10)                650       \n",
      "                                                                 \n",
      "=================================================================\n",
      "Total params: 55,050\n",
      "Trainable params: 55,050\n",
      "Non-trainable params: 0\n",
      "_________________________________________________________________\n",
      "Epoch 1/10\n",
      "   1/1875 [..............................] - ETA: 25:16 - loss: 2.4292 - accuracy: 0.1562WARNING:tensorflow:Callback method `on_train_batch_end` is slow compared to the batch time (batch time: 0.0021s vs `on_train_batch_end` time: 0.0155s). Check your callbacks.\n"
     ]
    },
    {
     "name": "stderr",
     "output_type": "stream",
     "text": [
      "WARNING:tensorflow:Callback method `on_train_batch_end` is slow compared to the batch time (batch time: 0.0021s vs `on_train_batch_end` time: 0.0155s). Check your callbacks.\n"
     ]
    },
    {
     "name": "stdout",
     "output_type": "stream",
     "text": [
      "1875/1875 [==============================] - 6s 3ms/step - loss: 0.3755 - accuracy: 0.8894 - val_loss: 0.2122 - val_accuracy: 0.9353\n",
      "Epoch 2/10\n",
      "1875/1875 [==============================] - 5s 2ms/step - loss: 0.2339 - accuracy: 0.9305 - val_loss: 0.1550 - val_accuracy: 0.9529\n",
      "Epoch 3/10\n",
      "1875/1875 [==============================] - 5s 2ms/step - loss: 0.1923 - accuracy: 0.9421 - val_loss: 0.1383 - val_accuracy: 0.9584\n",
      "Epoch 4/10\n",
      "1875/1875 [==============================] - 5s 2ms/step - loss: 0.1661 - accuracy: 0.9493 - val_loss: 0.1235 - val_accuracy: 0.9620\n",
      "Epoch 5/10\n",
      "1875/1875 [==============================] - 4s 2ms/step - loss: 0.1534 - accuracy: 0.9527 - val_loss: 0.1182 - val_accuracy: 0.9649\n",
      "Epoch 6/10\n",
      "1875/1875 [==============================] - 5s 2ms/step - loss: 0.1400 - accuracy: 0.9577 - val_loss: 0.1107 - val_accuracy: 0.9674\n",
      "Epoch 7/10\n",
      "1875/1875 [==============================] - 5s 2ms/step - loss: 0.1314 - accuracy: 0.9593 - val_loss: 0.1006 - val_accuracy: 0.9693\n",
      "Epoch 8/10\n",
      "1875/1875 [==============================] - 6s 3ms/step - loss: 0.1232 - accuracy: 0.9622 - val_loss: 0.1042 - val_accuracy: 0.9675\n",
      "Epoch 9/10\n",
      "1875/1875 [==============================] - 5s 2ms/step - loss: 0.1184 - accuracy: 0.9636 - val_loss: 0.1005 - val_accuracy: 0.9696\n",
      "Epoch 10/10\n",
      "1875/1875 [==============================] - 5s 2ms/step - loss: 0.1147 - accuracy: 0.9645 - val_loss: 0.1005 - val_accuracy: 0.9695\n"
     ]
    },
    {
     "name": "stderr",
     "output_type": "stream",
     "text": [
      "WARNING:absl:Found untraced functions such as _update_step_xla while saving (showing 1 of 1). These functions will not be directly callable after loading.\n"
     ]
    },
    {
     "name": "stdout",
     "output_type": "stream",
     "text": [
      "INFO:tensorflow:Assets written to: C:\\Users\\kauak\\AppData\\Local\\Temp\\tmp0u90obur\\model\\data\\model\\assets\n"
     ]
    },
    {
     "name": "stderr",
     "output_type": "stream",
     "text": [
      "INFO:tensorflow:Assets written to: C:\\Users\\kauak\\AppData\\Local\\Temp\\tmp0u90obur\\model\\data\\model\\assets\n",
      "2025/02/07 09:10:02 WARNING mlflow.utils.autologging_utils: You are using an unsupported version of tensorflow. If you encounter errors during autologging, try upgrading / downgrading tensorflow to a supported version, or try upgrading MLflow.\n"
     ]
    },
    {
     "name": "stdout",
     "output_type": "stream",
     "text": [
      "Modelo:  7c6c6045a23d4e84b71138f58dbf8013\n",
      "Model: \"sequential_35\"\n",
      "_________________________________________________________________\n",
      " Layer (type)                Output Shape              Param #   \n",
      "=================================================================\n",
      " dense_105 (Dense)           (None, 64)                50240     \n",
      "                                                                 \n",
      " dropout_70 (Dropout)        (None, 64)                0         \n",
      "                                                                 \n",
      " dense_106 (Dense)           (None, 64)                4160      \n",
      "                                                                 \n",
      " dropout_71 (Dropout)        (None, 64)                0         \n",
      "                                                                 \n",
      " dense_107 (Dense)           (None, 10)                650       \n",
      "                                                                 \n",
      "=================================================================\n",
      "Total params: 55,050\n",
      "Trainable params: 55,050\n",
      "Non-trainable params: 0\n",
      "_________________________________________________________________\n",
      "Epoch 1/20\n",
      "   1/1875 [..............................] - ETA: 27:12 - loss: 2.3781 - accuracy: 0.0938WARNING:tensorflow:Callback method `on_train_batch_end` is slow compared to the batch time (batch time: 0.0018s vs `on_train_batch_end` time: 0.0285s). Check your callbacks.\n"
     ]
    },
    {
     "name": "stderr",
     "output_type": "stream",
     "text": [
      "WARNING:tensorflow:Callback method `on_train_batch_end` is slow compared to the batch time (batch time: 0.0018s vs `on_train_batch_end` time: 0.0285s). Check your callbacks.\n"
     ]
    },
    {
     "name": "stdout",
     "output_type": "stream",
     "text": [
      "1875/1875 [==============================] - 6s 3ms/step - loss: 0.3666 - accuracy: 0.8923 - val_loss: 0.2101 - val_accuracy: 0.9354\n",
      "Epoch 2/20\n",
      "1875/1875 [==============================] - 5s 3ms/step - loss: 0.2269 - accuracy: 0.9325 - val_loss: 0.1528 - val_accuracy: 0.9544\n",
      "Epoch 3/20\n",
      "1875/1875 [==============================] - 5s 2ms/step - loss: 0.1889 - accuracy: 0.9432 - val_loss: 0.1447 - val_accuracy: 0.9568\n",
      "Epoch 4/20\n",
      "1875/1875 [==============================] - 5s 2ms/step - loss: 0.1653 - accuracy: 0.9502 - val_loss: 0.1168 - val_accuracy: 0.9642\n",
      "Epoch 5/20\n",
      "1875/1875 [==============================] - 5s 2ms/step - loss: 0.1518 - accuracy: 0.9535 - val_loss: 0.1181 - val_accuracy: 0.9647\n",
      "Epoch 6/20\n",
      "1875/1875 [==============================] - 5s 3ms/step - loss: 0.1400 - accuracy: 0.9567 - val_loss: 0.1121 - val_accuracy: 0.9656\n",
      "Epoch 7/20\n",
      "1875/1875 [==============================] - 5s 2ms/step - loss: 0.1288 - accuracy: 0.9606 - val_loss: 0.1028 - val_accuracy: 0.9686\n",
      "Epoch 8/20\n",
      "1875/1875 [==============================] - 5s 3ms/step - loss: 0.1222 - accuracy: 0.9630 - val_loss: 0.0957 - val_accuracy: 0.9718\n",
      "Epoch 9/20\n",
      "1875/1875 [==============================] - 5s 2ms/step - loss: 0.1152 - accuracy: 0.9650 - val_loss: 0.0963 - val_accuracy: 0.9724\n",
      "Epoch 10/20\n",
      "1875/1875 [==============================] - 5s 3ms/step - loss: 0.1111 - accuracy: 0.9659 - val_loss: 0.0936 - val_accuracy: 0.9710\n",
      "Epoch 11/20\n",
      "1875/1875 [==============================] - 5s 2ms/step - loss: 0.1087 - accuracy: 0.9664 - val_loss: 0.0961 - val_accuracy: 0.9716\n",
      "Epoch 12/20\n",
      "1875/1875 [==============================] - 5s 2ms/step - loss: 0.1034 - accuracy: 0.9679 - val_loss: 0.0940 - val_accuracy: 0.9722\n",
      "Epoch 13/20\n",
      "1875/1875 [==============================] - 5s 3ms/step - loss: 0.0983 - accuracy: 0.9693 - val_loss: 0.1015 - val_accuracy: 0.9698\n",
      "Epoch 14/20\n",
      "1875/1875 [==============================] - 5s 2ms/step - loss: 0.0932 - accuracy: 0.9700 - val_loss: 0.0935 - val_accuracy: 0.9730\n",
      "Epoch 15/20\n",
      "1875/1875 [==============================] - 5s 3ms/step - loss: 0.0937 - accuracy: 0.9703 - val_loss: 0.0982 - val_accuracy: 0.9715\n",
      "Epoch 16/20\n",
      "1875/1875 [==============================] - 5s 3ms/step - loss: 0.0890 - accuracy: 0.9709 - val_loss: 0.0893 - val_accuracy: 0.9741\n",
      "Epoch 17/20\n",
      "1875/1875 [==============================] - 5s 3ms/step - loss: 0.0896 - accuracy: 0.9714 - val_loss: 0.0914 - val_accuracy: 0.9731\n",
      "Epoch 18/20\n",
      "1875/1875 [==============================] - 5s 3ms/step - loss: 0.0848 - accuracy: 0.9732 - val_loss: 0.0926 - val_accuracy: 0.9742\n",
      "Epoch 19/20\n",
      "1875/1875 [==============================] - 5s 2ms/step - loss: 0.0858 - accuracy: 0.9718 - val_loss: 0.0944 - val_accuracy: 0.9737\n",
      "Epoch 20/20\n",
      "1875/1875 [==============================] - 5s 3ms/step - loss: 0.0833 - accuracy: 0.9736 - val_loss: 0.0967 - val_accuracy: 0.9737\n"
     ]
    },
    {
     "name": "stderr",
     "output_type": "stream",
     "text": [
      "WARNING:absl:Found untraced functions such as _update_step_xla while saving (showing 1 of 1). These functions will not be directly callable after loading.\n"
     ]
    },
    {
     "name": "stdout",
     "output_type": "stream",
     "text": [
      "INFO:tensorflow:Assets written to: C:\\Users\\kauak\\AppData\\Local\\Temp\\tmpzbf1ip2q\\model\\data\\model\\assets\n"
     ]
    },
    {
     "name": "stderr",
     "output_type": "stream",
     "text": [
      "INFO:tensorflow:Assets written to: C:\\Users\\kauak\\AppData\\Local\\Temp\\tmpzbf1ip2q\\model\\data\\model\\assets\n",
      "2025/02/07 09:11:47 WARNING mlflow.utils.autologging_utils: You are using an unsupported version of tensorflow. If you encounter errors during autologging, try upgrading / downgrading tensorflow to a supported version, or try upgrading MLflow.\n"
     ]
    },
    {
     "name": "stdout",
     "output_type": "stream",
     "text": [
      "Modelo:  d3beb4e257e54def8d14a90197c85ab3\n",
      "Model: \"sequential_36\"\n",
      "_________________________________________________________________\n",
      " Layer (type)                Output Shape              Param #   \n",
      "=================================================================\n",
      " dense_108 (Dense)           (None, 16)                12560     \n",
      "                                                                 \n",
      " dropout_72 (Dropout)        (None, 16)                0         \n",
      "                                                                 \n",
      " dense_109 (Dense)           (None, 16)                272       \n",
      "                                                                 \n",
      " dropout_73 (Dropout)        (None, 16)                0         \n",
      "                                                                 \n",
      " dense_110 (Dense)           (None, 16)                272       \n",
      "                                                                 \n",
      " dropout_74 (Dropout)        (None, 16)                0         \n",
      "                                                                 \n",
      " dense_111 (Dense)           (None, 10)                170       \n",
      "                                                                 \n",
      "=================================================================\n",
      "Total params: 13,274\n",
      "Trainable params: 13,274\n",
      "Non-trainable params: 0\n",
      "_________________________________________________________________\n",
      "Epoch 1/5\n",
      "   1/1875 [..............................] - ETA: 1:41:34 - loss: 2.3241 - accuracy: 0.0312WARNING:tensorflow:Callback method `on_train_batch_end` is slow compared to the batch time (batch time: 0.0022s vs `on_train_batch_end` time: 0.0844s). Check your callbacks.\n"
     ]
    },
    {
     "name": "stderr",
     "output_type": "stream",
     "text": [
      "WARNING:tensorflow:Callback method `on_train_batch_end` is slow compared to the batch time (batch time: 0.0022s vs `on_train_batch_end` time: 0.0844s). Check your callbacks.\n"
     ]
    },
    {
     "name": "stdout",
     "output_type": "stream",
     "text": [
      "1875/1875 [==============================] - 9s 3ms/step - loss: 0.8234 - accuracy: 0.7237 - val_loss: 0.3097 - val_accuracy: 0.9126\n",
      "Epoch 2/5\n",
      "1875/1875 [==============================] - 4s 2ms/step - loss: 0.4875 - accuracy: 0.8522 - val_loss: 0.2570 - val_accuracy: 0.9232\n",
      "Epoch 3/5\n",
      "1875/1875 [==============================] - 4s 2ms/step - loss: 0.4244 - accuracy: 0.8738 - val_loss: 0.2418 - val_accuracy: 0.9301\n",
      "Epoch 4/5\n",
      "1875/1875 [==============================] - 4s 2ms/step - loss: 0.3890 - accuracy: 0.8855 - val_loss: 0.2302 - val_accuracy: 0.9307\n",
      "Epoch 5/5\n",
      "1875/1875 [==============================] - 4s 2ms/step - loss: 0.3703 - accuracy: 0.8913 - val_loss: 0.2214 - val_accuracy: 0.9353\n"
     ]
    },
    {
     "name": "stderr",
     "output_type": "stream",
     "text": [
      "WARNING:absl:Found untraced functions such as _update_step_xla while saving (showing 1 of 1). These functions will not be directly callable after loading.\n"
     ]
    },
    {
     "name": "stdout",
     "output_type": "stream",
     "text": [
      "INFO:tensorflow:Assets written to: C:\\Users\\kauak\\AppData\\Local\\Temp\\tmpkzuutn7j\\model\\data\\model\\assets\n"
     ]
    },
    {
     "name": "stderr",
     "output_type": "stream",
     "text": [
      "INFO:tensorflow:Assets written to: C:\\Users\\kauak\\AppData\\Local\\Temp\\tmpkzuutn7j\\model\\data\\model\\assets\n"
     ]
    },
    {
     "name": "stdout",
     "output_type": "stream",
     "text": [
      "Modelo:  bc6c7caaa9f941c9b2a84bd5efef607d\n"
     ]
    },
    {
     "name": "stderr",
     "output_type": "stream",
     "text": [
      "2025/02/07 09:12:22 WARNING mlflow.utils.autologging_utils: You are using an unsupported version of tensorflow. If you encounter errors during autologging, try upgrading / downgrading tensorflow to a supported version, or try upgrading MLflow.\n"
     ]
    },
    {
     "name": "stdout",
     "output_type": "stream",
     "text": [
      "Model: \"sequential_37\"\n",
      "_________________________________________________________________\n",
      " Layer (type)                Output Shape              Param #   \n",
      "=================================================================\n",
      " dense_112 (Dense)           (None, 16)                12560     \n",
      "                                                                 \n",
      " dropout_75 (Dropout)        (None, 16)                0         \n",
      "                                                                 \n",
      " dense_113 (Dense)           (None, 16)                272       \n",
      "                                                                 \n",
      " dropout_76 (Dropout)        (None, 16)                0         \n",
      "                                                                 \n",
      " dense_114 (Dense)           (None, 16)                272       \n",
      "                                                                 \n",
      " dropout_77 (Dropout)        (None, 16)                0         \n",
      "                                                                 \n",
      " dense_115 (Dense)           (None, 10)                170       \n",
      "                                                                 \n",
      "=================================================================\n",
      "Total params: 13,274\n",
      "Trainable params: 13,274\n",
      "Non-trainable params: 0\n",
      "_________________________________________________________________\n",
      "Epoch 1/10\n",
      "   2/1875 [..............................] - ETA: 8:11 - loss: 2.3287 - accuracy: 0.0625 WARNING:tensorflow:Callback method `on_train_batch_end` is slow compared to the batch time (batch time: 0.0533s vs `on_train_batch_end` time: 0.1093s). Check your callbacks.\n"
     ]
    },
    {
     "name": "stderr",
     "output_type": "stream",
     "text": [
      "WARNING:tensorflow:Callback method `on_train_batch_end` is slow compared to the batch time (batch time: 0.0533s vs `on_train_batch_end` time: 0.1093s). Check your callbacks.\n"
     ]
    },
    {
     "name": "stdout",
     "output_type": "stream",
     "text": [
      "1875/1875 [==============================] - 7s 3ms/step - loss: 0.8131 - accuracy: 0.7317 - val_loss: 0.3087 - val_accuracy: 0.9115\n",
      "Epoch 2/10\n",
      "1875/1875 [==============================] - 4s 2ms/step - loss: 0.4755 - accuracy: 0.8551 - val_loss: 0.2538 - val_accuracy: 0.9289\n",
      "Epoch 3/10\n",
      "1875/1875 [==============================] - 4s 2ms/step - loss: 0.4136 - accuracy: 0.8780 - val_loss: 0.2258 - val_accuracy: 0.9330\n",
      "Epoch 4/10\n",
      "1875/1875 [==============================] - 4s 2ms/step - loss: 0.3734 - accuracy: 0.8894 - val_loss: 0.2157 - val_accuracy: 0.9374\n",
      "Epoch 5/10\n",
      "1875/1875 [==============================] - 4s 2ms/step - loss: 0.3582 - accuracy: 0.8937 - val_loss: 0.2057 - val_accuracy: 0.9409\n",
      "Epoch 6/10\n",
      "1875/1875 [==============================] - 4s 2ms/step - loss: 0.3408 - accuracy: 0.8989 - val_loss: 0.2115 - val_accuracy: 0.9383\n",
      "Epoch 7/10\n",
      "1875/1875 [==============================] - 4s 2ms/step - loss: 0.3276 - accuracy: 0.9033 - val_loss: 0.2127 - val_accuracy: 0.9360\n",
      "Epoch 8/10\n",
      "1875/1875 [==============================] - 4s 2ms/step - loss: 0.3188 - accuracy: 0.9064 - val_loss: 0.2012 - val_accuracy: 0.9424\n",
      "Epoch 9/10\n",
      "1875/1875 [==============================] - 4s 2ms/step - loss: 0.3146 - accuracy: 0.9061 - val_loss: 0.2000 - val_accuracy: 0.9431\n",
      "Epoch 10/10\n",
      "1875/1875 [==============================] - 5s 3ms/step - loss: 0.3069 - accuracy: 0.9091 - val_loss: 0.2004 - val_accuracy: 0.9428\n"
     ]
    },
    {
     "name": "stderr",
     "output_type": "stream",
     "text": [
      "WARNING:absl:Found untraced functions such as _update_step_xla while saving (showing 1 of 1). These functions will not be directly callable after loading.\n"
     ]
    },
    {
     "name": "stdout",
     "output_type": "stream",
     "text": [
      "INFO:tensorflow:Assets written to: C:\\Users\\kauak\\AppData\\Local\\Temp\\tmpe3rqrtpm\\model\\data\\model\\assets\n"
     ]
    },
    {
     "name": "stderr",
     "output_type": "stream",
     "text": [
      "INFO:tensorflow:Assets written to: C:\\Users\\kauak\\AppData\\Local\\Temp\\tmpe3rqrtpm\\model\\data\\model\\assets\n",
      "2025/02/07 09:13:25 WARNING mlflow.utils.autologging_utils: You are using an unsupported version of tensorflow. If you encounter errors during autologging, try upgrading / downgrading tensorflow to a supported version, or try upgrading MLflow.\n"
     ]
    },
    {
     "name": "stdout",
     "output_type": "stream",
     "text": [
      "Modelo:  f4b1ca51758546e88ca2977b68bb801c\n",
      "Model: \"sequential_38\"\n",
      "_________________________________________________________________\n",
      " Layer (type)                Output Shape              Param #   \n",
      "=================================================================\n",
      " dense_116 (Dense)           (None, 16)                12560     \n",
      "                                                                 \n",
      " dropout_78 (Dropout)        (None, 16)                0         \n",
      "                                                                 \n",
      " dense_117 (Dense)           (None, 16)                272       \n",
      "                                                                 \n",
      " dropout_79 (Dropout)        (None, 16)                0         \n",
      "                                                                 \n",
      " dense_118 (Dense)           (None, 16)                272       \n",
      "                                                                 \n",
      " dropout_80 (Dropout)        (None, 16)                0         \n",
      "                                                                 \n",
      " dense_119 (Dense)           (None, 10)                170       \n",
      "                                                                 \n",
      "=================================================================\n",
      "Total params: 13,274\n",
      "Trainable params: 13,274\n",
      "Non-trainable params: 0\n",
      "_________________________________________________________________\n",
      "Epoch 1/20\n",
      "   1/1875 [..............................] - ETA: 30:34 - loss: 2.3121 - accuracy: 0.0938WARNING:tensorflow:Callback method `on_train_batch_end` is slow compared to the batch time (batch time: 0.0015s vs `on_train_batch_end` time: 0.0200s). Check your callbacks.\n"
     ]
    },
    {
     "name": "stderr",
     "output_type": "stream",
     "text": [
      "WARNING:tensorflow:Callback method `on_train_batch_end` is slow compared to the batch time (batch time: 0.0015s vs `on_train_batch_end` time: 0.0200s). Check your callbacks.\n"
     ]
    },
    {
     "name": "stdout",
     "output_type": "stream",
     "text": [
      "1875/1875 [==============================] - 6s 3ms/step - loss: 0.8015 - accuracy: 0.7358 - val_loss: 0.3144 - val_accuracy: 0.9110\n",
      "Epoch 2/20\n",
      "1875/1875 [==============================] - 4s 2ms/step - loss: 0.4903 - accuracy: 0.8516 - val_loss: 0.2782 - val_accuracy: 0.9213\n",
      "Epoch 3/20\n",
      "1875/1875 [==============================] - 4s 2ms/step - loss: 0.4290 - accuracy: 0.8729 - val_loss: 0.2529 - val_accuracy: 0.9312\n",
      "Epoch 4/20\n",
      "1875/1875 [==============================] - 4s 2ms/step - loss: 0.4017 - accuracy: 0.8822 - val_loss: 0.2424 - val_accuracy: 0.9299\n",
      "Epoch 5/20\n",
      "1875/1875 [==============================] - 5s 2ms/step - loss: 0.3822 - accuracy: 0.8871 - val_loss: 0.2390 - val_accuracy: 0.9333\n",
      "Epoch 6/20\n",
      "1875/1875 [==============================] - 6s 3ms/step - loss: 0.3689 - accuracy: 0.8917 - val_loss: 0.2277 - val_accuracy: 0.9350\n",
      "Epoch 7/20\n",
      "1875/1875 [==============================] - 4s 2ms/step - loss: 0.3525 - accuracy: 0.8967 - val_loss: 0.2293 - val_accuracy: 0.9347\n",
      "Epoch 8/20\n",
      "1875/1875 [==============================] - 4s 2ms/step - loss: 0.3439 - accuracy: 0.9013 - val_loss: 0.2118 - val_accuracy: 0.9390\n",
      "Epoch 9/20\n",
      "1875/1875 [==============================] - 4s 2ms/step - loss: 0.3355 - accuracy: 0.9008 - val_loss: 0.2121 - val_accuracy: 0.9380\n",
      "Epoch 10/20\n",
      "1875/1875 [==============================] - 4s 2ms/step - loss: 0.3287 - accuracy: 0.9038 - val_loss: 0.2182 - val_accuracy: 0.9375\n",
      "Epoch 11/20\n",
      "1875/1875 [==============================] - 4s 2ms/step - loss: 0.3223 - accuracy: 0.9058 - val_loss: 0.2035 - val_accuracy: 0.9424\n",
      "Epoch 12/20\n",
      "1875/1875 [==============================] - 4s 2ms/step - loss: 0.3220 - accuracy: 0.9054 - val_loss: 0.2071 - val_accuracy: 0.9405\n",
      "Epoch 13/20\n",
      "1875/1875 [==============================] - 4s 2ms/step - loss: 0.3127 - accuracy: 0.9074 - val_loss: 0.1974 - val_accuracy: 0.9414\n",
      "Epoch 14/20\n",
      "1875/1875 [==============================] - 4s 2ms/step - loss: 0.3090 - accuracy: 0.9102 - val_loss: 0.2111 - val_accuracy: 0.9385\n",
      "Epoch 15/20\n",
      "1875/1875 [==============================] - 4s 2ms/step - loss: 0.3034 - accuracy: 0.9128 - val_loss: 0.1969 - val_accuracy: 0.9434\n",
      "Epoch 16/20\n",
      "1875/1875 [==============================] - 4s 2ms/step - loss: 0.3004 - accuracy: 0.9121 - val_loss: 0.1971 - val_accuracy: 0.9434\n",
      "Epoch 17/20\n",
      "1875/1875 [==============================] - 6s 3ms/step - loss: 0.3003 - accuracy: 0.9128 - val_loss: 0.1946 - val_accuracy: 0.9431\n",
      "Epoch 18/20\n",
      "1875/1875 [==============================] - 4s 2ms/step - loss: 0.2984 - accuracy: 0.9130 - val_loss: 0.1952 - val_accuracy: 0.9444\n",
      "Epoch 19/20\n",
      "1875/1875 [==============================] - 4s 2ms/step - loss: 0.2928 - accuracy: 0.9143 - val_loss: 0.1980 - val_accuracy: 0.9443\n",
      "Epoch 20/20\n",
      "1875/1875 [==============================] - 4s 2ms/step - loss: 0.2903 - accuracy: 0.9149 - val_loss: 0.1915 - val_accuracy: 0.9452\n"
     ]
    },
    {
     "name": "stderr",
     "output_type": "stream",
     "text": [
      "WARNING:absl:Found untraced functions such as _update_step_xla while saving (showing 1 of 1). These functions will not be directly callable after loading.\n"
     ]
    },
    {
     "name": "stdout",
     "output_type": "stream",
     "text": [
      "INFO:tensorflow:Assets written to: C:\\Users\\kauak\\AppData\\Local\\Temp\\tmp3idle2or\\model\\data\\model\\assets\n"
     ]
    },
    {
     "name": "stderr",
     "output_type": "stream",
     "text": [
      "INFO:tensorflow:Assets written to: C:\\Users\\kauak\\AppData\\Local\\Temp\\tmp3idle2or\\model\\data\\model\\assets\n",
      "2025/02/07 09:17:28 WARNING mlflow.utils.autologging_utils: You are using an unsupported version of tensorflow. If you encounter errors during autologging, try upgrading / downgrading tensorflow to a supported version, or try upgrading MLflow.\n"
     ]
    },
    {
     "name": "stdout",
     "output_type": "stream",
     "text": [
      "Modelo:  8f061c184d4340c5b5da92b3be7dfff5\n",
      "Model: \"sequential_39\"\n",
      "_________________________________________________________________\n",
      " Layer (type)                Output Shape              Param #   \n",
      "=================================================================\n",
      " dense_120 (Dense)           (None, 16)                12560     \n",
      "                                                                 \n",
      " dropout_81 (Dropout)        (None, 16)                0         \n",
      "                                                                 \n",
      " dense_121 (Dense)           (None, 16)                272       \n",
      "                                                                 \n",
      " dropout_82 (Dropout)        (None, 16)                0         \n",
      "                                                                 \n",
      " dense_122 (Dense)           (None, 16)                272       \n",
      "                                                                 \n",
      " dropout_83 (Dropout)        (None, 16)                0         \n",
      "                                                                 \n",
      " dense_123 (Dense)           (None, 10)                170       \n",
      "                                                                 \n",
      "=================================================================\n",
      "Total params: 13,274\n",
      "Trainable params: 13,274\n",
      "Non-trainable params: 0\n",
      "_________________________________________________________________\n",
      "Epoch 1/5\n",
      "   1/1875 [..............................] - ETA: 40:16 - loss: 2.2920 - accuracy: 0.1875WARNING:tensorflow:Callback method `on_train_batch_end` is slow compared to the batch time (batch time: 0.0010s vs `on_train_batch_end` time: 0.0614s). Check your callbacks.\n"
     ]
    },
    {
     "name": "stderr",
     "output_type": "stream",
     "text": [
      "WARNING:tensorflow:Callback method `on_train_batch_end` is slow compared to the batch time (batch time: 0.0010s vs `on_train_batch_end` time: 0.0614s). Check your callbacks.\n"
     ]
    },
    {
     "name": "stdout",
     "output_type": "stream",
     "text": [
      "1875/1875 [==============================] - 7s 3ms/step - loss: 1.0803 - accuracy: 0.6271 - val_loss: 0.4270 - val_accuracy: 0.8950\n",
      "Epoch 2/5\n",
      "1875/1875 [==============================] - 4s 2ms/step - loss: 0.7066 - accuracy: 0.7793 - val_loss: 0.3516 - val_accuracy: 0.9104\n",
      "Epoch 3/5\n",
      "1875/1875 [==============================] - 4s 2ms/step - loss: 0.6360 - accuracy: 0.8077 - val_loss: 0.3250 - val_accuracy: 0.9170\n",
      "Epoch 4/5\n",
      "1875/1875 [==============================] - 4s 2ms/step - loss: 0.5915 - accuracy: 0.8250 - val_loss: 0.3002 - val_accuracy: 0.9243\n",
      "Epoch 5/5\n",
      "1875/1875 [==============================] - 4s 2ms/step - loss: 0.5571 - accuracy: 0.8365 - val_loss: 0.3010 - val_accuracy: 0.9221\n"
     ]
    },
    {
     "name": "stderr",
     "output_type": "stream",
     "text": [
      "WARNING:absl:Found untraced functions such as _update_step_xla while saving (showing 1 of 1). These functions will not be directly callable after loading.\n"
     ]
    },
    {
     "name": "stdout",
     "output_type": "stream",
     "text": [
      "INFO:tensorflow:Assets written to: C:\\Users\\kauak\\AppData\\Local\\Temp\\tmpkkr1ka8a\\model\\data\\model\\assets\n"
     ]
    },
    {
     "name": "stderr",
     "output_type": "stream",
     "text": [
      "INFO:tensorflow:Assets written to: C:\\Users\\kauak\\AppData\\Local\\Temp\\tmpkkr1ka8a\\model\\data\\model\\assets\n"
     ]
    },
    {
     "name": "stdout",
     "output_type": "stream",
     "text": [
      "Modelo:  6a0e217f06724843a880ffb7a53ccba0\n"
     ]
    },
    {
     "name": "stderr",
     "output_type": "stream",
     "text": [
      "2025/02/07 09:18:37 WARNING mlflow.utils.autologging_utils: You are using an unsupported version of tensorflow. If you encounter errors during autologging, try upgrading / downgrading tensorflow to a supported version, or try upgrading MLflow.\n"
     ]
    },
    {
     "name": "stdout",
     "output_type": "stream",
     "text": [
      "Model: \"sequential_40\"\n",
      "_________________________________________________________________\n",
      " Layer (type)                Output Shape              Param #   \n",
      "=================================================================\n",
      " dense_124 (Dense)           (None, 16)                12560     \n",
      "                                                                 \n",
      " dropout_84 (Dropout)        (None, 16)                0         \n",
      "                                                                 \n",
      " dense_125 (Dense)           (None, 16)                272       \n",
      "                                                                 \n",
      " dropout_85 (Dropout)        (None, 16)                0         \n",
      "                                                                 \n",
      " dense_126 (Dense)           (None, 16)                272       \n",
      "                                                                 \n",
      " dropout_86 (Dropout)        (None, 16)                0         \n",
      "                                                                 \n",
      " dense_127 (Dense)           (None, 10)                170       \n",
      "                                                                 \n",
      "=================================================================\n",
      "Total params: 13,274\n",
      "Trainable params: 13,274\n",
      "Non-trainable params: 0\n",
      "_________________________________________________________________\n",
      "Epoch 1/10\n",
      "   1/1875 [..............................] - ETA: 31:30 - loss: 2.3665 - accuracy: 0.0938WARNING:tensorflow:Callback method `on_train_batch_end` is slow compared to the batch time (batch time: 0.0018s vs `on_train_batch_end` time: 0.0130s). Check your callbacks.\n"
     ]
    },
    {
     "name": "stderr",
     "output_type": "stream",
     "text": [
      "WARNING:tensorflow:Callback method `on_train_batch_end` is slow compared to the batch time (batch time: 0.0018s vs `on_train_batch_end` time: 0.0130s). Check your callbacks.\n"
     ]
    },
    {
     "name": "stdout",
     "output_type": "stream",
     "text": [
      "1875/1875 [==============================] - 6s 3ms/step - loss: 1.0657 - accuracy: 0.6340 - val_loss: 0.3608 - val_accuracy: 0.9046\n",
      "Epoch 2/10\n",
      "1875/1875 [==============================] - 4s 2ms/step - loss: 0.6842 - accuracy: 0.7857 - val_loss: 0.2968 - val_accuracy: 0.9199\n",
      "Epoch 3/10\n",
      "1875/1875 [==============================] - 5s 2ms/step - loss: 0.6072 - accuracy: 0.8172 - val_loss: 0.2764 - val_accuracy: 0.9199\n",
      "Epoch 4/10\n",
      "1875/1875 [==============================] - 4s 2ms/step - loss: 0.5738 - accuracy: 0.8266 - val_loss: 0.2735 - val_accuracy: 0.9239\n",
      "Epoch 5/10\n",
      "1875/1875 [==============================] - 4s 2ms/step - loss: 0.5579 - accuracy: 0.8340 - val_loss: 0.2611 - val_accuracy: 0.9281\n",
      "Epoch 6/10\n",
      "1875/1875 [==============================] - 4s 2ms/step - loss: 0.5385 - accuracy: 0.8407 - val_loss: 0.2616 - val_accuracy: 0.9285\n",
      "Epoch 7/10\n",
      "1875/1875 [==============================] - 4s 2ms/step - loss: 0.5222 - accuracy: 0.8454 - val_loss: 0.2489 - val_accuracy: 0.9302\n",
      "Epoch 8/10\n",
      "1875/1875 [==============================] - 4s 2ms/step - loss: 0.5178 - accuracy: 0.8475 - val_loss: 0.2554 - val_accuracy: 0.9298\n",
      "Epoch 9/10\n",
      "1875/1875 [==============================] - 4s 2ms/step - loss: 0.5016 - accuracy: 0.8509 - val_loss: 0.2561 - val_accuracy: 0.9297\n",
      "Epoch 10/10\n",
      "1875/1875 [==============================] - 4s 2ms/step - loss: 0.5018 - accuracy: 0.8527 - val_loss: 0.2509 - val_accuracy: 0.9311\n"
     ]
    },
    {
     "name": "stderr",
     "output_type": "stream",
     "text": [
      "WARNING:absl:Found untraced functions such as _update_step_xla while saving (showing 1 of 1). These functions will not be directly callable after loading.\n"
     ]
    },
    {
     "name": "stdout",
     "output_type": "stream",
     "text": [
      "INFO:tensorflow:Assets written to: C:\\Users\\kauak\\AppData\\Local\\Temp\\tmpe8jlp9qe\\model\\data\\model\\assets\n"
     ]
    },
    {
     "name": "stderr",
     "output_type": "stream",
     "text": [
      "INFO:tensorflow:Assets written to: C:\\Users\\kauak\\AppData\\Local\\Temp\\tmpe8jlp9qe\\model\\data\\model\\assets\n",
      "2025/02/07 09:19:28 WARNING mlflow.utils.autologging_utils: You are using an unsupported version of tensorflow. If you encounter errors during autologging, try upgrading / downgrading tensorflow to a supported version, or try upgrading MLflow.\n"
     ]
    },
    {
     "name": "stdout",
     "output_type": "stream",
     "text": [
      "Modelo:  8d69a892a51a496f908732823880f14b\n",
      "Model: \"sequential_41\"\n",
      "_________________________________________________________________\n",
      " Layer (type)                Output Shape              Param #   \n",
      "=================================================================\n",
      " dense_128 (Dense)           (None, 16)                12560     \n",
      "                                                                 \n",
      " dropout_87 (Dropout)        (None, 16)                0         \n",
      "                                                                 \n",
      " dense_129 (Dense)           (None, 16)                272       \n",
      "                                                                 \n",
      " dropout_88 (Dropout)        (None, 16)                0         \n",
      "                                                                 \n",
      " dense_130 (Dense)           (None, 16)                272       \n",
      "                                                                 \n",
      " dropout_89 (Dropout)        (None, 16)                0         \n",
      "                                                                 \n",
      " dense_131 (Dense)           (None, 10)                170       \n",
      "                                                                 \n",
      "=================================================================\n",
      "Total params: 13,274\n",
      "Trainable params: 13,274\n",
      "Non-trainable params: 0\n",
      "_________________________________________________________________\n",
      "Epoch 1/20\n",
      "   1/1875 [..............................] - ETA: 41:42 - loss: 2.3168 - accuracy: 0.1250WARNING:tensorflow:Callback method `on_train_batch_end` is slow compared to the batch time (batch time: 0.0013s vs `on_train_batch_end` time: 0.0611s). Check your callbacks.\n"
     ]
    },
    {
     "name": "stderr",
     "output_type": "stream",
     "text": [
      "WARNING:tensorflow:Callback method `on_train_batch_end` is slow compared to the batch time (batch time: 0.0013s vs `on_train_batch_end` time: 0.0611s). Check your callbacks.\n"
     ]
    },
    {
     "name": "stdout",
     "output_type": "stream",
     "text": [
      "1875/1875 [==============================] - 6s 2ms/step - loss: 1.0497 - accuracy: 0.6514 - val_loss: 0.3919 - val_accuracy: 0.8981\n",
      "Epoch 2/20\n",
      "1875/1875 [==============================] - 4s 2ms/step - loss: 0.6906 - accuracy: 0.7895 - val_loss: 0.3497 - val_accuracy: 0.9068\n",
      "Epoch 3/20\n",
      "1875/1875 [==============================] - 4s 2ms/step - loss: 0.6261 - accuracy: 0.8110 - val_loss: 0.3168 - val_accuracy: 0.9166\n",
      "Epoch 4/20\n",
      "1875/1875 [==============================] - 4s 2ms/step - loss: 0.5945 - accuracy: 0.8241 - val_loss: 0.3140 - val_accuracy: 0.9117\n",
      "Epoch 5/20\n",
      "1875/1875 [==============================] - 4s 2ms/step - loss: 0.5755 - accuracy: 0.8333 - val_loss: 0.3044 - val_accuracy: 0.9177\n",
      "Epoch 6/20\n",
      "1875/1875 [==============================] - 4s 2ms/step - loss: 0.5537 - accuracy: 0.8390 - val_loss: 0.2910 - val_accuracy: 0.9192\n",
      "Epoch 7/20\n",
      "1875/1875 [==============================] - 4s 2ms/step - loss: 0.5496 - accuracy: 0.8396 - val_loss: 0.2856 - val_accuracy: 0.9208\n",
      "Epoch 8/20\n",
      "1875/1875 [==============================] - 4s 2ms/step - loss: 0.5351 - accuracy: 0.8451 - val_loss: 0.2830 - val_accuracy: 0.9224\n",
      "Epoch 9/20\n",
      "1875/1875 [==============================] - 4s 2ms/step - loss: 0.5373 - accuracy: 0.8458 - val_loss: 0.2871 - val_accuracy: 0.9219\n",
      "Epoch 10/20\n",
      "1875/1875 [==============================] - 4s 2ms/step - loss: 0.5223 - accuracy: 0.8468 - val_loss: 0.2806 - val_accuracy: 0.9231\n",
      "Epoch 11/20\n",
      "1875/1875 [==============================] - 4s 2ms/step - loss: 0.5204 - accuracy: 0.8476 - val_loss: 0.2929 - val_accuracy: 0.9210\n",
      "Epoch 12/20\n",
      "1875/1875 [==============================] - 4s 2ms/step - loss: 0.5211 - accuracy: 0.8487 - val_loss: 0.2808 - val_accuracy: 0.9236\n",
      "Epoch 13/20\n",
      "1875/1875 [==============================] - 4s 2ms/step - loss: 0.5155 - accuracy: 0.8511 - val_loss: 0.2783 - val_accuracy: 0.9236\n",
      "Epoch 14/20\n",
      "1875/1875 [==============================] - 4s 2ms/step - loss: 0.5054 - accuracy: 0.8532 - val_loss: 0.2844 - val_accuracy: 0.9219\n",
      "Epoch 15/20\n",
      "1875/1875 [==============================] - 4s 2ms/step - loss: 0.5151 - accuracy: 0.8494 - val_loss: 0.2783 - val_accuracy: 0.9244\n",
      "Epoch 16/20\n",
      "1875/1875 [==============================] - 4s 2ms/step - loss: 0.5006 - accuracy: 0.8527 - val_loss: 0.2783 - val_accuracy: 0.9249\n",
      "Epoch 17/20\n",
      "1875/1875 [==============================] - 4s 2ms/step - loss: 0.5015 - accuracy: 0.8557 - val_loss: 0.2735 - val_accuracy: 0.9272\n",
      "Epoch 18/20\n",
      "1875/1875 [==============================] - 4s 2ms/step - loss: 0.4989 - accuracy: 0.8574 - val_loss: 0.2734 - val_accuracy: 0.9252\n",
      "Epoch 19/20\n",
      "1875/1875 [==============================] - 4s 2ms/step - loss: 0.4965 - accuracy: 0.8559 - val_loss: 0.2696 - val_accuracy: 0.9287\n",
      "Epoch 20/20\n",
      "1875/1875 [==============================] - 4s 2ms/step - loss: 0.4922 - accuracy: 0.8570 - val_loss: 0.2696 - val_accuracy: 0.9281\n"
     ]
    },
    {
     "name": "stderr",
     "output_type": "stream",
     "text": [
      "WARNING:absl:Found untraced functions such as _update_step_xla while saving (showing 1 of 1). These functions will not be directly callable after loading.\n"
     ]
    },
    {
     "name": "stdout",
     "output_type": "stream",
     "text": [
      "INFO:tensorflow:Assets written to: C:\\Users\\kauak\\AppData\\Local\\Temp\\tmp5uyvgbuu\\model\\data\\model\\assets\n"
     ]
    },
    {
     "name": "stderr",
     "output_type": "stream",
     "text": [
      "INFO:tensorflow:Assets written to: C:\\Users\\kauak\\AppData\\Local\\Temp\\tmp5uyvgbuu\\model\\data\\model\\assets\n",
      "2025/02/07 09:21:00 WARNING mlflow.utils.autologging_utils: You are using an unsupported version of tensorflow. If you encounter errors during autologging, try upgrading / downgrading tensorflow to a supported version, or try upgrading MLflow.\n"
     ]
    },
    {
     "name": "stdout",
     "output_type": "stream",
     "text": [
      "Modelo:  a5ec3d2466294ae6a84e2333d0f57288\n",
      "Model: \"sequential_42\"\n",
      "_________________________________________________________________\n",
      " Layer (type)                Output Shape              Param #   \n",
      "=================================================================\n",
      " dense_132 (Dense)           (None, 16)                12560     \n",
      "                                                                 \n",
      " dropout_90 (Dropout)        (None, 16)                0         \n",
      "                                                                 \n",
      " dense_133 (Dense)           (None, 16)                272       \n",
      "                                                                 \n",
      " dropout_91 (Dropout)        (None, 16)                0         \n",
      "                                                                 \n",
      " dense_134 (Dense)           (None, 16)                272       \n",
      "                                                                 \n",
      " dropout_92 (Dropout)        (None, 16)                0         \n",
      "                                                                 \n",
      " dense_135 (Dense)           (None, 10)                170       \n",
      "                                                                 \n",
      "=================================================================\n",
      "Total params: 13,274\n",
      "Trainable params: 13,274\n",
      "Non-trainable params: 0\n",
      "_________________________________________________________________\n",
      "Epoch 1/5\n",
      "   1/1875 [..............................] - ETA: 46:30 - loss: 2.2818 - accuracy: 0.0625WARNING:tensorflow:Callback method `on_train_batch_end` is slow compared to the batch time (batch time: 0.0012s vs `on_train_batch_end` time: 0.0615s). Check your callbacks.\n"
     ]
    },
    {
     "name": "stderr",
     "output_type": "stream",
     "text": [
      "WARNING:tensorflow:Callback method `on_train_batch_end` is slow compared to the batch time (batch time: 0.0012s vs `on_train_batch_end` time: 0.0615s). Check your callbacks.\n"
     ]
    },
    {
     "name": "stdout",
     "output_type": "stream",
     "text": [
      "1875/1875 [==============================] - 7s 3ms/step - loss: 0.6152 - accuracy: 0.8355 - val_loss: 0.2908 - val_accuracy: 0.9143\n",
      "Epoch 2/5\n",
      "1875/1875 [==============================] - 5s 3ms/step - loss: 0.3612 - accuracy: 0.8970 - val_loss: 0.2484 - val_accuracy: 0.9263\n",
      "Epoch 3/5\n",
      "1875/1875 [==============================] - 5s 2ms/step - loss: 0.3278 - accuracy: 0.9054 - val_loss: 0.2452 - val_accuracy: 0.9314\n",
      "Epoch 4/5\n",
      "1875/1875 [==============================] - 7s 4ms/step - loss: 0.3102 - accuracy: 0.9109 - val_loss: 0.2285 - val_accuracy: 0.9318\n",
      "Epoch 5/5\n",
      "1875/1875 [==============================] - 5s 3ms/step - loss: 0.2968 - accuracy: 0.9154 - val_loss: 0.2156 - val_accuracy: 0.9372\n"
     ]
    },
    {
     "name": "stderr",
     "output_type": "stream",
     "text": [
      "WARNING:absl:Found untraced functions such as _update_step_xla while saving (showing 1 of 1). These functions will not be directly callable after loading.\n"
     ]
    },
    {
     "name": "stdout",
     "output_type": "stream",
     "text": [
      "INFO:tensorflow:Assets written to: C:\\Users\\kauak\\AppData\\Local\\Temp\\tmpopp1gikw\\model\\data\\model\\assets\n"
     ]
    },
    {
     "name": "stderr",
     "output_type": "stream",
     "text": [
      "INFO:tensorflow:Assets written to: C:\\Users\\kauak\\AppData\\Local\\Temp\\tmpopp1gikw\\model\\data\\model\\assets\n"
     ]
    },
    {
     "name": "stdout",
     "output_type": "stream",
     "text": [
      "Modelo:  7c91ae2f200e49e5991f8875a30a7f05\n"
     ]
    },
    {
     "name": "stderr",
     "output_type": "stream",
     "text": [
      "2025/02/07 09:23:34 WARNING mlflow.utils.autologging_utils: You are using an unsupported version of tensorflow. If you encounter errors during autologging, try upgrading / downgrading tensorflow to a supported version, or try upgrading MLflow.\n"
     ]
    },
    {
     "name": "stdout",
     "output_type": "stream",
     "text": [
      "Model: \"sequential_43\"\n",
      "_________________________________________________________________\n",
      " Layer (type)                Output Shape              Param #   \n",
      "=================================================================\n",
      " dense_136 (Dense)           (None, 16)                12560     \n",
      "                                                                 \n",
      " dropout_93 (Dropout)        (None, 16)                0         \n",
      "                                                                 \n",
      " dense_137 (Dense)           (None, 16)                272       \n",
      "                                                                 \n",
      " dropout_94 (Dropout)        (None, 16)                0         \n",
      "                                                                 \n",
      " dense_138 (Dense)           (None, 16)                272       \n",
      "                                                                 \n",
      " dropout_95 (Dropout)        (None, 16)                0         \n",
      "                                                                 \n",
      " dense_139 (Dense)           (None, 10)                170       \n",
      "                                                                 \n",
      "=================================================================\n",
      "Total params: 13,274\n",
      "Trainable params: 13,274\n",
      "Non-trainable params: 0\n",
      "_________________________________________________________________\n",
      "Epoch 1/10\n",
      "   1/1875 [..............................] - ETA: 58:51 - loss: 2.4787 - accuracy: 0.0000e+00WARNING:tensorflow:Callback method `on_train_batch_end` is slow compared to the batch time (batch time: 0.0018s vs `on_train_batch_end` time: 0.0183s). Check your callbacks.\n"
     ]
    },
    {
     "name": "stderr",
     "output_type": "stream",
     "text": [
      "WARNING:tensorflow:Callback method `on_train_batch_end` is slow compared to the batch time (batch time: 0.0018s vs `on_train_batch_end` time: 0.0183s). Check your callbacks.\n"
     ]
    },
    {
     "name": "stdout",
     "output_type": "stream",
     "text": [
      "1875/1875 [==============================] - 9s 4ms/step - loss: 0.6155 - accuracy: 0.8319 - val_loss: 0.3001 - val_accuracy: 0.9121\n",
      "Epoch 2/10\n",
      "1875/1875 [==============================] - 7s 4ms/step - loss: 0.3689 - accuracy: 0.8954 - val_loss: 0.2737 - val_accuracy: 0.9233\n",
      "Epoch 3/10\n",
      "1875/1875 [==============================] - 6s 3ms/step - loss: 0.3295 - accuracy: 0.9063 - val_loss: 0.2438 - val_accuracy: 0.9297\n",
      "Epoch 4/10\n",
      "1875/1875 [==============================] - 6s 3ms/step - loss: 0.3043 - accuracy: 0.9124 - val_loss: 0.2244 - val_accuracy: 0.9344\n",
      "Epoch 5/10\n",
      "1875/1875 [==============================] - 6s 3ms/step - loss: 0.2922 - accuracy: 0.9165 - val_loss: 0.2242 - val_accuracy: 0.9371\n",
      "Epoch 6/10\n",
      "1875/1875 [==============================] - 5s 3ms/step - loss: 0.2817 - accuracy: 0.9191 - val_loss: 0.2075 - val_accuracy: 0.9387\n",
      "Epoch 7/10\n",
      "1875/1875 [==============================] - 6s 3ms/step - loss: 0.2705 - accuracy: 0.9221 - val_loss: 0.2026 - val_accuracy: 0.9408\n",
      "Epoch 8/10\n",
      "1875/1875 [==============================] - 5s 3ms/step - loss: 0.2632 - accuracy: 0.9243 - val_loss: 0.2129 - val_accuracy: 0.9407\n",
      "Epoch 9/10\n",
      "1875/1875 [==============================] - 5s 3ms/step - loss: 0.2592 - accuracy: 0.9254 - val_loss: 0.1942 - val_accuracy: 0.9425\n",
      "Epoch 10/10\n",
      "1875/1875 [==============================] - 6s 3ms/step - loss: 0.2496 - accuracy: 0.9294 - val_loss: 0.1901 - val_accuracy: 0.9466\n"
     ]
    },
    {
     "name": "stderr",
     "output_type": "stream",
     "text": [
      "WARNING:absl:Found untraced functions such as _update_step_xla while saving (showing 1 of 1). These functions will not be directly callable after loading.\n"
     ]
    },
    {
     "name": "stdout",
     "output_type": "stream",
     "text": [
      "INFO:tensorflow:Assets written to: C:\\Users\\kauak\\AppData\\Local\\Temp\\tmp23abhcg9\\model\\data\\model\\assets\n"
     ]
    },
    {
     "name": "stderr",
     "output_type": "stream",
     "text": [
      "INFO:tensorflow:Assets written to: C:\\Users\\kauak\\AppData\\Local\\Temp\\tmp23abhcg9\\model\\data\\model\\assets\n",
      "2025/02/07 09:25:59 WARNING mlflow.utils.autologging_utils: You are using an unsupported version of tensorflow. If you encounter errors during autologging, try upgrading / downgrading tensorflow to a supported version, or try upgrading MLflow.\n"
     ]
    },
    {
     "name": "stdout",
     "output_type": "stream",
     "text": [
      "Modelo:  b98f5871bc56410e982d86ea2f408956\n",
      "Model: \"sequential_44\"\n",
      "_________________________________________________________________\n",
      " Layer (type)                Output Shape              Param #   \n",
      "=================================================================\n",
      " dense_140 (Dense)           (None, 16)                12560     \n",
      "                                                                 \n",
      " dropout_96 (Dropout)        (None, 16)                0         \n",
      "                                                                 \n",
      " dense_141 (Dense)           (None, 16)                272       \n",
      "                                                                 \n",
      " dropout_97 (Dropout)        (None, 16)                0         \n",
      "                                                                 \n",
      " dense_142 (Dense)           (None, 16)                272       \n",
      "                                                                 \n",
      " dropout_98 (Dropout)        (None, 16)                0         \n",
      "                                                                 \n",
      " dense_143 (Dense)           (None, 10)                170       \n",
      "                                                                 \n",
      "=================================================================\n",
      "Total params: 13,274\n",
      "Trainable params: 13,274\n",
      "Non-trainable params: 0\n",
      "_________________________________________________________________\n",
      "Epoch 1/20\n",
      "   1/1875 [..............................] - ETA: 47:57 - loss: 2.3654 - accuracy: 0.0938WARNING:tensorflow:Callback method `on_train_batch_end` is slow compared to the batch time (batch time: 0.0016s vs `on_train_batch_end` time: 0.0849s). Check your callbacks.\n"
     ]
    },
    {
     "name": "stderr",
     "output_type": "stream",
     "text": [
      "WARNING:tensorflow:Callback method `on_train_batch_end` is slow compared to the batch time (batch time: 0.0016s vs `on_train_batch_end` time: 0.0849s). Check your callbacks.\n"
     ]
    },
    {
     "name": "stdout",
     "output_type": "stream",
     "text": [
      "1875/1875 [==============================] - 6s 2ms/step - loss: 0.6244 - accuracy: 0.8305 - val_loss: 0.2909 - val_accuracy: 0.9184\n",
      "Epoch 2/20\n",
      "1875/1875 [==============================] - 5s 3ms/step - loss: 0.3694 - accuracy: 0.8941 - val_loss: 0.2616 - val_accuracy: 0.9246\n",
      "Epoch 3/20\n",
      "1875/1875 [==============================] - 6s 3ms/step - loss: 0.3332 - accuracy: 0.9050 - val_loss: 0.2259 - val_accuracy: 0.9370\n",
      "Epoch 4/20\n",
      "1875/1875 [==============================] - 5s 3ms/step - loss: 0.3148 - accuracy: 0.9098 - val_loss: 0.2189 - val_accuracy: 0.9371\n",
      "Epoch 5/20\n",
      "1875/1875 [==============================] - 5s 2ms/step - loss: 0.2965 - accuracy: 0.9157 - val_loss: 0.2043 - val_accuracy: 0.9408\n",
      "Epoch 6/20\n",
      "1875/1875 [==============================] - 5s 3ms/step - loss: 0.2854 - accuracy: 0.9179 - val_loss: 0.2026 - val_accuracy: 0.9429\n",
      "Epoch 7/20\n",
      "1875/1875 [==============================] - 5s 2ms/step - loss: 0.2775 - accuracy: 0.9194 - val_loss: 0.1977 - val_accuracy: 0.9437\n",
      "Epoch 8/20\n",
      "1875/1875 [==============================] - 4s 2ms/step - loss: 0.2716 - accuracy: 0.9222 - val_loss: 0.2012 - val_accuracy: 0.9412\n",
      "Epoch 9/20\n",
      "1875/1875 [==============================] - 4s 2ms/step - loss: 0.2656 - accuracy: 0.9231 - val_loss: 0.1913 - val_accuracy: 0.9460\n",
      "Epoch 10/20\n",
      "1875/1875 [==============================] - 5s 2ms/step - loss: 0.2593 - accuracy: 0.9249 - val_loss: 0.1916 - val_accuracy: 0.9470\n",
      "Epoch 11/20\n",
      "1875/1875 [==============================] - 4s 2ms/step - loss: 0.2541 - accuracy: 0.9265 - val_loss: 0.1916 - val_accuracy: 0.9466\n",
      "Epoch 12/20\n",
      "1875/1875 [==============================] - 5s 2ms/step - loss: 0.2532 - accuracy: 0.9262 - val_loss: 0.1932 - val_accuracy: 0.9451\n",
      "Epoch 13/20\n",
      "1875/1875 [==============================] - 5s 3ms/step - loss: 0.2481 - accuracy: 0.9281 - val_loss: 0.1902 - val_accuracy: 0.9459\n",
      "Epoch 14/20\n",
      "1875/1875 [==============================] - 4s 2ms/step - loss: 0.2462 - accuracy: 0.9278 - val_loss: 0.1972 - val_accuracy: 0.9454\n",
      "Epoch 15/20\n",
      "1875/1875 [==============================] - 4s 2ms/step - loss: 0.2423 - accuracy: 0.9284 - val_loss: 0.1894 - val_accuracy: 0.9487\n",
      "Epoch 16/20\n",
      "1875/1875 [==============================] - 4s 2ms/step - loss: 0.2424 - accuracy: 0.9281 - val_loss: 0.1904 - val_accuracy: 0.9475\n",
      "Epoch 17/20\n",
      "1875/1875 [==============================] - 5s 3ms/step - loss: 0.2400 - accuracy: 0.9294 - val_loss: 0.1858 - val_accuracy: 0.9476\n",
      "Epoch 18/20\n",
      "1875/1875 [==============================] - 4s 2ms/step - loss: 0.2366 - accuracy: 0.9303 - val_loss: 0.1921 - val_accuracy: 0.9469\n",
      "Epoch 19/20\n",
      "1875/1875 [==============================] - 5s 3ms/step - loss: 0.2337 - accuracy: 0.9320 - val_loss: 0.1888 - val_accuracy: 0.9469\n",
      "Epoch 20/20\n",
      "1875/1875 [==============================] - 4s 2ms/step - loss: 0.2341 - accuracy: 0.9309 - val_loss: 0.1862 - val_accuracy: 0.9486\n"
     ]
    },
    {
     "name": "stderr",
     "output_type": "stream",
     "text": [
      "WARNING:absl:Found untraced functions such as _update_step_xla while saving (showing 1 of 1). These functions will not be directly callable after loading.\n"
     ]
    },
    {
     "name": "stdout",
     "output_type": "stream",
     "text": [
      "INFO:tensorflow:Assets written to: C:\\Users\\kauak\\AppData\\Local\\Temp\\tmp341a3bv8\\model\\data\\model\\assets\n"
     ]
    },
    {
     "name": "stderr",
     "output_type": "stream",
     "text": [
      "INFO:tensorflow:Assets written to: C:\\Users\\kauak\\AppData\\Local\\Temp\\tmp341a3bv8\\model\\data\\model\\assets\n",
      "2025/02/07 09:27:47 WARNING mlflow.utils.autologging_utils: You are using an unsupported version of tensorflow. If you encounter errors during autologging, try upgrading / downgrading tensorflow to a supported version, or try upgrading MLflow.\n"
     ]
    },
    {
     "name": "stdout",
     "output_type": "stream",
     "text": [
      "Modelo:  79a5450426a2451d942e39006d107b9c\n",
      "Model: \"sequential_45\"\n",
      "_________________________________________________________________\n",
      " Layer (type)                Output Shape              Param #   \n",
      "=================================================================\n",
      " dense_144 (Dense)           (None, 16)                12560     \n",
      "                                                                 \n",
      " dropout_99 (Dropout)        (None, 16)                0         \n",
      "                                                                 \n",
      " dense_145 (Dense)           (None, 16)                272       \n",
      "                                                                 \n",
      " dropout_100 (Dropout)       (None, 16)                0         \n",
      "                                                                 \n",
      " dense_146 (Dense)           (None, 16)                272       \n",
      "                                                                 \n",
      " dropout_101 (Dropout)       (None, 16)                0         \n",
      "                                                                 \n",
      " dense_147 (Dense)           (None, 10)                170       \n",
      "                                                                 \n",
      "=================================================================\n",
      "Total params: 13,274\n",
      "Trainable params: 13,274\n",
      "Non-trainable params: 0\n",
      "_________________________________________________________________\n",
      "Epoch 1/5\n",
      "   1/1875 [..............................] - ETA: 31:53 - loss: 2.2898 - accuracy: 0.1875WARNING:tensorflow:Callback method `on_train_batch_end` is slow compared to the batch time (batch time: 0.0020s vs `on_train_batch_end` time: 0.0115s). Check your callbacks.\n"
     ]
    },
    {
     "name": "stderr",
     "output_type": "stream",
     "text": [
      "WARNING:tensorflow:Callback method `on_train_batch_end` is slow compared to the batch time (batch time: 0.0020s vs `on_train_batch_end` time: 0.0115s). Check your callbacks.\n"
     ]
    },
    {
     "name": "stdout",
     "output_type": "stream",
     "text": [
      "1875/1875 [==============================] - 6s 3ms/step - loss: 0.8172 - accuracy: 0.7563 - val_loss: 0.3471 - val_accuracy: 0.9015\n",
      "Epoch 2/5\n",
      "1875/1875 [==============================] - 4s 2ms/step - loss: 0.5314 - accuracy: 0.8461 - val_loss: 0.2850 - val_accuracy: 0.9188\n",
      "Epoch 3/5\n",
      "1875/1875 [==============================] - 4s 2ms/step - loss: 0.4706 - accuracy: 0.8649 - val_loss: 0.2773 - val_accuracy: 0.9201\n",
      "Epoch 4/5\n",
      "1875/1875 [==============================] - 4s 2ms/step - loss: 0.4437 - accuracy: 0.8731 - val_loss: 0.2613 - val_accuracy: 0.9253\n",
      "Epoch 5/5\n",
      "1875/1875 [==============================] - 4s 2ms/step - loss: 0.4289 - accuracy: 0.8777 - val_loss: 0.2453 - val_accuracy: 0.9297\n"
     ]
    },
    {
     "name": "stderr",
     "output_type": "stream",
     "text": [
      "WARNING:absl:Found untraced functions such as _update_step_xla while saving (showing 1 of 1). These functions will not be directly callable after loading.\n"
     ]
    },
    {
     "name": "stdout",
     "output_type": "stream",
     "text": [
      "INFO:tensorflow:Assets written to: C:\\Users\\kauak\\AppData\\Local\\Temp\\tmpwexh_ny4\\model\\data\\model\\assets\n"
     ]
    },
    {
     "name": "stderr",
     "output_type": "stream",
     "text": [
      "INFO:tensorflow:Assets written to: C:\\Users\\kauak\\AppData\\Local\\Temp\\tmpwexh_ny4\\model\\data\\model\\assets\n",
      "2025/02/07 09:28:18 WARNING mlflow.utils.autologging_utils: You are using an unsupported version of tensorflow. If you encounter errors during autologging, try upgrading / downgrading tensorflow to a supported version, or try upgrading MLflow.\n"
     ]
    },
    {
     "name": "stdout",
     "output_type": "stream",
     "text": [
      "Modelo:  7710132a964f4eae8a529ea2436abbb2\n",
      "Model: \"sequential_46\"\n",
      "_________________________________________________________________\n",
      " Layer (type)                Output Shape              Param #   \n",
      "=================================================================\n",
      " dense_148 (Dense)           (None, 16)                12560     \n",
      "                                                                 \n",
      " dropout_102 (Dropout)       (None, 16)                0         \n",
      "                                                                 \n",
      " dense_149 (Dense)           (None, 16)                272       \n",
      "                                                                 \n",
      " dropout_103 (Dropout)       (None, 16)                0         \n",
      "                                                                 \n",
      " dense_150 (Dense)           (None, 16)                272       \n",
      "                                                                 \n",
      " dropout_104 (Dropout)       (None, 16)                0         \n",
      "                                                                 \n",
      " dense_151 (Dense)           (None, 10)                170       \n",
      "                                                                 \n",
      "=================================================================\n",
      "Total params: 13,274\n",
      "Trainable params: 13,274\n",
      "Non-trainable params: 0\n",
      "_________________________________________________________________\n",
      "Epoch 1/10\n",
      "   1/1875 [..............................] - ETA: 34:19 - loss: 2.4022 - accuracy: 0.0938WARNING:tensorflow:Callback method `on_train_batch_end` is slow compared to the batch time (batch time: 0.0020s vs `on_train_batch_end` time: 0.0166s). Check your callbacks.\n"
     ]
    },
    {
     "name": "stderr",
     "output_type": "stream",
     "text": [
      "WARNING:tensorflow:Callback method `on_train_batch_end` is slow compared to the batch time (batch time: 0.0020s vs `on_train_batch_end` time: 0.0166s). Check your callbacks.\n"
     ]
    },
    {
     "name": "stdout",
     "output_type": "stream",
     "text": [
      "1875/1875 [==============================] - 6s 3ms/step - loss: 0.7792 - accuracy: 0.7724 - val_loss: 0.3522 - val_accuracy: 0.8981\n",
      "Epoch 2/10\n",
      "1875/1875 [==============================] - 4s 2ms/step - loss: 0.5099 - accuracy: 0.8540 - val_loss: 0.3199 - val_accuracy: 0.9110\n",
      "Epoch 3/10\n",
      "1875/1875 [==============================] - 4s 2ms/step - loss: 0.4679 - accuracy: 0.8682 - val_loss: 0.2926 - val_accuracy: 0.9185\n",
      "Epoch 4/10\n",
      "1875/1875 [==============================] - 4s 2ms/step - loss: 0.4412 - accuracy: 0.8755 - val_loss: 0.2832 - val_accuracy: 0.9203\n",
      "Epoch 5/10\n",
      "1875/1875 [==============================] - 4s 2ms/step - loss: 0.4252 - accuracy: 0.8821 - val_loss: 0.2710 - val_accuracy: 0.9243\n",
      "Epoch 6/10\n",
      "1875/1875 [==============================] - 4s 2ms/step - loss: 0.4160 - accuracy: 0.8824 - val_loss: 0.2681 - val_accuracy: 0.9232\n",
      "Epoch 7/10\n",
      "1875/1875 [==============================] - 4s 2ms/step - loss: 0.4105 - accuracy: 0.8841 - val_loss: 0.2757 - val_accuracy: 0.9209\n",
      "Epoch 8/10\n",
      "1875/1875 [==============================] - 4s 2ms/step - loss: 0.4041 - accuracy: 0.8857 - val_loss: 0.2620 - val_accuracy: 0.9249\n",
      "Epoch 9/10\n",
      "1875/1875 [==============================] - 4s 2ms/step - loss: 0.3918 - accuracy: 0.8911 - val_loss: 0.2545 - val_accuracy: 0.9274\n",
      "Epoch 10/10\n",
      "1875/1875 [==============================] - 4s 2ms/step - loss: 0.3923 - accuracy: 0.8898 - val_loss: 0.2428 - val_accuracy: 0.9298\n"
     ]
    },
    {
     "name": "stderr",
     "output_type": "stream",
     "text": [
      "WARNING:absl:Found untraced functions such as _update_step_xla while saving (showing 1 of 1). These functions will not be directly callable after loading.\n"
     ]
    },
    {
     "name": "stdout",
     "output_type": "stream",
     "text": [
      "INFO:tensorflow:Assets written to: C:\\Users\\kauak\\AppData\\Local\\Temp\\tmpjgna1kmo\\model\\data\\model\\assets\n"
     ]
    },
    {
     "name": "stderr",
     "output_type": "stream",
     "text": [
      "INFO:tensorflow:Assets written to: C:\\Users\\kauak\\AppData\\Local\\Temp\\tmpjgna1kmo\\model\\data\\model\\assets\n",
      "2025/02/07 09:29:10 WARNING mlflow.utils.autologging_utils: You are using an unsupported version of tensorflow. If you encounter errors during autologging, try upgrading / downgrading tensorflow to a supported version, or try upgrading MLflow.\n"
     ]
    },
    {
     "name": "stdout",
     "output_type": "stream",
     "text": [
      "Modelo:  bf1bcde7a1604ce2a9f57aba1eb61481\n",
      "Model: \"sequential_47\"\n",
      "_________________________________________________________________\n",
      " Layer (type)                Output Shape              Param #   \n",
      "=================================================================\n",
      " dense_152 (Dense)           (None, 16)                12560     \n",
      "                                                                 \n",
      " dropout_105 (Dropout)       (None, 16)                0         \n",
      "                                                                 \n",
      " dense_153 (Dense)           (None, 16)                272       \n",
      "                                                                 \n",
      " dropout_106 (Dropout)       (None, 16)                0         \n",
      "                                                                 \n",
      " dense_154 (Dense)           (None, 16)                272       \n",
      "                                                                 \n",
      " dropout_107 (Dropout)       (None, 16)                0         \n",
      "                                                                 \n",
      " dense_155 (Dense)           (None, 10)                170       \n",
      "                                                                 \n",
      "=================================================================\n",
      "Total params: 13,274\n",
      "Trainable params: 13,274\n",
      "Non-trainable params: 0\n",
      "_________________________________________________________________\n",
      "Epoch 1/20\n",
      "   1/1875 [..............................] - ETA: 31:47 - loss: 2.3562 - accuracy: 0.1562WARNING:tensorflow:Callback method `on_train_batch_end` is slow compared to the batch time (batch time: 0.0022s vs `on_train_batch_end` time: 0.0103s). Check your callbacks.\n"
     ]
    },
    {
     "name": "stderr",
     "output_type": "stream",
     "text": [
      "WARNING:tensorflow:Callback method `on_train_batch_end` is slow compared to the batch time (batch time: 0.0022s vs `on_train_batch_end` time: 0.0103s). Check your callbacks.\n"
     ]
    },
    {
     "name": "stdout",
     "output_type": "stream",
     "text": [
      "1875/1875 [==============================] - 6s 2ms/step - loss: 0.7893 - accuracy: 0.7631 - val_loss: 0.3618 - val_accuracy: 0.8954\n",
      "Epoch 2/20\n",
      "1875/1875 [==============================] - 4s 2ms/step - loss: 0.5152 - accuracy: 0.8512 - val_loss: 0.2815 - val_accuracy: 0.9198\n",
      "Epoch 3/20\n",
      "1875/1875 [==============================] - 4s 2ms/step - loss: 0.4649 - accuracy: 0.8669 - val_loss: 0.2771 - val_accuracy: 0.9192\n",
      "Epoch 4/20\n",
      "1875/1875 [==============================] - 4s 2ms/step - loss: 0.4461 - accuracy: 0.8742 - val_loss: 0.2607 - val_accuracy: 0.9259\n",
      "Epoch 5/20\n",
      "1875/1875 [==============================] - 4s 2ms/step - loss: 0.4225 - accuracy: 0.8805 - val_loss: 0.2544 - val_accuracy: 0.9265\n",
      "Epoch 6/20\n",
      "1875/1875 [==============================] - 4s 2ms/step - loss: 0.4121 - accuracy: 0.8836 - val_loss: 0.2527 - val_accuracy: 0.9264\n",
      "Epoch 7/20\n",
      "1875/1875 [==============================] - 4s 2ms/step - loss: 0.4047 - accuracy: 0.8877 - val_loss: 0.2384 - val_accuracy: 0.9312\n",
      "Epoch 8/20\n",
      "1875/1875 [==============================] - 4s 2ms/step - loss: 0.3964 - accuracy: 0.8876 - val_loss: 0.2366 - val_accuracy: 0.9340\n",
      "Epoch 9/20\n",
      "1875/1875 [==============================] - 4s 2ms/step - loss: 0.3882 - accuracy: 0.8912 - val_loss: 0.2439 - val_accuracy: 0.9292\n",
      "Epoch 10/20\n",
      "1875/1875 [==============================] - 4s 2ms/step - loss: 0.3820 - accuracy: 0.8925 - val_loss: 0.2403 - val_accuracy: 0.9313\n",
      "Epoch 11/20\n",
      "1875/1875 [==============================] - 4s 2ms/step - loss: 0.3806 - accuracy: 0.8940 - val_loss: 0.2382 - val_accuracy: 0.9314\n",
      "Epoch 12/20\n",
      "1875/1875 [==============================] - 4s 2ms/step - loss: 0.3781 - accuracy: 0.8932 - val_loss: 0.2345 - val_accuracy: 0.9323\n",
      "Epoch 13/20\n",
      "1875/1875 [==============================] - 4s 2ms/step - loss: 0.3717 - accuracy: 0.8948 - val_loss: 0.2380 - val_accuracy: 0.9320\n",
      "Epoch 14/20\n",
      "1875/1875 [==============================] - 4s 2ms/step - loss: 0.3667 - accuracy: 0.8973 - val_loss: 0.2278 - val_accuracy: 0.9359\n",
      "Epoch 15/20\n",
      "1875/1875 [==============================] - 4s 2ms/step - loss: 0.3704 - accuracy: 0.8969 - val_loss: 0.2320 - val_accuracy: 0.9349\n",
      "Epoch 16/20\n",
      "1875/1875 [==============================] - 4s 2ms/step - loss: 0.3642 - accuracy: 0.8960 - val_loss: 0.2329 - val_accuracy: 0.9311\n",
      "Epoch 17/20\n",
      "1875/1875 [==============================] - 4s 2ms/step - loss: 0.3609 - accuracy: 0.8977 - val_loss: 0.2277 - val_accuracy: 0.9357\n",
      "Epoch 18/20\n",
      "1875/1875 [==============================] - 4s 2ms/step - loss: 0.3585 - accuracy: 0.8999 - val_loss: 0.2277 - val_accuracy: 0.9348\n",
      "Epoch 19/20\n",
      "1875/1875 [==============================] - 4s 2ms/step - loss: 0.3560 - accuracy: 0.9002 - val_loss: 0.2237 - val_accuracy: 0.9359\n",
      "Epoch 20/20\n",
      "1875/1875 [==============================] - 4s 2ms/step - loss: 0.3543 - accuracy: 0.9000 - val_loss: 0.2252 - val_accuracy: 0.9364\n"
     ]
    },
    {
     "name": "stderr",
     "output_type": "stream",
     "text": [
      "WARNING:absl:Found untraced functions such as _update_step_xla while saving (showing 1 of 1). These functions will not be directly callable after loading.\n"
     ]
    },
    {
     "name": "stdout",
     "output_type": "stream",
     "text": [
      "INFO:tensorflow:Assets written to: C:\\Users\\kauak\\AppData\\Local\\Temp\\tmpr4q17548\\model\\data\\model\\assets\n"
     ]
    },
    {
     "name": "stderr",
     "output_type": "stream",
     "text": [
      "INFO:tensorflow:Assets written to: C:\\Users\\kauak\\AppData\\Local\\Temp\\tmpr4q17548\\model\\data\\model\\assets\n",
      "2025/02/07 09:31:41 WARNING mlflow.utils.autologging_utils: You are using an unsupported version of tensorflow. If you encounter errors during autologging, try upgrading / downgrading tensorflow to a supported version, or try upgrading MLflow.\n"
     ]
    },
    {
     "name": "stdout",
     "output_type": "stream",
     "text": [
      "Modelo:  7391f28202a6458f9a88066dfcf8cf1c\n",
      "Model: \"sequential_48\"\n",
      "_________________________________________________________________\n",
      " Layer (type)                Output Shape              Param #   \n",
      "=================================================================\n",
      " dense_156 (Dense)           (None, 32)                25120     \n",
      "                                                                 \n",
      " dropout_108 (Dropout)       (None, 32)                0         \n",
      "                                                                 \n",
      " dense_157 (Dense)           (None, 32)                1056      \n",
      "                                                                 \n",
      " dropout_109 (Dropout)       (None, 32)                0         \n",
      "                                                                 \n",
      " dense_158 (Dense)           (None, 32)                1056      \n",
      "                                                                 \n",
      " dropout_110 (Dropout)       (None, 32)                0         \n",
      "                                                                 \n",
      " dense_159 (Dense)           (None, 10)                330       \n",
      "                                                                 \n",
      "=================================================================\n",
      "Total params: 27,562\n",
      "Trainable params: 27,562\n",
      "Non-trainable params: 0\n",
      "_________________________________________________________________\n",
      "Epoch 1/5\n",
      "   1/1875 [..............................] - ETA: 37:01 - loss: 2.2675 - accuracy: 0.1562WARNING:tensorflow:Callback method `on_train_batch_end` is slow compared to the batch time (batch time: 0.0018s vs `on_train_batch_end` time: 0.0334s). Check your callbacks.\n"
     ]
    },
    {
     "name": "stderr",
     "output_type": "stream",
     "text": [
      "WARNING:tensorflow:Callback method `on_train_batch_end` is slow compared to the batch time (batch time: 0.0018s vs `on_train_batch_end` time: 0.0334s). Check your callbacks.\n"
     ]
    },
    {
     "name": "stdout",
     "output_type": "stream",
     "text": [
      "1875/1875 [==============================] - 6s 3ms/step - loss: 0.5086 - accuracy: 0.8455 - val_loss: 0.2157 - val_accuracy: 0.9346\n",
      "Epoch 2/5\n",
      "1875/1875 [==============================] - 4s 2ms/step - loss: 0.2738 - accuracy: 0.9208 - val_loss: 0.1734 - val_accuracy: 0.9467\n",
      "Epoch 3/5\n",
      "1875/1875 [==============================] - 4s 2ms/step - loss: 0.2255 - accuracy: 0.9345 - val_loss: 0.1459 - val_accuracy: 0.9553\n",
      "Epoch 4/5\n",
      "1875/1875 [==============================] - 4s 2ms/step - loss: 0.1971 - accuracy: 0.9425 - val_loss: 0.1326 - val_accuracy: 0.9594\n",
      "Epoch 5/5\n",
      "1875/1875 [==============================] - 5s 2ms/step - loss: 0.1820 - accuracy: 0.9470 - val_loss: 0.1298 - val_accuracy: 0.9604\n"
     ]
    },
    {
     "name": "stderr",
     "output_type": "stream",
     "text": [
      "WARNING:absl:Found untraced functions such as _update_step_xla while saving (showing 1 of 1). These functions will not be directly callable after loading.\n"
     ]
    },
    {
     "name": "stdout",
     "output_type": "stream",
     "text": [
      "INFO:tensorflow:Assets written to: C:\\Users\\kauak\\AppData\\Local\\Temp\\tmpzbcqlilt\\model\\data\\model\\assets\n"
     ]
    },
    {
     "name": "stderr",
     "output_type": "stream",
     "text": [
      "INFO:tensorflow:Assets written to: C:\\Users\\kauak\\AppData\\Local\\Temp\\tmpzbcqlilt\\model\\data\\model\\assets\n",
      "2025/02/07 09:32:31 WARNING mlflow.utils.autologging_utils: You are using an unsupported version of tensorflow. If you encounter errors during autologging, try upgrading / downgrading tensorflow to a supported version, or try upgrading MLflow.\n"
     ]
    },
    {
     "name": "stdout",
     "output_type": "stream",
     "text": [
      "Modelo:  036f127b631f4e6c94116d043aefa1f7\n",
      "Model: \"sequential_49\"\n",
      "_________________________________________________________________\n",
      " Layer (type)                Output Shape              Param #   \n",
      "=================================================================\n",
      " dense_160 (Dense)           (None, 32)                25120     \n",
      "                                                                 \n",
      " dropout_111 (Dropout)       (None, 32)                0         \n",
      "                                                                 \n",
      " dense_161 (Dense)           (None, 32)                1056      \n",
      "                                                                 \n",
      " dropout_112 (Dropout)       (None, 32)                0         \n",
      "                                                                 \n",
      " dense_162 (Dense)           (None, 32)                1056      \n",
      "                                                                 \n",
      " dropout_113 (Dropout)       (None, 32)                0         \n",
      "                                                                 \n",
      " dense_163 (Dense)           (None, 10)                330       \n",
      "                                                                 \n",
      "=================================================================\n",
      "Total params: 27,562\n",
      "Trainable params: 27,562\n",
      "Non-trainable params: 0\n",
      "_________________________________________________________________\n",
      "Epoch 1/10\n",
      "   1/1875 [..............................] - ETA: 34:16 - loss: 2.4147 - accuracy: 0.0000e+00WARNING:tensorflow:Callback method `on_train_batch_end` is slow compared to the batch time (batch time: 0.0022s vs `on_train_batch_end` time: 0.0169s). Check your callbacks.\n"
     ]
    },
    {
     "name": "stderr",
     "output_type": "stream",
     "text": [
      "WARNING:tensorflow:Callback method `on_train_batch_end` is slow compared to the batch time (batch time: 0.0022s vs `on_train_batch_end` time: 0.0169s). Check your callbacks.\n"
     ]
    },
    {
     "name": "stdout",
     "output_type": "stream",
     "text": [
      "1875/1875 [==============================] - 7s 3ms/step - loss: 0.5146 - accuracy: 0.8386 - val_loss: 0.2012 - val_accuracy: 0.9398\n",
      "Epoch 2/10\n",
      "1875/1875 [==============================] - 5s 2ms/step - loss: 0.2669 - accuracy: 0.9213 - val_loss: 0.1627 - val_accuracy: 0.9508\n",
      "Epoch 3/10\n",
      "1875/1875 [==============================] - 5s 2ms/step - loss: 0.2268 - accuracy: 0.9330 - val_loss: 0.1580 - val_accuracy: 0.9533\n",
      "Epoch 4/10\n",
      "1875/1875 [==============================] - 4s 2ms/step - loss: 0.2017 - accuracy: 0.9409 - val_loss: 0.1377 - val_accuracy: 0.9581\n",
      "Epoch 5/10\n",
      "1875/1875 [==============================] - 4s 2ms/step - loss: 0.1835 - accuracy: 0.9465 - val_loss: 0.1354 - val_accuracy: 0.9601\n",
      "Epoch 6/10\n",
      "1875/1875 [==============================] - 5s 2ms/step - loss: 0.1739 - accuracy: 0.9480 - val_loss: 0.1308 - val_accuracy: 0.9616\n",
      "Epoch 7/10\n",
      "1875/1875 [==============================] - 4s 2ms/step - loss: 0.1632 - accuracy: 0.9515 - val_loss: 0.1234 - val_accuracy: 0.9628\n",
      "Epoch 8/10\n",
      "1875/1875 [==============================] - 4s 2ms/step - loss: 0.1602 - accuracy: 0.9520 - val_loss: 0.1194 - val_accuracy: 0.9635\n",
      "Epoch 9/10\n",
      "1875/1875 [==============================] - 5s 2ms/step - loss: 0.1500 - accuracy: 0.9561 - val_loss: 0.1161 - val_accuracy: 0.9649\n",
      "Epoch 10/10\n",
      "1875/1875 [==============================] - 5s 2ms/step - loss: 0.1479 - accuracy: 0.9557 - val_loss: 0.1150 - val_accuracy: 0.9647\n"
     ]
    },
    {
     "name": "stderr",
     "output_type": "stream",
     "text": [
      "WARNING:absl:Found untraced functions such as _update_step_xla while saving (showing 1 of 1). These functions will not be directly callable after loading.\n"
     ]
    },
    {
     "name": "stdout",
     "output_type": "stream",
     "text": [
      "INFO:tensorflow:Assets written to: C:\\Users\\kauak\\AppData\\Local\\Temp\\tmpruu5b9_d\\model\\data\\model\\assets\n"
     ]
    },
    {
     "name": "stderr",
     "output_type": "stream",
     "text": [
      "INFO:tensorflow:Assets written to: C:\\Users\\kauak\\AppData\\Local\\Temp\\tmpruu5b9_d\\model\\data\\model\\assets\n",
      "2025/02/07 09:34:03 WARNING mlflow.utils.autologging_utils: You are using an unsupported version of tensorflow. If you encounter errors during autologging, try upgrading / downgrading tensorflow to a supported version, or try upgrading MLflow.\n"
     ]
    },
    {
     "name": "stdout",
     "output_type": "stream",
     "text": [
      "Modelo:  6ba2215fc74a45f98afb6b4e4f81234c\n",
      "Model: \"sequential_50\"\n",
      "_________________________________________________________________\n",
      " Layer (type)                Output Shape              Param #   \n",
      "=================================================================\n",
      " dense_164 (Dense)           (None, 32)                25120     \n",
      "                                                                 \n",
      " dropout_114 (Dropout)       (None, 32)                0         \n",
      "                                                                 \n",
      " dense_165 (Dense)           (None, 32)                1056      \n",
      "                                                                 \n",
      " dropout_115 (Dropout)       (None, 32)                0         \n",
      "                                                                 \n",
      " dense_166 (Dense)           (None, 32)                1056      \n",
      "                                                                 \n",
      " dropout_116 (Dropout)       (None, 32)                0         \n",
      "                                                                 \n",
      " dense_167 (Dense)           (None, 10)                330       \n",
      "                                                                 \n",
      "=================================================================\n",
      "Total params: 27,562\n",
      "Trainable params: 27,562\n",
      "Non-trainable params: 0\n",
      "_________________________________________________________________\n",
      "Epoch 1/20\n",
      "   1/1875 [..............................] - ETA: 37:52 - loss: 2.3073 - accuracy: 0.1250WARNING:tensorflow:Callback method `on_train_batch_end` is slow compared to the batch time (batch time: 0.0024s vs `on_train_batch_end` time: 0.0466s). Check your callbacks.\n"
     ]
    },
    {
     "name": "stderr",
     "output_type": "stream",
     "text": [
      "WARNING:tensorflow:Callback method `on_train_batch_end` is slow compared to the batch time (batch time: 0.0024s vs `on_train_batch_end` time: 0.0466s). Check your callbacks.\n"
     ]
    },
    {
     "name": "stdout",
     "output_type": "stream",
     "text": [
      "1875/1875 [==============================] - 8s 3ms/step - loss: 0.4972 - accuracy: 0.8449 - val_loss: 0.1961 - val_accuracy: 0.9417\n",
      "Epoch 2/20\n",
      "1875/1875 [==============================] - 5s 3ms/step - loss: 0.2627 - accuracy: 0.9239 - val_loss: 0.1686 - val_accuracy: 0.9503\n",
      "Epoch 3/20\n",
      "1875/1875 [==============================] - 5s 3ms/step - loss: 0.2220 - accuracy: 0.9352 - val_loss: 0.1449 - val_accuracy: 0.9563\n",
      "Epoch 4/20\n",
      "1875/1875 [==============================] - 5s 3ms/step - loss: 0.2009 - accuracy: 0.9419 - val_loss: 0.1452 - val_accuracy: 0.9579\n",
      "Epoch 5/20\n",
      "1875/1875 [==============================] - 5s 3ms/step - loss: 0.1815 - accuracy: 0.9471 - val_loss: 0.1275 - val_accuracy: 0.9616\n",
      "Epoch 6/20\n",
      "1875/1875 [==============================] - 5s 3ms/step - loss: 0.1671 - accuracy: 0.9512 - val_loss: 0.1295 - val_accuracy: 0.9619\n",
      "Epoch 7/20\n",
      "1875/1875 [==============================] - 5s 3ms/step - loss: 0.1616 - accuracy: 0.9520 - val_loss: 0.1207 - val_accuracy: 0.9638\n",
      "Epoch 8/20\n",
      "1875/1875 [==============================] - 5s 3ms/step - loss: 0.1539 - accuracy: 0.9542 - val_loss: 0.1238 - val_accuracy: 0.9642\n",
      "Epoch 9/20\n",
      "1875/1875 [==============================] - 5s 3ms/step - loss: 0.1461 - accuracy: 0.9569 - val_loss: 0.1150 - val_accuracy: 0.9676\n",
      "Epoch 10/20\n",
      "1875/1875 [==============================] - 5s 3ms/step - loss: 0.1432 - accuracy: 0.9578 - val_loss: 0.1090 - val_accuracy: 0.9679\n",
      "Epoch 11/20\n",
      "1875/1875 [==============================] - 6s 3ms/step - loss: 0.1357 - accuracy: 0.9599 - val_loss: 0.1143 - val_accuracy: 0.9665\n",
      "Epoch 12/20\n",
      "1875/1875 [==============================] - 5s 3ms/step - loss: 0.1342 - accuracy: 0.9599 - val_loss: 0.1101 - val_accuracy: 0.9688\n",
      "Epoch 13/20\n",
      "1875/1875 [==============================] - 5s 3ms/step - loss: 0.1295 - accuracy: 0.9614 - val_loss: 0.1170 - val_accuracy: 0.9668\n",
      "Epoch 14/20\n",
      "1875/1875 [==============================] - 5s 3ms/step - loss: 0.1275 - accuracy: 0.9618 - val_loss: 0.1187 - val_accuracy: 0.9661\n",
      "Epoch 15/20\n",
      "1875/1875 [==============================] - 5s 3ms/step - loss: 0.1261 - accuracy: 0.9622 - val_loss: 0.1112 - val_accuracy: 0.9685\n",
      "Epoch 16/20\n",
      "1875/1875 [==============================] - 5s 3ms/step - loss: 0.1203 - accuracy: 0.9636 - val_loss: 0.1124 - val_accuracy: 0.9695\n",
      "Epoch 17/20\n",
      "1875/1875 [==============================] - 5s 3ms/step - loss: 0.1240 - accuracy: 0.9629 - val_loss: 0.1089 - val_accuracy: 0.9696\n",
      "Epoch 18/20\n",
      "1875/1875 [==============================] - 5s 3ms/step - loss: 0.1154 - accuracy: 0.9649 - val_loss: 0.1108 - val_accuracy: 0.9691\n",
      "Epoch 19/20\n",
      "1875/1875 [==============================] - 5s 3ms/step - loss: 0.1141 - accuracy: 0.9654 - val_loss: 0.1163 - val_accuracy: 0.9674\n",
      "Epoch 20/20\n",
      "1875/1875 [==============================] - 5s 3ms/step - loss: 0.1119 - accuracy: 0.9661 - val_loss: 0.1071 - val_accuracy: 0.9692\n"
     ]
    },
    {
     "name": "stderr",
     "output_type": "stream",
     "text": [
      "WARNING:absl:Found untraced functions such as _update_step_xla while saving (showing 1 of 1). These functions will not be directly callable after loading.\n"
     ]
    },
    {
     "name": "stdout",
     "output_type": "stream",
     "text": [
      "INFO:tensorflow:Assets written to: C:\\Users\\kauak\\AppData\\Local\\Temp\\tmp7y5zcoz4\\model\\data\\model\\assets\n"
     ]
    },
    {
     "name": "stderr",
     "output_type": "stream",
     "text": [
      "INFO:tensorflow:Assets written to: C:\\Users\\kauak\\AppData\\Local\\Temp\\tmp7y5zcoz4\\model\\data\\model\\assets\n",
      "2025/02/07 09:35:56 WARNING mlflow.utils.autologging_utils: You are using an unsupported version of tensorflow. If you encounter errors during autologging, try upgrading / downgrading tensorflow to a supported version, or try upgrading MLflow.\n"
     ]
    },
    {
     "name": "stdout",
     "output_type": "stream",
     "text": [
      "Modelo:  82451ce5baa440c7ae54b3e2b40c6500\n",
      "Model: \"sequential_51\"\n",
      "_________________________________________________________________\n",
      " Layer (type)                Output Shape              Param #   \n",
      "=================================================================\n",
      " dense_168 (Dense)           (None, 32)                25120     \n",
      "                                                                 \n",
      " dropout_117 (Dropout)       (None, 32)                0         \n",
      "                                                                 \n",
      " dense_169 (Dense)           (None, 32)                1056      \n",
      "                                                                 \n",
      " dropout_118 (Dropout)       (None, 32)                0         \n",
      "                                                                 \n",
      " dense_170 (Dense)           (None, 32)                1056      \n",
      "                                                                 \n",
      " dropout_119 (Dropout)       (None, 32)                0         \n",
      "                                                                 \n",
      " dense_171 (Dense)           (None, 10)                330       \n",
      "                                                                 \n",
      "=================================================================\n",
      "Total params: 27,562\n",
      "Trainable params: 27,562\n",
      "Non-trainable params: 0\n",
      "_________________________________________________________________\n",
      "Epoch 1/5\n",
      "   1/1875 [..............................] - ETA: 31:05 - loss: 2.3441 - accuracy: 0.0938WARNING:tensorflow:Callback method `on_train_batch_end` is slow compared to the batch time (batch time: 0.0022s vs `on_train_batch_end` time: 0.0121s). Check your callbacks.\n"
     ]
    },
    {
     "name": "stderr",
     "output_type": "stream",
     "text": [
      "WARNING:tensorflow:Callback method `on_train_batch_end` is slow compared to the batch time (batch time: 0.0022s vs `on_train_batch_end` time: 0.0121s). Check your callbacks.\n"
     ]
    },
    {
     "name": "stdout",
     "output_type": "stream",
     "text": [
      "1875/1875 [==============================] - 7s 3ms/step - loss: 0.7125 - accuracy: 0.7669 - val_loss: 0.2651 - val_accuracy: 0.9201\n",
      "Epoch 2/5\n",
      "1875/1875 [==============================] - 5s 3ms/step - loss: 0.3932 - accuracy: 0.8875 - val_loss: 0.2015 - val_accuracy: 0.9435\n",
      "Epoch 3/5\n",
      "1875/1875 [==============================] - 5s 3ms/step - loss: 0.3385 - accuracy: 0.9056 - val_loss: 0.1846 - val_accuracy: 0.9488\n",
      "Epoch 4/5\n",
      "1875/1875 [==============================] - 5s 3ms/step - loss: 0.2961 - accuracy: 0.9174 - val_loss: 0.1711 - val_accuracy: 0.9514\n",
      "Epoch 5/5\n",
      "1875/1875 [==============================] - 5s 3ms/step - loss: 0.2795 - accuracy: 0.9226 - val_loss: 0.1603 - val_accuracy: 0.9526\n"
     ]
    },
    {
     "name": "stderr",
     "output_type": "stream",
     "text": [
      "WARNING:absl:Found untraced functions such as _update_step_xla while saving (showing 1 of 1). These functions will not be directly callable after loading.\n"
     ]
    },
    {
     "name": "stdout",
     "output_type": "stream",
     "text": [
      "INFO:tensorflow:Assets written to: C:\\Users\\kauak\\AppData\\Local\\Temp\\tmp93_0oepg\\model\\data\\model\\assets\n"
     ]
    },
    {
     "name": "stderr",
     "output_type": "stream",
     "text": [
      "INFO:tensorflow:Assets written to: C:\\Users\\kauak\\AppData\\Local\\Temp\\tmp93_0oepg\\model\\data\\model\\assets\n",
      "2025/02/07 09:36:30 WARNING mlflow.utils.autologging_utils: You are using an unsupported version of tensorflow. If you encounter errors during autologging, try upgrading / downgrading tensorflow to a supported version, or try upgrading MLflow.\n"
     ]
    },
    {
     "name": "stdout",
     "output_type": "stream",
     "text": [
      "Modelo:  5f163f39936d4aed8ff5bfa1b3005ec1\n",
      "Model: \"sequential_52\"\n",
      "_________________________________________________________________\n",
      " Layer (type)                Output Shape              Param #   \n",
      "=================================================================\n",
      " dense_172 (Dense)           (None, 32)                25120     \n",
      "                                                                 \n",
      " dropout_120 (Dropout)       (None, 32)                0         \n",
      "                                                                 \n",
      " dense_173 (Dense)           (None, 32)                1056      \n",
      "                                                                 \n",
      " dropout_121 (Dropout)       (None, 32)                0         \n",
      "                                                                 \n",
      " dense_174 (Dense)           (None, 32)                1056      \n",
      "                                                                 \n",
      " dropout_122 (Dropout)       (None, 32)                0         \n",
      "                                                                 \n",
      " dense_175 (Dense)           (None, 10)                330       \n",
      "                                                                 \n",
      "=================================================================\n",
      "Total params: 27,562\n",
      "Trainable params: 27,562\n",
      "Non-trainable params: 0\n",
      "_________________________________________________________________\n",
      "Epoch 1/10\n",
      "   1/1875 [..............................] - ETA: 33:04 - loss: 2.3424 - accuracy: 0.1562WARNING:tensorflow:Callback method `on_train_batch_end` is slow compared to the batch time (batch time: 0.0023s vs `on_train_batch_end` time: 0.0162s). Check your callbacks.\n"
     ]
    },
    {
     "name": "stderr",
     "output_type": "stream",
     "text": [
      "WARNING:tensorflow:Callback method `on_train_batch_end` is slow compared to the batch time (batch time: 0.0023s vs `on_train_batch_end` time: 0.0162s). Check your callbacks.\n"
     ]
    },
    {
     "name": "stdout",
     "output_type": "stream",
     "text": [
      "1875/1875 [==============================] - 6s 3ms/step - loss: 0.6607 - accuracy: 0.7964 - val_loss: 0.2418 - val_accuracy: 0.9294\n",
      "Epoch 2/10\n",
      "1875/1875 [==============================] - 5s 3ms/step - loss: 0.3791 - accuracy: 0.8938 - val_loss: 0.2113 - val_accuracy: 0.9376\n",
      "Epoch 3/10\n",
      "1875/1875 [==============================] - 5s 2ms/step - loss: 0.3275 - accuracy: 0.9067 - val_loss: 0.1940 - val_accuracy: 0.9446\n",
      "Epoch 4/10\n",
      "1875/1875 [==============================] - 5s 3ms/step - loss: 0.2984 - accuracy: 0.9157 - val_loss: 0.1735 - val_accuracy: 0.9487\n",
      "Epoch 5/10\n",
      "1875/1875 [==============================] - 5s 2ms/step - loss: 0.2807 - accuracy: 0.9192 - val_loss: 0.1689 - val_accuracy: 0.9537\n",
      "Epoch 6/10\n",
      "1875/1875 [==============================] - 5s 2ms/step - loss: 0.2657 - accuracy: 0.9265 - val_loss: 0.1677 - val_accuracy: 0.9524\n",
      "Epoch 7/10\n",
      "1875/1875 [==============================] - 5s 3ms/step - loss: 0.2600 - accuracy: 0.9258 - val_loss: 0.1557 - val_accuracy: 0.9566\n",
      "Epoch 8/10\n",
      "1875/1875 [==============================] - 5s 2ms/step - loss: 0.2505 - accuracy: 0.9274 - val_loss: 0.1548 - val_accuracy: 0.9558\n",
      "Epoch 9/10\n",
      "1875/1875 [==============================] - 5s 3ms/step - loss: 0.2442 - accuracy: 0.9301 - val_loss: 0.1626 - val_accuracy: 0.9553\n",
      "Epoch 10/10\n",
      "1875/1875 [==============================] - 5s 2ms/step - loss: 0.2376 - accuracy: 0.9318 - val_loss: 0.1512 - val_accuracy: 0.9581\n"
     ]
    },
    {
     "name": "stderr",
     "output_type": "stream",
     "text": [
      "WARNING:absl:Found untraced functions such as _update_step_xla while saving (showing 1 of 1). These functions will not be directly callable after loading.\n"
     ]
    },
    {
     "name": "stdout",
     "output_type": "stream",
     "text": [
      "INFO:tensorflow:Assets written to: C:\\Users\\kauak\\AppData\\Local\\Temp\\tmpl_m1hjsh\\model\\data\\model\\assets\n"
     ]
    },
    {
     "name": "stderr",
     "output_type": "stream",
     "text": [
      "INFO:tensorflow:Assets written to: C:\\Users\\kauak\\AppData\\Local\\Temp\\tmpl_m1hjsh\\model\\data\\model\\assets\n"
     ]
    },
    {
     "name": "stdout",
     "output_type": "stream",
     "text": [
      "Modelo:  de34bd56cdd44045bab6393f9bc9f3f0\n"
     ]
    },
    {
     "name": "stderr",
     "output_type": "stream",
     "text": [
      "2025/02/07 09:37:28 WARNING mlflow.utils.autologging_utils: You are using an unsupported version of tensorflow. If you encounter errors during autologging, try upgrading / downgrading tensorflow to a supported version, or try upgrading MLflow.\n"
     ]
    },
    {
     "name": "stdout",
     "output_type": "stream",
     "text": [
      "Model: \"sequential_53\"\n",
      "_________________________________________________________________\n",
      " Layer (type)                Output Shape              Param #   \n",
      "=================================================================\n",
      " dense_176 (Dense)           (None, 32)                25120     \n",
      "                                                                 \n",
      " dropout_123 (Dropout)       (None, 32)                0         \n",
      "                                                                 \n",
      " dense_177 (Dense)           (None, 32)                1056      \n",
      "                                                                 \n",
      " dropout_124 (Dropout)       (None, 32)                0         \n",
      "                                                                 \n",
      " dense_178 (Dense)           (None, 32)                1056      \n",
      "                                                                 \n",
      " dropout_125 (Dropout)       (None, 32)                0         \n",
      "                                                                 \n",
      " dense_179 (Dense)           (None, 10)                330       \n",
      "                                                                 \n",
      "=================================================================\n",
      "Total params: 27,562\n",
      "Trainable params: 27,562\n",
      "Non-trainable params: 0\n",
      "_________________________________________________________________\n",
      "Epoch 1/20\n",
      "   1/1875 [..............................] - ETA: 37:52 - loss: 2.3421 - accuracy: 0.0938WARNING:tensorflow:Callback method `on_train_batch_end` is slow compared to the batch time (batch time: 0.0020s vs `on_train_batch_end` time: 0.0460s). Check your callbacks.\n"
     ]
    },
    {
     "name": "stderr",
     "output_type": "stream",
     "text": [
      "WARNING:tensorflow:Callback method `on_train_batch_end` is slow compared to the batch time (batch time: 0.0020s vs `on_train_batch_end` time: 0.0460s). Check your callbacks.\n"
     ]
    },
    {
     "name": "stdout",
     "output_type": "stream",
     "text": [
      "1875/1875 [==============================] - 7s 3ms/step - loss: 0.6720 - accuracy: 0.7878 - val_loss: 0.2349 - val_accuracy: 0.9335\n",
      "Epoch 2/20\n",
      "1875/1875 [==============================] - 5s 3ms/step - loss: 0.3789 - accuracy: 0.8924 - val_loss: 0.1927 - val_accuracy: 0.9432\n",
      "Epoch 3/20\n",
      "1875/1875 [==============================] - 5s 3ms/step - loss: 0.3299 - accuracy: 0.9067 - val_loss: 0.1791 - val_accuracy: 0.9473\n",
      "Epoch 4/20\n",
      "1875/1875 [==============================] - 5s 3ms/step - loss: 0.2981 - accuracy: 0.9159 - val_loss: 0.1675 - val_accuracy: 0.9515\n",
      "Epoch 5/20\n",
      "1875/1875 [==============================] - 5s 3ms/step - loss: 0.2804 - accuracy: 0.9197 - val_loss: 0.1679 - val_accuracy: 0.9511\n",
      "Epoch 6/20\n",
      "1875/1875 [==============================] - 5s 3ms/step - loss: 0.2677 - accuracy: 0.9248 - val_loss: 0.1491 - val_accuracy: 0.9572\n",
      "Epoch 7/20\n",
      "1875/1875 [==============================] - 5s 3ms/step - loss: 0.2608 - accuracy: 0.9253 - val_loss: 0.1500 - val_accuracy: 0.9576\n",
      "Epoch 8/20\n",
      "1875/1875 [==============================] - 5s 3ms/step - loss: 0.2530 - accuracy: 0.9282 - val_loss: 0.1456 - val_accuracy: 0.9572\n",
      "Epoch 9/20\n",
      "1875/1875 [==============================] - 5s 3ms/step - loss: 0.2440 - accuracy: 0.9298 - val_loss: 0.1501 - val_accuracy: 0.9566\n",
      "Epoch 10/20\n",
      "1875/1875 [==============================] - 5s 3ms/step - loss: 0.2362 - accuracy: 0.9321 - val_loss: 0.1518 - val_accuracy: 0.9553\n",
      "Epoch 11/20\n",
      "1875/1875 [==============================] - 5s 3ms/step - loss: 0.2301 - accuracy: 0.9335 - val_loss: 0.1475 - val_accuracy: 0.9565\n",
      "Epoch 12/20\n",
      "1875/1875 [==============================] - 5s 3ms/step - loss: 0.2297 - accuracy: 0.9343 - val_loss: 0.1440 - val_accuracy: 0.9603\n",
      "Epoch 13/20\n",
      "1875/1875 [==============================] - 5s 3ms/step - loss: 0.2274 - accuracy: 0.9331 - val_loss: 0.1374 - val_accuracy: 0.9612\n",
      "Epoch 14/20\n",
      "1875/1875 [==============================] - 5s 3ms/step - loss: 0.2208 - accuracy: 0.9363 - val_loss: 0.1490 - val_accuracy: 0.9583\n",
      "Epoch 15/20\n",
      "1875/1875 [==============================] - 5s 3ms/step - loss: 0.2186 - accuracy: 0.9361 - val_loss: 0.1408 - val_accuracy: 0.9600\n",
      "Epoch 16/20\n",
      "1875/1875 [==============================] - 5s 3ms/step - loss: 0.2172 - accuracy: 0.9386 - val_loss: 0.1454 - val_accuracy: 0.9589\n",
      "Epoch 17/20\n",
      "1875/1875 [==============================] - 5s 3ms/step - loss: 0.2181 - accuracy: 0.9368 - val_loss: 0.1460 - val_accuracy: 0.9600\n",
      "Epoch 18/20\n",
      "1875/1875 [==============================] - 5s 3ms/step - loss: 0.2165 - accuracy: 0.9385 - val_loss: 0.1416 - val_accuracy: 0.9572\n",
      "Epoch 19/20\n",
      "1875/1875 [==============================] - 5s 3ms/step - loss: 0.2098 - accuracy: 0.9403 - val_loss: 0.1377 - val_accuracy: 0.9623\n",
      "Epoch 20/20\n",
      "1875/1875 [==============================] - 5s 3ms/step - loss: 0.2056 - accuracy: 0.9400 - val_loss: 0.1409 - val_accuracy: 0.9602\n"
     ]
    },
    {
     "name": "stderr",
     "output_type": "stream",
     "text": [
      "WARNING:absl:Found untraced functions such as _update_step_xla while saving (showing 1 of 1). These functions will not be directly callable after loading.\n"
     ]
    },
    {
     "name": "stdout",
     "output_type": "stream",
     "text": [
      "INFO:tensorflow:Assets written to: C:\\Users\\kauak\\AppData\\Local\\Temp\\tmpuy0ar7cf\\model\\data\\model\\assets\n"
     ]
    },
    {
     "name": "stderr",
     "output_type": "stream",
     "text": [
      "INFO:tensorflow:Assets written to: C:\\Users\\kauak\\AppData\\Local\\Temp\\tmpuy0ar7cf\\model\\data\\model\\assets\n",
      "2025/02/07 09:39:59 WARNING mlflow.utils.autologging_utils: You are using an unsupported version of tensorflow. If you encounter errors during autologging, try upgrading / downgrading tensorflow to a supported version, or try upgrading MLflow.\n"
     ]
    },
    {
     "name": "stdout",
     "output_type": "stream",
     "text": [
      "Modelo:  cd2b684d268944cd85a5dcc2be8bc2f2\n",
      "Model: \"sequential_54\"\n",
      "_________________________________________________________________\n",
      " Layer (type)                Output Shape              Param #   \n",
      "=================================================================\n",
      " dense_180 (Dense)           (None, 32)                25120     \n",
      "                                                                 \n",
      " dropout_126 (Dropout)       (None, 32)                0         \n",
      "                                                                 \n",
      " dense_181 (Dense)           (None, 32)                1056      \n",
      "                                                                 \n",
      " dropout_127 (Dropout)       (None, 32)                0         \n",
      "                                                                 \n",
      " dense_182 (Dense)           (None, 32)                1056      \n",
      "                                                                 \n",
      " dropout_128 (Dropout)       (None, 32)                0         \n",
      "                                                                 \n",
      " dense_183 (Dense)           (None, 10)                330       \n",
      "                                                                 \n",
      "=================================================================\n",
      "Total params: 27,562\n",
      "Trainable params: 27,562\n",
      "Non-trainable params: 0\n",
      "_________________________________________________________________\n",
      "Epoch 1/5\n",
      "   1/1875 [..............................] - ETA: 31:50 - loss: 2.2912 - accuracy: 0.0625WARNING:tensorflow:Callback method `on_train_batch_end` is slow compared to the batch time (batch time: 0.0020s vs `on_train_batch_end` time: 0.0139s). Check your callbacks.\n"
     ]
    },
    {
     "name": "stderr",
     "output_type": "stream",
     "text": [
      "WARNING:tensorflow:Callback method `on_train_batch_end` is slow compared to the batch time (batch time: 0.0020s vs `on_train_batch_end` time: 0.0139s). Check your callbacks.\n"
     ]
    },
    {
     "name": "stdout",
     "output_type": "stream",
     "text": [
      "1875/1875 [==============================] - 6s 3ms/step - loss: 0.4183 - accuracy: 0.8802 - val_loss: 0.2061 - val_accuracy: 0.9421\n",
      "Epoch 2/5\n",
      "1875/1875 [==============================] - 5s 3ms/step - loss: 0.2464 - accuracy: 0.9290 - val_loss: 0.1731 - val_accuracy: 0.9465\n",
      "Epoch 3/5\n",
      "1875/1875 [==============================] - 5s 3ms/step - loss: 0.2070 - accuracy: 0.9398 - val_loss: 0.1470 - val_accuracy: 0.9558\n",
      "Epoch 4/5\n",
      "1875/1875 [==============================] - 5s 3ms/step - loss: 0.1883 - accuracy: 0.9442 - val_loss: 0.1365 - val_accuracy: 0.9594\n",
      "Epoch 5/5\n",
      "1875/1875 [==============================] - 6s 3ms/step - loss: 0.1759 - accuracy: 0.9464 - val_loss: 0.1405 - val_accuracy: 0.9588\n"
     ]
    },
    {
     "name": "stderr",
     "output_type": "stream",
     "text": [
      "WARNING:absl:Found untraced functions such as _update_step_xla while saving (showing 1 of 1). These functions will not be directly callable after loading.\n"
     ]
    },
    {
     "name": "stdout",
     "output_type": "stream",
     "text": [
      "INFO:tensorflow:Assets written to: C:\\Users\\kauak\\AppData\\Local\\Temp\\tmpmuynm4dn\\model\\data\\model\\assets\n"
     ]
    },
    {
     "name": "stderr",
     "output_type": "stream",
     "text": [
      "INFO:tensorflow:Assets written to: C:\\Users\\kauak\\AppData\\Local\\Temp\\tmpmuynm4dn\\model\\data\\model\\assets\n",
      "2025/02/07 09:40:49 WARNING mlflow.utils.autologging_utils: You are using an unsupported version of tensorflow. If you encounter errors during autologging, try upgrading / downgrading tensorflow to a supported version, or try upgrading MLflow.\n"
     ]
    },
    {
     "name": "stdout",
     "output_type": "stream",
     "text": [
      "Modelo:  7eb4f6501fa04ee9a28307bc11c8115c\n",
      "Model: \"sequential_55\"\n",
      "_________________________________________________________________\n",
      " Layer (type)                Output Shape              Param #   \n",
      "=================================================================\n",
      " dense_184 (Dense)           (None, 32)                25120     \n",
      "                                                                 \n",
      " dropout_129 (Dropout)       (None, 32)                0         \n",
      "                                                                 \n",
      " dense_185 (Dense)           (None, 32)                1056      \n",
      "                                                                 \n",
      " dropout_130 (Dropout)       (None, 32)                0         \n",
      "                                                                 \n",
      " dense_186 (Dense)           (None, 32)                1056      \n",
      "                                                                 \n",
      " dropout_131 (Dropout)       (None, 32)                0         \n",
      "                                                                 \n",
      " dense_187 (Dense)           (None, 10)                330       \n",
      "                                                                 \n",
      "=================================================================\n",
      "Total params: 27,562\n",
      "Trainable params: 27,562\n",
      "Non-trainable params: 0\n",
      "_________________________________________________________________\n",
      "Epoch 1/10\n",
      "   1/1875 [..............................] - ETA: 32:04 - loss: 2.3579 - accuracy: 0.1250WARNING:tensorflow:Callback method `on_train_batch_end` is slow compared to the batch time (batch time: 0.0026s vs `on_train_batch_end` time: 0.0117s). Check your callbacks.\n"
     ]
    },
    {
     "name": "stderr",
     "output_type": "stream",
     "text": [
      "WARNING:tensorflow:Callback method `on_train_batch_end` is slow compared to the batch time (batch time: 0.0026s vs `on_train_batch_end` time: 0.0117s). Check your callbacks.\n"
     ]
    },
    {
     "name": "stdout",
     "output_type": "stream",
     "text": [
      "1875/1875 [==============================] - 6s 3ms/step - loss: 0.4139 - accuracy: 0.8824 - val_loss: 0.2158 - val_accuracy: 0.9355\n",
      "Epoch 2/10\n",
      "1875/1875 [==============================] - 5s 3ms/step - loss: 0.2476 - accuracy: 0.9262 - val_loss: 0.1743 - val_accuracy: 0.9483\n",
      "Epoch 3/10\n",
      "1875/1875 [==============================] - 5s 2ms/step - loss: 0.2105 - accuracy: 0.9380 - val_loss: 0.1556 - val_accuracy: 0.9541\n",
      "Epoch 4/10\n",
      "1875/1875 [==============================] - 5s 2ms/step - loss: 0.1866 - accuracy: 0.9448 - val_loss: 0.1449 - val_accuracy: 0.9564\n",
      "Epoch 5/10\n",
      "1875/1875 [==============================] - 5s 2ms/step - loss: 0.1747 - accuracy: 0.9481 - val_loss: 0.1303 - val_accuracy: 0.9601\n",
      "Epoch 6/10\n",
      "1875/1875 [==============================] - 5s 3ms/step - loss: 0.1642 - accuracy: 0.9512 - val_loss: 0.1437 - val_accuracy: 0.9575\n",
      "Epoch 7/10\n",
      "1875/1875 [==============================] - 5s 2ms/step - loss: 0.1574 - accuracy: 0.9529 - val_loss: 0.1279 - val_accuracy: 0.9635\n",
      "Epoch 8/10\n",
      "1875/1875 [==============================] - 5s 2ms/step - loss: 0.1518 - accuracy: 0.9547 - val_loss: 0.1194 - val_accuracy: 0.9641\n",
      "Epoch 9/10\n",
      "1875/1875 [==============================] - 5s 3ms/step - loss: 0.1440 - accuracy: 0.9570 - val_loss: 0.1293 - val_accuracy: 0.9638\n",
      "Epoch 10/10\n",
      "1875/1875 [==============================] - 5s 2ms/step - loss: 0.1414 - accuracy: 0.9581 - val_loss: 0.1276 - val_accuracy: 0.9633\n"
     ]
    },
    {
     "name": "stderr",
     "output_type": "stream",
     "text": [
      "WARNING:absl:Found untraced functions such as _update_step_xla while saving (showing 1 of 1). These functions will not be directly callable after loading.\n"
     ]
    },
    {
     "name": "stdout",
     "output_type": "stream",
     "text": [
      "INFO:tensorflow:Assets written to: C:\\Users\\kauak\\AppData\\Local\\Temp\\tmpuyk98us8\\model\\data\\model\\assets\n"
     ]
    },
    {
     "name": "stderr",
     "output_type": "stream",
     "text": [
      "INFO:tensorflow:Assets written to: C:\\Users\\kauak\\AppData\\Local\\Temp\\tmpuyk98us8\\model\\data\\model\\assets\n",
      "2025/02/07 09:41:46 WARNING mlflow.utils.autologging_utils: You are using an unsupported version of tensorflow. If you encounter errors during autologging, try upgrading / downgrading tensorflow to a supported version, or try upgrading MLflow.\n"
     ]
    },
    {
     "name": "stdout",
     "output_type": "stream",
     "text": [
      "Modelo:  6dcbfb5f10484c6ba660a39d4ea9fd3e\n",
      "Model: \"sequential_56\"\n",
      "_________________________________________________________________\n",
      " Layer (type)                Output Shape              Param #   \n",
      "=================================================================\n",
      " dense_188 (Dense)           (None, 32)                25120     \n",
      "                                                                 \n",
      " dropout_132 (Dropout)       (None, 32)                0         \n",
      "                                                                 \n",
      " dense_189 (Dense)           (None, 32)                1056      \n",
      "                                                                 \n",
      " dropout_133 (Dropout)       (None, 32)                0         \n",
      "                                                                 \n",
      " dense_190 (Dense)           (None, 32)                1056      \n",
      "                                                                 \n",
      " dropout_134 (Dropout)       (None, 32)                0         \n",
      "                                                                 \n",
      " dense_191 (Dense)           (None, 10)                330       \n",
      "                                                                 \n",
      "=================================================================\n",
      "Total params: 27,562\n",
      "Trainable params: 27,562\n",
      "Non-trainable params: 0\n",
      "_________________________________________________________________\n",
      "Epoch 1/20\n",
      "   1/1875 [..............................] - ETA: 34:39 - loss: 2.3854 - accuracy: 0.0625WARNING:tensorflow:Callback method `on_train_batch_end` is slow compared to the batch time (batch time: 0.0023s vs `on_train_batch_end` time: 0.0259s). Check your callbacks.\n"
     ]
    },
    {
     "name": "stderr",
     "output_type": "stream",
     "text": [
      "WARNING:tensorflow:Callback method `on_train_batch_end` is slow compared to the batch time (batch time: 0.0023s vs `on_train_batch_end` time: 0.0259s). Check your callbacks.\n"
     ]
    },
    {
     "name": "stdout",
     "output_type": "stream",
     "text": [
      "1875/1875 [==============================] - 7s 3ms/step - loss: 0.4251 - accuracy: 0.8762 - val_loss: 0.2098 - val_accuracy: 0.9370\n",
      "Epoch 2/20\n",
      "1875/1875 [==============================] - 5s 3ms/step - loss: 0.2486 - accuracy: 0.9266 - val_loss: 0.1766 - val_accuracy: 0.9480\n",
      "Epoch 3/20\n",
      "1875/1875 [==============================] - 5s 3ms/step - loss: 0.2094 - accuracy: 0.9374 - val_loss: 0.1517 - val_accuracy: 0.9548\n",
      "Epoch 4/20\n",
      "1875/1875 [==============================] - 5s 3ms/step - loss: 0.1910 - accuracy: 0.9435 - val_loss: 0.1451 - val_accuracy: 0.9569\n",
      "Epoch 5/20\n",
      "1875/1875 [==============================] - 5s 3ms/step - loss: 0.1749 - accuracy: 0.9473 - val_loss: 0.1373 - val_accuracy: 0.9594\n",
      "Epoch 6/20\n",
      "1875/1875 [==============================] - 5s 3ms/step - loss: 0.1630 - accuracy: 0.9506 - val_loss: 0.1322 - val_accuracy: 0.9610\n",
      "Epoch 7/20\n",
      "1875/1875 [==============================] - 5s 3ms/step - loss: 0.1571 - accuracy: 0.9530 - val_loss: 0.1220 - val_accuracy: 0.9642\n",
      "Epoch 8/20\n",
      "1875/1875 [==============================] - 5s 3ms/step - loss: 0.1476 - accuracy: 0.9562 - val_loss: 0.1203 - val_accuracy: 0.9652\n",
      "Epoch 9/20\n",
      "1875/1875 [==============================] - 5s 3ms/step - loss: 0.1417 - accuracy: 0.9577 - val_loss: 0.1205 - val_accuracy: 0.9652\n",
      "Epoch 10/20\n",
      "1875/1875 [==============================] - 5s 3ms/step - loss: 0.1377 - accuracy: 0.9584 - val_loss: 0.1260 - val_accuracy: 0.9640\n",
      "Epoch 11/20\n",
      "1875/1875 [==============================] - 5s 3ms/step - loss: 0.1331 - accuracy: 0.9610 - val_loss: 0.1168 - val_accuracy: 0.9673\n",
      "Epoch 12/20\n",
      "1875/1875 [==============================] - 5s 3ms/step - loss: 0.1298 - accuracy: 0.9610 - val_loss: 0.1128 - val_accuracy: 0.9670\n",
      "Epoch 13/20\n",
      "1875/1875 [==============================] - 5s 3ms/step - loss: 0.1281 - accuracy: 0.9614 - val_loss: 0.1212 - val_accuracy: 0.9662\n",
      "Epoch 14/20\n",
      "1875/1875 [==============================] - 7s 4ms/step - loss: 0.1232 - accuracy: 0.9625 - val_loss: 0.1306 - val_accuracy: 0.9631\n",
      "Epoch 15/20\n",
      "1875/1875 [==============================] - 8s 4ms/step - loss: 0.1190 - accuracy: 0.9629 - val_loss: 0.1164 - val_accuracy: 0.9665\n",
      "Epoch 16/20\n",
      "1875/1875 [==============================] - 8s 4ms/step - loss: 0.1205 - accuracy: 0.9638 - val_loss: 0.1223 - val_accuracy: 0.9665\n",
      "Epoch 17/20\n",
      "1875/1875 [==============================] - 7s 4ms/step - loss: 0.1172 - accuracy: 0.9646 - val_loss: 0.1158 - val_accuracy: 0.9670\n",
      "Epoch 18/20\n",
      "1875/1875 [==============================] - 7s 4ms/step - loss: 0.1140 - accuracy: 0.9663 - val_loss: 0.1127 - val_accuracy: 0.9676\n",
      "Epoch 19/20\n",
      "1875/1875 [==============================] - 5s 3ms/step - loss: 0.1142 - accuracy: 0.9650 - val_loss: 0.1178 - val_accuracy: 0.9654\n",
      "Epoch 20/20\n",
      "1875/1875 [==============================] - 5s 3ms/step - loss: 0.1111 - accuracy: 0.9658 - val_loss: 0.1232 - val_accuracy: 0.9640\n"
     ]
    },
    {
     "name": "stderr",
     "output_type": "stream",
     "text": [
      "WARNING:absl:Found untraced functions such as _update_step_xla while saving (showing 1 of 1). These functions will not be directly callable after loading.\n"
     ]
    },
    {
     "name": "stdout",
     "output_type": "stream",
     "text": [
      "INFO:tensorflow:Assets written to: C:\\Users\\kauak\\AppData\\Local\\Temp\\tmp3jbso479\\model\\data\\model\\assets\n"
     ]
    },
    {
     "name": "stderr",
     "output_type": "stream",
     "text": [
      "INFO:tensorflow:Assets written to: C:\\Users\\kauak\\AppData\\Local\\Temp\\tmp3jbso479\\model\\data\\model\\assets\n",
      "2025/02/07 09:43:51 WARNING mlflow.utils.autologging_utils: You are using an unsupported version of tensorflow. If you encounter errors during autologging, try upgrading / downgrading tensorflow to a supported version, or try upgrading MLflow.\n"
     ]
    },
    {
     "name": "stdout",
     "output_type": "stream",
     "text": [
      "Modelo:  4567941c0ce04fc1b17c583eaaf392bf\n",
      "Model: \"sequential_57\"\n",
      "_________________________________________________________________\n",
      " Layer (type)                Output Shape              Param #   \n",
      "=================================================================\n",
      " dense_192 (Dense)           (None, 32)                25120     \n",
      "                                                                 \n",
      " dropout_135 (Dropout)       (None, 32)                0         \n",
      "                                                                 \n",
      " dense_193 (Dense)           (None, 32)                1056      \n",
      "                                                                 \n",
      " dropout_136 (Dropout)       (None, 32)                0         \n",
      "                                                                 \n",
      " dense_194 (Dense)           (None, 32)                1056      \n",
      "                                                                 \n",
      " dropout_137 (Dropout)       (None, 32)                0         \n",
      "                                                                 \n",
      " dense_195 (Dense)           (None, 10)                330       \n",
      "                                                                 \n",
      "=================================================================\n",
      "Total params: 27,562\n",
      "Trainable params: 27,562\n",
      "Non-trainable params: 0\n",
      "_________________________________________________________________\n",
      "Epoch 1/5\n",
      "   1/1875 [..............................] - ETA: 37:04 - loss: 2.3997 - accuracy: 0.0938WARNING:tensorflow:Callback method `on_train_batch_end` is slow compared to the batch time (batch time: 0.0024s vs `on_train_batch_end` time: 0.0308s). Check your callbacks.\n"
     ]
    },
    {
     "name": "stderr",
     "output_type": "stream",
     "text": [
      "WARNING:tensorflow:Callback method `on_train_batch_end` is slow compared to the batch time (batch time: 0.0024s vs `on_train_batch_end` time: 0.0308s). Check your callbacks.\n"
     ]
    },
    {
     "name": "stdout",
     "output_type": "stream",
     "text": [
      "1875/1875 [==============================] - 7s 3ms/step - loss: 0.5297 - accuracy: 0.8450 - val_loss: 0.2574 - val_accuracy: 0.9232\n",
      "Epoch 2/5\n",
      "1875/1875 [==============================] - 5s 3ms/step - loss: 0.3302 - accuracy: 0.9041 - val_loss: 0.2127 - val_accuracy: 0.9370\n",
      "Epoch 3/5\n",
      "1875/1875 [==============================] - 5s 3ms/step - loss: 0.2900 - accuracy: 0.9164 - val_loss: 0.1877 - val_accuracy: 0.9448\n",
      "Epoch 4/5\n",
      "1875/1875 [==============================] - 5s 3ms/step - loss: 0.2672 - accuracy: 0.9235 - val_loss: 0.1809 - val_accuracy: 0.9485\n",
      "Epoch 5/5\n",
      "1875/1875 [==============================] - 5s 3ms/step - loss: 0.2497 - accuracy: 0.9274 - val_loss: 0.1673 - val_accuracy: 0.9520\n"
     ]
    },
    {
     "name": "stderr",
     "output_type": "stream",
     "text": [
      "WARNING:absl:Found untraced functions such as _update_step_xla while saving (showing 1 of 1). These functions will not be directly callable after loading.\n"
     ]
    },
    {
     "name": "stdout",
     "output_type": "stream",
     "text": [
      "INFO:tensorflow:Assets written to: C:\\Users\\kauak\\AppData\\Local\\Temp\\tmpxe5yiu2v\\model\\data\\model\\assets\n"
     ]
    },
    {
     "name": "stderr",
     "output_type": "stream",
     "text": [
      "INFO:tensorflow:Assets written to: C:\\Users\\kauak\\AppData\\Local\\Temp\\tmpxe5yiu2v\\model\\data\\model\\assets\n",
      "2025/02/07 09:44:32 WARNING mlflow.utils.autologging_utils: You are using an unsupported version of tensorflow. If you encounter errors during autologging, try upgrading / downgrading tensorflow to a supported version, or try upgrading MLflow.\n"
     ]
    },
    {
     "name": "stdout",
     "output_type": "stream",
     "text": [
      "Modelo:  9329566decbe480c8e333efb6161229f\n",
      "Model: \"sequential_58\"\n",
      "_________________________________________________________________\n",
      " Layer (type)                Output Shape              Param #   \n",
      "=================================================================\n",
      " dense_196 (Dense)           (None, 32)                25120     \n",
      "                                                                 \n",
      " dropout_138 (Dropout)       (None, 32)                0         \n",
      "                                                                 \n",
      " dense_197 (Dense)           (None, 32)                1056      \n",
      "                                                                 \n",
      " dropout_139 (Dropout)       (None, 32)                0         \n",
      "                                                                 \n",
      " dense_198 (Dense)           (None, 32)                1056      \n",
      "                                                                 \n",
      " dropout_140 (Dropout)       (None, 32)                0         \n",
      "                                                                 \n",
      " dense_199 (Dense)           (None, 10)                330       \n",
      "                                                                 \n",
      "=================================================================\n",
      "Total params: 27,562\n",
      "Trainable params: 27,562\n",
      "Non-trainable params: 0\n",
      "_________________________________________________________________\n",
      "Epoch 1/10\n",
      "   1/1875 [..............................] - ETA: 31:45 - loss: 2.2145 - accuracy: 0.1875WARNING:tensorflow:Callback method `on_train_batch_end` is slow compared to the batch time (batch time: 0.0022s vs `on_train_batch_end` time: 0.0129s). Check your callbacks.\n"
     ]
    },
    {
     "name": "stderr",
     "output_type": "stream",
     "text": [
      "WARNING:tensorflow:Callback method `on_train_batch_end` is slow compared to the batch time (batch time: 0.0022s vs `on_train_batch_end` time: 0.0129s). Check your callbacks.\n"
     ]
    },
    {
     "name": "stdout",
     "output_type": "stream",
     "text": [
      "1875/1875 [==============================] - 6s 3ms/step - loss: 0.5307 - accuracy: 0.8439 - val_loss: 0.2524 - val_accuracy: 0.9249\n",
      "Epoch 2/10\n",
      "1875/1875 [==============================] - 5s 3ms/step - loss: 0.3343 - accuracy: 0.9028 - val_loss: 0.2159 - val_accuracy: 0.9377\n",
      "Epoch 3/10\n",
      "1875/1875 [==============================] - 5s 2ms/step - loss: 0.2991 - accuracy: 0.9141 - val_loss: 0.1867 - val_accuracy: 0.9454\n",
      "Epoch 4/10\n",
      "1875/1875 [==============================] - 5s 2ms/step - loss: 0.2686 - accuracy: 0.9229 - val_loss: 0.1725 - val_accuracy: 0.9463\n",
      "Epoch 5/10\n",
      "1875/1875 [==============================] - 5s 2ms/step - loss: 0.2574 - accuracy: 0.9271 - val_loss: 0.1695 - val_accuracy: 0.9496\n",
      "Epoch 6/10\n",
      "1875/1875 [==============================] - 5s 3ms/step - loss: 0.2469 - accuracy: 0.9295 - val_loss: 0.1677 - val_accuracy: 0.9513\n",
      "Epoch 7/10\n",
      "1875/1875 [==============================] - 5s 2ms/step - loss: 0.2333 - accuracy: 0.9327 - val_loss: 0.1594 - val_accuracy: 0.9543\n",
      "Epoch 8/10\n",
      "1875/1875 [==============================] - 5s 2ms/step - loss: 0.2287 - accuracy: 0.9330 - val_loss: 0.1556 - val_accuracy: 0.9546\n",
      "Epoch 9/10\n",
      "1875/1875 [==============================] - 5s 3ms/step - loss: 0.2184 - accuracy: 0.9378 - val_loss: 0.1513 - val_accuracy: 0.9557\n",
      "Epoch 10/10\n",
      "1875/1875 [==============================] - 5s 2ms/step - loss: 0.2172 - accuracy: 0.9380 - val_loss: 0.1480 - val_accuracy: 0.9572\n"
     ]
    },
    {
     "name": "stderr",
     "output_type": "stream",
     "text": [
      "WARNING:absl:Found untraced functions such as _update_step_xla while saving (showing 1 of 1). These functions will not be directly callable after loading.\n"
     ]
    },
    {
     "name": "stdout",
     "output_type": "stream",
     "text": [
      "INFO:tensorflow:Assets written to: C:\\Users\\kauak\\AppData\\Local\\Temp\\tmpj1oz1w81\\model\\data\\model\\assets\n"
     ]
    },
    {
     "name": "stderr",
     "output_type": "stream",
     "text": [
      "INFO:tensorflow:Assets written to: C:\\Users\\kauak\\AppData\\Local\\Temp\\tmpj1oz1w81\\model\\data\\model\\assets\n",
      "2025/02/07 09:45:29 WARNING mlflow.utils.autologging_utils: You are using an unsupported version of tensorflow. If you encounter errors during autologging, try upgrading / downgrading tensorflow to a supported version, or try upgrading MLflow.\n"
     ]
    },
    {
     "name": "stdout",
     "output_type": "stream",
     "text": [
      "Modelo:  3e865f1215174094ae474a1f29cdaf21\n",
      "Model: \"sequential_59\"\n",
      "_________________________________________________________________\n",
      " Layer (type)                Output Shape              Param #   \n",
      "=================================================================\n",
      " dense_200 (Dense)           (None, 32)                25120     \n",
      "                                                                 \n",
      " dropout_141 (Dropout)       (None, 32)                0         \n",
      "                                                                 \n",
      " dense_201 (Dense)           (None, 32)                1056      \n",
      "                                                                 \n",
      " dropout_142 (Dropout)       (None, 32)                0         \n",
      "                                                                 \n",
      " dense_202 (Dense)           (None, 32)                1056      \n",
      "                                                                 \n",
      " dropout_143 (Dropout)       (None, 32)                0         \n",
      "                                                                 \n",
      " dense_203 (Dense)           (None, 10)                330       \n",
      "                                                                 \n",
      "=================================================================\n",
      "Total params: 27,562\n",
      "Trainable params: 27,562\n",
      "Non-trainable params: 0\n",
      "_________________________________________________________________\n",
      "Epoch 1/20\n",
      "   1/1875 [..............................] - ETA: 40:57 - loss: 2.4876 - accuracy: 0.0938WARNING:tensorflow:Callback method `on_train_batch_end` is slow compared to the batch time (batch time: 0.0022s vs `on_train_batch_end` time: 0.0492s). Check your callbacks.\n"
     ]
    },
    {
     "name": "stderr",
     "output_type": "stream",
     "text": [
      "WARNING:tensorflow:Callback method `on_train_batch_end` is slow compared to the batch time (batch time: 0.0022s vs `on_train_batch_end` time: 0.0492s). Check your callbacks.\n"
     ]
    },
    {
     "name": "stdout",
     "output_type": "stream",
     "text": [
      "1875/1875 [==============================] - 7s 3ms/step - loss: 0.5187 - accuracy: 0.8506 - val_loss: 0.2453 - val_accuracy: 0.9256\n",
      "Epoch 2/20\n",
      "1875/1875 [==============================] - 5s 3ms/step - loss: 0.3302 - accuracy: 0.9046 - val_loss: 0.2062 - val_accuracy: 0.9405\n",
      "Epoch 3/20\n",
      "1875/1875 [==============================] - 5s 3ms/step - loss: 0.2919 - accuracy: 0.9167 - val_loss: 0.1904 - val_accuracy: 0.9443\n",
      "Epoch 4/20\n",
      "1875/1875 [==============================] - 5s 3ms/step - loss: 0.2722 - accuracy: 0.9219 - val_loss: 0.1755 - val_accuracy: 0.9479\n",
      "Epoch 5/20\n",
      "1875/1875 [==============================] - 5s 3ms/step - loss: 0.2545 - accuracy: 0.9250 - val_loss: 0.1701 - val_accuracy: 0.9516\n",
      "Epoch 6/20\n",
      "1875/1875 [==============================] - 5s 3ms/step - loss: 0.2434 - accuracy: 0.9294 - val_loss: 0.1670 - val_accuracy: 0.9503\n",
      "Epoch 7/20\n",
      "1875/1875 [==============================] - 5s 3ms/step - loss: 0.2283 - accuracy: 0.9343 - val_loss: 0.1595 - val_accuracy: 0.9525\n",
      "Epoch 8/20\n",
      "1875/1875 [==============================] - 5s 3ms/step - loss: 0.2235 - accuracy: 0.9360 - val_loss: 0.1539 - val_accuracy: 0.9547\n",
      "Epoch 9/20\n",
      "1875/1875 [==============================] - 5s 3ms/step - loss: 0.2160 - accuracy: 0.9372 - val_loss: 0.1537 - val_accuracy: 0.9548\n",
      "Epoch 10/20\n",
      "1875/1875 [==============================] - 5s 3ms/step - loss: 0.2131 - accuracy: 0.9380 - val_loss: 0.1528 - val_accuracy: 0.9554\n",
      "Epoch 11/20\n",
      "1875/1875 [==============================] - 5s 3ms/step - loss: 0.2100 - accuracy: 0.9395 - val_loss: 0.1478 - val_accuracy: 0.9571\n",
      "Epoch 12/20\n",
      "1875/1875 [==============================] - 5s 3ms/step - loss: 0.2037 - accuracy: 0.9421 - val_loss: 0.1513 - val_accuracy: 0.9586\n",
      "Epoch 13/20\n",
      "1875/1875 [==============================] - 5s 3ms/step - loss: 0.2000 - accuracy: 0.9420 - val_loss: 0.1492 - val_accuracy: 0.9586\n",
      "Epoch 14/20\n",
      "1875/1875 [==============================] - 5s 3ms/step - loss: 0.1988 - accuracy: 0.9428 - val_loss: 0.1478 - val_accuracy: 0.9587\n",
      "Epoch 15/20\n",
      "1875/1875 [==============================] - 5s 3ms/step - loss: 0.1954 - accuracy: 0.9432 - val_loss: 0.1456 - val_accuracy: 0.9602\n",
      "Epoch 16/20\n",
      "1875/1875 [==============================] - 5s 3ms/step - loss: 0.1934 - accuracy: 0.9443 - val_loss: 0.1438 - val_accuracy: 0.9588\n",
      "Epoch 17/20\n",
      "1875/1875 [==============================] - 5s 3ms/step - loss: 0.1910 - accuracy: 0.9441 - val_loss: 0.1387 - val_accuracy: 0.9608\n",
      "Epoch 18/20\n",
      "1875/1875 [==============================] - 5s 3ms/step - loss: 0.1909 - accuracy: 0.9447 - val_loss: 0.1445 - val_accuracy: 0.9589\n",
      "Epoch 19/20\n",
      "1875/1875 [==============================] - 5s 3ms/step - loss: 0.1847 - accuracy: 0.9453 - val_loss: 0.1420 - val_accuracy: 0.9610\n",
      "Epoch 20/20\n",
      "1875/1875 [==============================] - 5s 3ms/step - loss: 0.1838 - accuracy: 0.9460 - val_loss: 0.1396 - val_accuracy: 0.9611\n"
     ]
    },
    {
     "name": "stderr",
     "output_type": "stream",
     "text": [
      "WARNING:absl:Found untraced functions such as _update_step_xla while saving (showing 1 of 1). These functions will not be directly callable after loading.\n"
     ]
    },
    {
     "name": "stdout",
     "output_type": "stream",
     "text": [
      "INFO:tensorflow:Assets written to: C:\\Users\\kauak\\AppData\\Local\\Temp\\tmpfdyuppcx\\model\\data\\model\\assets\n"
     ]
    },
    {
     "name": "stderr",
     "output_type": "stream",
     "text": [
      "INFO:tensorflow:Assets written to: C:\\Users\\kauak\\AppData\\Local\\Temp\\tmpfdyuppcx\\model\\data\\model\\assets\n",
      "2025/02/07 09:47:21 WARNING mlflow.utils.autologging_utils: You are using an unsupported version of tensorflow. If you encounter errors during autologging, try upgrading / downgrading tensorflow to a supported version, or try upgrading MLflow.\n"
     ]
    },
    {
     "name": "stdout",
     "output_type": "stream",
     "text": [
      "Modelo:  4b974dabc6fa4484956b9f1a20452b03\n",
      "Model: \"sequential_60\"\n",
      "_________________________________________________________________\n",
      " Layer (type)                Output Shape              Param #   \n",
      "=================================================================\n",
      " dense_204 (Dense)           (None, 64)                50240     \n",
      "                                                                 \n",
      " dropout_144 (Dropout)       (None, 64)                0         \n",
      "                                                                 \n",
      " dense_205 (Dense)           (None, 64)                4160      \n",
      "                                                                 \n",
      " dropout_145 (Dropout)       (None, 64)                0         \n",
      "                                                                 \n",
      " dense_206 (Dense)           (None, 64)                4160      \n",
      "                                                                 \n",
      " dropout_146 (Dropout)       (None, 64)                0         \n",
      "                                                                 \n",
      " dense_207 (Dense)           (None, 10)                650       \n",
      "                                                                 \n",
      "=================================================================\n",
      "Total params: 59,210\n",
      "Trainable params: 59,210\n",
      "Non-trainable params: 0\n",
      "_________________________________________________________________\n",
      "Epoch 1/5\n",
      "   3/1875 [..............................] - ETA: 49s - loss: 2.2996 - accuracy: 0.1146  WARNING:tensorflow:Callback method `on_train_batch_end` is slow compared to the batch time (batch time: 0.0118s vs `on_train_batch_end` time: 0.0238s). Check your callbacks.\n"
     ]
    },
    {
     "name": "stderr",
     "output_type": "stream",
     "text": [
      "WARNING:tensorflow:Callback method `on_train_batch_end` is slow compared to the batch time (batch time: 0.0118s vs `on_train_batch_end` time: 0.0238s). Check your callbacks.\n"
     ]
    },
    {
     "name": "stdout",
     "output_type": "stream",
     "text": [
      "1875/1875 [==============================] - 7s 3ms/step - loss: 0.3569 - accuracy: 0.8904 - val_loss: 0.1531 - val_accuracy: 0.9539\n",
      "Epoch 2/5\n",
      "1875/1875 [==============================] - 6s 3ms/step - loss: 0.1745 - accuracy: 0.9483 - val_loss: 0.1156 - val_accuracy: 0.9640\n",
      "Epoch 3/5\n",
      "1875/1875 [==============================] - 5s 3ms/step - loss: 0.1382 - accuracy: 0.9586 - val_loss: 0.1132 - val_accuracy: 0.9652\n",
      "Epoch 4/5\n",
      "1875/1875 [==============================] - 5s 3ms/step - loss: 0.1213 - accuracy: 0.9645 - val_loss: 0.0954 - val_accuracy: 0.9719\n",
      "Epoch 5/5\n",
      "1875/1875 [==============================] - 5s 3ms/step - loss: 0.1075 - accuracy: 0.9669 - val_loss: 0.0975 - val_accuracy: 0.9709\n"
     ]
    },
    {
     "name": "stderr",
     "output_type": "stream",
     "text": [
      "WARNING:absl:Found untraced functions such as _update_step_xla while saving (showing 1 of 1). These functions will not be directly callable after loading.\n"
     ]
    },
    {
     "name": "stdout",
     "output_type": "stream",
     "text": [
      "INFO:tensorflow:Assets written to: C:\\Users\\kauak\\AppData\\Local\\Temp\\tmpp1h3m03c\\model\\data\\model\\assets\n"
     ]
    },
    {
     "name": "stderr",
     "output_type": "stream",
     "text": [
      "INFO:tensorflow:Assets written to: C:\\Users\\kauak\\AppData\\Local\\Temp\\tmpp1h3m03c\\model\\data\\model\\assets\n",
      "2025/02/07 09:47:58 WARNING mlflow.utils.autologging_utils: You are using an unsupported version of tensorflow. If you encounter errors during autologging, try upgrading / downgrading tensorflow to a supported version, or try upgrading MLflow.\n"
     ]
    },
    {
     "name": "stdout",
     "output_type": "stream",
     "text": [
      "Modelo:  3c0025b29ddc4098b93dede627dc713f\n",
      "Model: \"sequential_61\"\n",
      "_________________________________________________________________\n",
      " Layer (type)                Output Shape              Param #   \n",
      "=================================================================\n",
      " dense_208 (Dense)           (None, 64)                50240     \n",
      "                                                                 \n",
      " dropout_147 (Dropout)       (None, 64)                0         \n",
      "                                                                 \n",
      " dense_209 (Dense)           (None, 64)                4160      \n",
      "                                                                 \n",
      " dropout_148 (Dropout)       (None, 64)                0         \n",
      "                                                                 \n",
      " dense_210 (Dense)           (None, 64)                4160      \n",
      "                                                                 \n",
      " dropout_149 (Dropout)       (None, 64)                0         \n",
      "                                                                 \n",
      " dense_211 (Dense)           (None, 10)                650       \n",
      "                                                                 \n",
      "=================================================================\n",
      "Total params: 59,210\n",
      "Trainable params: 59,210\n",
      "Non-trainable params: 0\n",
      "_________________________________________________________________\n",
      "Epoch 1/10\n",
      "   1/1875 [..............................] - ETA: 35:41 - loss: 2.2925 - accuracy: 0.0938WARNING:tensorflow:Callback method `on_train_batch_end` is slow compared to the batch time (batch time: 0.0028s vs `on_train_batch_end` time: 0.0388s). Check your callbacks.\n"
     ]
    },
    {
     "name": "stderr",
     "output_type": "stream",
     "text": [
      "WARNING:tensorflow:Callback method `on_train_batch_end` is slow compared to the batch time (batch time: 0.0028s vs `on_train_batch_end` time: 0.0388s). Check your callbacks.\n"
     ]
    },
    {
     "name": "stdout",
     "output_type": "stream",
     "text": [
      "1875/1875 [==============================] - 8s 4ms/step - loss: 0.3657 - accuracy: 0.8877 - val_loss: 0.1490 - val_accuracy: 0.9521\n",
      "Epoch 2/10\n",
      "1875/1875 [==============================] - 5s 3ms/step - loss: 0.1784 - accuracy: 0.9460 - val_loss: 0.1230 - val_accuracy: 0.9612\n",
      "Epoch 3/10\n",
      "1875/1875 [==============================] - 5s 3ms/step - loss: 0.1416 - accuracy: 0.9576 - val_loss: 0.1096 - val_accuracy: 0.9659\n",
      "Epoch 4/10\n",
      "1875/1875 [==============================] - 5s 3ms/step - loss: 0.1230 - accuracy: 0.9623 - val_loss: 0.1005 - val_accuracy: 0.9702\n",
      "Epoch 5/10\n",
      "1875/1875 [==============================] - 5s 3ms/step - loss: 0.1063 - accuracy: 0.9678 - val_loss: 0.0959 - val_accuracy: 0.9722\n",
      "Epoch 6/10\n",
      "1875/1875 [==============================] - 5s 3ms/step - loss: 0.0993 - accuracy: 0.9693 - val_loss: 0.0926 - val_accuracy: 0.9732\n",
      "Epoch 7/10\n",
      "1875/1875 [==============================] - 5s 3ms/step - loss: 0.0919 - accuracy: 0.9724 - val_loss: 0.0875 - val_accuracy: 0.9735\n",
      "Epoch 8/10\n",
      "1875/1875 [==============================] - 5s 3ms/step - loss: 0.0844 - accuracy: 0.9738 - val_loss: 0.0905 - val_accuracy: 0.9741\n",
      "Epoch 9/10\n",
      "1875/1875 [==============================] - 6s 3ms/step - loss: 0.0832 - accuracy: 0.9745 - val_loss: 0.0903 - val_accuracy: 0.9746\n",
      "Epoch 10/10\n",
      "1875/1875 [==============================] - 6s 3ms/step - loss: 0.0745 - accuracy: 0.9769 - val_loss: 0.0838 - val_accuracy: 0.9760\n"
     ]
    },
    {
     "name": "stderr",
     "output_type": "stream",
     "text": [
      "WARNING:absl:Found untraced functions such as _update_step_xla while saving (showing 1 of 1). These functions will not be directly callable after loading.\n"
     ]
    },
    {
     "name": "stdout",
     "output_type": "stream",
     "text": [
      "INFO:tensorflow:Assets written to: C:\\Users\\kauak\\AppData\\Local\\Temp\\tmpi2th1uhr\\model\\data\\model\\assets\n"
     ]
    },
    {
     "name": "stderr",
     "output_type": "stream",
     "text": [
      "INFO:tensorflow:Assets written to: C:\\Users\\kauak\\AppData\\Local\\Temp\\tmpi2th1uhr\\model\\data\\model\\assets\n",
      "2025/02/07 09:49:02 WARNING mlflow.utils.autologging_utils: You are using an unsupported version of tensorflow. If you encounter errors during autologging, try upgrading / downgrading tensorflow to a supported version, or try upgrading MLflow.\n"
     ]
    },
    {
     "name": "stdout",
     "output_type": "stream",
     "text": [
      "Modelo:  ddea4083c12b42f8af91456f3d9a6ec4\n",
      "Model: \"sequential_62\"\n",
      "_________________________________________________________________\n",
      " Layer (type)                Output Shape              Param #   \n",
      "=================================================================\n",
      " dense_212 (Dense)           (None, 64)                50240     \n",
      "                                                                 \n",
      " dropout_150 (Dropout)       (None, 64)                0         \n",
      "                                                                 \n",
      " dense_213 (Dense)           (None, 64)                4160      \n",
      "                                                                 \n",
      " dropout_151 (Dropout)       (None, 64)                0         \n",
      "                                                                 \n",
      " dense_214 (Dense)           (None, 64)                4160      \n",
      "                                                                 \n",
      " dropout_152 (Dropout)       (None, 64)                0         \n",
      "                                                                 \n",
      " dense_215 (Dense)           (None, 10)                650       \n",
      "                                                                 \n",
      "=================================================================\n",
      "Total params: 59,210\n",
      "Trainable params: 59,210\n",
      "Non-trainable params: 0\n",
      "_________________________________________________________________\n",
      "Epoch 1/20\n",
      "   1/1875 [..............................] - ETA: 54:08 - loss: 2.3187 - accuracy: 0.0625WARNING:tensorflow:Callback method `on_train_batch_end` is slow compared to the batch time (batch time: 0.0035s vs `on_train_batch_end` time: 0.0875s). Check your callbacks.\n"
     ]
    },
    {
     "name": "stderr",
     "output_type": "stream",
     "text": [
      "WARNING:tensorflow:Callback method `on_train_batch_end` is slow compared to the batch time (batch time: 0.0035s vs `on_train_batch_end` time: 0.0875s). Check your callbacks.\n"
     ]
    },
    {
     "name": "stdout",
     "output_type": "stream",
     "text": [
      "1875/1875 [==============================] - 9s 4ms/step - loss: 0.3542 - accuracy: 0.8916 - val_loss: 0.1450 - val_accuracy: 0.9556\n",
      "Epoch 2/20\n",
      "1875/1875 [==============================] - 6s 3ms/step - loss: 0.1703 - accuracy: 0.9493 - val_loss: 0.1103 - val_accuracy: 0.9661\n",
      "Epoch 3/20\n",
      "1875/1875 [==============================] - 6s 3ms/step - loss: 0.1373 - accuracy: 0.9595 - val_loss: 0.0921 - val_accuracy: 0.9725\n",
      "Epoch 4/20\n",
      "1875/1875 [==============================] - 6s 3ms/step - loss: 0.1182 - accuracy: 0.9644 - val_loss: 0.0904 - val_accuracy: 0.9714\n",
      "Epoch 5/20\n",
      "1875/1875 [==============================] - 6s 3ms/step - loss: 0.1052 - accuracy: 0.9681 - val_loss: 0.0955 - val_accuracy: 0.9721\n",
      "Epoch 6/20\n",
      "1875/1875 [==============================] - 6s 3ms/step - loss: 0.0964 - accuracy: 0.9716 - val_loss: 0.0908 - val_accuracy: 0.9738\n",
      "Epoch 7/20\n",
      "1875/1875 [==============================] - 6s 3ms/step - loss: 0.0904 - accuracy: 0.9720 - val_loss: 0.0947 - val_accuracy: 0.9728\n",
      "Epoch 8/20\n",
      "1875/1875 [==============================] - 6s 3ms/step - loss: 0.0838 - accuracy: 0.9743 - val_loss: 0.0844 - val_accuracy: 0.9758\n",
      "Epoch 9/20\n",
      "1875/1875 [==============================] - 6s 3ms/step - loss: 0.0775 - accuracy: 0.9762 - val_loss: 0.0848 - val_accuracy: 0.9741\n",
      "Epoch 10/20\n",
      "1875/1875 [==============================] - 6s 3ms/step - loss: 0.0738 - accuracy: 0.9773 - val_loss: 0.0807 - val_accuracy: 0.9783\n",
      "Epoch 11/20\n",
      "1875/1875 [==============================] - 6s 3ms/step - loss: 0.0714 - accuracy: 0.9783 - val_loss: 0.0871 - val_accuracy: 0.9752\n",
      "Epoch 12/20\n",
      "1875/1875 [==============================] - 6s 3ms/step - loss: 0.0678 - accuracy: 0.9793 - val_loss: 0.0817 - val_accuracy: 0.9765\n",
      "Epoch 13/20\n",
      "1875/1875 [==============================] - 6s 3ms/step - loss: 0.0651 - accuracy: 0.9796 - val_loss: 0.0910 - val_accuracy: 0.9735\n",
      "Epoch 14/20\n",
      "1875/1875 [==============================] - 6s 3ms/step - loss: 0.0605 - accuracy: 0.9809 - val_loss: 0.0891 - val_accuracy: 0.9762\n",
      "Epoch 15/20\n",
      "1875/1875 [==============================] - 6s 3ms/step - loss: 0.0588 - accuracy: 0.9810 - val_loss: 0.0900 - val_accuracy: 0.9763\n",
      "Epoch 16/20\n",
      "1875/1875 [==============================] - 6s 3ms/step - loss: 0.0567 - accuracy: 0.9827 - val_loss: 0.0789 - val_accuracy: 0.9777\n",
      "Epoch 17/20\n",
      "1875/1875 [==============================] - 6s 3ms/step - loss: 0.0579 - accuracy: 0.9819 - val_loss: 0.0815 - val_accuracy: 0.9768\n",
      "Epoch 18/20\n",
      "1875/1875 [==============================] - 6s 3ms/step - loss: 0.0551 - accuracy: 0.9830 - val_loss: 0.0889 - val_accuracy: 0.9777\n",
      "Epoch 19/20\n",
      "1875/1875 [==============================] - 6s 3ms/step - loss: 0.0535 - accuracy: 0.9830 - val_loss: 0.0880 - val_accuracy: 0.9764\n",
      "Epoch 20/20\n",
      "1875/1875 [==============================] - 6s 3ms/step - loss: 0.0527 - accuracy: 0.9838 - val_loss: 0.0915 - val_accuracy: 0.9778\n"
     ]
    },
    {
     "name": "stderr",
     "output_type": "stream",
     "text": [
      "WARNING:absl:Found untraced functions such as _update_step_xla while saving (showing 1 of 1). These functions will not be directly callable after loading.\n"
     ]
    },
    {
     "name": "stdout",
     "output_type": "stream",
     "text": [
      "INFO:tensorflow:Assets written to: C:\\Users\\kauak\\AppData\\Local\\Temp\\tmp4egc6_tn\\model\\data\\model\\assets\n"
     ]
    },
    {
     "name": "stderr",
     "output_type": "stream",
     "text": [
      "INFO:tensorflow:Assets written to: C:\\Users\\kauak\\AppData\\Local\\Temp\\tmp4egc6_tn\\model\\data\\model\\assets\n",
      "2025/02/07 09:51:34 WARNING mlflow.utils.autologging_utils: You are using an unsupported version of tensorflow. If you encounter errors during autologging, try upgrading / downgrading tensorflow to a supported version, or try upgrading MLflow.\n"
     ]
    },
    {
     "name": "stdout",
     "output_type": "stream",
     "text": [
      "Modelo:  8ab034a0fe70451baa5870e3a1a54169\n",
      "Model: \"sequential_63\"\n",
      "_________________________________________________________________\n",
      " Layer (type)                Output Shape              Param #   \n",
      "=================================================================\n",
      " dense_216 (Dense)           (None, 64)                50240     \n",
      "                                                                 \n",
      " dropout_153 (Dropout)       (None, 64)                0         \n",
      "                                                                 \n",
      " dense_217 (Dense)           (None, 64)                4160      \n",
      "                                                                 \n",
      " dropout_154 (Dropout)       (None, 64)                0         \n",
      "                                                                 \n",
      " dense_218 (Dense)           (None, 64)                4160      \n",
      "                                                                 \n",
      " dropout_155 (Dropout)       (None, 64)                0         \n",
      "                                                                 \n",
      " dense_219 (Dense)           (None, 10)                650       \n",
      "                                                                 \n",
      "=================================================================\n",
      "Total params: 59,210\n",
      "Trainable params: 59,210\n",
      "Non-trainable params: 0\n",
      "_________________________________________________________________\n",
      "Epoch 1/5\n",
      "   1/1875 [..............................] - ETA: 31:12 - loss: 2.4363 - accuracy: 0.0000e+00WARNING:tensorflow:Callback method `on_train_batch_end` is slow compared to the batch time (batch time: 0.0028s vs `on_train_batch_end` time: 0.0114s). Check your callbacks.\n"
     ]
    },
    {
     "name": "stderr",
     "output_type": "stream",
     "text": [
      "WARNING:tensorflow:Callback method `on_train_batch_end` is slow compared to the batch time (batch time: 0.0028s vs `on_train_batch_end` time: 0.0114s). Check your callbacks.\n"
     ]
    },
    {
     "name": "stdout",
     "output_type": "stream",
     "text": [
      "1875/1875 [==============================] - 7s 3ms/step - loss: 0.4411 - accuracy: 0.8662 - val_loss: 0.1636 - val_accuracy: 0.9493\n",
      "Epoch 2/5\n",
      "1875/1875 [==============================] - 6s 3ms/step - loss: 0.2281 - accuracy: 0.9357 - val_loss: 0.1315 - val_accuracy: 0.9622\n",
      "Epoch 3/5\n",
      "1875/1875 [==============================] - 6s 3ms/step - loss: 0.1878 - accuracy: 0.9467 - val_loss: 0.1170 - val_accuracy: 0.9665\n",
      "Epoch 4/5\n",
      "1875/1875 [==============================] - 6s 3ms/step - loss: 0.1644 - accuracy: 0.9523 - val_loss: 0.1106 - val_accuracy: 0.9683\n",
      "Epoch 5/5\n",
      "1875/1875 [==============================] - 6s 3ms/step - loss: 0.1484 - accuracy: 0.9564 - val_loss: 0.0972 - val_accuracy: 0.9716\n"
     ]
    },
    {
     "name": "stderr",
     "output_type": "stream",
     "text": [
      "WARNING:absl:Found untraced functions such as _update_step_xla while saving (showing 1 of 1). These functions will not be directly callable after loading.\n"
     ]
    },
    {
     "name": "stdout",
     "output_type": "stream",
     "text": [
      "INFO:tensorflow:Assets written to: C:\\Users\\kauak\\AppData\\Local\\Temp\\tmpdj20j6v8\\model\\data\\model\\assets\n"
     ]
    },
    {
     "name": "stderr",
     "output_type": "stream",
     "text": [
      "INFO:tensorflow:Assets written to: C:\\Users\\kauak\\AppData\\Local\\Temp\\tmpdj20j6v8\\model\\data\\model\\assets\n",
      "2025/02/07 09:52:11 WARNING mlflow.utils.autologging_utils: You are using an unsupported version of tensorflow. If you encounter errors during autologging, try upgrading / downgrading tensorflow to a supported version, or try upgrading MLflow.\n"
     ]
    },
    {
     "name": "stdout",
     "output_type": "stream",
     "text": [
      "Modelo:  99b0d85909f44814a7298dbb82ab53b1\n",
      "Model: \"sequential_64\"\n",
      "_________________________________________________________________\n",
      " Layer (type)                Output Shape              Param #   \n",
      "=================================================================\n",
      " dense_220 (Dense)           (None, 64)                50240     \n",
      "                                                                 \n",
      " dropout_156 (Dropout)       (None, 64)                0         \n",
      "                                                                 \n",
      " dense_221 (Dense)           (None, 64)                4160      \n",
      "                                                                 \n",
      " dropout_157 (Dropout)       (None, 64)                0         \n",
      "                                                                 \n",
      " dense_222 (Dense)           (None, 64)                4160      \n",
      "                                                                 \n",
      " dropout_158 (Dropout)       (None, 64)                0         \n",
      "                                                                 \n",
      " dense_223 (Dense)           (None, 10)                650       \n",
      "                                                                 \n",
      "=================================================================\n",
      "Total params: 59,210\n",
      "Trainable params: 59,210\n",
      "Non-trainable params: 0\n",
      "_________________________________________________________________\n",
      "Epoch 1/10\n",
      "   1/1875 [..............................] - ETA: 31:31 - loss: 2.3263 - accuracy: 0.1250WARNING:tensorflow:Callback method `on_train_batch_end` is slow compared to the batch time (batch time: 0.0026s vs `on_train_batch_end` time: 0.0230s). Check your callbacks.\n"
     ]
    },
    {
     "name": "stderr",
     "output_type": "stream",
     "text": [
      "WARNING:tensorflow:Callback method `on_train_batch_end` is slow compared to the batch time (batch time: 0.0026s vs `on_train_batch_end` time: 0.0230s). Check your callbacks.\n"
     ]
    },
    {
     "name": "stdout",
     "output_type": "stream",
     "text": [
      "1875/1875 [==============================] - 6s 3ms/step - loss: 0.4441 - accuracy: 0.8633 - val_loss: 0.1588 - val_accuracy: 0.9520\n",
      "Epoch 2/10\n",
      "1875/1875 [==============================] - 5s 3ms/step - loss: 0.2262 - accuracy: 0.9351 - val_loss: 0.1277 - val_accuracy: 0.9615\n",
      "Epoch 3/10\n",
      "1875/1875 [==============================] - 5s 3ms/step - loss: 0.1912 - accuracy: 0.9441 - val_loss: 0.1129 - val_accuracy: 0.9649\n",
      "Epoch 4/10\n",
      "1875/1875 [==============================] - 5s 3ms/step - loss: 0.1676 - accuracy: 0.9509 - val_loss: 0.1039 - val_accuracy: 0.9684\n",
      "Epoch 5/10\n",
      "1875/1875 [==============================] - 5s 3ms/step - loss: 0.1525 - accuracy: 0.9544 - val_loss: 0.1012 - val_accuracy: 0.9707\n",
      "Epoch 6/10\n",
      "1875/1875 [==============================] - 5s 3ms/step - loss: 0.1406 - accuracy: 0.9586 - val_loss: 0.1054 - val_accuracy: 0.9699\n",
      "Epoch 7/10\n",
      "1875/1875 [==============================] - 5s 3ms/step - loss: 0.1296 - accuracy: 0.9617 - val_loss: 0.0933 - val_accuracy: 0.9702\n",
      "Epoch 8/10\n",
      "1875/1875 [==============================] - 5s 3ms/step - loss: 0.1227 - accuracy: 0.9639 - val_loss: 0.0865 - val_accuracy: 0.9726\n",
      "Epoch 9/10\n",
      "1875/1875 [==============================] - 5s 3ms/step - loss: 0.1197 - accuracy: 0.9642 - val_loss: 0.0916 - val_accuracy: 0.9732\n",
      "Epoch 10/10\n",
      "1875/1875 [==============================] - 5s 3ms/step - loss: 0.1159 - accuracy: 0.9654 - val_loss: 0.0918 - val_accuracy: 0.9724\n"
     ]
    },
    {
     "name": "stderr",
     "output_type": "stream",
     "text": [
      "WARNING:absl:Found untraced functions such as _update_step_xla while saving (showing 1 of 1). These functions will not be directly callable after loading.\n"
     ]
    },
    {
     "name": "stdout",
     "output_type": "stream",
     "text": [
      "INFO:tensorflow:Assets written to: C:\\Users\\kauak\\AppData\\Local\\Temp\\tmpfbc079dg\\model\\data\\model\\assets\n"
     ]
    },
    {
     "name": "stderr",
     "output_type": "stream",
     "text": [
      "INFO:tensorflow:Assets written to: C:\\Users\\kauak\\AppData\\Local\\Temp\\tmpfbc079dg\\model\\data\\model\\assets\n",
      "2025/02/07 09:53:12 WARNING mlflow.utils.autologging_utils: You are using an unsupported version of tensorflow. If you encounter errors during autologging, try upgrading / downgrading tensorflow to a supported version, or try upgrading MLflow.\n"
     ]
    },
    {
     "name": "stdout",
     "output_type": "stream",
     "text": [
      "Modelo:  2b12a9cc1a134f08933fbd4e7a2d9b63\n",
      "Model: \"sequential_65\"\n",
      "_________________________________________________________________\n",
      " Layer (type)                Output Shape              Param #   \n",
      "=================================================================\n",
      " dense_224 (Dense)           (None, 64)                50240     \n",
      "                                                                 \n",
      " dropout_159 (Dropout)       (None, 64)                0         \n",
      "                                                                 \n",
      " dense_225 (Dense)           (None, 64)                4160      \n",
      "                                                                 \n",
      " dropout_160 (Dropout)       (None, 64)                0         \n",
      "                                                                 \n",
      " dense_226 (Dense)           (None, 64)                4160      \n",
      "                                                                 \n",
      " dropout_161 (Dropout)       (None, 64)                0         \n",
      "                                                                 \n",
      " dense_227 (Dense)           (None, 10)                650       \n",
      "                                                                 \n",
      "=================================================================\n",
      "Total params: 59,210\n",
      "Trainable params: 59,210\n",
      "Non-trainable params: 0\n",
      "_________________________________________________________________\n",
      "Epoch 1/20\n",
      "   1/1875 [..............................] - ETA: 29:33 - loss: 2.2640 - accuracy: 0.0625WARNING:tensorflow:Callback method `on_train_batch_end` is slow compared to the batch time (batch time: 0.0024s vs `on_train_batch_end` time: 0.0093s). Check your callbacks.\n"
     ]
    },
    {
     "name": "stderr",
     "output_type": "stream",
     "text": [
      "WARNING:tensorflow:Callback method `on_train_batch_end` is slow compared to the batch time (batch time: 0.0024s vs `on_train_batch_end` time: 0.0093s). Check your callbacks.\n"
     ]
    },
    {
     "name": "stdout",
     "output_type": "stream",
     "text": [
      "1875/1875 [==============================] - 8s 4ms/step - loss: 0.4358 - accuracy: 0.8677 - val_loss: 0.1701 - val_accuracy: 0.9492\n",
      "Epoch 2/20\n",
      "1875/1875 [==============================] - 6s 3ms/step - loss: 0.2288 - accuracy: 0.9336 - val_loss: 0.1375 - val_accuracy: 0.9614\n",
      "Epoch 3/20\n",
      "1875/1875 [==============================] - 6s 3ms/step - loss: 0.1871 - accuracy: 0.9461 - val_loss: 0.1177 - val_accuracy: 0.9663\n",
      "Epoch 4/20\n",
      "1875/1875 [==============================] - 6s 3ms/step - loss: 0.1630 - accuracy: 0.9524 - val_loss: 0.1142 - val_accuracy: 0.9673\n",
      "Epoch 5/20\n",
      "1875/1875 [==============================] - 6s 3ms/step - loss: 0.1501 - accuracy: 0.9566 - val_loss: 0.1026 - val_accuracy: 0.9688\n",
      "Epoch 6/20\n",
      "1875/1875 [==============================] - 6s 3ms/step - loss: 0.1397 - accuracy: 0.9592 - val_loss: 0.0959 - val_accuracy: 0.9732\n",
      "Epoch 7/20\n",
      "1875/1875 [==============================] - 6s 3ms/step - loss: 0.1302 - accuracy: 0.9618 - val_loss: 0.1030 - val_accuracy: 0.9710\n",
      "Epoch 8/20\n",
      "1875/1875 [==============================] - 6s 3ms/step - loss: 0.1249 - accuracy: 0.9631 - val_loss: 0.0935 - val_accuracy: 0.9722\n",
      "Epoch 9/20\n",
      "1875/1875 [==============================] - 6s 3ms/step - loss: 0.1171 - accuracy: 0.9647 - val_loss: 0.0940 - val_accuracy: 0.9736\n",
      "Epoch 10/20\n",
      "1875/1875 [==============================] - 6s 3ms/step - loss: 0.1110 - accuracy: 0.9675 - val_loss: 0.0964 - val_accuracy: 0.9734\n",
      "Epoch 11/20\n",
      "1875/1875 [==============================] - 6s 3ms/step - loss: 0.1082 - accuracy: 0.9676 - val_loss: 0.0912 - val_accuracy: 0.9744\n",
      "Epoch 12/20\n",
      "1875/1875 [==============================] - 6s 3ms/step - loss: 0.1020 - accuracy: 0.9693 - val_loss: 0.0962 - val_accuracy: 0.9737\n",
      "Epoch 13/20\n",
      "1875/1875 [==============================] - 6s 3ms/step - loss: 0.0983 - accuracy: 0.9701 - val_loss: 0.0941 - val_accuracy: 0.9743\n",
      "Epoch 14/20\n",
      "1875/1875 [==============================] - 6s 3ms/step - loss: 0.0982 - accuracy: 0.9710 - val_loss: 0.0932 - val_accuracy: 0.9749\n",
      "Epoch 15/20\n",
      "1875/1875 [==============================] - 6s 3ms/step - loss: 0.0950 - accuracy: 0.9721 - val_loss: 0.0910 - val_accuracy: 0.9751\n",
      "Epoch 16/20\n",
      "1875/1875 [==============================] - 6s 3ms/step - loss: 0.0921 - accuracy: 0.9724 - val_loss: 0.0944 - val_accuracy: 0.9741\n",
      "Epoch 17/20\n",
      "1875/1875 [==============================] - 6s 3ms/step - loss: 0.0912 - accuracy: 0.9729 - val_loss: 0.0888 - val_accuracy: 0.9759\n",
      "Epoch 18/20\n",
      "1875/1875 [==============================] - 6s 3ms/step - loss: 0.0888 - accuracy: 0.9731 - val_loss: 0.0962 - val_accuracy: 0.9753\n",
      "Epoch 19/20\n",
      "1875/1875 [==============================] - 6s 3ms/step - loss: 0.0873 - accuracy: 0.9740 - val_loss: 0.0898 - val_accuracy: 0.9759\n",
      "Epoch 20/20\n",
      "1875/1875 [==============================] - 6s 3ms/step - loss: 0.0813 - accuracy: 0.9757 - val_loss: 0.0890 - val_accuracy: 0.9763\n"
     ]
    },
    {
     "name": "stderr",
     "output_type": "stream",
     "text": [
      "WARNING:absl:Found untraced functions such as _update_step_xla while saving (showing 1 of 1). These functions will not be directly callable after loading.\n"
     ]
    },
    {
     "name": "stdout",
     "output_type": "stream",
     "text": [
      "INFO:tensorflow:Assets written to: C:\\Users\\kauak\\AppData\\Local\\Temp\\tmp9yeo_f93\\model\\data\\model\\assets\n"
     ]
    },
    {
     "name": "stderr",
     "output_type": "stream",
     "text": [
      "INFO:tensorflow:Assets written to: C:\\Users\\kauak\\AppData\\Local\\Temp\\tmp9yeo_f93\\model\\data\\model\\assets\n",
      "2025/02/07 09:55:17 WARNING mlflow.utils.autologging_utils: You are using an unsupported version of tensorflow. If you encounter errors during autologging, try upgrading / downgrading tensorflow to a supported version, or try upgrading MLflow.\n"
     ]
    },
    {
     "name": "stdout",
     "output_type": "stream",
     "text": [
      "Modelo:  bc5c0137fd784d5ba8dd8a55f5c07df1\n",
      "Model: \"sequential_66\"\n",
      "_________________________________________________________________\n",
      " Layer (type)                Output Shape              Param #   \n",
      "=================================================================\n",
      " dense_228 (Dense)           (None, 64)                50240     \n",
      "                                                                 \n",
      " dropout_162 (Dropout)       (None, 64)                0         \n",
      "                                                                 \n",
      " dense_229 (Dense)           (None, 64)                4160      \n",
      "                                                                 \n",
      " dropout_163 (Dropout)       (None, 64)                0         \n",
      "                                                                 \n",
      " dense_230 (Dense)           (None, 64)                4160      \n",
      "                                                                 \n",
      " dropout_164 (Dropout)       (None, 64)                0         \n",
      "                                                                 \n",
      " dense_231 (Dense)           (None, 10)                650       \n",
      "                                                                 \n",
      "=================================================================\n",
      "Total params: 59,210\n",
      "Trainable params: 59,210\n",
      "Non-trainable params: 0\n",
      "_________________________________________________________________\n",
      "Epoch 1/5\n",
      "   1/1875 [..............................] - ETA: 30:09 - loss: 2.5984 - accuracy: 0.0625WARNING:tensorflow:Callback method `on_train_batch_end` is slow compared to the batch time (batch time: 0.0026s vs `on_train_batch_end` time: 0.0139s). Check your callbacks.\n"
     ]
    },
    {
     "name": "stderr",
     "output_type": "stream",
     "text": [
      "WARNING:tensorflow:Callback method `on_train_batch_end` is slow compared to the batch time (batch time: 0.0026s vs `on_train_batch_end` time: 0.0139s). Check your callbacks.\n"
     ]
    },
    {
     "name": "stdout",
     "output_type": "stream",
     "text": [
      "1875/1875 [==============================] - 7s 3ms/step - loss: 0.3339 - accuracy: 0.9014 - val_loss: 0.1772 - val_accuracy: 0.9455\n",
      "Epoch 2/5\n",
      "1875/1875 [==============================] - 6s 3ms/step - loss: 0.1887 - accuracy: 0.9431 - val_loss: 0.1425 - val_accuracy: 0.9562\n",
      "Epoch 3/5\n",
      "1875/1875 [==============================] - 6s 3ms/step - loss: 0.1538 - accuracy: 0.9538 - val_loss: 0.1262 - val_accuracy: 0.9620\n",
      "Epoch 4/5\n",
      "1875/1875 [==============================] - 6s 3ms/step - loss: 0.1316 - accuracy: 0.9595 - val_loss: 0.1092 - val_accuracy: 0.9677\n",
      "Epoch 5/5\n",
      "1875/1875 [==============================] - 6s 3ms/step - loss: 0.1158 - accuracy: 0.9645 - val_loss: 0.1094 - val_accuracy: 0.9675\n"
     ]
    },
    {
     "name": "stderr",
     "output_type": "stream",
     "text": [
      "WARNING:absl:Found untraced functions such as _update_step_xla while saving (showing 1 of 1). These functions will not be directly callable after loading.\n"
     ]
    },
    {
     "name": "stdout",
     "output_type": "stream",
     "text": [
      "INFO:tensorflow:Assets written to: C:\\Users\\kauak\\AppData\\Local\\Temp\\tmpebyv3w33\\model\\data\\model\\assets\n"
     ]
    },
    {
     "name": "stderr",
     "output_type": "stream",
     "text": [
      "INFO:tensorflow:Assets written to: C:\\Users\\kauak\\AppData\\Local\\Temp\\tmpebyv3w33\\model\\data\\model\\assets\n",
      "2025/02/07 09:55:55 WARNING mlflow.utils.autologging_utils: You are using an unsupported version of tensorflow. If you encounter errors during autologging, try upgrading / downgrading tensorflow to a supported version, or try upgrading MLflow.\n"
     ]
    },
    {
     "name": "stdout",
     "output_type": "stream",
     "text": [
      "Modelo:  b5b1d7d229af464fb7eb6783c8f487dc\n",
      "Model: \"sequential_67\"\n",
      "_________________________________________________________________\n",
      " Layer (type)                Output Shape              Param #   \n",
      "=================================================================\n",
      " dense_232 (Dense)           (None, 64)                50240     \n",
      "                                                                 \n",
      " dropout_165 (Dropout)       (None, 64)                0         \n",
      "                                                                 \n",
      " dense_233 (Dense)           (None, 64)                4160      \n",
      "                                                                 \n",
      " dropout_166 (Dropout)       (None, 64)                0         \n",
      "                                                                 \n",
      " dense_234 (Dense)           (None, 64)                4160      \n",
      "                                                                 \n",
      " dropout_167 (Dropout)       (None, 64)                0         \n",
      "                                                                 \n",
      " dense_235 (Dense)           (None, 10)                650       \n",
      "                                                                 \n",
      "=================================================================\n",
      "Total params: 59,210\n",
      "Trainable params: 59,210\n",
      "Non-trainable params: 0\n",
      "_________________________________________________________________\n",
      "Epoch 1/10\n",
      "   1/1875 [..............................] - ETA: 30:12 - loss: 2.3250 - accuracy: 0.0938WARNING:tensorflow:Callback method `on_train_batch_end` is slow compared to the batch time (batch time: 0.0026s vs `on_train_batch_end` time: 0.0129s). Check your callbacks.\n"
     ]
    },
    {
     "name": "stderr",
     "output_type": "stream",
     "text": [
      "WARNING:tensorflow:Callback method `on_train_batch_end` is slow compared to the batch time (batch time: 0.0026s vs `on_train_batch_end` time: 0.0129s). Check your callbacks.\n"
     ]
    },
    {
     "name": "stdout",
     "output_type": "stream",
     "text": [
      "1875/1875 [==============================] - 7s 3ms/step - loss: 0.3357 - accuracy: 0.9019 - val_loss: 0.1905 - val_accuracy: 0.9431\n",
      "Epoch 2/10\n",
      "1875/1875 [==============================] - 6s 3ms/step - loss: 0.1895 - accuracy: 0.9430 - val_loss: 0.1381 - val_accuracy: 0.9585\n",
      "Epoch 3/10\n",
      "1875/1875 [==============================] - 5s 3ms/step - loss: 0.1487 - accuracy: 0.9549 - val_loss: 0.1176 - val_accuracy: 0.9648\n",
      "Epoch 4/10\n",
      "1875/1875 [==============================] - 5s 3ms/step - loss: 0.1267 - accuracy: 0.9614 - val_loss: 0.1123 - val_accuracy: 0.9673\n",
      "Epoch 5/10\n",
      "1875/1875 [==============================] - 5s 3ms/step - loss: 0.1124 - accuracy: 0.9659 - val_loss: 0.1097 - val_accuracy: 0.9682\n",
      "Epoch 6/10\n",
      "1875/1875 [==============================] - 5s 3ms/step - loss: 0.1047 - accuracy: 0.9676 - val_loss: 0.0939 - val_accuracy: 0.9720\n",
      "Epoch 7/10\n",
      "1875/1875 [==============================] - 5s 3ms/step - loss: 0.0955 - accuracy: 0.9710 - val_loss: 0.0973 - val_accuracy: 0.9729\n",
      "Epoch 8/10\n",
      "1875/1875 [==============================] - 5s 3ms/step - loss: 0.0896 - accuracy: 0.9726 - val_loss: 0.0914 - val_accuracy: 0.9725\n",
      "Epoch 9/10\n",
      "1875/1875 [==============================] - 5s 3ms/step - loss: 0.0844 - accuracy: 0.9740 - val_loss: 0.0950 - val_accuracy: 0.9719\n",
      "Epoch 10/10\n",
      "1875/1875 [==============================] - 5s 3ms/step - loss: 0.0783 - accuracy: 0.9750 - val_loss: 0.0962 - val_accuracy: 0.9723\n"
     ]
    },
    {
     "name": "stderr",
     "output_type": "stream",
     "text": [
      "WARNING:absl:Found untraced functions such as _update_step_xla while saving (showing 1 of 1). These functions will not be directly callable after loading.\n"
     ]
    },
    {
     "name": "stdout",
     "output_type": "stream",
     "text": [
      "INFO:tensorflow:Assets written to: C:\\Users\\kauak\\AppData\\Local\\Temp\\tmpnnaca8_4\\model\\data\\model\\assets\n"
     ]
    },
    {
     "name": "stderr",
     "output_type": "stream",
     "text": [
      "INFO:tensorflow:Assets written to: C:\\Users\\kauak\\AppData\\Local\\Temp\\tmpnnaca8_4\\model\\data\\model\\assets\n",
      "2025/02/07 09:56:57 WARNING mlflow.utils.autologging_utils: You are using an unsupported version of tensorflow. If you encounter errors during autologging, try upgrading / downgrading tensorflow to a supported version, or try upgrading MLflow.\n"
     ]
    },
    {
     "name": "stdout",
     "output_type": "stream",
     "text": [
      "Modelo:  e6beb224575248c2bead685c093ccb94\n",
      "Model: \"sequential_68\"\n",
      "_________________________________________________________________\n",
      " Layer (type)                Output Shape              Param #   \n",
      "=================================================================\n",
      " dense_236 (Dense)           (None, 64)                50240     \n",
      "                                                                 \n",
      " dropout_168 (Dropout)       (None, 64)                0         \n",
      "                                                                 \n",
      " dense_237 (Dense)           (None, 64)                4160      \n",
      "                                                                 \n",
      " dropout_169 (Dropout)       (None, 64)                0         \n",
      "                                                                 \n",
      " dense_238 (Dense)           (None, 64)                4160      \n",
      "                                                                 \n",
      " dropout_170 (Dropout)       (None, 64)                0         \n",
      "                                                                 \n",
      " dense_239 (Dense)           (None, 10)                650       \n",
      "                                                                 \n",
      "=================================================================\n",
      "Total params: 59,210\n",
      "Trainable params: 59,210\n",
      "Non-trainable params: 0\n",
      "_________________________________________________________________\n",
      "Epoch 1/20\n",
      "   1/1875 [..............................] - ETA: 31:04 - loss: 2.4894 - accuracy: 0.0312WARNING:tensorflow:Callback method `on_train_batch_end` is slow compared to the batch time (batch time: 0.0021s vs `on_train_batch_end` time: 0.0110s). Check your callbacks.\n"
     ]
    },
    {
     "name": "stderr",
     "output_type": "stream",
     "text": [
      "WARNING:tensorflow:Callback method `on_train_batch_end` is slow compared to the batch time (batch time: 0.0021s vs `on_train_batch_end` time: 0.0110s). Check your callbacks.\n"
     ]
    },
    {
     "name": "stdout",
     "output_type": "stream",
     "text": [
      "1875/1875 [==============================] - 8s 4ms/step - loss: 0.3332 - accuracy: 0.9023 - val_loss: 0.1766 - val_accuracy: 0.9449\n",
      "Epoch 2/20\n",
      "1875/1875 [==============================] - 5s 3ms/step - loss: 0.1879 - accuracy: 0.9445 - val_loss: 0.1493 - val_accuracy: 0.9551\n",
      "Epoch 3/20\n",
      "1875/1875 [==============================] - 5s 3ms/step - loss: 0.1500 - accuracy: 0.9556 - val_loss: 0.1255 - val_accuracy: 0.9606\n",
      "Epoch 4/20\n",
      "1875/1875 [==============================] - 5s 3ms/step - loss: 0.1314 - accuracy: 0.9603 - val_loss: 0.1113 - val_accuracy: 0.9673\n",
      "Epoch 5/20\n",
      "1875/1875 [==============================] - 5s 3ms/step - loss: 0.1182 - accuracy: 0.9645 - val_loss: 0.1041 - val_accuracy: 0.9673\n",
      "Epoch 6/20\n",
      "1875/1875 [==============================] - 5s 3ms/step - loss: 0.1036 - accuracy: 0.9681 - val_loss: 0.1011 - val_accuracy: 0.9708\n",
      "Epoch 7/20\n",
      "1875/1875 [==============================] - 5s 3ms/step - loss: 0.0980 - accuracy: 0.9699 - val_loss: 0.1023 - val_accuracy: 0.9713\n",
      "Epoch 8/20\n",
      "1875/1875 [==============================] - 5s 3ms/step - loss: 0.0884 - accuracy: 0.9729 - val_loss: 0.0951 - val_accuracy: 0.9712\n",
      "Epoch 9/20\n",
      "1875/1875 [==============================] - 5s 3ms/step - loss: 0.0838 - accuracy: 0.9742 - val_loss: 0.1045 - val_accuracy: 0.9698\n",
      "Epoch 10/20\n",
      "1875/1875 [==============================] - 5s 3ms/step - loss: 0.0799 - accuracy: 0.9746 - val_loss: 0.1024 - val_accuracy: 0.9697\n",
      "Epoch 11/20\n",
      "1875/1875 [==============================] - 5s 3ms/step - loss: 0.0734 - accuracy: 0.9769 - val_loss: 0.0968 - val_accuracy: 0.9721\n",
      "Epoch 12/20\n",
      "1875/1875 [==============================] - 5s 3ms/step - loss: 0.0716 - accuracy: 0.9777 - val_loss: 0.0941 - val_accuracy: 0.9727\n",
      "Epoch 13/20\n",
      "1875/1875 [==============================] - 5s 3ms/step - loss: 0.0700 - accuracy: 0.9778 - val_loss: 0.0975 - val_accuracy: 0.9722\n",
      "Epoch 14/20\n",
      "1875/1875 [==============================] - 5s 3ms/step - loss: 0.0645 - accuracy: 0.9798 - val_loss: 0.1048 - val_accuracy: 0.9711\n",
      "Epoch 15/20\n",
      "1875/1875 [==============================] - 5s 3ms/step - loss: 0.0651 - accuracy: 0.9795 - val_loss: 0.0864 - val_accuracy: 0.9737\n",
      "Epoch 16/20\n",
      "1875/1875 [==============================] - 5s 3ms/step - loss: 0.0579 - accuracy: 0.9818 - val_loss: 0.0923 - val_accuracy: 0.9728\n",
      "Epoch 17/20\n",
      "1875/1875 [==============================] - 5s 3ms/step - loss: 0.0589 - accuracy: 0.9809 - val_loss: 0.0947 - val_accuracy: 0.9737\n",
      "Epoch 18/20\n",
      "1875/1875 [==============================] - 5s 3ms/step - loss: 0.0527 - accuracy: 0.9828 - val_loss: 0.0924 - val_accuracy: 0.9746\n",
      "Epoch 19/20\n",
      "1875/1875 [==============================] - 5s 3ms/step - loss: 0.0542 - accuracy: 0.9826 - val_loss: 0.0982 - val_accuracy: 0.9742\n",
      "Epoch 20/20\n",
      "1875/1875 [==============================] - 5s 3ms/step - loss: 0.0535 - accuracy: 0.9823 - val_loss: 0.0888 - val_accuracy: 0.9756\n"
     ]
    },
    {
     "name": "stderr",
     "output_type": "stream",
     "text": [
      "WARNING:absl:Found untraced functions such as _update_step_xla while saving (showing 1 of 1). These functions will not be directly callable after loading.\n"
     ]
    },
    {
     "name": "stdout",
     "output_type": "stream",
     "text": [
      "INFO:tensorflow:Assets written to: C:\\Users\\kauak\\AppData\\Local\\Temp\\tmpqxob63eb\\model\\data\\model\\assets\n"
     ]
    },
    {
     "name": "stderr",
     "output_type": "stream",
     "text": [
      "INFO:tensorflow:Assets written to: C:\\Users\\kauak\\AppData\\Local\\Temp\\tmpqxob63eb\\model\\data\\model\\assets\n",
      "2025/02/07 09:59:28 WARNING mlflow.utils.autologging_utils: You are using an unsupported version of tensorflow. If you encounter errors during autologging, try upgrading / downgrading tensorflow to a supported version, or try upgrading MLflow.\n"
     ]
    },
    {
     "name": "stdout",
     "output_type": "stream",
     "text": [
      "Modelo:  ff0d84b6ed3c4fa7bb86672d155bcdf3\n",
      "Model: \"sequential_69\"\n",
      "_________________________________________________________________\n",
      " Layer (type)                Output Shape              Param #   \n",
      "=================================================================\n",
      " dense_240 (Dense)           (None, 64)                50240     \n",
      "                                                                 \n",
      " dropout_171 (Dropout)       (None, 64)                0         \n",
      "                                                                 \n",
      " dense_241 (Dense)           (None, 64)                4160      \n",
      "                                                                 \n",
      " dropout_172 (Dropout)       (None, 64)                0         \n",
      "                                                                 \n",
      " dense_242 (Dense)           (None, 64)                4160      \n",
      "                                                                 \n",
      " dropout_173 (Dropout)       (None, 64)                0         \n",
      "                                                                 \n",
      " dense_243 (Dense)           (None, 10)                650       \n",
      "                                                                 \n",
      "=================================================================\n",
      "Total params: 59,210\n",
      "Trainable params: 59,210\n",
      "Non-trainable params: 0\n",
      "_________________________________________________________________\n",
      "Epoch 1/5\n",
      "   1/1875 [..............................] - ETA: 37:44 - loss: 2.5907 - accuracy: 0.0000e+00WARNING:tensorflow:Callback method `on_train_batch_end` is slow compared to the batch time (batch time: 0.0030s vs `on_train_batch_end` time: 0.0408s). Check your callbacks.\n"
     ]
    },
    {
     "name": "stderr",
     "output_type": "stream",
     "text": [
      "WARNING:tensorflow:Callback method `on_train_batch_end` is slow compared to the batch time (batch time: 0.0030s vs `on_train_batch_end` time: 0.0408s). Check your callbacks.\n"
     ]
    },
    {
     "name": "stdout",
     "output_type": "stream",
     "text": [
      "1875/1875 [==============================] - 8s 4ms/step - loss: 0.4043 - accuracy: 0.8807 - val_loss: 0.1977 - val_accuracy: 0.9406\n",
      "Epoch 2/5\n",
      "1875/1875 [==============================] - 6s 3ms/step - loss: 0.2462 - accuracy: 0.9278 - val_loss: 0.1640 - val_accuracy: 0.9508\n",
      "Epoch 3/5\n",
      "1875/1875 [==============================] - 6s 3ms/step - loss: 0.2065 - accuracy: 0.9390 - val_loss: 0.1487 - val_accuracy: 0.9559\n",
      "Epoch 4/5\n",
      "1875/1875 [==============================] - 6s 3ms/step - loss: 0.1857 - accuracy: 0.9449 - val_loss: 0.1255 - val_accuracy: 0.9620\n",
      "Epoch 5/5\n",
      "1875/1875 [==============================] - 6s 3ms/step - loss: 0.1638 - accuracy: 0.9519 - val_loss: 0.1257 - val_accuracy: 0.9642\n"
     ]
    },
    {
     "name": "stderr",
     "output_type": "stream",
     "text": [
      "WARNING:absl:Found untraced functions such as _update_step_xla while saving (showing 1 of 1). These functions will not be directly callable after loading.\n"
     ]
    },
    {
     "name": "stdout",
     "output_type": "stream",
     "text": [
      "INFO:tensorflow:Assets written to: C:\\Users\\kauak\\AppData\\Local\\Temp\\tmpmp9gd1bp\\model\\data\\model\\assets\n"
     ]
    },
    {
     "name": "stderr",
     "output_type": "stream",
     "text": [
      "INFO:tensorflow:Assets written to: C:\\Users\\kauak\\AppData\\Local\\Temp\\tmpmp9gd1bp\\model\\data\\model\\assets\n",
      "2025/02/07 10:00:07 WARNING mlflow.utils.autologging_utils: You are using an unsupported version of tensorflow. If you encounter errors during autologging, try upgrading / downgrading tensorflow to a supported version, or try upgrading MLflow.\n"
     ]
    },
    {
     "name": "stdout",
     "output_type": "stream",
     "text": [
      "Modelo:  437f325df7e04358bf555849be6e74ef\n",
      "Model: \"sequential_70\"\n",
      "_________________________________________________________________\n",
      " Layer (type)                Output Shape              Param #   \n",
      "=================================================================\n",
      " dense_244 (Dense)           (None, 64)                50240     \n",
      "                                                                 \n",
      " dropout_174 (Dropout)       (None, 64)                0         \n",
      "                                                                 \n",
      " dense_245 (Dense)           (None, 64)                4160      \n",
      "                                                                 \n",
      " dropout_175 (Dropout)       (None, 64)                0         \n",
      "                                                                 \n",
      " dense_246 (Dense)           (None, 64)                4160      \n",
      "                                                                 \n",
      " dropout_176 (Dropout)       (None, 64)                0         \n",
      "                                                                 \n",
      " dense_247 (Dense)           (None, 10)                650       \n",
      "                                                                 \n",
      "=================================================================\n",
      "Total params: 59,210\n",
      "Trainable params: 59,210\n",
      "Non-trainable params: 0\n",
      "_________________________________________________________________\n",
      "Epoch 1/10\n",
      "   1/1875 [..............................] - ETA: 30:42 - loss: 2.5305 - accuracy: 0.1250WARNING:tensorflow:Callback method `on_train_batch_end` is slow compared to the batch time (batch time: 0.0027s vs `on_train_batch_end` time: 0.0142s). Check your callbacks.\n"
     ]
    },
    {
     "name": "stderr",
     "output_type": "stream",
     "text": [
      "WARNING:tensorflow:Callback method `on_train_batch_end` is slow compared to the batch time (batch time: 0.0027s vs `on_train_batch_end` time: 0.0142s). Check your callbacks.\n"
     ]
    },
    {
     "name": "stdout",
     "output_type": "stream",
     "text": [
      "1875/1875 [==============================] - 7s 3ms/step - loss: 0.4076 - accuracy: 0.8806 - val_loss: 0.2122 - val_accuracy: 0.9363\n",
      "Epoch 2/10\n",
      "1875/1875 [==============================] - 5s 3ms/step - loss: 0.2498 - accuracy: 0.9262 - val_loss: 0.1729 - val_accuracy: 0.9495\n",
      "Epoch 3/10\n",
      "1875/1875 [==============================] - 6s 3ms/step - loss: 0.2140 - accuracy: 0.9368 - val_loss: 0.1464 - val_accuracy: 0.9571\n",
      "Epoch 4/10\n",
      "1875/1875 [==============================] - 6s 3ms/step - loss: 0.1866 - accuracy: 0.9451 - val_loss: 0.1291 - val_accuracy: 0.9618\n",
      "Epoch 5/10\n",
      "1875/1875 [==============================] - 5s 3ms/step - loss: 0.1719 - accuracy: 0.9484 - val_loss: 0.1254 - val_accuracy: 0.9636\n",
      "Epoch 6/10\n",
      "1875/1875 [==============================] - 5s 3ms/step - loss: 0.1556 - accuracy: 0.9534 - val_loss: 0.1098 - val_accuracy: 0.9658\n",
      "Epoch 7/10\n",
      "1875/1875 [==============================] - 5s 3ms/step - loss: 0.1486 - accuracy: 0.9562 - val_loss: 0.1131 - val_accuracy: 0.9673\n",
      "Epoch 8/10\n",
      "1875/1875 [==============================] - 5s 3ms/step - loss: 0.1393 - accuracy: 0.9583 - val_loss: 0.1118 - val_accuracy: 0.9667\n",
      "Epoch 9/10\n",
      "1875/1875 [==============================] - 5s 3ms/step - loss: 0.1385 - accuracy: 0.9585 - val_loss: 0.1076 - val_accuracy: 0.9695\n",
      "Epoch 10/10\n",
      "1875/1875 [==============================] - 5s 3ms/step - loss: 0.1258 - accuracy: 0.9616 - val_loss: 0.1073 - val_accuracy: 0.9694\n"
     ]
    },
    {
     "name": "stderr",
     "output_type": "stream",
     "text": [
      "WARNING:absl:Found untraced functions such as _update_step_xla while saving (showing 1 of 1). These functions will not be directly callable after loading.\n"
     ]
    },
    {
     "name": "stdout",
     "output_type": "stream",
     "text": [
      "INFO:tensorflow:Assets written to: C:\\Users\\kauak\\AppData\\Local\\Temp\\tmp3qpqblnv\\model\\data\\model\\assets\n"
     ]
    },
    {
     "name": "stderr",
     "output_type": "stream",
     "text": [
      "INFO:tensorflow:Assets written to: C:\\Users\\kauak\\AppData\\Local\\Temp\\tmp3qpqblnv\\model\\data\\model\\assets\n",
      "2025/02/07 10:01:10 WARNING mlflow.utils.autologging_utils: You are using an unsupported version of tensorflow. If you encounter errors during autologging, try upgrading / downgrading tensorflow to a supported version, or try upgrading MLflow.\n"
     ]
    },
    {
     "name": "stdout",
     "output_type": "stream",
     "text": [
      "Modelo:  53f213c3a55c4d45aac7c5a286d962ef\n",
      "Model: \"sequential_71\"\n",
      "_________________________________________________________________\n",
      " Layer (type)                Output Shape              Param #   \n",
      "=================================================================\n",
      " dense_248 (Dense)           (None, 64)                50240     \n",
      "                                                                 \n",
      " dropout_177 (Dropout)       (None, 64)                0         \n",
      "                                                                 \n",
      " dense_249 (Dense)           (None, 64)                4160      \n",
      "                                                                 \n",
      " dropout_178 (Dropout)       (None, 64)                0         \n",
      "                                                                 \n",
      " dense_250 (Dense)           (None, 64)                4160      \n",
      "                                                                 \n",
      " dropout_179 (Dropout)       (None, 64)                0         \n",
      "                                                                 \n",
      " dense_251 (Dense)           (None, 10)                650       \n",
      "                                                                 \n",
      "=================================================================\n",
      "Total params: 59,210\n",
      "Trainable params: 59,210\n",
      "Non-trainable params: 0\n",
      "_________________________________________________________________\n",
      "Epoch 1/20\n",
      "   1/1875 [..............................] - ETA: 29:59 - loss: 2.3785 - accuracy: 0.1875WARNING:tensorflow:Callback method `on_train_batch_end` is slow compared to the batch time (batch time: 0.0024s vs `on_train_batch_end` time: 0.0128s). Check your callbacks.\n"
     ]
    },
    {
     "name": "stderr",
     "output_type": "stream",
     "text": [
      "WARNING:tensorflow:Callback method `on_train_batch_end` is slow compared to the batch time (batch time: 0.0024s vs `on_train_batch_end` time: 0.0128s). Check your callbacks.\n"
     ]
    },
    {
     "name": "stdout",
     "output_type": "stream",
     "text": [
      "1875/1875 [==============================] - 6s 3ms/step - loss: 0.3994 - accuracy: 0.8814 - val_loss: 0.2085 - val_accuracy: 0.9372\n",
      "Epoch 2/20\n",
      "1875/1875 [==============================] - 5s 3ms/step - loss: 0.2483 - accuracy: 0.9258 - val_loss: 0.1670 - val_accuracy: 0.9512\n",
      "Epoch 3/20\n",
      "1875/1875 [==============================] - 5s 3ms/step - loss: 0.2051 - accuracy: 0.9395 - val_loss: 0.1424 - val_accuracy: 0.9571\n",
      "Epoch 4/20\n",
      "1875/1875 [==============================] - 5s 3ms/step - loss: 0.1800 - accuracy: 0.9464 - val_loss: 0.1352 - val_accuracy: 0.9602\n",
      "Epoch 5/20\n",
      "1875/1875 [==============================] - 5s 3ms/step - loss: 0.1675 - accuracy: 0.9492 - val_loss: 0.1218 - val_accuracy: 0.9639\n",
      "Epoch 6/20\n",
      "1875/1875 [==============================] - 5s 3ms/step - loss: 0.1555 - accuracy: 0.9536 - val_loss: 0.1170 - val_accuracy: 0.9665\n",
      "Epoch 7/20\n",
      "1875/1875 [==============================] - 5s 3ms/step - loss: 0.1468 - accuracy: 0.9569 - val_loss: 0.1077 - val_accuracy: 0.9683\n",
      "Epoch 8/20\n",
      "1875/1875 [==============================] - 5s 3ms/step - loss: 0.1379 - accuracy: 0.9585 - val_loss: 0.1119 - val_accuracy: 0.9684\n",
      "Epoch 9/20\n",
      "1875/1875 [==============================] - 5s 3ms/step - loss: 0.1335 - accuracy: 0.9603 - val_loss: 0.1085 - val_accuracy: 0.9688\n",
      "Epoch 10/20\n",
      "1875/1875 [==============================] - 5s 3ms/step - loss: 0.1290 - accuracy: 0.9614 - val_loss: 0.1039 - val_accuracy: 0.9709\n",
      "Epoch 11/20\n",
      "1875/1875 [==============================] - 5s 3ms/step - loss: 0.1222 - accuracy: 0.9638 - val_loss: 0.1030 - val_accuracy: 0.9720\n",
      "Epoch 12/20\n",
      "1875/1875 [==============================] - 5s 3ms/step - loss: 0.1204 - accuracy: 0.9634 - val_loss: 0.1084 - val_accuracy: 0.9691\n",
      "Epoch 13/20\n",
      "1875/1875 [==============================] - 5s 3ms/step - loss: 0.1182 - accuracy: 0.9645 - val_loss: 0.1009 - val_accuracy: 0.9717\n",
      "Epoch 14/20\n",
      "1875/1875 [==============================] - 5s 3ms/step - loss: 0.1141 - accuracy: 0.9659 - val_loss: 0.1045 - val_accuracy: 0.9706\n",
      "Epoch 15/20\n",
      "1875/1875 [==============================] - 5s 3ms/step - loss: 0.1099 - accuracy: 0.9679 - val_loss: 0.1037 - val_accuracy: 0.9720\n",
      "Epoch 16/20\n",
      "1875/1875 [==============================] - 5s 3ms/step - loss: 0.1054 - accuracy: 0.9678 - val_loss: 0.1087 - val_accuracy: 0.9701\n",
      "Epoch 17/20\n",
      "1875/1875 [==============================] - 5s 3ms/step - loss: 0.1034 - accuracy: 0.9686 - val_loss: 0.1103 - val_accuracy: 0.9706\n",
      "Epoch 18/20\n",
      "1875/1875 [==============================] - 5s 3ms/step - loss: 0.1022 - accuracy: 0.9694 - val_loss: 0.1051 - val_accuracy: 0.9726\n",
      "Epoch 19/20\n",
      "1875/1875 [==============================] - 5s 3ms/step - loss: 0.0989 - accuracy: 0.9696 - val_loss: 0.1070 - val_accuracy: 0.9717\n",
      "Epoch 20/20\n",
      "1875/1875 [==============================] - 5s 3ms/step - loss: 0.0970 - accuracy: 0.9705 - val_loss: 0.0951 - val_accuracy: 0.9750\n"
     ]
    },
    {
     "name": "stderr",
     "output_type": "stream",
     "text": [
      "WARNING:absl:Found untraced functions such as _update_step_xla while saving (showing 1 of 1). These functions will not be directly callable after loading.\n"
     ]
    },
    {
     "name": "stdout",
     "output_type": "stream",
     "text": [
      "INFO:tensorflow:Assets written to: C:\\Users\\kauak\\AppData\\Local\\Temp\\tmpuduypkl7\\model\\data\\model\\assets\n"
     ]
    },
    {
     "name": "stderr",
     "output_type": "stream",
     "text": [
      "INFO:tensorflow:Assets written to: C:\\Users\\kauak\\AppData\\Local\\Temp\\tmpuduypkl7\\model\\data\\model\\assets\n",
      "2025/02/07 10:03:04 WARNING mlflow.utils.autologging_utils: You are using an unsupported version of tensorflow. If you encounter errors during autologging, try upgrading / downgrading tensorflow to a supported version, or try upgrading MLflow.\n"
     ]
    },
    {
     "name": "stdout",
     "output_type": "stream",
     "text": [
      "Modelo:  f403ea82c91f49189f937450e4e5a3c6\n",
      "Model: \"sequential_72\"\n",
      "_________________________________________________________________\n",
      " Layer (type)                Output Shape              Param #   \n",
      "=================================================================\n",
      " dense_252 (Dense)           (None, 16)                12560     \n",
      "                                                                 \n",
      " dropout_180 (Dropout)       (None, 16)                0         \n",
      "                                                                 \n",
      " dense_253 (Dense)           (None, 16)                272       \n",
      "                                                                 \n",
      " dropout_181 (Dropout)       (None, 16)                0         \n",
      "                                                                 \n",
      " dense_254 (Dense)           (None, 16)                272       \n",
      "                                                                 \n",
      " dropout_182 (Dropout)       (None, 16)                0         \n",
      "                                                                 \n",
      " dense_255 (Dense)           (None, 16)                272       \n",
      "                                                                 \n",
      " dropout_183 (Dropout)       (None, 16)                0         \n",
      "                                                                 \n",
      " dense_256 (Dense)           (None, 10)                170       \n",
      "                                                                 \n",
      "=================================================================\n",
      "Total params: 13,546\n",
      "Trainable params: 13,546\n",
      "Non-trainable params: 0\n",
      "_________________________________________________________________\n",
      "Epoch 1/5\n",
      "   1/1875 [..............................] - ETA: 1:00:38 - loss: 2.3552 - accuracy: 0.0625WARNING:tensorflow:Callback method `on_train_batch_end` is slow compared to the batch time (batch time: 0.0021s vs `on_train_batch_end` time: 0.1427s). Check your callbacks.\n"
     ]
    },
    {
     "name": "stderr",
     "output_type": "stream",
     "text": [
      "WARNING:tensorflow:Callback method `on_train_batch_end` is slow compared to the batch time (batch time: 0.0021s vs `on_train_batch_end` time: 0.1427s). Check your callbacks.\n"
     ]
    },
    {
     "name": "stdout",
     "output_type": "stream",
     "text": [
      "1875/1875 [==============================] - 7s 3ms/step - loss: 0.8460 - accuracy: 0.7254 - val_loss: 0.3514 - val_accuracy: 0.9024\n",
      "Epoch 2/5\n",
      "1875/1875 [==============================] - 4s 2ms/step - loss: 0.5231 - accuracy: 0.8454 - val_loss: 0.3041 - val_accuracy: 0.9171\n",
      "Epoch 3/5\n",
      "1875/1875 [==============================] - 5s 3ms/step - loss: 0.4677 - accuracy: 0.8661 - val_loss: 0.2804 - val_accuracy: 0.9236\n",
      "Epoch 4/5\n",
      "1875/1875 [==============================] - 5s 3ms/step - loss: 0.4343 - accuracy: 0.8760 - val_loss: 0.2702 - val_accuracy: 0.9282\n",
      "Epoch 5/5\n",
      "1875/1875 [==============================] - 4s 2ms/step - loss: 0.4172 - accuracy: 0.8833 - val_loss: 0.2589 - val_accuracy: 0.9296\n"
     ]
    },
    {
     "name": "stderr",
     "output_type": "stream",
     "text": [
      "WARNING:absl:Found untraced functions such as _update_step_xla while saving (showing 1 of 1). These functions will not be directly callable after loading.\n"
     ]
    },
    {
     "name": "stdout",
     "output_type": "stream",
     "text": [
      "INFO:tensorflow:Assets written to: C:\\Users\\kauak\\AppData\\Local\\Temp\\tmpltgvfaxk\\model\\data\\model\\assets\n"
     ]
    },
    {
     "name": "stderr",
     "output_type": "stream",
     "text": [
      "INFO:tensorflow:Assets written to: C:\\Users\\kauak\\AppData\\Local\\Temp\\tmpltgvfaxk\\model\\data\\model\\assets\n",
      "2025/02/07 10:03:37 WARNING mlflow.utils.autologging_utils: You are using an unsupported version of tensorflow. If you encounter errors during autologging, try upgrading / downgrading tensorflow to a supported version, or try upgrading MLflow.\n"
     ]
    },
    {
     "name": "stdout",
     "output_type": "stream",
     "text": [
      "Modelo:  ee2e2c7748cd471a923e0c86c89661be\n",
      "Model: \"sequential_73\"\n",
      "_________________________________________________________________\n",
      " Layer (type)                Output Shape              Param #   \n",
      "=================================================================\n",
      " dense_257 (Dense)           (None, 16)                12560     \n",
      "                                                                 \n",
      " dropout_184 (Dropout)       (None, 16)                0         \n",
      "                                                                 \n",
      " dense_258 (Dense)           (None, 16)                272       \n",
      "                                                                 \n",
      " dropout_185 (Dropout)       (None, 16)                0         \n",
      "                                                                 \n",
      " dense_259 (Dense)           (None, 16)                272       \n",
      "                                                                 \n",
      " dropout_186 (Dropout)       (None, 16)                0         \n",
      "                                                                 \n",
      " dense_260 (Dense)           (None, 16)                272       \n",
      "                                                                 \n",
      " dropout_187 (Dropout)       (None, 16)                0         \n",
      "                                                                 \n",
      " dense_261 (Dense)           (None, 10)                170       \n",
      "                                                                 \n",
      "=================================================================\n",
      "Total params: 13,546\n",
      "Trainable params: 13,546\n",
      "Non-trainable params: 0\n",
      "_________________________________________________________________\n",
      "Epoch 1/10\n",
      "   1/1875 [..............................] - ETA: 53:35 - loss: 2.2902 - accuracy: 0.0938WARNING:tensorflow:Callback method `on_train_batch_end` is slow compared to the batch time (batch time: 0.0016s vs `on_train_batch_end` time: 0.1089s). Check your callbacks.\n"
     ]
    },
    {
     "name": "stderr",
     "output_type": "stream",
     "text": [
      "WARNING:tensorflow:Callback method `on_train_batch_end` is slow compared to the batch time (batch time: 0.0016s vs `on_train_batch_end` time: 0.1089s). Check your callbacks.\n"
     ]
    },
    {
     "name": "stdout",
     "output_type": "stream",
     "text": [
      "1875/1875 [==============================] - 8s 3ms/step - loss: 0.8612 - accuracy: 0.7097 - val_loss: 0.3191 - val_accuracy: 0.9098\n",
      "Epoch 2/10\n",
      "1875/1875 [==============================] - 4s 2ms/step - loss: 0.5065 - accuracy: 0.8483 - val_loss: 0.2688 - val_accuracy: 0.9247\n",
      "Epoch 3/10\n",
      "1875/1875 [==============================] - 5s 2ms/step - loss: 0.4491 - accuracy: 0.8694 - val_loss: 0.2532 - val_accuracy: 0.9274\n",
      "Epoch 4/10\n",
      "1875/1875 [==============================] - 4s 2ms/step - loss: 0.4168 - accuracy: 0.8791 - val_loss: 0.2466 - val_accuracy: 0.9297\n",
      "Epoch 5/10\n",
      "1875/1875 [==============================] - 5s 2ms/step - loss: 0.3944 - accuracy: 0.8868 - val_loss: 0.2355 - val_accuracy: 0.9305\n",
      "Epoch 6/10\n",
      "1875/1875 [==============================] - 5s 3ms/step - loss: 0.3814 - accuracy: 0.8906 - val_loss: 0.2234 - val_accuracy: 0.9340\n",
      "Epoch 7/10\n",
      "1875/1875 [==============================] - 5s 3ms/step - loss: 0.3732 - accuracy: 0.8926 - val_loss: 0.2193 - val_accuracy: 0.9388\n",
      "Epoch 8/10\n",
      "1875/1875 [==============================] - 5s 2ms/step - loss: 0.3598 - accuracy: 0.8987 - val_loss: 0.2145 - val_accuracy: 0.9389\n",
      "Epoch 9/10\n",
      "1875/1875 [==============================] - 4s 2ms/step - loss: 0.3497 - accuracy: 0.9026 - val_loss: 0.2055 - val_accuracy: 0.9415\n",
      "Epoch 10/10\n",
      "1875/1875 [==============================] - 5s 2ms/step - loss: 0.3451 - accuracy: 0.9039 - val_loss: 0.2125 - val_accuracy: 0.9399\n"
     ]
    },
    {
     "name": "stderr",
     "output_type": "stream",
     "text": [
      "WARNING:absl:Found untraced functions such as _update_step_xla while saving (showing 1 of 1). These functions will not be directly callable after loading.\n"
     ]
    },
    {
     "name": "stdout",
     "output_type": "stream",
     "text": [
      "INFO:tensorflow:Assets written to: C:\\Users\\kauak\\AppData\\Local\\Temp\\tmpvvunqju9\\model\\data\\model\\assets\n"
     ]
    },
    {
     "name": "stderr",
     "output_type": "stream",
     "text": [
      "INFO:tensorflow:Assets written to: C:\\Users\\kauak\\AppData\\Local\\Temp\\tmpvvunqju9\\model\\data\\model\\assets\n",
      "2025/02/07 10:04:39 WARNING mlflow.utils.autologging_utils: You are using an unsupported version of tensorflow. If you encounter errors during autologging, try upgrading / downgrading tensorflow to a supported version, or try upgrading MLflow.\n"
     ]
    },
    {
     "name": "stdout",
     "output_type": "stream",
     "text": [
      "Modelo:  00a092a6df30446ca3713e32d025550c\n",
      "Model: \"sequential_74\"\n",
      "_________________________________________________________________\n",
      " Layer (type)                Output Shape              Param #   \n",
      "=================================================================\n",
      " dense_262 (Dense)           (None, 16)                12560     \n",
      "                                                                 \n",
      " dropout_188 (Dropout)       (None, 16)                0         \n",
      "                                                                 \n",
      " dense_263 (Dense)           (None, 16)                272       \n",
      "                                                                 \n",
      " dropout_189 (Dropout)       (None, 16)                0         \n",
      "                                                                 \n",
      " dense_264 (Dense)           (None, 16)                272       \n",
      "                                                                 \n",
      " dropout_190 (Dropout)       (None, 16)                0         \n",
      "                                                                 \n",
      " dense_265 (Dense)           (None, 16)                272       \n",
      "                                                                 \n",
      " dropout_191 (Dropout)       (None, 16)                0         \n",
      "                                                                 \n",
      " dense_266 (Dense)           (None, 10)                170       \n",
      "                                                                 \n",
      "=================================================================\n",
      "Total params: 13,546\n",
      "Trainable params: 13,546\n",
      "Non-trainable params: 0\n",
      "_________________________________________________________________\n",
      "Epoch 1/20\n",
      "   1/1875 [..............................] - ETA: 1:11:39 - loss: 2.2792 - accuracy: 0.1562WARNING:tensorflow:Callback method `on_train_batch_end` is slow compared to the batch time (batch time: 0.0022s vs `on_train_batch_end` time: 0.1376s). Check your callbacks.\n"
     ]
    },
    {
     "name": "stderr",
     "output_type": "stream",
     "text": [
      "WARNING:tensorflow:Callback method `on_train_batch_end` is slow compared to the batch time (batch time: 0.0022s vs `on_train_batch_end` time: 0.1376s). Check your callbacks.\n"
     ]
    },
    {
     "name": "stdout",
     "output_type": "stream",
     "text": [
      "1875/1875 [==============================] - 8s 3ms/step - loss: 0.9238 - accuracy: 0.6902 - val_loss: 0.3538 - val_accuracy: 0.9031\n",
      "Epoch 2/20\n",
      "1875/1875 [==============================] - 5s 3ms/step - loss: 0.5604 - accuracy: 0.8323 - val_loss: 0.2971 - val_accuracy: 0.9174\n",
      "Epoch 3/20\n",
      "1875/1875 [==============================] - 5s 3ms/step - loss: 0.4833 - accuracy: 0.8593 - val_loss: 0.2803 - val_accuracy: 0.9195\n",
      "Epoch 4/20\n",
      "1875/1875 [==============================] - 5s 3ms/step - loss: 0.4464 - accuracy: 0.8711 - val_loss: 0.2683 - val_accuracy: 0.9259\n",
      "Epoch 5/20\n",
      "1875/1875 [==============================] - 5s 3ms/step - loss: 0.4225 - accuracy: 0.8784 - val_loss: 0.2632 - val_accuracy: 0.9242\n",
      "Epoch 6/20\n",
      "1875/1875 [==============================] - 5s 3ms/step - loss: 0.4099 - accuracy: 0.8837 - val_loss: 0.2523 - val_accuracy: 0.9323\n",
      "Epoch 7/20\n",
      "1875/1875 [==============================] - 5s 3ms/step - loss: 0.3941 - accuracy: 0.8864 - val_loss: 0.2510 - val_accuracy: 0.9315\n",
      "Epoch 8/20\n",
      "1875/1875 [==============================] - 5s 3ms/step - loss: 0.3895 - accuracy: 0.8901 - val_loss: 0.2448 - val_accuracy: 0.9307\n",
      "Epoch 9/20\n",
      "1875/1875 [==============================] - 5s 3ms/step - loss: 0.3827 - accuracy: 0.8905 - val_loss: 0.2414 - val_accuracy: 0.9344\n",
      "Epoch 10/20\n",
      "1875/1875 [==============================] - 5s 2ms/step - loss: 0.3685 - accuracy: 0.8953 - val_loss: 0.2438 - val_accuracy: 0.9313\n",
      "Epoch 11/20\n",
      "1875/1875 [==============================] - 5s 3ms/step - loss: 0.3628 - accuracy: 0.8960 - val_loss: 0.2428 - val_accuracy: 0.9327\n",
      "Epoch 12/20\n",
      "1875/1875 [==============================] - 5s 3ms/step - loss: 0.3627 - accuracy: 0.8973 - val_loss: 0.2431 - val_accuracy: 0.9351\n",
      "Epoch 13/20\n",
      "1875/1875 [==============================] - 5s 3ms/step - loss: 0.3619 - accuracy: 0.8960 - val_loss: 0.2380 - val_accuracy: 0.9342\n",
      "Epoch 14/20\n",
      "1875/1875 [==============================] - 5s 3ms/step - loss: 0.3549 - accuracy: 0.8989 - val_loss: 0.2293 - val_accuracy: 0.9385\n",
      "Epoch 15/20\n",
      "1875/1875 [==============================] - 5s 3ms/step - loss: 0.3470 - accuracy: 0.9000 - val_loss: 0.2450 - val_accuracy: 0.9354\n",
      "Epoch 16/20\n",
      "1875/1875 [==============================] - 5s 3ms/step - loss: 0.3465 - accuracy: 0.9012 - val_loss: 0.2376 - val_accuracy: 0.9372\n",
      "Epoch 17/20\n",
      "1875/1875 [==============================] - 5s 3ms/step - loss: 0.3435 - accuracy: 0.9001 - val_loss: 0.2321 - val_accuracy: 0.9371\n",
      "Epoch 18/20\n",
      "1875/1875 [==============================] - 6s 3ms/step - loss: 0.3425 - accuracy: 0.9029 - val_loss: 0.2394 - val_accuracy: 0.9356\n",
      "Epoch 19/20\n",
      "1875/1875 [==============================] - 9s 5ms/step - loss: 0.3425 - accuracy: 0.9013 - val_loss: 0.2380 - val_accuracy: 0.9342\n",
      "Epoch 20/20\n",
      "1875/1875 [==============================] - 10s 6ms/step - loss: 0.3350 - accuracy: 0.9038 - val_loss: 0.2349 - val_accuracy: 0.9376\n"
     ]
    },
    {
     "name": "stderr",
     "output_type": "stream",
     "text": [
      "WARNING:absl:Found untraced functions such as _update_step_xla while saving (showing 1 of 1). These functions will not be directly callable after loading.\n"
     ]
    },
    {
     "name": "stdout",
     "output_type": "stream",
     "text": [
      "INFO:tensorflow:Assets written to: C:\\Users\\kauak\\AppData\\Local\\Temp\\tmpix15uvi_\\model\\data\\model\\assets\n"
     ]
    },
    {
     "name": "stderr",
     "output_type": "stream",
     "text": [
      "INFO:tensorflow:Assets written to: C:\\Users\\kauak\\AppData\\Local\\Temp\\tmpix15uvi_\\model\\data\\model\\assets\n",
      "2025/02/07 10:07:02 WARNING mlflow.utils.autologging_utils: You are using an unsupported version of tensorflow. If you encounter errors during autologging, try upgrading / downgrading tensorflow to a supported version, or try upgrading MLflow.\n"
     ]
    },
    {
     "name": "stdout",
     "output_type": "stream",
     "text": [
      "Modelo:  5e8866f1af264afa8a79c349eefaec25\n",
      "Model: \"sequential_75\"\n",
      "_________________________________________________________________\n",
      " Layer (type)                Output Shape              Param #   \n",
      "=================================================================\n",
      " dense_267 (Dense)           (None, 16)                12560     \n",
      "                                                                 \n",
      " dropout_192 (Dropout)       (None, 16)                0         \n",
      "                                                                 \n",
      " dense_268 (Dense)           (None, 16)                272       \n",
      "                                                                 \n",
      " dropout_193 (Dropout)       (None, 16)                0         \n",
      "                                                                 \n",
      " dense_269 (Dense)           (None, 16)                272       \n",
      "                                                                 \n",
      " dropout_194 (Dropout)       (None, 16)                0         \n",
      "                                                                 \n",
      " dense_270 (Dense)           (None, 16)                272       \n",
      "                                                                 \n",
      " dropout_195 (Dropout)       (None, 16)                0         \n",
      "                                                                 \n",
      " dense_271 (Dense)           (None, 10)                170       \n",
      "                                                                 \n",
      "=================================================================\n",
      "Total params: 13,546\n",
      "Trainable params: 13,546\n",
      "Non-trainable params: 0\n",
      "_________________________________________________________________\n",
      "Epoch 1/5\n",
      "   1/1875 [..............................] - ETA: 1:54:07 - loss: 2.3101 - accuracy: 0.0625WARNING:tensorflow:Callback method `on_train_batch_end` is slow compared to the batch time (batch time: 0.0028s vs `on_train_batch_end` time: 0.0297s). Check your callbacks.\n"
     ]
    },
    {
     "name": "stderr",
     "output_type": "stream",
     "text": [
      "WARNING:tensorflow:Callback method `on_train_batch_end` is slow compared to the batch time (batch time: 0.0028s vs `on_train_batch_end` time: 0.0297s). Check your callbacks.\n"
     ]
    },
    {
     "name": "stdout",
     "output_type": "stream",
     "text": [
      "1875/1875 [==============================] - 16s 7ms/step - loss: 1.2646 - accuracy: 0.5696 - val_loss: 0.5157 - val_accuracy: 0.8858\n",
      "Epoch 2/5\n",
      "1875/1875 [==============================] - 10s 5ms/step - loss: 0.8519 - accuracy: 0.7362 - val_loss: 0.4240 - val_accuracy: 0.9017\n",
      "Epoch 3/5\n",
      "1875/1875 [==============================] - 6s 3ms/step - loss: 0.7749 - accuracy: 0.7655 - val_loss: 0.3995 - val_accuracy: 0.9041\n",
      "Epoch 4/5\n",
      "1875/1875 [==============================] - 5s 3ms/step - loss: 0.7174 - accuracy: 0.7877 - val_loss: 0.3458 - val_accuracy: 0.9167\n",
      "Epoch 5/5\n",
      "1875/1875 [==============================] - 5s 2ms/step - loss: 0.6842 - accuracy: 0.8012 - val_loss: 0.3410 - val_accuracy: 0.9177\n"
     ]
    },
    {
     "name": "stderr",
     "output_type": "stream",
     "text": [
      "WARNING:absl:Found untraced functions such as _update_step_xla while saving (showing 1 of 1). These functions will not be directly callable after loading.\n"
     ]
    },
    {
     "name": "stdout",
     "output_type": "stream",
     "text": [
      "INFO:tensorflow:Assets written to: C:\\Users\\kauak\\AppData\\Local\\Temp\\tmpcu6o57si\\model\\data\\model\\assets\n"
     ]
    },
    {
     "name": "stderr",
     "output_type": "stream",
     "text": [
      "INFO:tensorflow:Assets written to: C:\\Users\\kauak\\AppData\\Local\\Temp\\tmpcu6o57si\\model\\data\\model\\assets\n"
     ]
    },
    {
     "name": "stdout",
     "output_type": "stream",
     "text": [
      "Modelo:  02fab1fc0abb42fa9b93ce35ee427fb4\n"
     ]
    },
    {
     "name": "stderr",
     "output_type": "stream",
     "text": [
      "2025/02/07 10:07:54 WARNING mlflow.utils.autologging_utils: You are using an unsupported version of tensorflow. If you encounter errors during autologging, try upgrading / downgrading tensorflow to a supported version, or try upgrading MLflow.\n"
     ]
    },
    {
     "name": "stdout",
     "output_type": "stream",
     "text": [
      "Model: \"sequential_76\"\n",
      "_________________________________________________________________\n",
      " Layer (type)                Output Shape              Param #   \n",
      "=================================================================\n",
      " dense_272 (Dense)           (None, 16)                12560     \n",
      "                                                                 \n",
      " dropout_196 (Dropout)       (None, 16)                0         \n",
      "                                                                 \n",
      " dense_273 (Dense)           (None, 16)                272       \n",
      "                                                                 \n",
      " dropout_197 (Dropout)       (None, 16)                0         \n",
      "                                                                 \n",
      " dense_274 (Dense)           (None, 16)                272       \n",
      "                                                                 \n",
      " dropout_198 (Dropout)       (None, 16)                0         \n",
      "                                                                 \n",
      " dense_275 (Dense)           (None, 16)                272       \n",
      "                                                                 \n",
      " dropout_199 (Dropout)       (None, 16)                0         \n",
      "                                                                 \n",
      " dense_276 (Dense)           (None, 10)                170       \n",
      "                                                                 \n",
      "=================================================================\n",
      "Total params: 13,546\n",
      "Trainable params: 13,546\n",
      "Non-trainable params: 0\n",
      "_________________________________________________________________\n",
      "Epoch 1/10\n",
      "   1/1875 [..............................] - ETA: 52:25 - loss: 2.2827 - accuracy: 0.1250WARNING:tensorflow:Callback method `on_train_batch_end` is slow compared to the batch time (batch time: 0.0020s vs `on_train_batch_end` time: 0.0951s). Check your callbacks.\n"
     ]
    },
    {
     "name": "stderr",
     "output_type": "stream",
     "text": [
      "WARNING:tensorflow:Callback method `on_train_batch_end` is slow compared to the batch time (batch time: 0.0020s vs `on_train_batch_end` time: 0.0951s). Check your callbacks.\n"
     ]
    },
    {
     "name": "stdout",
     "output_type": "stream",
     "text": [
      "1875/1875 [==============================] - 7s 3ms/step - loss: 1.2742 - accuracy: 0.5421 - val_loss: 0.6310 - val_accuracy: 0.7839\n",
      "Epoch 2/10\n",
      "1875/1875 [==============================] - 5s 2ms/step - loss: 0.9271 - accuracy: 0.6852 - val_loss: 0.5110 - val_accuracy: 0.8777\n",
      "Epoch 3/10\n",
      "1875/1875 [==============================] - 5s 2ms/step - loss: 0.8415 - accuracy: 0.7241 - val_loss: 0.4731 - val_accuracy: 0.8895\n",
      "Epoch 4/10\n",
      "1875/1875 [==============================] - 5s 2ms/step - loss: 0.7999 - accuracy: 0.7394 - val_loss: 0.4309 - val_accuracy: 0.8953\n",
      "Epoch 5/10\n",
      "1875/1875 [==============================] - 5s 2ms/step - loss: 0.7700 - accuracy: 0.7521 - val_loss: 0.4131 - val_accuracy: 0.9016\n",
      "Epoch 6/10\n",
      "1875/1875 [==============================] - 5s 2ms/step - loss: 0.7577 - accuracy: 0.7575 - val_loss: 0.4191 - val_accuracy: 0.8977\n",
      "Epoch 7/10\n",
      "1875/1875 [==============================] - 5s 2ms/step - loss: 0.7420 - accuracy: 0.7625 - val_loss: 0.4137 - val_accuracy: 0.8977\n",
      "Epoch 8/10\n",
      "1875/1875 [==============================] - 5s 2ms/step - loss: 0.7332 - accuracy: 0.7679 - val_loss: 0.4188 - val_accuracy: 0.8994\n",
      "Epoch 9/10\n",
      "1875/1875 [==============================] - 5s 2ms/step - loss: 0.7156 - accuracy: 0.7752 - val_loss: 0.3981 - val_accuracy: 0.9021\n",
      "Epoch 10/10\n",
      "1875/1875 [==============================] - 5s 2ms/step - loss: 0.7162 - accuracy: 0.7739 - val_loss: 0.4032 - val_accuracy: 0.9056\n"
     ]
    },
    {
     "name": "stderr",
     "output_type": "stream",
     "text": [
      "WARNING:absl:Found untraced functions such as _update_step_xla while saving (showing 1 of 1). These functions will not be directly callable after loading.\n"
     ]
    },
    {
     "name": "stdout",
     "output_type": "stream",
     "text": [
      "INFO:tensorflow:Assets written to: C:\\Users\\kauak\\AppData\\Local\\Temp\\tmpc335yw4t\\model\\data\\model\\assets\n"
     ]
    },
    {
     "name": "stderr",
     "output_type": "stream",
     "text": [
      "INFO:tensorflow:Assets written to: C:\\Users\\kauak\\AppData\\Local\\Temp\\tmpc335yw4t\\model\\data\\model\\assets\n",
      "2025/02/07 10:08:52 WARNING mlflow.utils.autologging_utils: You are using an unsupported version of tensorflow. If you encounter errors during autologging, try upgrading / downgrading tensorflow to a supported version, or try upgrading MLflow.\n"
     ]
    },
    {
     "name": "stdout",
     "output_type": "stream",
     "text": [
      "Modelo:  0baf27cd8d8e45cf810fa77532ba6c91\n",
      "Model: \"sequential_77\"\n",
      "_________________________________________________________________\n",
      " Layer (type)                Output Shape              Param #   \n",
      "=================================================================\n",
      " dense_277 (Dense)           (None, 16)                12560     \n",
      "                                                                 \n",
      " dropout_200 (Dropout)       (None, 16)                0         \n",
      "                                                                 \n",
      " dense_278 (Dense)           (None, 16)                272       \n",
      "                                                                 \n",
      " dropout_201 (Dropout)       (None, 16)                0         \n",
      "                                                                 \n",
      " dense_279 (Dense)           (None, 16)                272       \n",
      "                                                                 \n",
      " dropout_202 (Dropout)       (None, 16)                0         \n",
      "                                                                 \n",
      " dense_280 (Dense)           (None, 16)                272       \n",
      "                                                                 \n",
      " dropout_203 (Dropout)       (None, 16)                0         \n",
      "                                                                 \n",
      " dense_281 (Dense)           (None, 10)                170       \n",
      "                                                                 \n",
      "=================================================================\n",
      "Total params: 13,546\n",
      "Trainable params: 13,546\n",
      "Non-trainable params: 0\n",
      "_________________________________________________________________\n",
      "Epoch 1/20\n",
      "   1/1875 [..............................] - ETA: 1:01:19 - loss: 2.3207 - accuracy: 0.1250WARNING:tensorflow:Callback method `on_train_batch_end` is slow compared to the batch time (batch time: 0.0020s vs `on_train_batch_end` time: 0.1292s). Check your callbacks.\n"
     ]
    },
    {
     "name": "stderr",
     "output_type": "stream",
     "text": [
      "WARNING:tensorflow:Callback method `on_train_batch_end` is slow compared to the batch time (batch time: 0.0020s vs `on_train_batch_end` time: 0.1292s). Check your callbacks.\n"
     ]
    },
    {
     "name": "stdout",
     "output_type": "stream",
     "text": [
      "1875/1875 [==============================] - 7s 3ms/step - loss: 1.1968 - accuracy: 0.5849 - val_loss: 0.5159 - val_accuracy: 0.8668\n",
      "Epoch 2/20\n",
      "1875/1875 [==============================] - 5s 3ms/step - loss: 0.8105 - accuracy: 0.7440 - val_loss: 0.4223 - val_accuracy: 0.8946\n",
      "Epoch 3/20\n",
      "1875/1875 [==============================] - 5s 2ms/step - loss: 0.7270 - accuracy: 0.7754 - val_loss: 0.3903 - val_accuracy: 0.8973\n",
      "Epoch 4/20\n",
      "1875/1875 [==============================] - 5s 2ms/step - loss: 0.6820 - accuracy: 0.7922 - val_loss: 0.3498 - val_accuracy: 0.9089\n",
      "Epoch 5/20\n",
      "1875/1875 [==============================] - 5s 2ms/step - loss: 0.6556 - accuracy: 0.8030 - val_loss: 0.3531 - val_accuracy: 0.9106\n",
      "Epoch 6/20\n",
      "1875/1875 [==============================] - 5s 3ms/step - loss: 0.6239 - accuracy: 0.8154 - val_loss: 0.3186 - val_accuracy: 0.9209\n",
      "Epoch 7/20\n",
      "1875/1875 [==============================] - 7s 4ms/step - loss: 0.6124 - accuracy: 0.8202 - val_loss: 0.3290 - val_accuracy: 0.9190\n",
      "Epoch 8/20\n",
      "1875/1875 [==============================] - 7s 4ms/step - loss: 0.6045 - accuracy: 0.8231 - val_loss: 0.3284 - val_accuracy: 0.9187\n",
      "Epoch 9/20\n",
      "1875/1875 [==============================] - 9s 5ms/step - loss: 0.5973 - accuracy: 0.8256 - val_loss: 0.3236 - val_accuracy: 0.9156\n",
      "Epoch 10/20\n",
      "1875/1875 [==============================] - 7s 4ms/step - loss: 0.5832 - accuracy: 0.8289 - val_loss: 0.3275 - val_accuracy: 0.9196\n",
      "Epoch 11/20\n",
      "1875/1875 [==============================] - 5s 3ms/step - loss: 0.5745 - accuracy: 0.8317 - val_loss: 0.3302 - val_accuracy: 0.9196\n",
      "Epoch 12/20\n",
      "1875/1875 [==============================] - 9s 5ms/step - loss: 0.5768 - accuracy: 0.8308 - val_loss: 0.3369 - val_accuracy: 0.9204\n",
      "Epoch 13/20\n",
      "1875/1875 [==============================] - 6s 3ms/step - loss: 0.5710 - accuracy: 0.8340 - val_loss: 0.3438 - val_accuracy: 0.9222\n",
      "Epoch 14/20\n",
      "1875/1875 [==============================] - 6s 3ms/step - loss: 0.5647 - accuracy: 0.8369 - val_loss: 0.3295 - val_accuracy: 0.9201\n",
      "Epoch 15/20\n",
      "1875/1875 [==============================] - 6s 3ms/step - loss: 0.5575 - accuracy: 0.8383 - val_loss: 0.3442 - val_accuracy: 0.9196\n",
      "Epoch 16/20\n",
      "1875/1875 [==============================] - 6s 3ms/step - loss: 0.5549 - accuracy: 0.8376 - val_loss: 0.3387 - val_accuracy: 0.9233\n",
      "Epoch 17/20\n",
      "1875/1875 [==============================] - 6s 3ms/step - loss: 0.5521 - accuracy: 0.8394 - val_loss: 0.3175 - val_accuracy: 0.9238\n",
      "Epoch 18/20\n",
      "1875/1875 [==============================] - 6s 3ms/step - loss: 0.5533 - accuracy: 0.8379 - val_loss: 0.3331 - val_accuracy: 0.9248\n",
      "Epoch 19/20\n",
      "1875/1875 [==============================] - 6s 3ms/step - loss: 0.5475 - accuracy: 0.8396 - val_loss: 0.3375 - val_accuracy: 0.9223\n",
      "Epoch 20/20\n",
      "1875/1875 [==============================] - 8s 4ms/step - loss: 0.5587 - accuracy: 0.8370 - val_loss: 0.3481 - val_accuracy: 0.9174\n"
     ]
    },
    {
     "name": "stderr",
     "output_type": "stream",
     "text": [
      "WARNING:absl:Found untraced functions such as _update_step_xla while saving (showing 1 of 1). These functions will not be directly callable after loading.\n"
     ]
    },
    {
     "name": "stdout",
     "output_type": "stream",
     "text": [
      "INFO:tensorflow:Assets written to: C:\\Users\\kauak\\AppData\\Local\\Temp\\tmp52bifjvh\\model\\data\\model\\assets\n"
     ]
    },
    {
     "name": "stderr",
     "output_type": "stream",
     "text": [
      "INFO:tensorflow:Assets written to: C:\\Users\\kauak\\AppData\\Local\\Temp\\tmp52bifjvh\\model\\data\\model\\assets\n",
      "2025/02/07 10:11:08 WARNING mlflow.utils.autologging_utils: You are using an unsupported version of tensorflow. If you encounter errors during autologging, try upgrading / downgrading tensorflow to a supported version, or try upgrading MLflow.\n"
     ]
    },
    {
     "name": "stdout",
     "output_type": "stream",
     "text": [
      "Modelo:  cc51409848374dd78d923db8b8aafdce\n",
      "Model: \"sequential_78\"\n",
      "_________________________________________________________________\n",
      " Layer (type)                Output Shape              Param #   \n",
      "=================================================================\n",
      " dense_282 (Dense)           (None, 16)                12560     \n",
      "                                                                 \n",
      " dropout_204 (Dropout)       (None, 16)                0         \n",
      "                                                                 \n",
      " dense_283 (Dense)           (None, 16)                272       \n",
      "                                                                 \n",
      " dropout_205 (Dropout)       (None, 16)                0         \n",
      "                                                                 \n",
      " dense_284 (Dense)           (None, 16)                272       \n",
      "                                                                 \n",
      " dropout_206 (Dropout)       (None, 16)                0         \n",
      "                                                                 \n",
      " dense_285 (Dense)           (None, 16)                272       \n",
      "                                                                 \n",
      " dropout_207 (Dropout)       (None, 16)                0         \n",
      "                                                                 \n",
      " dense_286 (Dense)           (None, 10)                170       \n",
      "                                                                 \n",
      "=================================================================\n",
      "Total params: 13,546\n",
      "Trainable params: 13,546\n",
      "Non-trainable params: 0\n",
      "_________________________________________________________________\n",
      "Epoch 1/5\n",
      "   1/1875 [..............................] - ETA: 1:17:42 - loss: 2.3402 - accuracy: 0.0312WARNING:tensorflow:Callback method `on_train_batch_end` is slow compared to the batch time (batch time: 0.0026s vs `on_train_batch_end` time: 0.0370s). Check your callbacks.\n"
     ]
    },
    {
     "name": "stderr",
     "output_type": "stream",
     "text": [
      "WARNING:tensorflow:Callback method `on_train_batch_end` is slow compared to the batch time (batch time: 0.0026s vs `on_train_batch_end` time: 0.0370s). Check your callbacks.\n"
     ]
    },
    {
     "name": "stdout",
     "output_type": "stream",
     "text": [
      "1875/1875 [==============================] - 9s 3ms/step - loss: 0.6928 - accuracy: 0.7985 - val_loss: 0.3135 - val_accuracy: 0.9120\n",
      "Epoch 2/5\n",
      "1875/1875 [==============================] - 5s 3ms/step - loss: 0.4046 - accuracy: 0.8849 - val_loss: 0.2550 - val_accuracy: 0.9255\n",
      "Epoch 3/5\n",
      "1875/1875 [==============================] - 6s 3ms/step - loss: 0.3566 - accuracy: 0.8989 - val_loss: 0.2328 - val_accuracy: 0.9349\n",
      "Epoch 4/5\n",
      "1875/1875 [==============================] - 8s 4ms/step - loss: 0.3284 - accuracy: 0.9074 - val_loss: 0.2168 - val_accuracy: 0.9374\n",
      "Epoch 5/5\n",
      "1875/1875 [==============================] - 5s 3ms/step - loss: 0.3128 - accuracy: 0.9118 - val_loss: 0.2156 - val_accuracy: 0.9392\n"
     ]
    },
    {
     "name": "stderr",
     "output_type": "stream",
     "text": [
      "WARNING:absl:Found untraced functions such as _update_step_xla while saving (showing 1 of 1). These functions will not be directly callable after loading.\n"
     ]
    },
    {
     "name": "stdout",
     "output_type": "stream",
     "text": [
      "INFO:tensorflow:Assets written to: C:\\Users\\kauak\\AppData\\Local\\Temp\\tmproiih1oj\\model\\data\\model\\assets\n"
     ]
    },
    {
     "name": "stderr",
     "output_type": "stream",
     "text": [
      "INFO:tensorflow:Assets written to: C:\\Users\\kauak\\AppData\\Local\\Temp\\tmproiih1oj\\model\\data\\model\\assets\n",
      "2025/02/07 10:11:52 WARNING mlflow.utils.autologging_utils: You are using an unsupported version of tensorflow. If you encounter errors during autologging, try upgrading / downgrading tensorflow to a supported version, or try upgrading MLflow.\n"
     ]
    },
    {
     "name": "stdout",
     "output_type": "stream",
     "text": [
      "Modelo:  0a9c7885bbaf4a9385fcfb2bcb2fb623\n",
      "Model: \"sequential_79\"\n",
      "_________________________________________________________________\n",
      " Layer (type)                Output Shape              Param #   \n",
      "=================================================================\n",
      " dense_287 (Dense)           (None, 16)                12560     \n",
      "                                                                 \n",
      " dropout_208 (Dropout)       (None, 16)                0         \n",
      "                                                                 \n",
      " dense_288 (Dense)           (None, 16)                272       \n",
      "                                                                 \n",
      " dropout_209 (Dropout)       (None, 16)                0         \n",
      "                                                                 \n",
      " dense_289 (Dense)           (None, 16)                272       \n",
      "                                                                 \n",
      " dropout_210 (Dropout)       (None, 16)                0         \n",
      "                                                                 \n",
      " dense_290 (Dense)           (None, 16)                272       \n",
      "                                                                 \n",
      " dropout_211 (Dropout)       (None, 16)                0         \n",
      "                                                                 \n",
      " dense_291 (Dense)           (None, 10)                170       \n",
      "                                                                 \n",
      "=================================================================\n",
      "Total params: 13,546\n",
      "Trainable params: 13,546\n",
      "Non-trainable params: 0\n",
      "_________________________________________________________________\n",
      "Epoch 1/10\n",
      "   1/1875 [..............................] - ETA: 1:09:06 - loss: 2.4048 - accuracy: 0.0938WARNING:tensorflow:Callback method `on_train_batch_end` is slow compared to the batch time (batch time: 0.0024s vs `on_train_batch_end` time: 0.1499s). Check your callbacks.\n"
     ]
    },
    {
     "name": "stderr",
     "output_type": "stream",
     "text": [
      "WARNING:tensorflow:Callback method `on_train_batch_end` is slow compared to the batch time (batch time: 0.0024s vs `on_train_batch_end` time: 0.1499s). Check your callbacks.\n"
     ]
    },
    {
     "name": "stdout",
     "output_type": "stream",
     "text": [
      "1875/1875 [==============================] - 7s 3ms/step - loss: 0.6777 - accuracy: 0.8073 - val_loss: 0.3163 - val_accuracy: 0.9107\n",
      "Epoch 2/10\n",
      "1875/1875 [==============================] - 5s 3ms/step - loss: 0.3938 - accuracy: 0.8892 - val_loss: 0.2630 - val_accuracy: 0.9248\n",
      "Epoch 3/10\n",
      "1875/1875 [==============================] - 5s 3ms/step - loss: 0.3573 - accuracy: 0.8992 - val_loss: 0.2547 - val_accuracy: 0.9283\n",
      "Epoch 4/10\n",
      "1875/1875 [==============================] - 5s 3ms/step - loss: 0.3317 - accuracy: 0.9079 - val_loss: 0.2399 - val_accuracy: 0.9320\n",
      "Epoch 5/10\n",
      "1875/1875 [==============================] - 5s 3ms/step - loss: 0.3157 - accuracy: 0.9111 - val_loss: 0.2243 - val_accuracy: 0.9376\n",
      "Epoch 6/10\n",
      "1875/1875 [==============================] - 5s 3ms/step - loss: 0.3085 - accuracy: 0.9140 - val_loss: 0.2204 - val_accuracy: 0.9400\n",
      "Epoch 7/10\n",
      "1875/1875 [==============================] - 5s 3ms/step - loss: 0.2976 - accuracy: 0.9166 - val_loss: 0.2105 - val_accuracy: 0.9420\n",
      "Epoch 8/10\n",
      "1875/1875 [==============================] - 5s 3ms/step - loss: 0.2874 - accuracy: 0.9201 - val_loss: 0.2091 - val_accuracy: 0.9420\n",
      "Epoch 9/10\n",
      "1875/1875 [==============================] - 5s 3ms/step - loss: 0.2823 - accuracy: 0.9213 - val_loss: 0.2124 - val_accuracy: 0.9410\n",
      "Epoch 10/10\n",
      "1875/1875 [==============================] - 5s 3ms/step - loss: 0.2758 - accuracy: 0.9224 - val_loss: 0.2105 - val_accuracy: 0.9417\n"
     ]
    },
    {
     "name": "stderr",
     "output_type": "stream",
     "text": [
      "WARNING:absl:Found untraced functions such as _update_step_xla while saving (showing 1 of 1). These functions will not be directly callable after loading.\n"
     ]
    },
    {
     "name": "stdout",
     "output_type": "stream",
     "text": [
      "INFO:tensorflow:Assets written to: C:\\Users\\kauak\\AppData\\Local\\Temp\\tmp7orlkd8r\\model\\data\\model\\assets\n"
     ]
    },
    {
     "name": "stderr",
     "output_type": "stream",
     "text": [
      "INFO:tensorflow:Assets written to: C:\\Users\\kauak\\AppData\\Local\\Temp\\tmp7orlkd8r\\model\\data\\model\\assets\n",
      "2025/02/07 10:12:54 WARNING mlflow.utils.autologging_utils: You are using an unsupported version of tensorflow. If you encounter errors during autologging, try upgrading / downgrading tensorflow to a supported version, or try upgrading MLflow.\n"
     ]
    },
    {
     "name": "stdout",
     "output_type": "stream",
     "text": [
      "Modelo:  7a19c1b0d93d4fefa2b7fb88a86ceb12\n",
      "Model: \"sequential_80\"\n",
      "_________________________________________________________________\n",
      " Layer (type)                Output Shape              Param #   \n",
      "=================================================================\n",
      " dense_292 (Dense)           (None, 16)                12560     \n",
      "                                                                 \n",
      " dropout_212 (Dropout)       (None, 16)                0         \n",
      "                                                                 \n",
      " dense_293 (Dense)           (None, 16)                272       \n",
      "                                                                 \n",
      " dropout_213 (Dropout)       (None, 16)                0         \n",
      "                                                                 \n",
      " dense_294 (Dense)           (None, 16)                272       \n",
      "                                                                 \n",
      " dropout_214 (Dropout)       (None, 16)                0         \n",
      "                                                                 \n",
      " dense_295 (Dense)           (None, 16)                272       \n",
      "                                                                 \n",
      " dropout_215 (Dropout)       (None, 16)                0         \n",
      "                                                                 \n",
      " dense_296 (Dense)           (None, 10)                170       \n",
      "                                                                 \n",
      "=================================================================\n",
      "Total params: 13,546\n",
      "Trainable params: 13,546\n",
      "Non-trainable params: 0\n",
      "_________________________________________________________________\n",
      "Epoch 1/20\n",
      "   1/1875 [..............................] - ETA: 1:06:00 - loss: 2.4198 - accuracy: 0.0000e+00WARNING:tensorflow:Callback method `on_train_batch_end` is slow compared to the batch time (batch time: 0.0024s vs `on_train_batch_end` time: 0.0892s). Check your callbacks.\n"
     ]
    },
    {
     "name": "stderr",
     "output_type": "stream",
     "text": [
      "WARNING:tensorflow:Callback method `on_train_batch_end` is slow compared to the batch time (batch time: 0.0024s vs `on_train_batch_end` time: 0.0892s). Check your callbacks.\n"
     ]
    },
    {
     "name": "stdout",
     "output_type": "stream",
     "text": [
      "1875/1875 [==============================] - 8s 3ms/step - loss: 0.6621 - accuracy: 0.8132 - val_loss: 0.3154 - val_accuracy: 0.9078\n",
      "Epoch 2/20\n",
      "1875/1875 [==============================] - 5s 3ms/step - loss: 0.4034 - accuracy: 0.8866 - val_loss: 0.2676 - val_accuracy: 0.9257\n",
      "Epoch 3/20\n",
      "1875/1875 [==============================] - 6s 3ms/step - loss: 0.3641 - accuracy: 0.8971 - val_loss: 0.2408 - val_accuracy: 0.9324\n",
      "Epoch 4/20\n",
      "1875/1875 [==============================] - 7s 4ms/step - loss: 0.3355 - accuracy: 0.9060 - val_loss: 0.2275 - val_accuracy: 0.9367\n",
      "Epoch 5/20\n",
      "1875/1875 [==============================] - 5s 3ms/step - loss: 0.3184 - accuracy: 0.9100 - val_loss: 0.2325 - val_accuracy: 0.9345\n",
      "Epoch 6/20\n",
      "1875/1875 [==============================] - 5s 3ms/step - loss: 0.3023 - accuracy: 0.9154 - val_loss: 0.2147 - val_accuracy: 0.9394\n",
      "Epoch 7/20\n",
      "1875/1875 [==============================] - 7s 4ms/step - loss: 0.2934 - accuracy: 0.9174 - val_loss: 0.2058 - val_accuracy: 0.9437\n",
      "Epoch 8/20\n",
      "1875/1875 [==============================] - 7s 4ms/step - loss: 0.2847 - accuracy: 0.9199 - val_loss: 0.2053 - val_accuracy: 0.9433\n",
      "Epoch 9/20\n",
      "1875/1875 [==============================] - 10s 5ms/step - loss: 0.2777 - accuracy: 0.9211 - val_loss: 0.2034 - val_accuracy: 0.9445\n",
      "Epoch 10/20\n",
      "1875/1875 [==============================] - 7s 4ms/step - loss: 0.2694 - accuracy: 0.9236 - val_loss: 0.1983 - val_accuracy: 0.9456\n",
      "Epoch 11/20\n",
      "1875/1875 [==============================] - 9s 5ms/step - loss: 0.2695 - accuracy: 0.9238 - val_loss: 0.1913 - val_accuracy: 0.9458\n",
      "Epoch 12/20\n",
      "1875/1875 [==============================] - 7s 4ms/step - loss: 0.2638 - accuracy: 0.9261 - val_loss: 0.1938 - val_accuracy: 0.9475\n",
      "Epoch 13/20\n",
      "1875/1875 [==============================] - 7s 4ms/step - loss: 0.2595 - accuracy: 0.9270 - val_loss: 0.1954 - val_accuracy: 0.9462\n",
      "Epoch 14/20\n",
      "1875/1875 [==============================] - 6s 3ms/step - loss: 0.2586 - accuracy: 0.9276 - val_loss: 0.1920 - val_accuracy: 0.9481\n",
      "Epoch 15/20\n",
      "1875/1875 [==============================] - 5s 3ms/step - loss: 0.2525 - accuracy: 0.9291 - val_loss: 0.1934 - val_accuracy: 0.9465\n",
      "Epoch 16/20\n",
      "1875/1875 [==============================] - 6s 3ms/step - loss: 0.2487 - accuracy: 0.9296 - val_loss: 0.1902 - val_accuracy: 0.9460\n",
      "Epoch 17/20\n",
      "1875/1875 [==============================] - 11s 6ms/step - loss: 0.2473 - accuracy: 0.9298 - val_loss: 0.1899 - val_accuracy: 0.9460\n",
      "Epoch 18/20\n",
      "1875/1875 [==============================] - 6s 3ms/step - loss: 0.2468 - accuracy: 0.9317 - val_loss: 0.1938 - val_accuracy: 0.9473\n",
      "Epoch 19/20\n",
      "1875/1875 [==============================] - 5s 2ms/step - loss: 0.2437 - accuracy: 0.9321 - val_loss: 0.1895 - val_accuracy: 0.9490\n",
      "Epoch 20/20\n",
      "1875/1875 [==============================] - 5s 3ms/step - loss: 0.2441 - accuracy: 0.9317 - val_loss: 0.1968 - val_accuracy: 0.9465\n"
     ]
    },
    {
     "name": "stderr",
     "output_type": "stream",
     "text": [
      "WARNING:absl:Found untraced functions such as _update_step_xla while saving (showing 1 of 1). These functions will not be directly callable after loading.\n"
     ]
    },
    {
     "name": "stdout",
     "output_type": "stream",
     "text": [
      "INFO:tensorflow:Assets written to: C:\\Users\\kauak\\AppData\\Local\\Temp\\tmpauj6m5kz\\model\\data\\model\\assets\n"
     ]
    },
    {
     "name": "stderr",
     "output_type": "stream",
     "text": [
      "INFO:tensorflow:Assets written to: C:\\Users\\kauak\\AppData\\Local\\Temp\\tmpauj6m5kz\\model\\data\\model\\assets\n"
     ]
    },
    {
     "name": "stdout",
     "output_type": "stream",
     "text": [
      "Modelo:  38089372e43a4b4491c8dcf4aef3378c\n"
     ]
    },
    {
     "name": "stderr",
     "output_type": "stream",
     "text": [
      "2025/02/07 10:15:52 WARNING mlflow.utils.autologging_utils: You are using an unsupported version of tensorflow. If you encounter errors during autologging, try upgrading / downgrading tensorflow to a supported version, or try upgrading MLflow.\n"
     ]
    },
    {
     "name": "stdout",
     "output_type": "stream",
     "text": [
      "Model: \"sequential_81\"\n",
      "_________________________________________________________________\n",
      " Layer (type)                Output Shape              Param #   \n",
      "=================================================================\n",
      " dense_297 (Dense)           (None, 16)                12560     \n",
      "                                                                 \n",
      " dropout_216 (Dropout)       (None, 16)                0         \n",
      "                                                                 \n",
      " dense_298 (Dense)           (None, 16)                272       \n",
      "                                                                 \n",
      " dropout_217 (Dropout)       (None, 16)                0         \n",
      "                                                                 \n",
      " dense_299 (Dense)           (None, 16)                272       \n",
      "                                                                 \n",
      " dropout_218 (Dropout)       (None, 16)                0         \n",
      "                                                                 \n",
      " dense_300 (Dense)           (None, 16)                272       \n",
      "                                                                 \n",
      " dropout_219 (Dropout)       (None, 16)                0         \n",
      "                                                                 \n",
      " dense_301 (Dense)           (None, 10)                170       \n",
      "                                                                 \n",
      "=================================================================\n",
      "Total params: 13,546\n",
      "Trainable params: 13,546\n",
      "Non-trainable params: 0\n",
      "_________________________________________________________________\n",
      "Epoch 1/5\n",
      "   1/1875 [..............................] - ETA: 1:30:50 - loss: 2.3836 - accuracy: 0.1875WARNING:tensorflow:Callback method `on_train_batch_end` is slow compared to the batch time (batch time: 0.0020s vs `on_train_batch_end` time: 0.1328s). Check your callbacks.\n"
     ]
    },
    {
     "name": "stderr",
     "output_type": "stream",
     "text": [
      "WARNING:tensorflow:Callback method `on_train_batch_end` is slow compared to the batch time (batch time: 0.0020s vs `on_train_batch_end` time: 0.1328s). Check your callbacks.\n"
     ]
    },
    {
     "name": "stdout",
     "output_type": "stream",
     "text": [
      "1875/1875 [==============================] - 8s 3ms/step - loss: 0.8998 - accuracy: 0.7267 - val_loss: 0.4041 - val_accuracy: 0.8897\n",
      "Epoch 2/5\n",
      "1875/1875 [==============================] - 6s 3ms/step - loss: 0.6122 - accuracy: 0.8259 - val_loss: 0.3737 - val_accuracy: 0.8965\n",
      "Epoch 3/5\n",
      "1875/1875 [==============================] - 8s 4ms/step - loss: 0.5610 - accuracy: 0.8450 - val_loss: 0.3390 - val_accuracy: 0.9062\n",
      "Epoch 4/5\n",
      "1875/1875 [==============================] - 7s 3ms/step - loss: 0.5278 - accuracy: 0.8540 - val_loss: 0.3291 - val_accuracy: 0.9070\n",
      "Epoch 5/5\n",
      "1875/1875 [==============================] - 6s 3ms/step - loss: 0.4977 - accuracy: 0.8636 - val_loss: 0.3076 - val_accuracy: 0.9162\n"
     ]
    },
    {
     "name": "stderr",
     "output_type": "stream",
     "text": [
      "WARNING:absl:Found untraced functions such as _update_step_xla while saving (showing 1 of 1). These functions will not be directly callable after loading.\n"
     ]
    },
    {
     "name": "stdout",
     "output_type": "stream",
     "text": [
      "INFO:tensorflow:Assets written to: C:\\Users\\kauak\\AppData\\Local\\Temp\\tmp9ghd_zo9\\model\\data\\model\\assets\n"
     ]
    },
    {
     "name": "stderr",
     "output_type": "stream",
     "text": [
      "INFO:tensorflow:Assets written to: C:\\Users\\kauak\\AppData\\Local\\Temp\\tmp9ghd_zo9\\model\\data\\model\\assets\n",
      "2025/02/07 10:17:22 WARNING mlflow.utils.autologging_utils: You are using an unsupported version of tensorflow. If you encounter errors during autologging, try upgrading / downgrading tensorflow to a supported version, or try upgrading MLflow.\n"
     ]
    },
    {
     "name": "stdout",
     "output_type": "stream",
     "text": [
      "Modelo:  6ead59652bc04c4aa5fbabc194f944e8\n",
      "Model: \"sequential_82\"\n",
      "_________________________________________________________________\n",
      " Layer (type)                Output Shape              Param #   \n",
      "=================================================================\n",
      " dense_302 (Dense)           (None, 16)                12560     \n",
      "                                                                 \n",
      " dropout_220 (Dropout)       (None, 16)                0         \n",
      "                                                                 \n",
      " dense_303 (Dense)           (None, 16)                272       \n",
      "                                                                 \n",
      " dropout_221 (Dropout)       (None, 16)                0         \n",
      "                                                                 \n",
      " dense_304 (Dense)           (None, 16)                272       \n",
      "                                                                 \n",
      " dropout_222 (Dropout)       (None, 16)                0         \n",
      "                                                                 \n",
      " dense_305 (Dense)           (None, 16)                272       \n",
      "                                                                 \n",
      " dropout_223 (Dropout)       (None, 16)                0         \n",
      "                                                                 \n",
      " dense_306 (Dense)           (None, 10)                170       \n",
      "                                                                 \n",
      "=================================================================\n",
      "Total params: 13,546\n",
      "Trainable params: 13,546\n",
      "Non-trainable params: 0\n",
      "_________________________________________________________________\n",
      "Epoch 1/10\n",
      "   1/1875 [..............................] - ETA: 1:03:39 - loss: 2.3875 - accuracy: 0.0938WARNING:tensorflow:Callback method `on_train_batch_end` is slow compared to the batch time (batch time: 0.0026s vs `on_train_batch_end` time: 0.1307s). Check your callbacks.\n"
     ]
    },
    {
     "name": "stderr",
     "output_type": "stream",
     "text": [
      "WARNING:tensorflow:Callback method `on_train_batch_end` is slow compared to the batch time (batch time: 0.0026s vs `on_train_batch_end` time: 0.1307s). Check your callbacks.\n"
     ]
    },
    {
     "name": "stdout",
     "output_type": "stream",
     "text": [
      "1875/1875 [==============================] - 8s 3ms/step - loss: 0.8950 - accuracy: 0.7236 - val_loss: 0.3866 - val_accuracy: 0.8912\n",
      "Epoch 2/10\n",
      "1875/1875 [==============================] - 5s 3ms/step - loss: 0.5816 - accuracy: 0.8345 - val_loss: 0.3494 - val_accuracy: 0.9044\n",
      "Epoch 3/10\n",
      "1875/1875 [==============================] - 6s 3ms/step - loss: 0.5312 - accuracy: 0.8537 - val_loss: 0.3157 - val_accuracy: 0.9155\n",
      "Epoch 4/10\n",
      "1875/1875 [==============================] - 5s 3ms/step - loss: 0.5005 - accuracy: 0.8642 - val_loss: 0.3167 - val_accuracy: 0.9142\n",
      "Epoch 5/10\n",
      "1875/1875 [==============================] - 6s 3ms/step - loss: 0.4855 - accuracy: 0.8684 - val_loss: 0.3008 - val_accuracy: 0.9205\n",
      "Epoch 6/10\n",
      "1875/1875 [==============================] - 6s 3ms/step - loss: 0.4677 - accuracy: 0.8751 - val_loss: 0.2994 - val_accuracy: 0.9193\n",
      "Epoch 7/10\n",
      "1875/1875 [==============================] - 5s 3ms/step - loss: 0.4604 - accuracy: 0.8770 - val_loss: 0.2863 - val_accuracy: 0.9242\n",
      "Epoch 8/10\n",
      "1875/1875 [==============================] - 6s 3ms/step - loss: 0.4499 - accuracy: 0.8798 - val_loss: 0.2790 - val_accuracy: 0.9258\n",
      "Epoch 9/10\n",
      "1875/1875 [==============================] - 5s 3ms/step - loss: 0.4414 - accuracy: 0.8831 - val_loss: 0.2816 - val_accuracy: 0.9255\n",
      "Epoch 10/10\n",
      "1875/1875 [==============================] - 5s 3ms/step - loss: 0.4396 - accuracy: 0.8826 - val_loss: 0.2838 - val_accuracy: 0.9255\n"
     ]
    },
    {
     "name": "stderr",
     "output_type": "stream",
     "text": [
      "WARNING:absl:Found untraced functions such as _update_step_xla while saving (showing 1 of 1). These functions will not be directly callable after loading.\n"
     ]
    },
    {
     "name": "stdout",
     "output_type": "stream",
     "text": [
      "INFO:tensorflow:Assets written to: C:\\Users\\kauak\\AppData\\Local\\Temp\\tmpl62wwyff\\model\\data\\model\\assets\n"
     ]
    },
    {
     "name": "stderr",
     "output_type": "stream",
     "text": [
      "INFO:tensorflow:Assets written to: C:\\Users\\kauak\\AppData\\Local\\Temp\\tmpl62wwyff\\model\\data\\model\\assets\n",
      "2025/02/07 10:18:31 WARNING mlflow.utils.autologging_utils: You are using an unsupported version of tensorflow. If you encounter errors during autologging, try upgrading / downgrading tensorflow to a supported version, or try upgrading MLflow.\n"
     ]
    },
    {
     "name": "stdout",
     "output_type": "stream",
     "text": [
      "Modelo:  80c6c7264319464c870e06fdec287238\n",
      "Model: \"sequential_83\"\n",
      "_________________________________________________________________\n",
      " Layer (type)                Output Shape              Param #   \n",
      "=================================================================\n",
      " dense_307 (Dense)           (None, 16)                12560     \n",
      "                                                                 \n",
      " dropout_224 (Dropout)       (None, 16)                0         \n",
      "                                                                 \n",
      " dense_308 (Dense)           (None, 16)                272       \n",
      "                                                                 \n",
      " dropout_225 (Dropout)       (None, 16)                0         \n",
      "                                                                 \n",
      " dense_309 (Dense)           (None, 16)                272       \n",
      "                                                                 \n",
      " dropout_226 (Dropout)       (None, 16)                0         \n",
      "                                                                 \n",
      " dense_310 (Dense)           (None, 16)                272       \n",
      "                                                                 \n",
      " dropout_227 (Dropout)       (None, 16)                0         \n",
      "                                                                 \n",
      " dense_311 (Dense)           (None, 10)                170       \n",
      "                                                                 \n",
      "=================================================================\n",
      "Total params: 13,546\n",
      "Trainable params: 13,546\n",
      "Non-trainable params: 0\n",
      "_________________________________________________________________\n",
      "Epoch 1/20\n",
      "   1/1875 [..............................] - ETA: 1:06:03 - loss: 2.4224 - accuracy: 0.0938WARNING:tensorflow:Callback method `on_train_batch_end` is slow compared to the batch time (batch time: 0.0054s vs `on_train_batch_end` time: 0.0873s). Check your callbacks.\n"
     ]
    },
    {
     "name": "stderr",
     "output_type": "stream",
     "text": [
      "WARNING:tensorflow:Callback method `on_train_batch_end` is slow compared to the batch time (batch time: 0.0054s vs `on_train_batch_end` time: 0.0873s). Check your callbacks.\n"
     ]
    },
    {
     "name": "stdout",
     "output_type": "stream",
     "text": [
      "1875/1875 [==============================] - 8s 3ms/step - loss: 0.8945 - accuracy: 0.7313 - val_loss: 0.4220 - val_accuracy: 0.8805\n",
      "Epoch 2/20\n",
      "1875/1875 [==============================] - 5s 3ms/step - loss: 0.5940 - accuracy: 0.8342 - val_loss: 0.3633 - val_accuracy: 0.8975\n",
      "Epoch 3/20\n",
      "1875/1875 [==============================] - 6s 3ms/step - loss: 0.5316 - accuracy: 0.8537 - val_loss: 0.3228 - val_accuracy: 0.9083\n",
      "Epoch 4/20\n",
      "1875/1875 [==============================] - 7s 4ms/step - loss: 0.5051 - accuracy: 0.8641 - val_loss: 0.3084 - val_accuracy: 0.9163\n",
      "Epoch 5/20\n",
      "1875/1875 [==============================] - 6s 3ms/step - loss: 0.4863 - accuracy: 0.8690 - val_loss: 0.2993 - val_accuracy: 0.9164\n",
      "Epoch 6/20\n",
      " 125/1875 [=>............................] - ETA: 4s - loss: 0.4611 - accuracy: 0.8705"
     ]
    }
   ],
   "source": [
    "n_camadas_ocultas = [1,2,3]\n",
    "n_units = [16,32,64]\n",
    "activation = ['relu','tanh']\n",
    "drop_out = [0.1, 0.2]\n",
    "epochs = [5,10,20]\n",
    "\n",
    "for camadas in n_camadas_ocultas:\n",
    "    for unidades in n_units:\n",
    "        for ativacao in activation:\n",
    "            for drop in drop_out:\n",
    "                for epocas in epochs:\n",
    "                    treina_dl(camadas,unidades,ativacao, drop, epocas)"
   ]
  },
  {
   "cell_type": "code",
   "execution_count": null,
   "metadata": {},
   "outputs": [],
   "source": []
  }
 ],
 "metadata": {
  "kernelspec": {
   "display_name": "Python 3",
   "language": "python",
   "name": "python3"
  },
  "language_info": {
   "codemirror_mode": {
    "name": "ipython",
    "version": 3
   },
   "file_extension": ".py",
   "mimetype": "text/x-python",
   "name": "python",
   "nbconvert_exporter": "python",
   "pygments_lexer": "ipython3",
   "version": "3.7.9"
  }
 },
 "nbformat": 4,
 "nbformat_minor": 4
}
